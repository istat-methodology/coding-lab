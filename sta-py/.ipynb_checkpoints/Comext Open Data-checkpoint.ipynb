{
 "cells": [
  {
   "cell_type": "code",
   "execution_count": 1,
   "id": "cb83cc2c",
   "metadata": {},
   "outputs": [],
   "source": [
    "import glob\n",
    "import pandas as pd\n",
    "import matplotlib.pyplot as plt\n",
    "import networkx as nx\n",
    "\n",
    "pd.set_option('display.max_rows', 1000)"
   ]
  },
  {
   "cell_type": "code",
   "execution_count": 2,
   "id": "f45bf04a",
   "metadata": {},
   "outputs": [
    {
     "name": "stdout",
     "output_type": "stream",
     "text": [
      "Comext Open Data.ipynb\r\n",
      "\u001b[34mCountry Distance\u001b[m\u001b[m\r\n",
      "Instructions on how to use the bulkdownload facility.pdf\r\n",
      "Readme.md\r\n",
      "country_codes.csv\r\n",
      "\u001b[34mour_data\u001b[m\u001b[m\r\n"
     ]
    }
   ],
   "source": [
    "!ls"
   ]
  },
  {
   "cell_type": "code",
   "execution_count": 3,
   "id": "623c62a2",
   "metadata": {},
   "outputs": [
    {
     "name": "stderr",
     "output_type": "stream",
     "text": [
      "<decorator-gen-54>:2: DtypeWarning: Columns (8) have mixed types.Specify dtype option on import or set low_memory=False.\n"
     ]
    },
    {
     "name": "stdout",
     "output_type": "stream",
     "text": [
      "CPU times: user 51.1 s, sys: 10.5 s, total: 1min 1s\n",
      "Wall time: 1min 4s\n"
     ]
    }
   ],
   "source": [
    "%%time\n",
    "main_dir = 'our_data/'\n",
    "\n",
    "path_hs = main_dir + 'transportation_hs'\n",
    "all_hs = glob.glob(path_hs + \"/*.dat\")\n",
    "\n",
    "list_df_hs = []\n",
    "\n",
    "for filename in all_hs:\n",
    "    df_tmp_hs = pd.read_csv(filename, index_col=None, header=0)\n",
    "    list_df_hs.append(df_tmp_hs)\n",
    "\n",
    "df_hs = pd.concat(list_df_hs, axis=0, ignore_index=True)\n",
    "\n",
    "path_nstr = main_dir + 'transportation_nstr'\n",
    "all_nstr = glob.glob(path_nstr + \"/*.dat\")\n",
    "\n",
    "list_df_nstr = []\n",
    "\n",
    "for filename in all_nstr:\n",
    "    df_tmp_nstr = pd.read_csv(filename, index_col=None, header=0)\n",
    "    list_df_nstr.append(df_tmp_nstr)\n",
    "\n",
    "df_nstr = pd.concat(list_df_nstr, axis=0, ignore_index=True)"
   ]
  },
  {
   "cell_type": "markdown",
   "id": "bfd52f8c",
   "metadata": {},
   "source": [
    "# DataFrames"
   ]
  },
  {
   "cell_type": "markdown",
   "id": "5a346315",
   "metadata": {},
   "source": [
    "## Description of the columns of df_hs DataFrame"
   ]
  },
  {
   "cell_type": "markdown",
   "id": "f52f8dc4",
   "metadata": {},
   "source": [
    "* **DECLARANT and DECLARANT_ISO**: The Declarant (or reporting country) is the country compiling and sending data to Eurostat.\n",
    "* **PARTNER and PARTNER_ISO**: The partner country is the last known country of destination for exports, the country of origin for imports from non-EU countries and the country of consignment for imports from Member States.\n",
    "* **PRODUCT_HS**: file txt CN, SITC, CPA_2002, CPA_2008, CPA_2.1, BEC or by SECTION.\n",
    "* **FLOW**: 1 import, 2 export.\n",
    "* **TRANSPORT_MODE**: file txt in the main folder\n",
    "* **PERIOD**: This code refers to the reference period.\n",
    "* **VALUE_IN_EUROS**: euros already numpy.int64.\n",
    "* **QUANTITY_IN_KG**: kg already numpy.int64."
   ]
  },
  {
   "cell_type": "code",
   "execution_count": 4,
   "id": "96c5c59b",
   "metadata": {},
   "outputs": [],
   "source": [
    "# open the ransport mode txt file\n",
    "transp_mode = pd.read_csv('our_data/TRANSPORT_MODE.txt', sep= '\\t').rename({'0':'TRANSPORT_MODE', 'Unknown':'TYPE_TRANSP_MODE'}, axis=1)\n",
    "\n",
    "# merge the dataframes\n",
    "df_hs = df_hs.merge(transp_mode, on='TRANSPORT_MODE')\n",
    "\n",
    "# create a dataframe for the flow\n",
    "flow = pd.DataFrame({'FLOW':[0,1], 'TYPE_FLOW':['import', 'export']})\n",
    "\n",
    "# merge the dataframes\n",
    "df_hs = df_hs.merge(flow, on='FLOW')\n",
    "\n",
    "# clear the period in two columns MONTH and YEAR\n",
    "df_hs['MONTH'] = df_hs['PERIOD'].apply(lambda x: str(x)[4:])\n",
    "df_hs['YEAR'] = df_hs['PERIOD'].apply(lambda x: str(x)[:4])\n",
    "\n",
    "# drop the column PERIOD\n",
    "df_hs.drop('PERIOD', axis=1, inplace=True)"
   ]
  },
  {
   "cell_type": "code",
   "execution_count": 5,
   "id": "4665dd31",
   "metadata": {},
   "outputs": [],
   "source": [
    "df_hs[df_hs['PRODUCT_HS']=='TOTAL']; # can I delete this, right?"
   ]
  },
  {
   "cell_type": "markdown",
   "id": "0d04e546",
   "metadata": {},
   "source": [
    "## Description of the columns of df_hs DataFrame"
   ]
  },
  {
   "cell_type": "code",
   "execution_count": 6,
   "id": "33abec03",
   "metadata": {},
   "outputs": [],
   "source": [
    "df_nstr = df_nstr.merge(transp_mode, on='TRANSPORT_MODE')\n",
    "\n",
    "# merge the dataframes\n",
    "df_nstr = df_nstr.merge(flow, on='FLOW')\n",
    "\n",
    "# clear the period in two columns MONTH and YEAR\n",
    "df_nstr['MONTH'] = df_nstr['PERIOD'].apply(lambda x: str(x)[4:])\n",
    "df_nstr['YEAR'] = df_nstr['PERIOD'].apply(lambda x: str(x)[:4])\n",
    "\n",
    "# drop the column PERIOD\n",
    "df_nstr.drop('PERIOD', axis=1, inplace=True)"
   ]
  },
  {
   "cell_type": "code",
   "execution_count": 7,
   "id": "d8d2a652",
   "metadata": {},
   "outputs": [],
   "source": [
    "# container\n",
    "cont = pd.read_csv('our_data/CONTAINER_MODE.txt', header=None, sep='\\t').rename({0:'CONTAINER_MODE', \n",
    "                                                                                 1:'TYPE_CONTAINER_MODE'}, axis=1)\n",
    "\n",
    "df_nstr = df_nstr.merge(cont, on='CONTAINER_MODE')"
   ]
  },
  {
   "cell_type": "code",
   "execution_count": 8,
   "id": "c5b4368c",
   "metadata": {},
   "outputs": [
    {
     "data": {
      "text/html": [
       "<div>\n",
       "<style scoped>\n",
       "    .dataframe tbody tr th:only-of-type {\n",
       "        vertical-align: middle;\n",
       "    }\n",
       "\n",
       "    .dataframe tbody tr th {\n",
       "        vertical-align: top;\n",
       "    }\n",
       "\n",
       "    .dataframe thead th {\n",
       "        text-align: right;\n",
       "    }\n",
       "</style>\n",
       "<table border=\"1\" class=\"dataframe\">\n",
       "  <thead>\n",
       "    <tr style=\"text-align: right;\">\n",
       "      <th></th>\n",
       "      <th>DECLARANT</th>\n",
       "      <th>DECLARANT_ISO</th>\n",
       "      <th>PARTNER</th>\n",
       "      <th>PARTNER_ISO</th>\n",
       "      <th>PRODUCT_NSTR</th>\n",
       "      <th>FLOW</th>\n",
       "      <th>TRANSPORT_MODE</th>\n",
       "      <th>CONTAINER_MODE</th>\n",
       "      <th>TRANSPORT_MEANS_NAT</th>\n",
       "      <th>VALUE_IN_EUROS</th>\n",
       "      <th>QUANTITY_IN_KG</th>\n",
       "      <th>TYPE_TRANSP_MODE</th>\n",
       "      <th>TYPE_FLOW</th>\n",
       "      <th>MONTH</th>\n",
       "      <th>YEAR</th>\n",
       "      <th>TYPE_CONTAINER_MODE</th>\n",
       "    </tr>\n",
       "  </thead>\n",
       "  <tbody>\n",
       "    <tr>\n",
       "      <th>0</th>\n",
       "      <td>1</td>\n",
       "      <td>FR</td>\n",
       "      <td>21</td>\n",
       "      <td>XC</td>\n",
       "      <td>939</td>\n",
       "      <td>1</td>\n",
       "      <td>1</td>\n",
       "      <td>1</td>\n",
       "      <td>1</td>\n",
       "      <td>1348</td>\n",
       "      <td>68</td>\n",
       "      <td>Sea</td>\n",
       "      <td>export</td>\n",
       "      <td>01</td>\n",
       "      <td>2019</td>\n",
       "      <td>Containerised</td>\n",
       "    </tr>\n",
       "    <tr>\n",
       "      <th>1</th>\n",
       "      <td>1</td>\n",
       "      <td>FR</td>\n",
       "      <td>21</td>\n",
       "      <td>XC</td>\n",
       "      <td>TOT</td>\n",
       "      <td>1</td>\n",
       "      <td>1</td>\n",
       "      <td>1</td>\n",
       "      <td>1</td>\n",
       "      <td>1348</td>\n",
       "      <td>68</td>\n",
       "      <td>Sea</td>\n",
       "      <td>export</td>\n",
       "      <td>01</td>\n",
       "      <td>2019</td>\n",
       "      <td>Containerised</td>\n",
       "    </tr>\n",
       "    <tr>\n",
       "      <th>2</th>\n",
       "      <td>1</td>\n",
       "      <td>FR</td>\n",
       "      <td>28</td>\n",
       "      <td>NO</td>\n",
       "      <td>819</td>\n",
       "      <td>1</td>\n",
       "      <td>1</td>\n",
       "      <td>1</td>\n",
       "      <td>3</td>\n",
       "      <td>7301</td>\n",
       "      <td>22480</td>\n",
       "      <td>Sea</td>\n",
       "      <td>export</td>\n",
       "      <td>01</td>\n",
       "      <td>2019</td>\n",
       "      <td>Containerised</td>\n",
       "    </tr>\n",
       "    <tr>\n",
       "      <th>3</th>\n",
       "      <td>1</td>\n",
       "      <td>FR</td>\n",
       "      <td>28</td>\n",
       "      <td>NO</td>\n",
       "      <td>819</td>\n",
       "      <td>1</td>\n",
       "      <td>1</td>\n",
       "      <td>1</td>\n",
       "      <td>28</td>\n",
       "      <td>92016</td>\n",
       "      <td>72000</td>\n",
       "      <td>Sea</td>\n",
       "      <td>export</td>\n",
       "      <td>01</td>\n",
       "      <td>2019</td>\n",
       "      <td>Containerised</td>\n",
       "    </tr>\n",
       "    <tr>\n",
       "      <th>4</th>\n",
       "      <td>1</td>\n",
       "      <td>FR</td>\n",
       "      <td>28</td>\n",
       "      <td>NO</td>\n",
       "      <td>910</td>\n",
       "      <td>1</td>\n",
       "      <td>1</td>\n",
       "      <td>1</td>\n",
       "      <td>958</td>\n",
       "      <td>261480</td>\n",
       "      <td>392</td>\n",
       "      <td>Sea</td>\n",
       "      <td>export</td>\n",
       "      <td>01</td>\n",
       "      <td>2019</td>\n",
       "      <td>Containerised</td>\n",
       "    </tr>\n",
       "  </tbody>\n",
       "</table>\n",
       "</div>"
      ],
      "text/plain": [
       "   DECLARANT DECLARANT_ISO  PARTNER PARTNER_ISO PRODUCT_NSTR  FLOW  \\\n",
       "0          1            FR       21          XC          939     1   \n",
       "1          1            FR       21          XC          TOT     1   \n",
       "2          1            FR       28          NO          819     1   \n",
       "3          1            FR       28          NO          819     1   \n",
       "4          1            FR       28          NO          910     1   \n",
       "\n",
       "   TRANSPORT_MODE  CONTAINER_MODE TRANSPORT_MEANS_NAT  VALUE_IN_EUROS  \\\n",
       "0               1               1                   1            1348   \n",
       "1               1               1                   1            1348   \n",
       "2               1               1                   3            7301   \n",
       "3               1               1                  28           92016   \n",
       "4               1               1                 958          261480   \n",
       "\n",
       "   QUANTITY_IN_KG TYPE_TRANSP_MODE TYPE_FLOW MONTH  YEAR TYPE_CONTAINER_MODE  \n",
       "0              68              Sea    export    01  2019       Containerised  \n",
       "1              68              Sea    export    01  2019       Containerised  \n",
       "2           22480              Sea    export    01  2019       Containerised  \n",
       "3           72000              Sea    export    01  2019       Containerised  \n",
       "4             392              Sea    export    01  2019       Containerised  "
      ]
     },
     "execution_count": 8,
     "metadata": {},
     "output_type": "execute_result"
    }
   ],
   "source": [
    "df_nstr.head()"
   ]
  },
  {
   "cell_type": "markdown",
   "id": "f3e89c56",
   "metadata": {},
   "source": [
    "# Merging of the two dataframes"
   ]
  },
  {
   "cell_type": "code",
   "execution_count": 9,
   "id": "3e7b5a27",
   "metadata": {},
   "outputs": [],
   "source": [
    "df_hs['PRODUCT_TYPE'] = 'HS'\n",
    "df_nstr['PRODUCT_TYPE'] = 'NSTR'\n",
    "\n",
    "df_hs = df_hs.rename({'PRODUCT_HS': 'PRODUCT_CODE'}, axis=1)\n",
    "df_nstr = df_nstr.rename({'PRODUCT_NSTR': 'PRODUCT_CODE'}, axis=1)\n",
    "\n",
    "df_tot = df_hs.append(df_nstr, ignore_index=True).drop(['CONTAINER_MODE', 'TRANSPORT_MEANS_NAT', 'TYPE_CONTAINER_MODE'], axis=1)\n",
    "\n",
    "df_tot;"
   ]
  },
  {
   "cell_type": "code",
   "execution_count": 10,
   "id": "4ee37cf9",
   "metadata": {},
   "outputs": [],
   "source": [
    "# remove the TOT rows\n",
    "\n",
    "# too much time\n",
    "index_del = []\n",
    "for i in range(len(df_tot)):\n",
    "    if df_tot['PRODUCT_CODE'][i] == 'TOT' or df_tot['PRODUCT_CODE'][i] == 'TOTAL':\n",
    "        index_del.append(i)\n",
    "\n",
    "df_tot = df_tot.drop(index_del, axis=0).reset_index(drop=True)"
   ]
  },
  {
   "cell_type": "code",
   "execution_count": 11,
   "id": "3dbdd592",
   "metadata": {},
   "outputs": [],
   "source": [
    "df_tot = df_tot.sort_values(by=['YEAR', 'MONTH']).reset_index(drop=True)"
   ]
  },
  {
   "cell_type": "code",
   "execution_count": 12,
   "id": "aab3cfcf",
   "metadata": {},
   "outputs": [],
   "source": [
    "df_tot = df_tot.dropna(how='any')"
   ]
  },
  {
   "cell_type": "markdown",
   "id": "069378ac",
   "metadata": {},
   "source": [
    "## Distance"
   ]
  },
  {
   "cell_type": "code",
   "execution_count": 20,
   "id": "aedbf353",
   "metadata": {},
   "outputs": [
    {
     "data": {
      "text/html": [
       "<div>\n",
       "<style scoped>\n",
       "    .dataframe tbody tr th:only-of-type {\n",
       "        vertical-align: middle;\n",
       "    }\n",
       "\n",
       "    .dataframe tbody tr th {\n",
       "        vertical-align: top;\n",
       "    }\n",
       "\n",
       "    .dataframe thead th {\n",
       "        text-align: right;\n",
       "    }\n",
       "</style>\n",
       "<table border=\"1\" class=\"dataframe\">\n",
       "  <thead>\n",
       "    <tr style=\"text-align: right;\">\n",
       "      <th></th>\n",
       "      <th>InputID</th>\n",
       "      <th>TargetID</th>\n",
       "      <th>Distance</th>\n",
       "    </tr>\n",
       "  </thead>\n",
       "  <tbody>\n",
       "    <tr>\n",
       "      <th>0</th>\n",
       "      <td>ABW</td>\n",
       "      <td>ZWE</td>\n",
       "      <td>1.151116e+07</td>\n",
       "    </tr>\n",
       "    <tr>\n",
       "      <th>1</th>\n",
       "      <td>ABW</td>\n",
       "      <td>NIC</td>\n",
       "      <td>1.633202e+06</td>\n",
       "    </tr>\n",
       "    <tr>\n",
       "      <th>2</th>\n",
       "      <td>ABW</td>\n",
       "      <td>NER</td>\n",
       "      <td>8.373634e+06</td>\n",
       "    </tr>\n",
       "    <tr>\n",
       "      <th>3</th>\n",
       "      <td>ABW</td>\n",
       "      <td>NGA</td>\n",
       "      <td>8.486833e+06</td>\n",
       "    </tr>\n",
       "    <tr>\n",
       "      <th>4</th>\n",
       "      <td>ABW</td>\n",
       "      <td>NIU</td>\n",
       "      <td>1.148822e+07</td>\n",
       "    </tr>\n",
       "  </tbody>\n",
       "</table>\n",
       "</div>"
      ],
      "text/plain": [
       "  InputID TargetID      Distance\n",
       "0     ABW      ZWE  1.151116e+07\n",
       "1     ABW      NIC  1.633202e+06\n",
       "2     ABW      NER  8.373634e+06\n",
       "3     ABW      NGA  8.486833e+06\n",
       "4     ABW      NIU  1.148822e+07"
      ]
     },
     "execution_count": 20,
     "metadata": {},
     "output_type": "execute_result"
    }
   ],
   "source": [
    "distance_df = pd.read_csv('Country Distance/distance.csv').sort_values(by='InputID').reset_index(drop=True)\n",
    "distance_df['InputID'] = distance_df['InputID'].apply(lambda x: x.replace(' ', ''))\n",
    "distance_df['TargetID'] = distance_df['TargetID'].apply(lambda x: x.replace(' ', ''))\n",
    "distance_df.head()"
   ]
  },
  {
   "cell_type": "code",
   "execution_count": 21,
   "id": "4dfac574-cc8c-4b01-aef2-fba5cd18cfbf",
   "metadata": {},
   "outputs": [],
   "source": [
    "ccode_df = pd.read_csv('country_codes.csv')\n",
    "ccode_df.head();"
   ]
  },
  {
   "cell_type": "code",
   "execution_count": 22,
   "id": "8a3511e5-4e63-4211-8a50-bfb3e4220bce",
   "metadata": {},
   "outputs": [],
   "source": [
    "map_dict = pd.Series(ccode_df.iloc[:,1].values,index= ccode_df.iloc[:,2]).to_dict()"
   ]
  },
  {
   "cell_type": "code",
   "execution_count": 23,
   "id": "ea8528e5-c873-4047-b6c9-ac22af50aaae",
   "metadata": {},
   "outputs": [
    {
     "data": {
      "text/html": [
       "<div>\n",
       "<style scoped>\n",
       "    .dataframe tbody tr th:only-of-type {\n",
       "        vertical-align: middle;\n",
       "    }\n",
       "\n",
       "    .dataframe tbody tr th {\n",
       "        vertical-align: top;\n",
       "    }\n",
       "\n",
       "    .dataframe thead th {\n",
       "        text-align: right;\n",
       "    }\n",
       "</style>\n",
       "<table border=\"1\" class=\"dataframe\">\n",
       "  <thead>\n",
       "    <tr style=\"text-align: right;\">\n",
       "      <th></th>\n",
       "      <th>InputID</th>\n",
       "      <th>TargetID</th>\n",
       "      <th>Distance</th>\n",
       "    </tr>\n",
       "  </thead>\n",
       "  <tbody>\n",
       "    <tr>\n",
       "      <th>0</th>\n",
       "      <td>AW</td>\n",
       "      <td>ZW</td>\n",
       "      <td>1.151116e+07</td>\n",
       "    </tr>\n",
       "    <tr>\n",
       "      <th>1</th>\n",
       "      <td>AW</td>\n",
       "      <td>NI</td>\n",
       "      <td>1.633202e+06</td>\n",
       "    </tr>\n",
       "    <tr>\n",
       "      <th>2</th>\n",
       "      <td>AW</td>\n",
       "      <td>NE</td>\n",
       "      <td>8.373634e+06</td>\n",
       "    </tr>\n",
       "    <tr>\n",
       "      <th>3</th>\n",
       "      <td>AW</td>\n",
       "      <td>NG</td>\n",
       "      <td>8.486833e+06</td>\n",
       "    </tr>\n",
       "    <tr>\n",
       "      <th>4</th>\n",
       "      <td>AW</td>\n",
       "      <td>NU</td>\n",
       "      <td>1.148822e+07</td>\n",
       "    </tr>\n",
       "  </tbody>\n",
       "</table>\n",
       "</div>"
      ],
      "text/plain": [
       "  InputID TargetID      Distance\n",
       "0      AW       ZW  1.151116e+07\n",
       "1      AW       NI  1.633202e+06\n",
       "2      AW       NE  8.373634e+06\n",
       "3      AW       NG  8.486833e+06\n",
       "4      AW       NU  1.148822e+07"
      ]
     },
     "execution_count": 23,
     "metadata": {},
     "output_type": "execute_result"
    }
   ],
   "source": [
    "distance_df.replace({\"InputID\":map_dict,\"TargetID\":map_dict},inplace=True)\n",
    "distance_df.head()"
   ]
  },
  {
   "cell_type": "code",
   "execution_count": 24,
   "id": "b65e5237",
   "metadata": {},
   "outputs": [],
   "source": [
    "distance_df = distance_df.rename({'InputID':'DECLARANT_ISO', 'TargetID':'PARTNER_ISO'}, axis=1)"
   ]
  },
  {
   "cell_type": "code",
   "execution_count": 25,
   "id": "643a5e69",
   "metadata": {},
   "outputs": [],
   "source": [
    "# df_tot = df_tot.merge(distance_df, on=['DECLARANT_ISO', 'PARTNER_ISO'])"
   ]
  },
  {
   "cell_type": "code",
   "execution_count": 26,
   "id": "ba9c4513",
   "metadata": {},
   "outputs": [],
   "source": [
    "# take the mean to the value of fuel\n",
    "# scarse res.\n",
    "# transoform the fuel in pollution\n",
    "# Mi = Vmix *Qi*kH *Ci *10-6 /Ds\n",
    "# type of fuel (sea, road, ...) some data "
   ]
  },
  {
   "cell_type": "code",
   "execution_count": 27,
   "id": "469b758f",
   "metadata": {},
   "outputs": [],
   "source": [
    "# one layout for the graph\n",
    "# spring layout\n",
    "# export quantity and cut-off (treshold)\n",
    "# local and global measure for greenness"
   ]
  },
  {
   "cell_type": "markdown",
   "id": "a5813177",
   "metadata": {},
   "source": [
    "- first step greenness and visualize and study of artcile about scc\n",
    "- implementing a meaning for scc about world trande"
   ]
  },
  {
   "cell_type": "markdown",
   "id": "1fa6771b",
   "metadata": {},
   "source": [
    "# Graph"
   ]
  },
  {
   "cell_type": "code",
   "execution_count": 28,
   "id": "8dc2550c",
   "metadata": {},
   "outputs": [],
   "source": [
    "# graph construction\n",
    "ser_nodes = df_tot['DECLARANT_ISO'].append(df_tot['PARTNER_ISO'])\n",
    "nodes = ser_nodes.unique()"
   ]
  },
  {
   "cell_type": "code",
   "execution_count": 113,
   "id": "f861f997",
   "metadata": {},
   "outputs": [],
   "source": [
    "df_group = df_tot[['DECLARANT_ISO','PARTNER_ISO', 'VALUE_IN_EUROS', 'QUANTITY_IN_KG']].groupby(['DECLARANT_ISO', 'PARTNER_ISO']).sum().reset_index()\n",
    "df_group = df_group.merge(distance_df, on=['DECLARANT_ISO', 'PARTNER_ISO'])"
   ]
  },
  {
   "cell_type": "code",
   "execution_count": 49,
   "id": "9a21a131",
   "metadata": {},
   "outputs": [],
   "source": [
    "df_edges = df_group[['DECLARANT_ISO', 'PARTNER_ISO']]\n",
    "tuple_edges = [tuple(r) for r in df_edges.to_numpy()]"
   ]
  },
  {
   "cell_type": "code",
   "execution_count": 50,
   "id": "0e86aa36",
   "metadata": {},
   "outputs": [],
   "source": [
    "# init graph\n",
    "G = nx.DiGraph() # no time"
   ]
  },
  {
   "cell_type": "code",
   "execution_count": 51,
   "id": "50cc296e",
   "metadata": {},
   "outputs": [],
   "source": [
    "G.add_nodes_from(nodes)\n",
    "G.add_edges_from(tuple_edges) # add weight"
   ]
  },
  {
   "cell_type": "code",
   "execution_count": 68,
   "id": "5eb86796",
   "metadata": {},
   "outputs": [],
   "source": [
    "# by time\n",
    "\n",
    "def timeTresh_graph(df, month, year, t=1, q=None):\n",
    "    '''\n",
    "    The treshold (t) is between 0 and 1\n",
    "    q is the quantity to apply tresh:\n",
    "        'euro' for euro\n",
    "        'kg' for quantity in kg\n",
    "    '''\n",
    "    \n",
    "    G = nx.DiGraph()\n",
    "    \n",
    "    # nodes by time\n",
    "    # df_tot_time = df[(df['YEAR'] == year) & (df['MONTH'] == month)]\n",
    "    df_tot_time = df\n",
    "    \n",
    "    # perc\n",
    "    df_tot_time['VALUE_IN_EUROS'] = df_tot_time['VALUE_IN_EUROS'].apply(lambda x: x/sum(df_tot_time['VALUE_IN_EUROS']))\n",
    "    df_tot_time['QUANTITY_IN_KG'] = df_tot_time['QUANTITY_IN_KG'].apply(lambda x: x/sum(df_tot_time['QUANTITY_IN_KG']))\n",
    "\n",
    "    if q == 'euro':\n",
    "        df_tot_time = df_tot_time[['DECLARANT_ISO', 'PARTNER_ISO', 'VALUE_IN_EUROS']]\n",
    "        df_tot_time = df_tot_time[df_tot_time['VALUE_IN_EUROS']>=t]\n",
    "    else:\n",
    "        df_tot_time = df_tot_time[['DECLARANT_ISO', 'PARTNER_ISO', 'QUANTITY_IN_KG']]\n",
    "        df_tot_time = df_tot_time[df_tot_time['QUANTITY_IN_KG']<=t]\n",
    "    \n",
    "    ser_nodes = df_tot_time['DECLARANT_ISO'].append(df_tot_time['PARTNER_ISO'])\n",
    "    nodes = ser_nodes.unique()\n",
    "    \n",
    "    # edges by time\n",
    "    df_edges = df_tot_time[['DECLARANT_ISO', 'PARTNER_ISO']]\n",
    "    tuple_edges = [tuple(r) for r in df_edges.to_numpy()]\n",
    "    \n",
    "    G.add_nodes_from(nodes)\n",
    "    G.add_edges_from(tuple_edges) # add weight \n",
    "\n",
    "    return G"
   ]
  },
  {
   "cell_type": "code",
   "execution_count": 69,
   "id": "3a7cbb29",
   "metadata": {},
   "outputs": [],
   "source": [
    "# plt.figure(figsize=(70,40))\n",
    "# nx.draw(G);"
   ]
  },
  {
   "cell_type": "code",
   "execution_count": 92,
   "id": "ae69c983",
   "metadata": {},
   "outputs": [],
   "source": [
    "# plt.figure(figsize=(70,40))\n",
    "# nx.draw(timeTresh_graph(df_group, '02', '2020', t = 0.6, q = 'euro'));"
   ]
  },
  {
   "cell_type": "code",
   "execution_count": 114,
   "id": "9c654675",
   "metadata": {},
   "outputs": [
    {
     "data": {
      "text/html": [
       "<div>\n",
       "<style scoped>\n",
       "    .dataframe tbody tr th:only-of-type {\n",
       "        vertical-align: middle;\n",
       "    }\n",
       "\n",
       "    .dataframe tbody tr th {\n",
       "        vertical-align: top;\n",
       "    }\n",
       "\n",
       "    .dataframe thead th {\n",
       "        text-align: right;\n",
       "    }\n",
       "</style>\n",
       "<table border=\"1\" class=\"dataframe\">\n",
       "  <thead>\n",
       "    <tr style=\"text-align: right;\">\n",
       "      <th></th>\n",
       "      <th>DECLARANT_ISO</th>\n",
       "      <th>PARTNER_ISO</th>\n",
       "      <th>VALUE_IN_EUROS</th>\n",
       "    </tr>\n",
       "  </thead>\n",
       "  <tbody>\n",
       "    <tr>\n",
       "      <th>963</th>\n",
       "      <td>DE</td>\n",
       "      <td>CH</td>\n",
       "      <td>0.472232</td>\n",
       "    </tr>\n",
       "    <tr>\n",
       "      <th>969</th>\n",
       "      <td>DE</td>\n",
       "      <td>CN</td>\n",
       "      <td>0.907173</td>\n",
       "    </tr>\n",
       "    <tr>\n",
       "      <th>1079</th>\n",
       "      <td>DE</td>\n",
       "      <td>RU</td>\n",
       "      <td>0.382192</td>\n",
       "    </tr>\n",
       "    <tr>\n",
       "      <th>1080</th>\n",
       "      <td>DE</td>\n",
       "      <td>RU</td>\n",
       "      <td>0.382192</td>\n",
       "    </tr>\n",
       "    <tr>\n",
       "      <th>1118</th>\n",
       "      <td>DE</td>\n",
       "      <td>US</td>\n",
       "      <td>0.590385</td>\n",
       "    </tr>\n",
       "  </tbody>\n",
       "</table>\n",
       "</div>"
      ],
      "text/plain": [
       "     DECLARANT_ISO PARTNER_ISO  VALUE_IN_EUROS\n",
       "963             DE          CH        0.472232\n",
       "969             DE          CN        0.907173\n",
       "1079            DE          RU        0.382192\n",
       "1080            DE          RU        0.382192\n",
       "1118            DE          US        0.590385"
      ]
     },
     "execution_count": 114,
     "metadata": {},
     "output_type": "execute_result"
    }
   ],
   "source": [
    "# perc\n",
    "df_group['VALUE_IN_EUROS'] = df_group['VALUE_IN_EUROS'].apply(lambda x: (x-df_group['VALUE_IN_EUROS'].min())/(df_group['VALUE_IN_EUROS'].max()-df_group['VALUE_IN_EUROS'].min()))\n",
    "df_group['QUANTITY_IN_KG'] = df_group['QUANTITY_IN_KG'].apply(lambda x: (x-df_group['QUANTITY_IN_KG'].min())/(df_group['QUANTITY_IN_KG'].max()-df_group['QUANTITY_IN_KG'].min()))\n",
    "df_group = df_group[['DECLARANT_ISO', 'PARTNER_ISO', 'VALUE_IN_EUROS']]\n",
    "df_group = df_group[df_group['VALUE_IN_EUROS']>=0.3]\n",
    "\n",
    "df_group.head()\n"
   ]
  },
  {
   "cell_type": "code",
   "execution_count": 116,
   "id": "2bbe3f1d",
   "metadata": {},
   "outputs": [
    {
     "data": {
      "image/png": "[encoded data removed]",
      "text/plain": [
       "<Figure size 720x504 with 1 Axes>"
      ]
     },
     "metadata": {},
     "output_type": "display_data"
    }
   ],
   "source": [
    "plt.figure(figsize=(10,7))\n",
    "Gt = nx.Graph()\n",
    "ser_nodes = df_group['DECLARANT_ISO'].append(df_group['PARTNER_ISO'])\n",
    "nodes = ser_nodes.unique()\n",
    "\n",
    "# edges by time\n",
    "df_edges = df_group[['DECLARANT_ISO', 'PARTNER_ISO']]\n",
    "tuple_edges = [tuple(r) for r in df_edges.to_numpy()]\n",
    "\n",
    "Gt.add_nodes_from(nodes)\n",
    "Gt.add_edges_from(tuple_edges) # add weight \n",
    "nx.draw(Gt, with_labels=True, node_size=600, node_color='orange')\n",
    "\n",
    "# edges difference between import and export"
   ]
  }
 ],
 "metadata": {
  "kernelspec": {
   "display_name": "Python 3 (ipykernel)",
   "language": "python",
   "name": "python3"
  },
  "language_info": {
   "codemirror_mode": {
    "name": "ipython",
    "version": 3
   },
   "file_extension": ".py",
   "mimetype": "text/x-python",
   "name": "python",
   "nbconvert_exporter": "python",
   "pygments_lexer": "ipython3",
   "version": "3.9.6"
  }
 },
 "nbformat": 4,
 "nbformat_minor": 5
}
