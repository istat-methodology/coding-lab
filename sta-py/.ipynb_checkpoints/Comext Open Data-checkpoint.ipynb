{
 "cells": [
  {
   "cell_type": "code",
   "execution_count": 1,
   "id": "cb83cc2c",
   "metadata": {},
   "outputs": [],
   "source": [
    "import glob\n",
    "import pandas as pd\n",
    "import numpy as np\n",
    "import matplotlib.pyplot as plt\n",
    "import networkx as nx\n",
    "\n",
    "pd.set_option('display.max_rows', 1000)"
   ]
  },
  {
   "cell_type": "code",
   "execution_count": 2,
   "id": "f45bf04a",
   "metadata": {},
   "outputs": [
    {
     "name": "stdout",
     "output_type": "stream",
     "text": [
      "Comext Open Data.ipynb\r\n",
      "\u001b[34mCountry Distance\u001b[m\u001b[m\r\n",
      "Instructions on how to use the bulkdownload facility.pdf\r\n",
      "Readme.md\r\n",
      "country_codes.csv\r\n",
      "\u001b[34mour_data\u001b[m\u001b[m\r\n",
      "total_dataframe.csv\r\n"
     ]
    }
   ],
   "source": [
    "!ls"
   ]
  },
  {
   "cell_type": "code",
   "execution_count": 3,
   "id": "623c62a2",
   "metadata": {},
   "outputs": [
    {
     "name": "stderr",
     "output_type": "stream",
     "text": [
      "<decorator-gen-54>:2: DtypeWarning: Columns (8) have mixed types.Specify dtype option on import or set low_memory=False.\n"
     ]
    },
    {
     "name": "stdout",
     "output_type": "stream",
     "text": [
      "CPU times: user 44.9 s, sys: 9.53 s, total: 54.4 s\n",
      "Wall time: 57.3 s\n"
     ]
    }
   ],
   "source": [
    "%%time\n",
    "main_dir = 'our_data/'\n",
    "\n",
    "path_hs = main_dir + 'transportation_hs'\n",
    "all_hs = glob.glob(path_hs + \"/*.dat\")\n",
    "\n",
    "list_df_hs = []\n",
    "\n",
    "for filename in all_hs:\n",
    "    df_tmp_hs = pd.read_csv(filename, index_col=None, header=0)\n",
    "    list_df_hs.append(df_tmp_hs)\n",
    "\n",
    "df_hs = pd.concat(list_df_hs, axis=0, ignore_index=True)\n",
    "\n",
    "path_nstr = main_dir + 'transportation_nstr'\n",
    "all_nstr = glob.glob(path_nstr + \"/*.dat\")\n",
    "\n",
    "list_df_nstr = []\n",
    "\n",
    "for filename in all_nstr:\n",
    "    df_tmp_nstr = pd.read_csv(filename, index_col=None, header=0)\n",
    "    list_df_nstr.append(df_tmp_nstr)\n",
    "\n",
    "df_nstr = pd.concat(list_df_nstr, axis=0, ignore_index=True)"
   ]
  },
  {
   "cell_type": "markdown",
   "id": "bfd52f8c",
   "metadata": {},
   "source": [
    "# DataFrames"
   ]
  },
  {
   "cell_type": "markdown",
   "id": "5a346315",
   "metadata": {},
   "source": [
    "## Description of the columns of df_hs DataFrame"
   ]
  },
  {
   "cell_type": "markdown",
   "id": "f52f8dc4",
   "metadata": {},
   "source": [
    "* **DECLARANT and DECLARANT_ISO**: The Declarant (or reporting country) is the country compiling and sending data to Eurostat.\n",
    "* **PARTNER and PARTNER_ISO**: The partner country is the last known country of destination for exports, the country of origin for imports from non-EU countries and the country of consignment for imports from Member States.\n",
    "* **PRODUCT_HS**: file txt CN, SITC, CPA_2002, CPA_2008, CPA_2.1, BEC or by SECTION.\n",
    "* **FLOW**: 1 import, 2 export.\n",
    "* **TRANSPORT_MODE**: file txt in the main folder\n",
    "* **PERIOD**: This code refers to the reference period.\n",
    "* **VALUE_IN_EUROS**: euros already numpy.int64.\n",
    "* **QUANTITY_IN_KG**: kg already numpy.int64."
   ]
  },
  {
   "cell_type": "code",
   "execution_count": 4,
   "id": "96c5c59b",
   "metadata": {},
   "outputs": [],
   "source": [
    "# open the ransport mode txt file\n",
    "transp_mode = pd.read_csv('our_data/TRANSPORT_MODE.txt', sep= '\\t').rename({'0':'TRANSPORT_MODE', 'Unknown':'TYPE_TRANSP_MODE'}, axis=1)\n",
    "\n",
    "# merge the dataframes\n",
    "df_hs = df_hs.merge(transp_mode, on='TRANSPORT_MODE')\n",
    "\n",
    "# create a dataframe for the flow\n",
    "flow = pd.DataFrame({'FLOW':[1,2], 'TYPE_FLOW':['import', 'export']})\n",
    "\n",
    "# merge the dataframes\n",
    "df_hs = df_hs.merge(flow, on='FLOW')\n",
    "\n",
    "# clear the period in two columns MONTH and YEAR\n",
    "df_hs['MONTH'] = df_hs['PERIOD'].apply(lambda x: str(x)[4:])\n",
    "df_hs['YEAR'] = df_hs['PERIOD'].apply(lambda x: str(x)[:4])\n",
    "\n",
    "# drop the column PERIOD\n",
    "df_hs.drop('PERIOD', axis=1, inplace=True)"
   ]
  },
  {
   "cell_type": "code",
   "execution_count": 5,
   "id": "4665dd31",
   "metadata": {},
   "outputs": [],
   "source": [
    "df_hs[df_hs['PRODUCT_HS']=='TOTAL']; # can I delete this, right?"
   ]
  },
  {
   "cell_type": "markdown",
   "id": "0d04e546",
   "metadata": {},
   "source": [
    "## Description of the columns of df_hs DataFrame"
   ]
  },
  {
   "cell_type": "code",
   "execution_count": 6,
   "id": "33abec03",
   "metadata": {},
   "outputs": [],
   "source": [
    "df_nstr = df_nstr.merge(transp_mode, on='TRANSPORT_MODE')\n",
    "\n",
    "# merge the dataframes\n",
    "df_nstr = df_nstr.merge(flow, on='FLOW')\n",
    "\n",
    "# clear the period in two columns MONTH and YEAR\n",
    "df_nstr['MONTH'] = df_nstr['PERIOD'].apply(lambda x: str(x)[4:])\n",
    "df_nstr['YEAR'] = df_nstr['PERIOD'].apply(lambda x: str(x)[:4])\n",
    "\n",
    "# drop the column PERIOD\n",
    "df_nstr.drop('PERIOD', axis=1, inplace=True)"
   ]
  },
  {
   "cell_type": "code",
   "execution_count": 7,
   "id": "d8d2a652",
   "metadata": {},
   "outputs": [],
   "source": [
    "# container\n",
    "cont = pd.read_csv('our_data/CONTAINER_MODE.txt', header=None, sep='\\t').rename({0:'CONTAINER_MODE', \n",
    "                                                                                 1:'TYPE_CONTAINER_MODE'}, axis=1)\n",
    "\n",
    "df_nstr = df_nstr.merge(cont, on='CONTAINER_MODE')"
   ]
  },
  {
   "cell_type": "code",
   "execution_count": 8,
   "id": "c5b4368c",
   "metadata": {},
   "outputs": [
    {
     "data": {
      "text/html": [
       "<div>\n",
       "<style scoped>\n",
       "    .dataframe tbody tr th:only-of-type {\n",
       "        vertical-align: middle;\n",
       "    }\n",
       "\n",
       "    .dataframe tbody tr th {\n",
       "        vertical-align: top;\n",
       "    }\n",
       "\n",
       "    .dataframe thead th {\n",
       "        text-align: right;\n",
       "    }\n",
       "</style>\n",
       "<table border=\"1\" class=\"dataframe\">\n",
       "  <thead>\n",
       "    <tr style=\"text-align: right;\">\n",
       "      <th></th>\n",
       "      <th>DECLARANT</th>\n",
       "      <th>DECLARANT_ISO</th>\n",
       "      <th>PARTNER</th>\n",
       "      <th>PARTNER_ISO</th>\n",
       "      <th>PRODUCT_NSTR</th>\n",
       "      <th>FLOW</th>\n",
       "      <th>TRANSPORT_MODE</th>\n",
       "      <th>CONTAINER_MODE</th>\n",
       "      <th>TRANSPORT_MEANS_NAT</th>\n",
       "      <th>VALUE_IN_EUROS</th>\n",
       "      <th>QUANTITY_IN_KG</th>\n",
       "      <th>TYPE_TRANSP_MODE</th>\n",
       "      <th>TYPE_FLOW</th>\n",
       "      <th>MONTH</th>\n",
       "      <th>YEAR</th>\n",
       "      <th>TYPE_CONTAINER_MODE</th>\n",
       "    </tr>\n",
       "  </thead>\n",
       "  <tbody>\n",
       "    <tr>\n",
       "      <th>0</th>\n",
       "      <td>1</td>\n",
       "      <td>FR</td>\n",
       "      <td>21</td>\n",
       "      <td>XC</td>\n",
       "      <td>839</td>\n",
       "      <td>2</td>\n",
       "      <td>1</td>\n",
       "      <td>0</td>\n",
       "      <td>46</td>\n",
       "      <td>10093991</td>\n",
       "      <td>35326489</td>\n",
       "      <td>Sea</td>\n",
       "      <td>export</td>\n",
       "      <td>01</td>\n",
       "      <td>2019</td>\n",
       "      <td>Not containerised</td>\n",
       "    </tr>\n",
       "    <tr>\n",
       "      <th>1</th>\n",
       "      <td>1</td>\n",
       "      <td>FR</td>\n",
       "      <td>21</td>\n",
       "      <td>XC</td>\n",
       "      <td>TOT</td>\n",
       "      <td>2</td>\n",
       "      <td>1</td>\n",
       "      <td>0</td>\n",
       "      <td>46</td>\n",
       "      <td>10093991</td>\n",
       "      <td>35326489</td>\n",
       "      <td>Sea</td>\n",
       "      <td>export</td>\n",
       "      <td>01</td>\n",
       "      <td>2019</td>\n",
       "      <td>Not containerised</td>\n",
       "    </tr>\n",
       "    <tr>\n",
       "      <th>2</th>\n",
       "      <td>1</td>\n",
       "      <td>FR</td>\n",
       "      <td>23</td>\n",
       "      <td>XL</td>\n",
       "      <td>979</td>\n",
       "      <td>2</td>\n",
       "      <td>1</td>\n",
       "      <td>0</td>\n",
       "      <td>1</td>\n",
       "      <td>925</td>\n",
       "      <td>83</td>\n",
       "      <td>Sea</td>\n",
       "      <td>export</td>\n",
       "      <td>01</td>\n",
       "      <td>2019</td>\n",
       "      <td>Not containerised</td>\n",
       "    </tr>\n",
       "    <tr>\n",
       "      <th>3</th>\n",
       "      <td>1</td>\n",
       "      <td>FR</td>\n",
       "      <td>23</td>\n",
       "      <td>XL</td>\n",
       "      <td>TOT</td>\n",
       "      <td>2</td>\n",
       "      <td>1</td>\n",
       "      <td>0</td>\n",
       "      <td>1</td>\n",
       "      <td>925</td>\n",
       "      <td>83</td>\n",
       "      <td>Sea</td>\n",
       "      <td>export</td>\n",
       "      <td>01</td>\n",
       "      <td>2019</td>\n",
       "      <td>Not containerised</td>\n",
       "    </tr>\n",
       "    <tr>\n",
       "      <th>4</th>\n",
       "      <td>1</td>\n",
       "      <td>FR</td>\n",
       "      <td>24</td>\n",
       "      <td>IS</td>\n",
       "      <td>020</td>\n",
       "      <td>2</td>\n",
       "      <td>1</td>\n",
       "      <td>0</td>\n",
       "      <td>17</td>\n",
       "      <td>17590</td>\n",
       "      <td>23450</td>\n",
       "      <td>Sea</td>\n",
       "      <td>export</td>\n",
       "      <td>01</td>\n",
       "      <td>2019</td>\n",
       "      <td>Not containerised</td>\n",
       "    </tr>\n",
       "  </tbody>\n",
       "</table>\n",
       "</div>"
      ],
      "text/plain": [
       "   DECLARANT DECLARANT_ISO  PARTNER PARTNER_ISO PRODUCT_NSTR  FLOW  \\\n",
       "0          1            FR       21          XC          839     2   \n",
       "1          1            FR       21          XC          TOT     2   \n",
       "2          1            FR       23          XL          979     2   \n",
       "3          1            FR       23          XL          TOT     2   \n",
       "4          1            FR       24          IS          020     2   \n",
       "\n",
       "   TRANSPORT_MODE  CONTAINER_MODE TRANSPORT_MEANS_NAT  VALUE_IN_EUROS  \\\n",
       "0               1               0                  46        10093991   \n",
       "1               1               0                  46        10093991   \n",
       "2               1               0                   1             925   \n",
       "3               1               0                   1             925   \n",
       "4               1               0                  17           17590   \n",
       "\n",
       "   QUANTITY_IN_KG TYPE_TRANSP_MODE TYPE_FLOW MONTH  YEAR TYPE_CONTAINER_MODE  \n",
       "0        35326489              Sea    export    01  2019   Not containerised  \n",
       "1        35326489              Sea    export    01  2019   Not containerised  \n",
       "2              83              Sea    export    01  2019   Not containerised  \n",
       "3              83              Sea    export    01  2019   Not containerised  \n",
       "4           23450              Sea    export    01  2019   Not containerised  "
      ]
     },
     "execution_count": 8,
     "metadata": {},
     "output_type": "execute_result"
    }
   ],
   "source": [
    "df_nstr.head()"
   ]
  },
  {
   "cell_type": "markdown",
   "id": "f3e89c56",
   "metadata": {},
   "source": [
    "# Merging of the two dataframes"
   ]
  },
  {
   "cell_type": "code",
   "execution_count": 9,
   "id": "3e7b5a27",
   "metadata": {},
   "outputs": [],
   "source": [
    "df_hs['PRODUCT_TYPE'] = 'HS'\n",
    "df_nstr['PRODUCT_TYPE'] = 'NSTR'\n",
    "\n",
    "df_hs = df_hs.rename({'PRODUCT_HS': 'PRODUCT_CODE'}, axis=1)\n",
    "df_nstr = df_nstr.rename({'PRODUCT_NSTR': 'PRODUCT_CODE'}, axis=1)\n",
    "\n",
    "df_tot = df_hs.append(df_nstr, ignore_index=True).drop(['CONTAINER_MODE', 'TRANSPORT_MEANS_NAT', 'TYPE_CONTAINER_MODE'], axis=1)\n",
    "\n",
    "df_tot;"
   ]
  },
  {
   "cell_type": "code",
   "execution_count": 10,
   "id": "b21e20f9",
   "metadata": {},
   "outputs": [],
   "source": [
    "index_del = df_tot[df_tot['PRODUCT_CODE']=='TOT'].index.union(df_tot[df_tot['PRODUCT_CODE']=='TOTAL'].index)\n",
    "df_tot = df_tot.drop(index_del, axis=0).reset_index(drop=True)"
   ]
  },
  {
   "cell_type": "code",
   "execution_count": 11,
   "id": "3dbdd592",
   "metadata": {},
   "outputs": [],
   "source": [
    "df_tot = df_tot.sort_values(by=['YEAR', 'MONTH']).reset_index(drop=True)"
   ]
  },
  {
   "cell_type": "code",
   "execution_count": 12,
   "id": "aab3cfcf",
   "metadata": {},
   "outputs": [],
   "source": [
    "df_tot = df_tot.dropna(how='any')"
   ]
  },
  {
   "cell_type": "markdown",
   "id": "069378ac",
   "metadata": {},
   "source": [
    "## Distance"
   ]
  },
  {
   "cell_type": "code",
   "execution_count": 53,
   "id": "aedbf353",
   "metadata": {},
   "outputs": [
    {
     "data": {
      "text/html": [
       "<div>\n",
       "<style scoped>\n",
       "    .dataframe tbody tr th:only-of-type {\n",
       "        vertical-align: middle;\n",
       "    }\n",
       "\n",
       "    .dataframe tbody tr th {\n",
       "        vertical-align: top;\n",
       "    }\n",
       "\n",
       "    .dataframe thead th {\n",
       "        text-align: right;\n",
       "    }\n",
       "</style>\n",
       "<table border=\"1\" class=\"dataframe\">\n",
       "  <thead>\n",
       "    <tr style=\"text-align: right;\">\n",
       "      <th></th>\n",
       "      <th>InputID</th>\n",
       "      <th>TargetID</th>\n",
       "      <th>Distance</th>\n",
       "    </tr>\n",
       "  </thead>\n",
       "  <tbody>\n",
       "    <tr>\n",
       "      <th>0</th>\n",
       "      <td>ABW</td>\n",
       "      <td>ZWE</td>\n",
       "      <td>1.151116e+07</td>\n",
       "    </tr>\n",
       "    <tr>\n",
       "      <th>1</th>\n",
       "      <td>ABW</td>\n",
       "      <td>NIC</td>\n",
       "      <td>1.633202e+06</td>\n",
       "    </tr>\n",
       "    <tr>\n",
       "      <th>2</th>\n",
       "      <td>ABW</td>\n",
       "      <td>NER</td>\n",
       "      <td>8.373634e+06</td>\n",
       "    </tr>\n",
       "    <tr>\n",
       "      <th>3</th>\n",
       "      <td>ABW</td>\n",
       "      <td>NGA</td>\n",
       "      <td>8.486833e+06</td>\n",
       "    </tr>\n",
       "    <tr>\n",
       "      <th>4</th>\n",
       "      <td>ABW</td>\n",
       "      <td>NIU</td>\n",
       "      <td>1.148822e+07</td>\n",
       "    </tr>\n",
       "  </tbody>\n",
       "</table>\n",
       "</div>"
      ],
      "text/plain": [
       "  InputID TargetID      Distance\n",
       "0     ABW      ZWE  1.151116e+07\n",
       "1     ABW      NIC  1.633202e+06\n",
       "2     ABW      NER  8.373634e+06\n",
       "3     ABW      NGA  8.486833e+06\n",
       "4     ABW      NIU  1.148822e+07"
      ]
     },
     "execution_count": 53,
     "metadata": {},
     "output_type": "execute_result"
    }
   ],
   "source": [
    "distance_df = pd.read_csv('Country Distance/distance.csv').sort_values(by='InputID').reset_index(drop=True)\n",
    "distance_df['InputID'] = distance_df['InputID'].apply(lambda x: x.replace(' ', ''))\n",
    "distance_df['TargetID'] = distance_df['TargetID'].apply(lambda x: x.replace(' ', ''))\n",
    "distance_df.head()"
   ]
  },
  {
   "cell_type": "code",
   "execution_count": 14,
   "id": "4dfac574-cc8c-4b01-aef2-fba5cd18cfbf",
   "metadata": {},
   "outputs": [],
   "source": [
    "ccode_df = pd.read_csv('country_codes.csv')\n",
    "ccode_df.head();"
   ]
  },
  {
   "cell_type": "code",
   "execution_count": 15,
   "id": "8a3511e5-4e63-4211-8a50-bfb3e4220bce",
   "metadata": {},
   "outputs": [],
   "source": [
    "map_dict = pd.Series(ccode_df.iloc[:,1].values,index= ccode_df.iloc[:,2]).to_dict()"
   ]
  },
  {
   "cell_type": "code",
   "execution_count": 16,
   "id": "ea8528e5-c873-4047-b6c9-ac22af50aaae",
   "metadata": {},
   "outputs": [
    {
     "data": {
      "text/html": [
       "<div>\n",
       "<style scoped>\n",
       "    .dataframe tbody tr th:only-of-type {\n",
       "        vertical-align: middle;\n",
       "    }\n",
       "\n",
       "    .dataframe tbody tr th {\n",
       "        vertical-align: top;\n",
       "    }\n",
       "\n",
       "    .dataframe thead th {\n",
       "        text-align: right;\n",
       "    }\n",
       "</style>\n",
       "<table border=\"1\" class=\"dataframe\">\n",
       "  <thead>\n",
       "    <tr style=\"text-align: right;\">\n",
       "      <th></th>\n",
       "      <th>InputID</th>\n",
       "      <th>TargetID</th>\n",
       "      <th>Distance</th>\n",
       "    </tr>\n",
       "  </thead>\n",
       "  <tbody>\n",
       "    <tr>\n",
       "      <th>0</th>\n",
       "      <td>AW</td>\n",
       "      <td>ZW</td>\n",
       "      <td>1.151116e+07</td>\n",
       "    </tr>\n",
       "    <tr>\n",
       "      <th>1</th>\n",
       "      <td>AW</td>\n",
       "      <td>NI</td>\n",
       "      <td>1.633202e+06</td>\n",
       "    </tr>\n",
       "    <tr>\n",
       "      <th>2</th>\n",
       "      <td>AW</td>\n",
       "      <td>NE</td>\n",
       "      <td>8.373634e+06</td>\n",
       "    </tr>\n",
       "    <tr>\n",
       "      <th>3</th>\n",
       "      <td>AW</td>\n",
       "      <td>NG</td>\n",
       "      <td>8.486833e+06</td>\n",
       "    </tr>\n",
       "    <tr>\n",
       "      <th>4</th>\n",
       "      <td>AW</td>\n",
       "      <td>NU</td>\n",
       "      <td>1.148822e+07</td>\n",
       "    </tr>\n",
       "  </tbody>\n",
       "</table>\n",
       "</div>"
      ],
      "text/plain": [
       "  InputID TargetID      Distance\n",
       "0      AW       ZW  1.151116e+07\n",
       "1      AW       NI  1.633202e+06\n",
       "2      AW       NE  8.373634e+06\n",
       "3      AW       NG  8.486833e+06\n",
       "4      AW       NU  1.148822e+07"
      ]
     },
     "execution_count": 16,
     "metadata": {},
     "output_type": "execute_result"
    }
   ],
   "source": [
    "distance_df.replace({\"InputID\":map_dict,\"TargetID\":map_dict},inplace=True)\n",
    "distance_df.head()"
   ]
  },
  {
   "cell_type": "code",
   "execution_count": 17,
   "id": "b65e5237",
   "metadata": {},
   "outputs": [],
   "source": [
    "distance_df = distance_df.rename({'InputID':'DECLARANT_ISO', 'TargetID':'PARTNER_ISO'}, axis=1)\n",
    "df_tot = df_tot.merge(distance_df, on=['DECLARANT_ISO', 'PARTNER_ISO'])"
   ]
  },
  {
   "cell_type": "code",
   "execution_count": 18,
   "id": "38341c38",
   "metadata": {},
   "outputs": [],
   "source": [
    "df_tot.to_csv('total_dataframe.csv')"
   ]
  },
  {
   "cell_type": "markdown",
   "id": "cc014e9f",
   "metadata": {},
   "source": [
    "# Start from Here!!! (if you have the file)"
   ]
  },
  {
   "cell_type": "code",
   "execution_count": 2,
   "id": "36eb5101",
   "metadata": {},
   "outputs": [
    {
     "name": "stderr",
     "output_type": "stream",
     "text": [
      "/Library/Frameworks/Python.framework/Versions/3.9/lib/python3.9/site-packages/IPython/core/interactiveshell.py:3169: DtypeWarning: Columns (5) have mixed types.Specify dtype option on import or set low_memory=False.\n",
      "  has_raised = await self.run_ast_nodes(code_ast.body, cell_name,\n"
     ]
    }
   ],
   "source": [
    "# read total dataframe\n",
    "\n",
    "df_tot = pd.read_csv('total_dataframe.csv').drop('Unnamed: 0', axis=1)"
   ]
  },
  {
   "cell_type": "code",
   "execution_count": 3,
   "id": "ba9c4513",
   "metadata": {},
   "outputs": [],
   "source": [
    "# take the mean to the value of fuel\n",
    "# scarse res.\n",
    "# transoform the fuel in pollution\n",
    "# Mi = Vmix *Qi*kH *Ci *10-6 /Ds\n",
    "# type of fuel (sea, road, ...) some data "
   ]
  },
  {
   "cell_type": "code",
   "execution_count": 4,
   "id": "469b758f",
   "metadata": {},
   "outputs": [],
   "source": [
    "# one layout for the graph\n",
    "# spring layout\n",
    "# export quantity and cut-off (treshold)\n",
    "# local and global measure for greenness"
   ]
  },
  {
   "cell_type": "markdown",
   "id": "a5813177",
   "metadata": {},
   "source": [
    "- first step greenness and visualize and study of artcile about scc\n",
    "- implementing a meaning for scc about world trande"
   ]
  },
  {
   "cell_type": "markdown",
   "id": "1fa6771b",
   "metadata": {},
   "source": [
    "# Graph"
   ]
  },
  {
   "cell_type": "code",
   "execution_count": 5,
   "id": "41786896",
   "metadata": {},
   "outputs": [],
   "source": [
    "df_tot;"
   ]
  },
  {
   "cell_type": "code",
   "execution_count": 6,
   "id": "fbf4dc3d",
   "metadata": {},
   "outputs": [],
   "source": [
    "# df_group = df_tot[['DECLARANT_ISO','PARTNER_ISO', 'VALUE_IN_EUROS', 'QUANTITY_IN_KG', 'Distance']].groupby(['DECLARANT_ISO', 'PARTNER_ISO']).sum().reset_index()\n",
    "# df_group = df_group.merge(distance_df, on=['DECLARANT_ISO', 'PARTNER_ISO'])"
   ]
  },
  {
   "cell_type": "code",
   "execution_count": 7,
   "id": "8dc2550c",
   "metadata": {},
   "outputs": [],
   "source": [
    "# graph construction\n",
    "ser_nodes = df_tot['DECLARANT_ISO'].append(df_tot['PARTNER_ISO'])\n",
    "nodes = ser_nodes.unique()"
   ]
  },
  {
   "cell_type": "code",
   "execution_count": 8,
   "id": "9a21a131",
   "metadata": {},
   "outputs": [],
   "source": [
    "df_edges = df_tot[['DECLARANT_ISO', 'PARTNER_ISO', 'Distance']]\n",
    "tuple_edges = [tuple(r) for r in df_edges.to_numpy()]"
   ]
  },
  {
   "cell_type": "code",
   "execution_count": 9,
   "id": "0e86aa36",
   "metadata": {},
   "outputs": [],
   "source": [
    "# init graph\n",
    "G = nx.DiGraph()"
   ]
  },
  {
   "cell_type": "code",
   "execution_count": 10,
   "id": "50cc296e",
   "metadata": {},
   "outputs": [],
   "source": [
    "G.add_nodes_from(nodes)\n",
    "G.add_weighted_edges_from(tuple_edges)"
   ]
  },
  {
   "cell_type": "code",
   "execution_count": 11,
   "id": "5eb86796",
   "metadata": {},
   "outputs": [],
   "source": [
    "# by time\n",
    "\n",
    "def timeTresh_graph(df, month, year, t=1, q=None):\n",
    "    '''\n",
    "    The treshold (t) is between 0 and 1\n",
    "    q is the quantity to apply tresh:\n",
    "        'euro' for euro\n",
    "        'kg' for quantity in kg\n",
    "    '''\n",
    "    \n",
    "    G = nx.DiGraph()\n",
    "    \n",
    "    # nodes by time\n",
    "    # df_tot_time = df[(df['YEAR'] == year) & (df['MONTH'] == month)]\n",
    "    df_tot_time = df\n",
    "    \n",
    "    # perc\n",
    "    df_tot_time['VALUE_IN_EUROS'] = df_tot_time['VALUE_IN_EUROS'].apply(lambda x: x/sum(df_tot_time['VALUE_IN_EUROS']))\n",
    "    df_tot_time['QUANTITY_IN_KG'] = df_tot_time['QUANTITY_IN_KG'].apply(lambda x: x/sum(df_tot_time['QUANTITY_IN_KG']))\n",
    "\n",
    "    if q == 'euro':\n",
    "        df_tot_time = df_tot_time[['DECLARANT_ISO', 'PARTNER_ISO', 'VALUE_IN_EUROS']]\n",
    "        df_tot_time = df_tot_time[df_tot_time['VALUE_IN_EUROS']>=t]\n",
    "    else:\n",
    "        df_tot_time = df_tot_time[['DECLARANT_ISO', 'PARTNER_ISO', 'QUANTITY_IN_KG']]\n",
    "        df_tot_time = df_tot_time[df_tot_time['QUANTITY_IN_KG']<=t]\n",
    "    \n",
    "    ser_nodes = df_tot_time['DECLARANT_ISO'].append(df_tot_time['PARTNER_ISO'])\n",
    "    nodes = ser_nodes.unique()\n",
    "    \n",
    "    # edges by time\n",
    "    df_edges = df_tot_time[['DECLARANT_ISO', 'PARTNER_ISO']]\n",
    "    tuple_edges = [tuple(r) for r in df_edges.to_numpy()]\n",
    "    \n",
    "    G.add_nodes_from(nodes)\n",
    "    G.add_edges_from(tuple_edges) # add weight \n",
    "\n",
    "    return G"
   ]
  },
  {
   "cell_type": "code",
   "execution_count": 12,
   "id": "3a7cbb29",
   "metadata": {},
   "outputs": [],
   "source": [
    "# plt.figure(figsize=(70,40))\n",
    "# nx.draw(G);"
   ]
  },
  {
   "cell_type": "code",
   "execution_count": 13,
   "id": "ae69c983",
   "metadata": {},
   "outputs": [],
   "source": [
    "# plt.figure(figsize=(70,40))\n",
    "# nx.draw(timeTresh_graph(df_group, '02', '2020', t = 0.6, q = 'euro'));"
   ]
  },
  {
   "cell_type": "code",
   "execution_count": 14,
   "id": "43a32e26",
   "metadata": {},
   "outputs": [],
   "source": [
    "# perc\n",
    "df_tot_filter = df_tot[['DECLARANT_ISO', 'PARTNER_ISO', 'Distance', 'VALUE_IN_EUROS']]"
   ]
  },
  {
   "cell_type": "code",
   "execution_count": 15,
   "id": "d91628c7",
   "metadata": {},
   "outputs": [],
   "source": [
    "df_tot_filter = df_tot_filter[df_tot_filter['VALUE_IN_EUROS'] >= 1700000000]\n",
    "df_tot_filter;"
   ]
  },
  {
   "cell_type": "code",
   "execution_count": 16,
   "id": "be461a3e",
   "metadata": {},
   "outputs": [
    {
     "data": {
      "text/plain": [
       "<Figure size 720x504 with 0 Axes>"
      ]
     },
     "metadata": {},
     "output_type": "display_data"
    }
   ],
   "source": [
    "plt.figure(figsize=(10,7))\n",
    "Gt = nx.Graph()\n",
    "ser_nodes = df_tot_filter['DECLARANT_ISO'].append(df_tot_filter['PARTNER_ISO'])\n",
    "nodes = ser_nodes.unique()\n",
    "\n",
    "# edges by time\n",
    "df_edges = df_tot_filter[['DECLARANT_ISO', 'PARTNER_ISO', 'Distance']]\n",
    "tuple_edges = [tuple(r) for r in df_edges.to_numpy()]\n",
    "\n",
    "Gt.add_nodes_from(nodes)\n",
    "Gt.add_weighted_edges_from(tuple_edges)  \n",
    "# nx.draw(Gt, with_labels=True, node_size=600, node_color='orange')\n",
    "\n",
    "# edges difference between import and export"
   ]
  },
  {
   "cell_type": "code",
   "execution_count": 17,
   "id": "77e10afb",
   "metadata": {},
   "outputs": [],
   "source": [
    "# how to choice treshold for the values? \n",
    "# percentage or absolute value?\n",
    "# 35L for 100 km"
   ]
  },
  {
   "cell_type": "code",
   "execution_count": 18,
   "id": "ecb9eda6",
   "metadata": {},
   "outputs": [
    {
     "data": {
      "text/plain": [
       "array(['Road', 'Air', 'Post', 'Sea', 'Rail', 'Self Propulsion',\n",
       "       'Inland Waterway', 'Fixed Mechanism'], dtype=object)"
      ]
     },
     "execution_count": 18,
     "metadata": {},
     "output_type": "execute_result"
    }
   ],
   "source": [
    "df_tot['TYPE_TRANSP_MODE'].unique()\n",
    "\n",
    "# Road, Air, Sea, Rail are the most important (for us)"
   ]
  },
  {
   "cell_type": "markdown",
   "id": "5c04e47e",
   "metadata": {},
   "source": [
    "# Continue Algorithm"
   ]
  },
  {
   "cell_type": "code",
   "execution_count": 19,
   "id": "0f0ca941",
   "metadata": {},
   "outputs": [],
   "source": [
    "# import export\n",
    "# mesi/anno\n",
    "# cosa? ma questo lo vediamo più tardi\n",
    "# il tipo di trasporto?\n",
    "# trashold euro/kg"
   ]
  },
  {
   "cell_type": "code",
   "execution_count": 20,
   "id": "74045dae",
   "metadata": {},
   "outputs": [],
   "source": [
    "# start with teh import/export\n",
    "# import\n",
    "df_import = df_tot[df_tot['TYPE_FLOW']=='import'].reset_index(drop=True)\n",
    "# export\n",
    "df_export = df_tot[df_tot['TYPE_FLOW']=='export'].reset_index(drop=True)"
   ]
  },
  {
   "cell_type": "code",
   "execution_count": 21,
   "id": "ddcd7c39",
   "metadata": {},
   "outputs": [
    {
     "data": {
      "text/html": [
       "<div>\n",
       "<style scoped>\n",
       "    .dataframe tbody tr th:only-of-type {\n",
       "        vertical-align: middle;\n",
       "    }\n",
       "\n",
       "    .dataframe tbody tr th {\n",
       "        vertical-align: top;\n",
       "    }\n",
       "\n",
       "    .dataframe thead th {\n",
       "        text-align: right;\n",
       "    }\n",
       "</style>\n",
       "<table border=\"1\" class=\"dataframe\">\n",
       "  <thead>\n",
       "    <tr style=\"text-align: right;\">\n",
       "      <th></th>\n",
       "      <th>DECLARANT</th>\n",
       "      <th>DECLARANT_ISO</th>\n",
       "      <th>PARTNER</th>\n",
       "      <th>PARTNER_ISO</th>\n",
       "      <th>PRODUCT_CODE</th>\n",
       "      <th>FLOW</th>\n",
       "      <th>TRANSPORT_MODE</th>\n",
       "      <th>VALUE_IN_EUROS</th>\n",
       "      <th>QUANTITY_IN_KG</th>\n",
       "      <th>TYPE_TRANSP_MODE</th>\n",
       "      <th>TYPE_FLOW</th>\n",
       "      <th>MONTH</th>\n",
       "      <th>YEAR</th>\n",
       "      <th>PRODUCT_TYPE</th>\n",
       "      <th>Distance</th>\n",
       "    </tr>\n",
       "  </thead>\n",
       "  <tbody>\n",
       "    <tr>\n",
       "      <th>0</th>\n",
       "      <td>1</td>\n",
       "      <td>FR</td>\n",
       "      <td>24</td>\n",
       "      <td>IS</td>\n",
       "      <td>210690</td>\n",
       "      <td>1</td>\n",
       "      <td>3</td>\n",
       "      <td>203</td>\n",
       "      <td>0</td>\n",
       "      <td>Road</td>\n",
       "      <td>import</td>\n",
       "      <td>1</td>\n",
       "      <td>2019</td>\n",
       "      <td>HS</td>\n",
       "      <td>2.439785e+06</td>\n",
       "    </tr>\n",
       "    <tr>\n",
       "      <th>1</th>\n",
       "      <td>1</td>\n",
       "      <td>FR</td>\n",
       "      <td>24</td>\n",
       "      <td>IS</td>\n",
       "      <td>220110</td>\n",
       "      <td>1</td>\n",
       "      <td>3</td>\n",
       "      <td>6826</td>\n",
       "      <td>19200</td>\n",
       "      <td>Road</td>\n",
       "      <td>import</td>\n",
       "      <td>1</td>\n",
       "      <td>2019</td>\n",
       "      <td>HS</td>\n",
       "      <td>2.439785e+06</td>\n",
       "    </tr>\n",
       "    <tr>\n",
       "      <th>2</th>\n",
       "      <td>1</td>\n",
       "      <td>FR</td>\n",
       "      <td>24</td>\n",
       "      <td>IS</td>\n",
       "      <td>392690</td>\n",
       "      <td>1</td>\n",
       "      <td>3</td>\n",
       "      <td>140</td>\n",
       "      <td>0</td>\n",
       "      <td>Road</td>\n",
       "      <td>import</td>\n",
       "      <td>1</td>\n",
       "      <td>2019</td>\n",
       "      <td>HS</td>\n",
       "      <td>2.439785e+06</td>\n",
       "    </tr>\n",
       "    <tr>\n",
       "      <th>3</th>\n",
       "      <td>1</td>\n",
       "      <td>FR</td>\n",
       "      <td>24</td>\n",
       "      <td>IS</td>\n",
       "      <td>420299</td>\n",
       "      <td>1</td>\n",
       "      <td>3</td>\n",
       "      <td>129</td>\n",
       "      <td>0</td>\n",
       "      <td>Road</td>\n",
       "      <td>import</td>\n",
       "      <td>1</td>\n",
       "      <td>2019</td>\n",
       "      <td>HS</td>\n",
       "      <td>2.439785e+06</td>\n",
       "    </tr>\n",
       "    <tr>\n",
       "      <th>4</th>\n",
       "      <td>1</td>\n",
       "      <td>FR</td>\n",
       "      <td>24</td>\n",
       "      <td>IS</td>\n",
       "      <td>610331</td>\n",
       "      <td>1</td>\n",
       "      <td>3</td>\n",
       "      <td>174</td>\n",
       "      <td>0</td>\n",
       "      <td>Road</td>\n",
       "      <td>import</td>\n",
       "      <td>1</td>\n",
       "      <td>2019</td>\n",
       "      <td>HS</td>\n",
       "      <td>2.439785e+06</td>\n",
       "    </tr>\n",
       "  </tbody>\n",
       "</table>\n",
       "</div>"
      ],
      "text/plain": [
       "   DECLARANT DECLARANT_ISO  PARTNER PARTNER_ISO PRODUCT_CODE  FLOW  \\\n",
       "0          1            FR       24          IS       210690     1   \n",
       "1          1            FR       24          IS       220110     1   \n",
       "2          1            FR       24          IS       392690     1   \n",
       "3          1            FR       24          IS       420299     1   \n",
       "4          1            FR       24          IS       610331     1   \n",
       "\n",
       "   TRANSPORT_MODE  VALUE_IN_EUROS  QUANTITY_IN_KG TYPE_TRANSP_MODE TYPE_FLOW  \\\n",
       "0               3             203               0             Road    import   \n",
       "1               3            6826           19200             Road    import   \n",
       "2               3             140               0             Road    import   \n",
       "3               3             129               0             Road    import   \n",
       "4               3             174               0             Road    import   \n",
       "\n",
       "   MONTH  YEAR PRODUCT_TYPE      Distance  \n",
       "0      1  2019           HS  2.439785e+06  \n",
       "1      1  2019           HS  2.439785e+06  \n",
       "2      1  2019           HS  2.439785e+06  \n",
       "3      1  2019           HS  2.439785e+06  \n",
       "4      1  2019           HS  2.439785e+06  "
      ]
     },
     "execution_count": 21,
     "metadata": {},
     "output_type": "execute_result"
    }
   ],
   "source": [
    "# work with the import\n",
    "df_import.head()"
   ]
  },
  {
   "cell_type": "code",
   "execution_count": 22,
   "id": "9f138795",
   "metadata": {},
   "outputs": [
    {
     "data": {
      "text/plain": [
       "31251106"
      ]
     },
     "execution_count": 22,
     "metadata": {},
     "output_type": "execute_result"
    }
   ],
   "source": [
    "len(df_import)"
   ]
  },
  {
   "cell_type": "code",
   "execution_count": 23,
   "id": "58859e6d",
   "metadata": {},
   "outputs": [],
   "source": [
    "# month/year\n",
    "df_import_my = df_import[(df_import['MONTH']==1) & (df_import['YEAR']==2019)].reset_index(drop=True)"
   ]
  },
  {
   "cell_type": "code",
   "execution_count": 24,
   "id": "837b09fc",
   "metadata": {},
   "outputs": [
    {
     "data": {
      "text/html": [
       "<div>\n",
       "<style scoped>\n",
       "    .dataframe tbody tr th:only-of-type {\n",
       "        vertical-align: middle;\n",
       "    }\n",
       "\n",
       "    .dataframe tbody tr th {\n",
       "        vertical-align: top;\n",
       "    }\n",
       "\n",
       "    .dataframe thead th {\n",
       "        text-align: right;\n",
       "    }\n",
       "</style>\n",
       "<table border=\"1\" class=\"dataframe\">\n",
       "  <thead>\n",
       "    <tr style=\"text-align: right;\">\n",
       "      <th></th>\n",
       "      <th>DECLARANT</th>\n",
       "      <th>DECLARANT_ISO</th>\n",
       "      <th>PARTNER</th>\n",
       "      <th>PARTNER_ISO</th>\n",
       "      <th>PRODUCT_CODE</th>\n",
       "      <th>FLOW</th>\n",
       "      <th>TRANSPORT_MODE</th>\n",
       "      <th>VALUE_IN_EUROS</th>\n",
       "      <th>QUANTITY_IN_KG</th>\n",
       "      <th>TYPE_TRANSP_MODE</th>\n",
       "      <th>TYPE_FLOW</th>\n",
       "      <th>MONTH</th>\n",
       "      <th>YEAR</th>\n",
       "      <th>PRODUCT_TYPE</th>\n",
       "      <th>Distance</th>\n",
       "    </tr>\n",
       "  </thead>\n",
       "  <tbody>\n",
       "    <tr>\n",
       "      <th>0</th>\n",
       "      <td>1</td>\n",
       "      <td>FR</td>\n",
       "      <td>24</td>\n",
       "      <td>IS</td>\n",
       "      <td>210690</td>\n",
       "      <td>1</td>\n",
       "      <td>3</td>\n",
       "      <td>203</td>\n",
       "      <td>0</td>\n",
       "      <td>Road</td>\n",
       "      <td>import</td>\n",
       "      <td>1</td>\n",
       "      <td>2019</td>\n",
       "      <td>HS</td>\n",
       "      <td>2.439785e+06</td>\n",
       "    </tr>\n",
       "    <tr>\n",
       "      <th>1</th>\n",
       "      <td>1</td>\n",
       "      <td>FR</td>\n",
       "      <td>24</td>\n",
       "      <td>IS</td>\n",
       "      <td>220110</td>\n",
       "      <td>1</td>\n",
       "      <td>3</td>\n",
       "      <td>6826</td>\n",
       "      <td>19200</td>\n",
       "      <td>Road</td>\n",
       "      <td>import</td>\n",
       "      <td>1</td>\n",
       "      <td>2019</td>\n",
       "      <td>HS</td>\n",
       "      <td>2.439785e+06</td>\n",
       "    </tr>\n",
       "    <tr>\n",
       "      <th>2</th>\n",
       "      <td>1</td>\n",
       "      <td>FR</td>\n",
       "      <td>24</td>\n",
       "      <td>IS</td>\n",
       "      <td>392690</td>\n",
       "      <td>1</td>\n",
       "      <td>3</td>\n",
       "      <td>140</td>\n",
       "      <td>0</td>\n",
       "      <td>Road</td>\n",
       "      <td>import</td>\n",
       "      <td>1</td>\n",
       "      <td>2019</td>\n",
       "      <td>HS</td>\n",
       "      <td>2.439785e+06</td>\n",
       "    </tr>\n",
       "    <tr>\n",
       "      <th>3</th>\n",
       "      <td>1</td>\n",
       "      <td>FR</td>\n",
       "      <td>24</td>\n",
       "      <td>IS</td>\n",
       "      <td>420299</td>\n",
       "      <td>1</td>\n",
       "      <td>3</td>\n",
       "      <td>129</td>\n",
       "      <td>0</td>\n",
       "      <td>Road</td>\n",
       "      <td>import</td>\n",
       "      <td>1</td>\n",
       "      <td>2019</td>\n",
       "      <td>HS</td>\n",
       "      <td>2.439785e+06</td>\n",
       "    </tr>\n",
       "    <tr>\n",
       "      <th>4</th>\n",
       "      <td>1</td>\n",
       "      <td>FR</td>\n",
       "      <td>24</td>\n",
       "      <td>IS</td>\n",
       "      <td>610331</td>\n",
       "      <td>1</td>\n",
       "      <td>3</td>\n",
       "      <td>174</td>\n",
       "      <td>0</td>\n",
       "      <td>Road</td>\n",
       "      <td>import</td>\n",
       "      <td>1</td>\n",
       "      <td>2019</td>\n",
       "      <td>HS</td>\n",
       "      <td>2.439785e+06</td>\n",
       "    </tr>\n",
       "  </tbody>\n",
       "</table>\n",
       "</div>"
      ],
      "text/plain": [
       "   DECLARANT DECLARANT_ISO  PARTNER PARTNER_ISO PRODUCT_CODE  FLOW  \\\n",
       "0          1            FR       24          IS       210690     1   \n",
       "1          1            FR       24          IS       220110     1   \n",
       "2          1            FR       24          IS       392690     1   \n",
       "3          1            FR       24          IS       420299     1   \n",
       "4          1            FR       24          IS       610331     1   \n",
       "\n",
       "   TRANSPORT_MODE  VALUE_IN_EUROS  QUANTITY_IN_KG TYPE_TRANSP_MODE TYPE_FLOW  \\\n",
       "0               3             203               0             Road    import   \n",
       "1               3            6826           19200             Road    import   \n",
       "2               3             140               0             Road    import   \n",
       "3               3             129               0             Road    import   \n",
       "4               3             174               0             Road    import   \n",
       "\n",
       "   MONTH  YEAR PRODUCT_TYPE      Distance  \n",
       "0      1  2019           HS  2.439785e+06  \n",
       "1      1  2019           HS  2.439785e+06  \n",
       "2      1  2019           HS  2.439785e+06  \n",
       "3      1  2019           HS  2.439785e+06  \n",
       "4      1  2019           HS  2.439785e+06  "
      ]
     },
     "execution_count": 24,
     "metadata": {},
     "output_type": "execute_result"
    }
   ],
   "source": [
    "df_import_my.head()"
   ]
  },
  {
   "cell_type": "code",
   "execution_count": 25,
   "id": "ec1e6471",
   "metadata": {},
   "outputs": [
    {
     "data": {
      "text/plain": [
       "995739"
      ]
     },
     "execution_count": 25,
     "metadata": {},
     "output_type": "execute_result"
    }
   ],
   "source": [
    "len(df_import_my)"
   ]
  },
  {
   "cell_type": "code",
   "execution_count": 26,
   "id": "3319502f",
   "metadata": {},
   "outputs": [],
   "source": [
    "# type of transport (for example Road)\n",
    "df_import_my_tt = df_import_my[df_import_my['TYPE_TRANSP_MODE']=='Road'].reset_index(drop=True)"
   ]
  },
  {
   "cell_type": "code",
   "execution_count": 27,
   "id": "774f7fb7",
   "metadata": {},
   "outputs": [
    {
     "data": {
      "text/html": [
       "<div>\n",
       "<style scoped>\n",
       "    .dataframe tbody tr th:only-of-type {\n",
       "        vertical-align: middle;\n",
       "    }\n",
       "\n",
       "    .dataframe tbody tr th {\n",
       "        vertical-align: top;\n",
       "    }\n",
       "\n",
       "    .dataframe thead th {\n",
       "        text-align: right;\n",
       "    }\n",
       "</style>\n",
       "<table border=\"1\" class=\"dataframe\">\n",
       "  <thead>\n",
       "    <tr style=\"text-align: right;\">\n",
       "      <th></th>\n",
       "      <th>DECLARANT</th>\n",
       "      <th>DECLARANT_ISO</th>\n",
       "      <th>PARTNER</th>\n",
       "      <th>PARTNER_ISO</th>\n",
       "      <th>PRODUCT_CODE</th>\n",
       "      <th>FLOW</th>\n",
       "      <th>TRANSPORT_MODE</th>\n",
       "      <th>VALUE_IN_EUROS</th>\n",
       "      <th>QUANTITY_IN_KG</th>\n",
       "      <th>TYPE_TRANSP_MODE</th>\n",
       "      <th>TYPE_FLOW</th>\n",
       "      <th>MONTH</th>\n",
       "      <th>YEAR</th>\n",
       "      <th>PRODUCT_TYPE</th>\n",
       "      <th>Distance</th>\n",
       "    </tr>\n",
       "  </thead>\n",
       "  <tbody>\n",
       "    <tr>\n",
       "      <th>0</th>\n",
       "      <td>1</td>\n",
       "      <td>FR</td>\n",
       "      <td>24</td>\n",
       "      <td>IS</td>\n",
       "      <td>210690</td>\n",
       "      <td>1</td>\n",
       "      <td>3</td>\n",
       "      <td>203</td>\n",
       "      <td>0</td>\n",
       "      <td>Road</td>\n",
       "      <td>import</td>\n",
       "      <td>1</td>\n",
       "      <td>2019</td>\n",
       "      <td>HS</td>\n",
       "      <td>2.439785e+06</td>\n",
       "    </tr>\n",
       "    <tr>\n",
       "      <th>1</th>\n",
       "      <td>1</td>\n",
       "      <td>FR</td>\n",
       "      <td>24</td>\n",
       "      <td>IS</td>\n",
       "      <td>220110</td>\n",
       "      <td>1</td>\n",
       "      <td>3</td>\n",
       "      <td>6826</td>\n",
       "      <td>19200</td>\n",
       "      <td>Road</td>\n",
       "      <td>import</td>\n",
       "      <td>1</td>\n",
       "      <td>2019</td>\n",
       "      <td>HS</td>\n",
       "      <td>2.439785e+06</td>\n",
       "    </tr>\n",
       "    <tr>\n",
       "      <th>2</th>\n",
       "      <td>1</td>\n",
       "      <td>FR</td>\n",
       "      <td>24</td>\n",
       "      <td>IS</td>\n",
       "      <td>392690</td>\n",
       "      <td>1</td>\n",
       "      <td>3</td>\n",
       "      <td>140</td>\n",
       "      <td>0</td>\n",
       "      <td>Road</td>\n",
       "      <td>import</td>\n",
       "      <td>1</td>\n",
       "      <td>2019</td>\n",
       "      <td>HS</td>\n",
       "      <td>2.439785e+06</td>\n",
       "    </tr>\n",
       "    <tr>\n",
       "      <th>3</th>\n",
       "      <td>1</td>\n",
       "      <td>FR</td>\n",
       "      <td>24</td>\n",
       "      <td>IS</td>\n",
       "      <td>420299</td>\n",
       "      <td>1</td>\n",
       "      <td>3</td>\n",
       "      <td>129</td>\n",
       "      <td>0</td>\n",
       "      <td>Road</td>\n",
       "      <td>import</td>\n",
       "      <td>1</td>\n",
       "      <td>2019</td>\n",
       "      <td>HS</td>\n",
       "      <td>2.439785e+06</td>\n",
       "    </tr>\n",
       "    <tr>\n",
       "      <th>4</th>\n",
       "      <td>1</td>\n",
       "      <td>FR</td>\n",
       "      <td>24</td>\n",
       "      <td>IS</td>\n",
       "      <td>610331</td>\n",
       "      <td>1</td>\n",
       "      <td>3</td>\n",
       "      <td>174</td>\n",
       "      <td>0</td>\n",
       "      <td>Road</td>\n",
       "      <td>import</td>\n",
       "      <td>1</td>\n",
       "      <td>2019</td>\n",
       "      <td>HS</td>\n",
       "      <td>2.439785e+06</td>\n",
       "    </tr>\n",
       "  </tbody>\n",
       "</table>\n",
       "</div>"
      ],
      "text/plain": [
       "   DECLARANT DECLARANT_ISO  PARTNER PARTNER_ISO PRODUCT_CODE  FLOW  \\\n",
       "0          1            FR       24          IS       210690     1   \n",
       "1          1            FR       24          IS       220110     1   \n",
       "2          1            FR       24          IS       392690     1   \n",
       "3          1            FR       24          IS       420299     1   \n",
       "4          1            FR       24          IS       610331     1   \n",
       "\n",
       "   TRANSPORT_MODE  VALUE_IN_EUROS  QUANTITY_IN_KG TYPE_TRANSP_MODE TYPE_FLOW  \\\n",
       "0               3             203               0             Road    import   \n",
       "1               3            6826           19200             Road    import   \n",
       "2               3             140               0             Road    import   \n",
       "3               3             129               0             Road    import   \n",
       "4               3             174               0             Road    import   \n",
       "\n",
       "   MONTH  YEAR PRODUCT_TYPE      Distance  \n",
       "0      1  2019           HS  2.439785e+06  \n",
       "1      1  2019           HS  2.439785e+06  \n",
       "2      1  2019           HS  2.439785e+06  \n",
       "3      1  2019           HS  2.439785e+06  \n",
       "4      1  2019           HS  2.439785e+06  "
      ]
     },
     "execution_count": 27,
     "metadata": {},
     "output_type": "execute_result"
    }
   ],
   "source": [
    "df_import_my_tt.head()"
   ]
  },
  {
   "cell_type": "code",
   "execution_count": 28,
   "id": "cabf2a3b",
   "metadata": {},
   "outputs": [],
   "source": [
    "# trashold euros\n",
    "df_import_my_tt_te = df_import_my_tt[df_import_my_tt['VALUE_IN_EUROS'] >= 20000000].reset_index(drop=True)"
   ]
  },
  {
   "cell_type": "code",
   "execution_count": 29,
   "id": "4314c9b2",
   "metadata": {},
   "outputs": [
    {
     "data": {
      "text/plain": [
       "270"
      ]
     },
     "execution_count": 29,
     "metadata": {},
     "output_type": "execute_result"
    }
   ],
   "source": [
    "len(df_import_my_tt_te)"
   ]
  },
  {
   "cell_type": "code",
   "execution_count": 30,
   "id": "319a73e0",
   "metadata": {},
   "outputs": [
    {
     "data": {
      "image/png": "[encoded data removed]",
      "text/plain": [
       "<Figure size 720x504 with 1 Axes>"
      ]
     },
     "metadata": {},
     "output_type": "display_data"
    }
   ],
   "source": [
    "plt.figure(figsize=(10,7))\n",
    "Gt = nx.DiGraph()\n",
    "ser_nodes = df_import_my_tt_te['DECLARANT_ISO'].append(df_import_my_tt_te['PARTNER_ISO'])\n",
    "nodes = ser_nodes.unique()\n",
    "\n",
    "# edges by time\n",
    "df_edges = df_import_my_tt_te[['DECLARANT_ISO', 'PARTNER_ISO', 'Distance']]\n",
    "tuple_edges = [tuple(r) for r in df_edges.to_numpy()]\n",
    "\n",
    "Gt.add_nodes_from(nodes)\n",
    "Gt.add_weighted_edges_from(tuple_edges)  \n",
    "nx.draw(Gt, with_labels=True, node_size=1000, node_color='orange') "
   ]
  },
  {
   "cell_type": "code",
   "execution_count": 31,
   "id": "593d2d78",
   "metadata": {},
   "outputs": [],
   "source": [
    "df_group = df_tot[['DECLARANT_ISO','PARTNER_ISO', 'VALUE_IN_EUROS', 'QUANTITY_IN_KG']].groupby(['DECLARANT_ISO', 'PARTNER_ISO']).sum().reset_index()"
   ]
  },
  {
   "cell_type": "code",
   "execution_count": 79,
   "id": "f3987524",
   "metadata": {},
   "outputs": [],
   "source": [
    "# important\n",
    "df_tot['PRODUCT_CODE'] = df_tot['PRODUCT_CODE'].apply(lambda x: str(x))"
   ]
  },
  {
   "cell_type": "code",
   "execution_count": 80,
   "id": "bf362de5",
   "metadata": {},
   "outputs": [
    {
     "data": {
      "text/plain": [
       "array(['210690', '220110', '392690', ..., '94MMM0', '95MMM0', '710820'],\n",
       "      dtype=object)"
      ]
     },
     "execution_count": 80,
     "metadata": {},
     "output_type": "execute_result"
    }
   ],
   "source": [
    "df_tot['PRODUCT_CODE'].unique()"
   ]
  },
  {
   "cell_type": "code",
   "execution_count": 33,
   "id": "174b09c8",
   "metadata": {},
   "outputs": [],
   "source": [
    "df1 = df_tot[df_tot['PRODUCT_CODE']=='210690']\n",
    "df2 = df1[df1['TYPE_FLOW']=='import']\n",
    "df3 = df2[df2['MONTH']==1]\n",
    "df4 = df3[df3['YEAR']==2019]\n",
    "df5 = df4[df4['TYPE_TRANSP_MODE']=='Sea']\n",
    "df6 = df5.groupby(['DECLARANT_ISO', 'PARTNER_ISO'])[['DECLARANT_ISO', 'PARTNER_ISO', 'VALUE_IN_EUROS', 'QUANTITY_IN_KG']].sum().reset_index()\n",
    "df7 = df6.sort_values(by='VALUE_IN_EUROS', ascending=False).reset_index(drop=True)"
   ]
  },
  {
   "cell_type": "code",
   "execution_count": 34,
   "id": "c3bb86fd",
   "metadata": {},
   "outputs": [],
   "source": [
    "# 80 perc, values in euros\n",
    "t = int(len(df7)*80/100)"
   ]
  },
  {
   "cell_type": "code",
   "execution_count": 35,
   "id": "82d667e0",
   "metadata": {},
   "outputs": [],
   "source": [
    "df7.iloc[:t+1];"
   ]
  },
  {
   "cell_type": "code",
   "execution_count": 89,
   "id": "fc8a97de",
   "metadata": {},
   "outputs": [],
   "source": [
    "# main algorithm\n",
    "\n",
    "def mainGraph(df, month = 1, year = 2019, product = None, type_flow = None, type_transport = None, type_t = None, t = 0.1, weight = 'Distance'):\n",
    "    \n",
    "    # product\n",
    "    if product != None or product != '':\n",
    "        df = df[df['PRODUCT_CODE']==product].reset_index(drop=True)\n",
    "    else:\n",
    "        return 'Select the product code!'\n",
    "    \n",
    "    # type flow\n",
    "    if type_flow == 'import':\n",
    "        df = df[df['TYPE_FLOW']=='import'].reset_index(drop=True)\n",
    "    elif type_flow == 'export':\n",
    "        df = df[df['TYPE_FLOW']=='export'].reset_index(drop=True)\n",
    "    else:\n",
    "        return 'Select the type of flow!'\n",
    "    \n",
    "    # month and year\n",
    "    if month == None or year == None or month > 12 or year > 2021 or year < 2019:\n",
    "        return 'Insert correctly the month and year!'\n",
    "    \n",
    "    if month != None and year != None:\n",
    "        df = df[(df['MONTH']==month) & (df['YEAR']==year)].reset_index(drop=True)\n",
    "        \n",
    "    if type_transport == None:\n",
    "        return 'Select the type of transport!'\n",
    "    else:\n",
    "        df = df[df['TYPE_TRANSP_MODE']==type_transport].reset_index(drop=True)\n",
    "        \n",
    "    \n",
    "    minimum_e = df['VALUE_IN_EUROS'].min()\n",
    "    maximum_e = df['VALUE_IN_EUROS'].max()\n",
    "    minimum_k = df['QUANTITY_IN_KG'].min()\n",
    "    maximum_k = df['QUANTITY_IN_KG'].max()\n",
    "        \n",
    "    # df['VALUE_IN_EUROS'] = df['VALUE_IN_EUROS'].apply(lambda x: (x-minimum_e)/(maximum_e-minimum_e))\n",
    "    # df['QUANTITY_IN_KG'] = df['QUANTITY_IN_KG'].apply(lambda x: (x-minimum_k)/(maximum_k-minimum_k))\n",
    "        \n",
    "    # treshold\n",
    "    # if type_t == 'e':\n",
    "        # df = df[df['VALUE_IN_EUROS'] >= t].reset_index(drop=True)\n",
    "    # elif type_t == 'kg':\n",
    "        # df = df[df['VALUE_IN_EUROS'] >= t].reset_index(drop=True)\n",
    "    # else:\n",
    "        # return 'Select the type of threshold (euro or kg)!'\n",
    "    \n",
    "    df['Distance'] = round(df['Distance'], 3)\n",
    "    \n",
    "    # start changes\n",
    "    df = df.groupby(['DECLARANT_ISO', 'PARTNER_ISO', 'Distance'])[['DECLARANT_ISO', 'PARTNER_ISO', 'VALUE_IN_EUROS', 'QUANTITY_IN_KG']].sum().reset_index()\n",
    "    if type_t == 'e':\n",
    "        df = df.sort_values(by='VALUE_IN_EUROS', ascending=False).reset_index(drop=True)\n",
    "        # df = df[df['VALUE_IN_EUROS']>=300000]\n",
    "    elif type_t == 'kg':\n",
    "        df = df.sort_values(by='QUANTITY_IN_KG', ascending=False).reset_index(drop=True)\n",
    "        # df = df[df['QUANTITY_IN_KG']>=6000]\n",
    "    else:\n",
    "        return 'Select the type of threshold (euro or kg)!'\n",
    "    \n",
    "    tr = int(len(df)*t/100)\n",
    "    df = df.iloc[:tr+1]\n",
    "    \n",
    "    G = nx.DiGraph()\n",
    "    # nodes\n",
    "    nodes = df['DECLARANT_ISO'].append(df['PARTNER_ISO']).unique()\n",
    "    # edges\n",
    "    #df_edges = df[['DECLARANT_ISO', 'PARTNER_ISO', 'Distance']]\n",
    "    #tuple_edges = [tuple(r) for r in df_edges.to_numpy()]\n",
    "    \n",
    "    # graph\n",
    "    G.add_nodes_from(nodes)\n",
    "\n",
    "    for index,row in df.iterrows():\n",
    "        G.add_edge(row['DECLARANT_ISO'],row['PARTNER_ISO'],\n",
    "                                             Value = row.VALUE_IN_EUROS,\n",
    "                                             Quantity = row.QUANTITY_IN_KG,\n",
    "                                            Distance = row.Distance)\n",
    "    # G.add_weighted_edges_from(tuple_edges)\n",
    "    labels = {e: str(e) for e in G.edges}\n",
    "    # pos = nx.spring_layout(G, k=10000/np.sqrt(G.order()), iterations=20, scale=10) problem divided by 0\n",
    "    pos = nx.spring_layout(G, iterations=20, scale=10)\n",
    "    plt.figure(3, figsize=(20, 14))\n",
    "    \n",
    "    nx.draw(G, pos=pos, with_labels=True, node_size=2000, node_color='orange')\n",
    "\n",
    "    # Create edge labels\n",
    "    labels = {e: G.edges[e][weight] for e in G.edges}\n",
    "\n",
    "    # Draw edge labels according to node positions\n",
    "    nx.draw_networkx_edge_labels(G, pos, edge_labels=labels)\n",
    "    \n",
    "    return G\n",
    "    \n",
    "    # return nx.draw(G, pos=pos, with_labels=True, node_size=2000, node_color='orange')"
   ]
  },
  {
   "cell_type": "code",
   "execution_count": 93,
   "id": "d8f35672",
   "metadata": {},
   "outputs": [
    {
     "data": {
      "image/png": "[encoded data removed]",
      "text/plain": [
       "<Figure size 1440x1008 with 1 Axes>"
      ]
     },
     "metadata": {},
     "output_type": "display_data"
    }
   ],
   "source": [
    "TradeGraph = mainGraph(df_tot, 2, 2020, '220110', 'export', 'Air', 'e', t = 10, weight = 'Distance')"
   ]
  },
  {
   "cell_type": "code",
   "execution_count": 94,
   "id": "574830b8",
   "metadata": {},
   "outputs": [],
   "source": [
    "dic_centrality = nx.degree_centrality(TradeGraph)"
   ]
  },
  {
   "cell_type": "code",
   "execution_count": 95,
   "id": "4db8149f",
   "metadata": {},
   "outputs": [
    {
     "data": {
      "image/png": "[encoded data removed]",
      "text/plain": [
       "<Figure size 1440x576 with 1 Axes>"
      ]
     },
     "metadata": {
      "needs_background": "light"
     },
     "output_type": "display_data"
    }
   ],
   "source": [
    "dic_centrality = nx.degree_centrality(TradeGraph)\n",
    "df_cent = pd.DataFrame(list(dic_centrality.items()),columns = ['country','centrality']).sort_values(by='centrality', ascending=False).reset_index(drop=True)\n",
    "plt.figure(figsize=(20,8))\n",
    "plt.bar(df_cent['country'], height=df_cent['centrality'], color='orange')\n",
    "plt.xticks(fontsize=20, rotation=90)\n",
    "plt.yticks(fontsize=20)\n",
    "plt.show()"
   ]
  },
  {
   "cell_type": "code",
   "execution_count": 97,
   "id": "99c12f9d",
   "metadata": {},
   "outputs": [
    {
     "data": {
      "text/plain": [
       "array(['Road', 'Air', 'Post', 'Sea', 'Rail', 'Self Propulsion',\n",
       "       'Inland Waterway', 'Fixed Mechanism'], dtype=object)"
      ]
     },
     "execution_count": 97,
     "metadata": {},
     "output_type": "execute_result"
    }
   ],
   "source": [
    "# liter per 100 km\n",
    "\n",
    "# truck https://www.webfleet.com/en_gb/webfleet/blog/do-you-know-the-diesel-consumption-of-a-lorry-per-km/\n",
    "\n",
    "# Sea 37.0 – 46.3 km/hr https://transportgeography.org/contents/chapter4/transportation-and-energy/fuel-consumption-containerships/\n",
    "\n",
    "# 12 l / 100 km IWT https://www.smartfreightcentre.org/pdf/GLEC-report-on-GHG-Emission-Factors-for-Inland-Waterways-Transport-SFC2018.pdf\n",
    "\n",
    "# rail 7.97 L/ km https://www.researchgate.net/publication/321058362_Evaluation_of_emission_inventory_of_air_pollutants_from_railroad_and_air_transportation_in_Isfahan_metropolitan_in_2016/figures?lo=1\n",
    "\n",
    "# air 12 liters per kilometer https://science.howstuffworks.com/transport/flight/modern/question192.htm\n",
    "\n",
    "# post, self p, fixed\n",
    "df_tot['TYPE_TRANSP_MODE'].unique()"
   ]
  }
 ],
 "metadata": {
  "kernelspec": {
   "display_name": "Python 3 (ipykernel)",
   "language": "python",
   "name": "python3"
  },
  "language_info": {
   "codemirror_mode": {
    "name": "ipython",
    "version": 3
   },
   "file_extension": ".py",
   "mimetype": "text/x-python",
   "name": "python",
   "nbconvert_exporter": "python",
   "pygments_lexer": "ipython3",
   "version": "3.9.6"
  }
 },
 "nbformat": 4,
 "nbformat_minor": 5
}
