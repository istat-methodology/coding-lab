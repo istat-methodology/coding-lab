{
 "cells": [
  {
   "cell_type": "code",
   "execution_count": 31,
   "id": "cb83cc2c",
   "metadata": {},
   "outputs": [],
   "source": [
    "import os\n",
    "import pandas as pd"
   ]
  },
  {
   "cell_type": "code",
   "execution_count": 32,
   "id": "f45bf04a",
   "metadata": {},
   "outputs": [
    {
     "name": "stdout",
     "output_type": "stream",
     "text": [
      "Comext Open Data.ipynb\r\n",
      "Instructions on how to use the bulkdownload facility.pdf\r\n",
      "Readme.md\r\n",
      "\u001b[34mour_data\u001b[m\u001b[m\r\n"
     ]
    }
   ],
   "source": [
    "!ls"
   ]
  },
  {
   "cell_type": "code",
   "execution_count": 33,
   "id": "623c62a2",
   "metadata": {},
   "outputs": [
    {
     "name": "stderr",
     "output_type": "stream",
     "text": [
      "<decorator-gen-54>:2: DtypeWarning: Columns (8) have mixed types.Specify dtype option on import or set low_memory=False.\n"
     ]
    },
    {
     "name": "stdout",
     "output_type": "stream",
     "text": [
      "finish first\n",
      "finish second\n",
      "CPU times: user 1min 6s, sys: 12.1 s, total: 1min 18s\n",
      "Wall time: 1min 19s\n"
     ]
    }
   ],
   "source": [
    "%%time\n",
    "main_dir = 'our_data/'\n",
    "list_path_data = ['transportation_nstr', 'transportation_hs']\n",
    "list_nameFile = []\n",
    "for i in os.listdir(main_dir):\n",
    "    if i in list_path_data:\n",
    "        path_dat = main_dir + i\n",
    "        list_nameFile.append([pos for pos in os.listdir(path_dat) if pos.endswith('.dat')])\n",
    "\n",
    "for sublist in range(len(list_nameFile)):\n",
    "    df = pd.read_csv(main_dir + list_path_data[sublist] + '/' + list_nameFile[sublist][0])\n",
    "    count = 0\n",
    "    for nameSub in list_nameFile[sublist][1:]:\n",
    "        df_tmp = pd.read_csv(main_dir + list_path_data[sublist] + '/' + nameSub)\n",
    "        if 'trhs' in nameSub:\n",
    "            count += 1\n",
    "            df_hs = pd.concat([df, df_tmp], copy=False, ignore_index=True)\n",
    "            if count == 31:\n",
    "                print('finish second')\n",
    "        else:\n",
    "            count += 1\n",
    "            df_nstr = pd.concat([df, df_tmp], copy=False, ignore_index=True)\n",
    "            if count == 31:\n",
    "                print('finish first')"
   ]
  },
  {
   "cell_type": "markdown",
   "id": "bfd52f8c",
   "metadata": {},
   "source": [
    "# DataFrames"
   ]
  },
  {
   "cell_type": "markdown",
   "id": "5a346315",
   "metadata": {},
   "source": [
    "## Description of the columns of df_hs DataFrame"
   ]
  },
  {
   "cell_type": "markdown",
   "id": "f52f8dc4",
   "metadata": {},
   "source": [
    "* **DECLARANT and DECLARANT_ISO**: The Declarant (or reporting country) is the country compiling and sending data to Eurostat.\n",
    "* **PARTNER and PARTNER_ISO**: The partner country is the last known country of destination for exports, the country of origin for imports from non-EU countries and the country of consignment for imports from Member States.\n",
    "* **PRODUCT_HS**: file txt CN, SITC, CPA_2002, CPA_2008, CPA_2.1, BEC or by SECTION.\n",
    "* **FLOW**: 1 import, 2 export.\n",
    "* **TRANSPORT_MODE**: file txt in the main folder\n",
    "* **PERIOD**: This code refers to the reference period.\n",
    "* **VALUE_IN_EUROS**: euros already numpy.int64.\n",
    "* **QUANTITY_IN_KG**: kg already numpy.int64."
   ]
  },
  {
   "cell_type": "code",
   "execution_count": 34,
   "id": "96c5c59b",
   "metadata": {},
   "outputs": [],
   "source": [
    "# open the ransport mode txt file\n",
    "transp_mode = pd.read_csv('our_data/TRANSPORT_MODE.txt', sep= '\\t').rename({'0':'TRANSPORT_MODE', 'Unknown':'TYPE_TRANSP_MODE'}, axis=1)\n",
    "\n",
    "# merge the dataframes\n",
    "df_hs = df_hs.merge(transp_mode, on='TRANSPORT_MODE')\n",
    "\n",
    "# create a dataframe for the flow\n",
    "flow = pd.DataFrame({'FLOW':[0,1], 'TYPE_FLOW':['import', 'export']})\n",
    "\n",
    "# merge the dataframes\n",
    "df_hs = df_hs.merge(flow, on='FLOW')\n",
    "\n",
    "# clear the period in two columns MONTH and YEAR\n",
    "df_hs['MONTH'] = df_hs['PERIOD'].apply(lambda x: str(x)[4:])\n",
    "df_hs['YEAR'] = df_hs['PERIOD'].apply(lambda x: str(x)[:4])\n",
    "\n",
    "# drop the column PERIOD\n",
    "df_hs.drop('PERIOD', axis=1, inplace=True)"
   ]
  },
  {
   "cell_type": "code",
   "execution_count": 35,
   "id": "60f41101",
   "metadata": {},
   "outputs": [],
   "source": [
    "# open the file CPA21.txt\n",
    "cpa21 = pd.read_csv('our_data/CPA21.txt', sep='\\t', header=None).rename({0:'PRODUCT_HS', 1:'PRODUCT_TYPE'}, axis=1)\n",
    "\n",
    "# merge the dataframes\n",
    "df_hs = df_hs.merge(cpa21, on='PRODUCT_HS')"
   ]
  },
  {
   "cell_type": "code",
   "execution_count": 36,
   "id": "4665dd31",
   "metadata": {},
   "outputs": [],
   "source": [
    "df_hs[df_hs['PRODUCT_HS']=='TOTAL']; # can I delete this, right?"
   ]
  },
  {
   "cell_type": "markdown",
   "id": "0d04e546",
   "metadata": {},
   "source": [
    "## Description of the columns of df_hs DataFrame"
   ]
  },
  {
   "cell_type": "markdown",
   "id": "60026d5f",
   "metadata": {},
   "source": [
    "* **CONTAINER_MODE**: "
   ]
  },
  {
   "cell_type": "code",
   "execution_count": 37,
   "id": "33abec03",
   "metadata": {},
   "outputs": [],
   "source": [
    "df_nstr = df_nstr.merge(transp_mode, on='TRANSPORT_MODE')\n",
    "\n",
    "# merge the dataframes\n",
    "df_nstr = df_nstr.merge(flow, on='FLOW')\n",
    "\n",
    "# clear the period in two columns MONTH and YEAR\n",
    "df_nstr['MONTH'] = df_nstr['PERIOD'].apply(lambda x: str(x)[4:])\n",
    "df_nstr['YEAR'] = df_nstr['PERIOD'].apply(lambda x: str(x)[:4])\n",
    "\n",
    "# drop the column PERIOD\n",
    "df_nstr.drop('PERIOD', axis=1, inplace=True)"
   ]
  },
  {
   "cell_type": "code",
   "execution_count": 38,
   "id": "d8d2a652",
   "metadata": {},
   "outputs": [],
   "source": [
    "# container\n",
    "cont = pd.read_csv('our_data/CONTAINER_MODE.txt', header=None, sep='\\t').rename({0:'CONTAINER_MODE', \n",
    "                                                                                 1:'TYPE_CONTAINER_MODE'}, axis=1)\n",
    "\n",
    "df_nstr = df_nstr.merge(cont, on='CONTAINER_MODE')"
   ]
  },
  {
   "cell_type": "code",
   "execution_count": 39,
   "id": "82e850d8",
   "metadata": {},
   "outputs": [],
   "source": [
    "# TRANSPORT_MEANS_NAT"
   ]
  },
  {
   "cell_type": "code",
   "execution_count": null,
   "id": "6d30231e",
   "metadata": {},
   "outputs": [],
   "source": []
  }
 ],
 "metadata": {
  "kernelspec": {
   "display_name": "Python 3 (ipykernel)",
   "language": "python",
   "name": "python3"
  },
  "language_info": {
   "codemirror_mode": {
    "name": "ipython",
    "version": 3
   },
   "file_extension": ".py",
   "mimetype": "text/x-python",
   "name": "python",
   "nbconvert_exporter": "python",
   "pygments_lexer": "ipython3",
   "version": "3.9.6"
  }
 },
 "nbformat": 4,
 "nbformat_minor": 5
}
