{
 "cells": [
  {
   "cell_type": "code",
   "execution_count": 1,
   "id": "cb83cc2c",
   "metadata": {},
   "outputs": [],
   "source": [
    "import glob\n",
    "import pandas as pd\n",
    "import numpy as np\n",
    "import matplotlib.pyplot as plt\n",
    "import networkx as nx\n",
    "import datetime\n",
    "import plotly.express as px\n",
    "\n",
    "pd.set_option('display.max_rows', 1000)"
   ]
  },
  {
   "cell_type": "code",
   "execution_count": 119,
   "id": "f45bf04a",
   "metadata": {},
   "outputs": [
    {
     "name": "stdout",
     "output_type": "stream",
     "text": [
      "\u001b[34mAbstract Coding-Lab\u001b[m\u001b[m\r\n",
      "Comext Open Data.ipynb\r\n",
      "\u001b[34mCountry Distance\u001b[m\u001b[m\r\n",
      "Instructions on how to use the bulkdownload facility.pdf\r\n",
      "Readme.md\r\n",
      "country_codes.csv\r\n",
      "\u001b[34mour_data\u001b[m\u001b[m\r\n",
      "total_dataframe.csv\r\n"
     ]
    }
   ],
   "source": [
    "!ls"
   ]
  },
  {
   "cell_type": "code",
   "execution_count": 120,
   "id": "623c62a2",
   "metadata": {},
   "outputs": [
    {
     "ename": "KeyboardInterrupt",
     "evalue": "",
     "output_type": "error",
     "traceback": [
      "\u001b[0;31m---------------------------------------------------------------------------\u001b[0m",
      "\u001b[0;31mKeyboardInterrupt\u001b[0m                         Traceback (most recent call last)",
      "\u001b[0;32m<timed exec>\u001b[0m in \u001b[0;36m<module>\u001b[0;34m\u001b[0m\n",
      "\u001b[0;32m/Library/Frameworks/Python.framework/Versions/3.9/lib/python3.9/site-packages/pandas/io/parsers.py\u001b[0m in \u001b[0;36mread_csv\u001b[0;34m(filepath_or_buffer, sep, delimiter, header, names, index_col, usecols, squeeze, prefix, mangle_dupe_cols, dtype, engine, converters, true_values, false_values, skipinitialspace, skiprows, skipfooter, nrows, na_values, keep_default_na, na_filter, verbose, skip_blank_lines, parse_dates, infer_datetime_format, keep_date_col, date_parser, dayfirst, cache_dates, iterator, chunksize, compression, thousands, decimal, lineterminator, quotechar, quoting, doublequote, escapechar, comment, encoding, dialect, error_bad_lines, warn_bad_lines, delim_whitespace, low_memory, memory_map, float_precision, storage_options)\u001b[0m\n\u001b[1;32m    608\u001b[0m     \u001b[0mkwds\u001b[0m\u001b[0;34m.\u001b[0m\u001b[0mupdate\u001b[0m\u001b[0;34m(\u001b[0m\u001b[0mkwds_defaults\u001b[0m\u001b[0;34m)\u001b[0m\u001b[0;34m\u001b[0m\u001b[0;34m\u001b[0m\u001b[0m\n\u001b[1;32m    609\u001b[0m \u001b[0;34m\u001b[0m\u001b[0m\n\u001b[0;32m--> 610\u001b[0;31m     \u001b[0;32mreturn\u001b[0m \u001b[0m_read\u001b[0m\u001b[0;34m(\u001b[0m\u001b[0mfilepath_or_buffer\u001b[0m\u001b[0;34m,\u001b[0m \u001b[0mkwds\u001b[0m\u001b[0;34m)\u001b[0m\u001b[0;34m\u001b[0m\u001b[0;34m\u001b[0m\u001b[0m\n\u001b[0m\u001b[1;32m    611\u001b[0m \u001b[0;34m\u001b[0m\u001b[0m\n\u001b[1;32m    612\u001b[0m \u001b[0;34m\u001b[0m\u001b[0m\n",
      "\u001b[0;32m/Library/Frameworks/Python.framework/Versions/3.9/lib/python3.9/site-packages/pandas/io/parsers.py\u001b[0m in \u001b[0;36m_read\u001b[0;34m(filepath_or_buffer, kwds)\u001b[0m\n\u001b[1;32m    466\u001b[0m \u001b[0;34m\u001b[0m\u001b[0m\n\u001b[1;32m    467\u001b[0m     \u001b[0;32mwith\u001b[0m \u001b[0mparser\u001b[0m\u001b[0;34m:\u001b[0m\u001b[0;34m\u001b[0m\u001b[0;34m\u001b[0m\u001b[0m\n\u001b[0;32m--> 468\u001b[0;31m         \u001b[0;32mreturn\u001b[0m \u001b[0mparser\u001b[0m\u001b[0;34m.\u001b[0m\u001b[0mread\u001b[0m\u001b[0;34m(\u001b[0m\u001b[0mnrows\u001b[0m\u001b[0;34m)\u001b[0m\u001b[0;34m\u001b[0m\u001b[0;34m\u001b[0m\u001b[0m\n\u001b[0m\u001b[1;32m    469\u001b[0m \u001b[0;34m\u001b[0m\u001b[0m\n\u001b[1;32m    470\u001b[0m \u001b[0;34m\u001b[0m\u001b[0m\n",
      "\u001b[0;32m/Library/Frameworks/Python.framework/Versions/3.9/lib/python3.9/site-packages/pandas/io/parsers.py\u001b[0m in \u001b[0;36mread\u001b[0;34m(self, nrows)\u001b[0m\n\u001b[1;32m   1055\u001b[0m     \u001b[0;32mdef\u001b[0m \u001b[0mread\u001b[0m\u001b[0;34m(\u001b[0m\u001b[0mself\u001b[0m\u001b[0;34m,\u001b[0m \u001b[0mnrows\u001b[0m\u001b[0;34m=\u001b[0m\u001b[0;32mNone\u001b[0m\u001b[0;34m)\u001b[0m\u001b[0;34m:\u001b[0m\u001b[0;34m\u001b[0m\u001b[0;34m\u001b[0m\u001b[0m\n\u001b[1;32m   1056\u001b[0m         \u001b[0mnrows\u001b[0m \u001b[0;34m=\u001b[0m \u001b[0mvalidate_integer\u001b[0m\u001b[0;34m(\u001b[0m\u001b[0;34m\"nrows\"\u001b[0m\u001b[0;34m,\u001b[0m \u001b[0mnrows\u001b[0m\u001b[0;34m)\u001b[0m\u001b[0;34m\u001b[0m\u001b[0;34m\u001b[0m\u001b[0m\n\u001b[0;32m-> 1057\u001b[0;31m         \u001b[0mindex\u001b[0m\u001b[0;34m,\u001b[0m \u001b[0mcolumns\u001b[0m\u001b[0;34m,\u001b[0m \u001b[0mcol_dict\u001b[0m \u001b[0;34m=\u001b[0m \u001b[0mself\u001b[0m\u001b[0;34m.\u001b[0m\u001b[0m_engine\u001b[0m\u001b[0;34m.\u001b[0m\u001b[0mread\u001b[0m\u001b[0;34m(\u001b[0m\u001b[0mnrows\u001b[0m\u001b[0;34m)\u001b[0m\u001b[0;34m\u001b[0m\u001b[0;34m\u001b[0m\u001b[0m\n\u001b[0m\u001b[1;32m   1058\u001b[0m \u001b[0;34m\u001b[0m\u001b[0m\n\u001b[1;32m   1059\u001b[0m         \u001b[0;32mif\u001b[0m \u001b[0mindex\u001b[0m \u001b[0;32mis\u001b[0m \u001b[0;32mNone\u001b[0m\u001b[0;34m:\u001b[0m\u001b[0;34m\u001b[0m\u001b[0;34m\u001b[0m\u001b[0m\n",
      "\u001b[0;32m/Library/Frameworks/Python.framework/Versions/3.9/lib/python3.9/site-packages/pandas/io/parsers.py\u001b[0m in \u001b[0;36mread\u001b[0;34m(self, nrows)\u001b[0m\n\u001b[1;32m   2034\u001b[0m     \u001b[0;32mdef\u001b[0m \u001b[0mread\u001b[0m\u001b[0;34m(\u001b[0m\u001b[0mself\u001b[0m\u001b[0;34m,\u001b[0m \u001b[0mnrows\u001b[0m\u001b[0;34m=\u001b[0m\u001b[0;32mNone\u001b[0m\u001b[0;34m)\u001b[0m\u001b[0;34m:\u001b[0m\u001b[0;34m\u001b[0m\u001b[0;34m\u001b[0m\u001b[0m\n\u001b[1;32m   2035\u001b[0m         \u001b[0;32mtry\u001b[0m\u001b[0;34m:\u001b[0m\u001b[0;34m\u001b[0m\u001b[0;34m\u001b[0m\u001b[0m\n\u001b[0;32m-> 2036\u001b[0;31m             \u001b[0mdata\u001b[0m \u001b[0;34m=\u001b[0m \u001b[0mself\u001b[0m\u001b[0;34m.\u001b[0m\u001b[0m_reader\u001b[0m\u001b[0;34m.\u001b[0m\u001b[0mread\u001b[0m\u001b[0;34m(\u001b[0m\u001b[0mnrows\u001b[0m\u001b[0;34m)\u001b[0m\u001b[0;34m\u001b[0m\u001b[0;34m\u001b[0m\u001b[0m\n\u001b[0m\u001b[1;32m   2037\u001b[0m         \u001b[0;32mexcept\u001b[0m \u001b[0mStopIteration\u001b[0m\u001b[0;34m:\u001b[0m\u001b[0;34m\u001b[0m\u001b[0;34m\u001b[0m\u001b[0m\n\u001b[1;32m   2038\u001b[0m             \u001b[0;32mif\u001b[0m \u001b[0mself\u001b[0m\u001b[0;34m.\u001b[0m\u001b[0m_first_chunk\u001b[0m\u001b[0;34m:\u001b[0m\u001b[0;34m\u001b[0m\u001b[0;34m\u001b[0m\u001b[0m\n",
      "\u001b[0;32mpandas/_libs/parsers.pyx\u001b[0m in \u001b[0;36mpandas._libs.parsers.TextReader.read\u001b[0;34m()\u001b[0m\n",
      "\u001b[0;32mpandas/_libs/parsers.pyx\u001b[0m in \u001b[0;36mpandas._libs.parsers.TextReader._read_low_memory\u001b[0;34m()\u001b[0m\n",
      "\u001b[0;32mpandas/_libs/parsers.pyx\u001b[0m in \u001b[0;36mpandas._libs.parsers.TextReader._read_rows\u001b[0;34m()\u001b[0m\n",
      "\u001b[0;32mpandas/_libs/parsers.pyx\u001b[0m in \u001b[0;36mpandas._libs.parsers.TextReader._convert_column_data\u001b[0;34m()\u001b[0m\n",
      "\u001b[0;32mpandas/_libs/parsers.pyx\u001b[0m in \u001b[0;36mpandas._libs.parsers.TextReader._convert_tokens\u001b[0;34m()\u001b[0m\n",
      "\u001b[0;32mpandas/_libs/parsers.pyx\u001b[0m in \u001b[0;36mpandas._libs.parsers.TextReader._convert_with_dtype\u001b[0;34m()\u001b[0m\n",
      "\u001b[0;32m/Library/Frameworks/Python.framework/Versions/3.9/lib/python3.9/site-packages/pandas/core/dtypes/common.py\u001b[0m in \u001b[0;36mis_categorical_dtype\u001b[0;34m(arr_or_dtype)\u001b[0m\n\u001b[1;32m    535\u001b[0m \u001b[0;34m\u001b[0m\u001b[0m\n\u001b[1;32m    536\u001b[0m \u001b[0;34m\u001b[0m\u001b[0m\n\u001b[0;32m--> 537\u001b[0;31m \u001b[0;32mdef\u001b[0m \u001b[0mis_categorical_dtype\u001b[0m\u001b[0;34m(\u001b[0m\u001b[0marr_or_dtype\u001b[0m\u001b[0;34m)\u001b[0m \u001b[0;34m->\u001b[0m \u001b[0mbool\u001b[0m\u001b[0;34m:\u001b[0m\u001b[0;34m\u001b[0m\u001b[0;34m\u001b[0m\u001b[0m\n\u001b[0m\u001b[1;32m    538\u001b[0m     \"\"\"\n\u001b[1;32m    539\u001b[0m     \u001b[0mCheck\u001b[0m \u001b[0mwhether\u001b[0m \u001b[0man\u001b[0m \u001b[0marray\u001b[0m\u001b[0;34m-\u001b[0m\u001b[0mlike\u001b[0m \u001b[0;32mor\u001b[0m \u001b[0mdtype\u001b[0m \u001b[0;32mis\u001b[0m \u001b[0mof\u001b[0m \u001b[0mthe\u001b[0m \u001b[0mCategorical\u001b[0m \u001b[0mdtype\u001b[0m\u001b[0;34m.\u001b[0m\u001b[0;34m\u001b[0m\u001b[0;34m\u001b[0m\u001b[0m\n",
      "\u001b[0;31mKeyboardInterrupt\u001b[0m: "
     ]
    }
   ],
   "source": [
    "%%time\n",
    "main_dir = 'our_data/'\n",
    "\n",
    "path_hs = main_dir + 'transportation_hs'\n",
    "all_hs = glob.glob(path_hs + \"/*.dat\")\n",
    "\n",
    "list_df_hs = []\n",
    "\n",
    "for filename in all_hs:\n",
    "    df_tmp_hs = pd.read_csv(filename, index_col=None, header=0)\n",
    "    list_df_hs.append(df_tmp_hs)\n",
    "\n",
    "df_hs = pd.concat(list_df_hs, axis=0, ignore_index=True)\n",
    "\n",
    "path_nstr = main_dir + 'transportation_nstr'\n",
    "all_nstr = glob.glob(path_nstr + \"/*.dat\")\n",
    "\n",
    "list_df_nstr = []\n",
    "\n",
    "for filename in all_nstr:\n",
    "    df_tmp_nstr = pd.read_csv(filename, index_col=None, header=0)\n",
    "    list_df_nstr.append(df_tmp_nstr)\n",
    "\n",
    "df_nstr = pd.concat(list_df_nstr, axis=0, ignore_index=True)"
   ]
  },
  {
   "cell_type": "markdown",
   "id": "bfd52f8c",
   "metadata": {},
   "source": [
    "# DataFrames"
   ]
  },
  {
   "cell_type": "markdown",
   "id": "5a346315",
   "metadata": {},
   "source": [
    "## Description of the columns of df_hs DataFrame"
   ]
  },
  {
   "cell_type": "markdown",
   "id": "f52f8dc4",
   "metadata": {},
   "source": [
    "* **DECLARANT and DECLARANT_ISO**: The Declarant (or reporting country) is the country compiling and sending data to Eurostat.\n",
    "* **PARTNER and PARTNER_ISO**: The partner country is the last known country of destination for exports, the country of origin for imports from non-EU countries and the country of consignment for imports from Member States.\n",
    "* **PRODUCT_HS**: file txt CN, SITC, CPA_2002, CPA_2008, CPA_2.1, BEC or by SECTION.\n",
    "* **FLOW**: 1 import, 2 export.\n",
    "* **TRANSPORT_MODE**: file txt in the main folder\n",
    "* **PERIOD**: This code refers to the reference period.\n",
    "* **VALUE_IN_EUROS**: euros already numpy.int64.\n",
    "* **QUANTITY_IN_KG**: kg already numpy.int64."
   ]
  },
  {
   "cell_type": "code",
   "execution_count": 121,
   "id": "96c5c59b",
   "metadata": {},
   "outputs": [
    {
     "ename": "NameError",
     "evalue": "name 'df_hs' is not defined",
     "output_type": "error",
     "traceback": [
      "\u001b[0;31m---------------------------------------------------------------------------\u001b[0m",
      "\u001b[0;31mNameError\u001b[0m                                 Traceback (most recent call last)",
      "\u001b[0;32m/var/folders/t9/vr67y8ks78j5l01gbt3xly7w0000gn/T/ipykernel_4243/280992134.py\u001b[0m in \u001b[0;36m<module>\u001b[0;34m\u001b[0m\n\u001b[1;32m      3\u001b[0m \u001b[0;34m\u001b[0m\u001b[0m\n\u001b[1;32m      4\u001b[0m \u001b[0;31m# merge the dataframes\u001b[0m\u001b[0;34m\u001b[0m\u001b[0;34m\u001b[0m\u001b[0;34m\u001b[0m\u001b[0m\n\u001b[0;32m----> 5\u001b[0;31m \u001b[0mdf_hs\u001b[0m \u001b[0;34m=\u001b[0m \u001b[0mdf_hs\u001b[0m\u001b[0;34m.\u001b[0m\u001b[0mmerge\u001b[0m\u001b[0;34m(\u001b[0m\u001b[0mtransp_mode\u001b[0m\u001b[0;34m,\u001b[0m \u001b[0mon\u001b[0m\u001b[0;34m=\u001b[0m\u001b[0;34m'TRANSPORT_MODE'\u001b[0m\u001b[0;34m)\u001b[0m\u001b[0;34m\u001b[0m\u001b[0;34m\u001b[0m\u001b[0m\n\u001b[0m\u001b[1;32m      6\u001b[0m \u001b[0;34m\u001b[0m\u001b[0m\n\u001b[1;32m      7\u001b[0m \u001b[0;31m# create a dataframe for the flow\u001b[0m\u001b[0;34m\u001b[0m\u001b[0;34m\u001b[0m\u001b[0;34m\u001b[0m\u001b[0m\n",
      "\u001b[0;31mNameError\u001b[0m: name 'df_hs' is not defined"
     ]
    }
   ],
   "source": [
    "# open the ransport mode txt file\n",
    "transp_mode = pd.read_csv('our_data/TRANSPORT_MODE.txt', sep= '\\t').rename({'0':'TRANSPORT_MODE', 'Unknown':'TYPE_TRANSP_MODE'}, axis=1)\n",
    "\n",
    "# merge the dataframes\n",
    "df_hs = df_hs.merge(transp_mode, on='TRANSPORT_MODE')\n",
    "\n",
    "# create a dataframe for the flow\n",
    "flow = pd.DataFrame({'FLOW':[1,2], 'TYPE_FLOW':['import', 'export']})\n",
    "\n",
    "# merge the dataframes\n",
    "df_hs = df_hs.merge(flow, on='FLOW')\n",
    "\n",
    "# clear the period in two columns MONTH and YEAR\n",
    "df_hs['MONTH'] = df_hs['PERIOD'].apply(lambda x: str(x)[4:])\n",
    "df_hs['YEAR'] = df_hs['PERIOD'].apply(lambda x: str(x)[:4])\n",
    "\n",
    "# drop the column PERIOD\n",
    "df_hs.drop('PERIOD', axis=1, inplace=True)"
   ]
  },
  {
   "cell_type": "code",
   "execution_count": null,
   "id": "4665dd31",
   "metadata": {},
   "outputs": [],
   "source": [
    "df_hs[df_hs['PRODUCT_HS']=='TOTAL']; # can I delete this, right?"
   ]
  },
  {
   "cell_type": "markdown",
   "id": "0d04e546",
   "metadata": {},
   "source": [
    "## Description of the columns of df_hs DataFrame"
   ]
  },
  {
   "cell_type": "code",
   "execution_count": null,
   "id": "33abec03",
   "metadata": {},
   "outputs": [],
   "source": [
    "df_nstr = df_nstr.merge(transp_mode, on='TRANSPORT_MODE')\n",
    "\n",
    "# merge the dataframes\n",
    "df_nstr = df_nstr.merge(flow, on='FLOW')\n",
    "\n",
    "# clear the period in two columns MONTH and YEAR\n",
    "df_nstr['MONTH'] = df_nstr['PERIOD'].apply(lambda x: str(x)[4:])\n",
    "df_nstr['YEAR'] = df_nstr['PERIOD'].apply(lambda x: str(x)[:4])\n",
    "\n",
    "# drop the column PERIOD\n",
    "df_nstr.drop('PERIOD', axis=1, inplace=True)"
   ]
  },
  {
   "cell_type": "code",
   "execution_count": null,
   "id": "d8d2a652",
   "metadata": {},
   "outputs": [],
   "source": [
    "# container\n",
    "cont = pd.read_csv('our_data/CONTAINER_MODE.txt', header=None, sep='\\t').rename({0:'CONTAINER_MODE', \n",
    "                                                                                 1:'TYPE_CONTAINER_MODE'}, axis=1)\n",
    "\n",
    "df_nstr = df_nstr.merge(cont, on='CONTAINER_MODE')"
   ]
  },
  {
   "cell_type": "code",
   "execution_count": null,
   "id": "c5b4368c",
   "metadata": {},
   "outputs": [],
   "source": [
    "df_nstr.head()"
   ]
  },
  {
   "cell_type": "markdown",
   "id": "f3e89c56",
   "metadata": {},
   "source": [
    "# Merging of the two dataframes"
   ]
  },
  {
   "cell_type": "code",
   "execution_count": null,
   "id": "3e7b5a27",
   "metadata": {},
   "outputs": [],
   "source": [
    "df_hs['PRODUCT_TYPE'] = 'HS'\n",
    "df_nstr['PRODUCT_TYPE'] = 'NSTR'\n",
    "\n",
    "df_hs = df_hs.rename({'PRODUCT_HS': 'PRODUCT_CODE'}, axis=1)\n",
    "df_nstr = df_nstr.rename({'PRODUCT_NSTR': 'PRODUCT_CODE'}, axis=1)\n",
    "\n",
    "df_tot = df_hs.append(df_nstr, ignore_index=True).drop(['CONTAINER_MODE', 'TRANSPORT_MEANS_NAT', 'TYPE_CONTAINER_MODE'], axis=1)\n",
    "\n",
    "df_tot;"
   ]
  },
  {
   "cell_type": "code",
   "execution_count": null,
   "id": "b21e20f9",
   "metadata": {},
   "outputs": [],
   "source": [
    "index_del = df_tot[df_tot['PRODUCT_CODE']=='TOT'].index.union(df_tot[df_tot['PRODUCT_CODE']=='TOTAL'].index)\n",
    "df_tot = df_tot.drop(index_del, axis=0).reset_index(drop=True)"
   ]
  },
  {
   "cell_type": "code",
   "execution_count": null,
   "id": "3dbdd592",
   "metadata": {},
   "outputs": [],
   "source": [
    "df_tot = df_tot.sort_values(by=['YEAR', 'MONTH']).reset_index(drop=True)"
   ]
  },
  {
   "cell_type": "code",
   "execution_count": null,
   "id": "aab3cfcf",
   "metadata": {},
   "outputs": [],
   "source": [
    "df_tot = df_tot.dropna(how='any')"
   ]
  },
  {
   "cell_type": "markdown",
   "id": "069378ac",
   "metadata": {},
   "source": [
    "## Distance"
   ]
  },
  {
   "cell_type": "code",
   "execution_count": null,
   "id": "aedbf353",
   "metadata": {},
   "outputs": [],
   "source": [
    "distance_df = pd.read_csv('Country Distance/distance.csv').sort_values(by='InputID').reset_index(drop=True)\n",
    "distance_df['InputID'] = distance_df['InputID'].apply(lambda x: x.replace(' ', ''))\n",
    "distance_df['TargetID'] = distance_df['TargetID'].apply(lambda x: x.replace(' ', ''))\n",
    "distance_df.head()"
   ]
  },
  {
   "cell_type": "code",
   "execution_count": null,
   "id": "4dfac574-cc8c-4b01-aef2-fba5cd18cfbf",
   "metadata": {},
   "outputs": [],
   "source": [
    "ccode_df = pd.read_csv('country_codes.csv')\n",
    "ccode_df.head();"
   ]
  },
  {
   "cell_type": "code",
   "execution_count": null,
   "id": "8a3511e5-4e63-4211-8a50-bfb3e4220bce",
   "metadata": {},
   "outputs": [],
   "source": [
    "map_dict = pd.Series(ccode_df.iloc[:,1].values,index= ccode_df.iloc[:,2]).to_dict()"
   ]
  },
  {
   "cell_type": "code",
   "execution_count": 16,
   "id": "ea8528e5-c873-4047-b6c9-ac22af50aaae",
   "metadata": {},
   "outputs": [
    {
     "data": {
      "text/html": [
       "<div>\n",
       "<style scoped>\n",
       "    .dataframe tbody tr th:only-of-type {\n",
       "        vertical-align: middle;\n",
       "    }\n",
       "\n",
       "    .dataframe tbody tr th {\n",
       "        vertical-align: top;\n",
       "    }\n",
       "\n",
       "    .dataframe thead th {\n",
       "        text-align: right;\n",
       "    }\n",
       "</style>\n",
       "<table border=\"1\" class=\"dataframe\">\n",
       "  <thead>\n",
       "    <tr style=\"text-align: right;\">\n",
       "      <th></th>\n",
       "      <th>InputID</th>\n",
       "      <th>TargetID</th>\n",
       "      <th>Distance</th>\n",
       "    </tr>\n",
       "  </thead>\n",
       "  <tbody>\n",
       "    <tr>\n",
       "      <th>0</th>\n",
       "      <td>AW</td>\n",
       "      <td>ZW</td>\n",
       "      <td>1.151116e+07</td>\n",
       "    </tr>\n",
       "    <tr>\n",
       "      <th>1</th>\n",
       "      <td>AW</td>\n",
       "      <td>NI</td>\n",
       "      <td>1.633202e+06</td>\n",
       "    </tr>\n",
       "    <tr>\n",
       "      <th>2</th>\n",
       "      <td>AW</td>\n",
       "      <td>NE</td>\n",
       "      <td>8.373634e+06</td>\n",
       "    </tr>\n",
       "    <tr>\n",
       "      <th>3</th>\n",
       "      <td>AW</td>\n",
       "      <td>NG</td>\n",
       "      <td>8.486833e+06</td>\n",
       "    </tr>\n",
       "    <tr>\n",
       "      <th>4</th>\n",
       "      <td>AW</td>\n",
       "      <td>NU</td>\n",
       "      <td>1.148822e+07</td>\n",
       "    </tr>\n",
       "  </tbody>\n",
       "</table>\n",
       "</div>"
      ],
      "text/plain": [
       "  InputID TargetID      Distance\n",
       "0      AW       ZW  1.151116e+07\n",
       "1      AW       NI  1.633202e+06\n",
       "2      AW       NE  8.373634e+06\n",
       "3      AW       NG  8.486833e+06\n",
       "4      AW       NU  1.148822e+07"
      ]
     },
     "execution_count": 16,
     "metadata": {},
     "output_type": "execute_result"
    }
   ],
   "source": [
    "distance_df.replace({\"InputID\":map_dict,\"TargetID\":map_dict},inplace=True)\n",
    "distance_df.head()"
   ]
  },
  {
   "cell_type": "code",
   "execution_count": 17,
   "id": "b65e5237",
   "metadata": {},
   "outputs": [],
   "source": [
    "distance_df = distance_df.rename({'InputID':'DECLARANT_ISO', 'TargetID':'PARTNER_ISO'}, axis=1)\n",
    "df_tot = df_tot.merge(distance_df, on=['DECLARANT_ISO', 'PARTNER_ISO'])"
   ]
  },
  {
   "cell_type": "code",
   "execution_count": 18,
   "id": "38341c38",
   "metadata": {},
   "outputs": [],
   "source": [
    "df_tot.to_csv('total_dataframe.csv')"
   ]
  },
  {
   "cell_type": "markdown",
   "id": "cc014e9f",
   "metadata": {},
   "source": [
    "# Start from Here!!! (if you have the file)"
   ]
  },
  {
   "cell_type": "code",
   "execution_count": 2,
   "id": "5e17735b-8aac-430b-927c-301741060053",
   "metadata": {},
   "outputs": [],
   "source": [
    "import os\n",
    "os.chdir('C:\\\\Users\\\\Arsalan Khateeb\\\\Coding_Lab\\\\sta-py')"
   ]
  },
  {
   "cell_type": "code",
   "execution_count": 2,
   "id": "36eb5101",
   "metadata": {},
   "outputs": [
    {
     "name": "stderr",
     "output_type": "stream",
     "text": [
      "/Library/Frameworks/Python.framework/Versions/3.9/lib/python3.9/site-packages/IPython/core/interactiveshell.py:3169: DtypeWarning: Columns (5) have mixed types.Specify dtype option on import or set low_memory=False.\n",
      "  has_raised = await self.run_ast_nodes(code_ast.body, cell_name,\n"
     ]
    }
   ],
   "source": [
    "# read total dataframe\n",
    "\n",
    "df_tot = pd.read_csv('total_dataframe.csv').drop('Unnamed: 0', axis=1)"
   ]
  },
  {
   "cell_type": "code",
   "execution_count": 3,
   "id": "ba9c4513",
   "metadata": {},
   "outputs": [],
   "source": [
    "# take the mean to the value of fuel\n",
    "# scarse res.\n",
    "# transoform the fuel in pollution\n",
    "# Mi = Vmix *Qi*kH *Ci *10-6 /Ds\n",
    "# type of fuel (sea, road, ...) some data "
   ]
  },
  {
   "cell_type": "code",
   "execution_count": 4,
   "id": "469b758f",
   "metadata": {},
   "outputs": [],
   "source": [
    "# one layout for the graph\n",
    "# spring layout\n",
    "# export quantity and cut-off (treshold)\n",
    "# local and global measure for greenness"
   ]
  },
  {
   "cell_type": "markdown",
   "id": "a5813177",
   "metadata": {},
   "source": [
    "- first step greenness and visualize and study of artcile about scc\n",
    "- implementing a meaning for scc about world trande"
   ]
  },
  {
   "cell_type": "code",
   "execution_count": 5,
   "id": "5237c6e4",
   "metadata": {},
   "outputs": [],
   "source": [
    "df_tot['NT'] = 1"
   ]
  },
  {
   "cell_type": "markdown",
   "id": "1fa6771b",
   "metadata": {},
   "source": [
    "# Graph"
   ]
  },
  {
   "cell_type": "code",
   "execution_count": 6,
   "id": "41786896",
   "metadata": {},
   "outputs": [],
   "source": [
    "df_tot;"
   ]
  },
  {
   "cell_type": "code",
   "execution_count": 7,
   "id": "fbf4dc3d",
   "metadata": {},
   "outputs": [],
   "source": [
    "# df_group = df_tot[['DECLARANT_ISO','PARTNER_ISO', 'VALUE_IN_EUROS', 'QUANTITY_IN_KG', 'Distance']].groupby(['DECLARANT_ISO', 'PARTNER_ISO']).sum().reset_index()\n",
    "# df_group = df_group.merge(distance_df, on=['DECLARANT_ISO', 'PARTNER_ISO'])"
   ]
  },
  {
   "cell_type": "code",
   "execution_count": 8,
   "id": "8dc2550c",
   "metadata": {},
   "outputs": [],
   "source": [
    "# graph construction\n",
    "ser_nodes = df_tot['DECLARANT_ISO'].append(df_tot['PARTNER_ISO'])\n",
    "nodes = ser_nodes.unique()"
   ]
  },
  {
   "cell_type": "code",
   "execution_count": 9,
   "id": "9a21a131",
   "metadata": {},
   "outputs": [],
   "source": [
    "df_edges = df_tot[['DECLARANT_ISO', 'PARTNER_ISO', 'Distance']]\n",
    "tuple_edges = [tuple(r) for r in df_edges.to_numpy()]"
   ]
  },
  {
   "cell_type": "code",
   "execution_count": 10,
   "id": "0e86aa36",
   "metadata": {},
   "outputs": [],
   "source": [
    "# init graph\n",
    "G = nx.DiGraph()"
   ]
  },
  {
   "cell_type": "code",
   "execution_count": 11,
   "id": "50cc296e",
   "metadata": {},
   "outputs": [],
   "source": [
    "G.add_nodes_from(nodes)\n",
    "G.add_weighted_edges_from(tuple_edges)"
   ]
  },
  {
   "cell_type": "code",
   "execution_count": 12,
   "id": "5eb86796",
   "metadata": {},
   "outputs": [],
   "source": [
    "# by time\n",
    "\n",
    "def timeTresh_graph(df, month, year, t=1, q=None):\n",
    "    '''\n",
    "    The treshold (t) is between 0 and 1\n",
    "    q is the quantity to apply tresh:\n",
    "        'euro' for euro\n",
    "        'kg' for quantity in kg\n",
    "    '''\n",
    "    \n",
    "    G = nx.DiGraph()\n",
    "    \n",
    "    # nodes by time\n",
    "    # df_tot_time = df[(df['YEAR'] == year) & (df['MONTH'] == month)]\n",
    "    df_tot_time = df\n",
    "    \n",
    "    # perc\n",
    "    df_tot_time['VALUE_IN_EUROS'] = df_tot_time['VALUE_IN_EUROS'].apply(lambda x: x/sum(df_tot_time['VALUE_IN_EUROS']))\n",
    "    df_tot_time['QUANTITY_IN_KG'] = df_tot_time['QUANTITY_IN_KG'].apply(lambda x: x/sum(df_tot_time['QUANTITY_IN_KG']))\n",
    "\n",
    "    if q == 'euro':\n",
    "        df_tot_time = df_tot_time[['DECLARANT_ISO', 'PARTNER_ISO', 'VALUE_IN_EUROS']]\n",
    "        df_tot_time = df_tot_time[df_tot_time['VALUE_IN_EUROS']>=t]\n",
    "    else:\n",
    "        df_tot_time = df_tot_time[['DECLARANT_ISO', 'PARTNER_ISO', 'QUANTITY_IN_KG']]\n",
    "        df_tot_time = df_tot_time[df_tot_time['QUANTITY_IN_KG']<=t]\n",
    "    \n",
    "    ser_nodes = df_tot_time['DECLARANT_ISO'].append(df_tot_time['PARTNER_ISO'])\n",
    "    nodes = ser_nodes.unique()\n",
    "    \n",
    "    # edges by time\n",
    "    df_edges = df_tot_time[['DECLARANT_ISO', 'PARTNER_ISO']]\n",
    "    tuple_edges = [tuple(r) for r in df_edges.to_numpy()]\n",
    "    \n",
    "    G.add_nodes_from(nodes)\n",
    "    G.add_edges_from(tuple_edges) # add weight \n",
    "\n",
    "    return G"
   ]
  },
  {
   "cell_type": "code",
   "execution_count": 13,
   "id": "3a7cbb29",
   "metadata": {},
   "outputs": [],
   "source": [
    "# plt.figure(figsize=(70,40))\n",
    "# nx.draw(G);"
   ]
  },
  {
   "cell_type": "code",
   "execution_count": 14,
   "id": "ae69c983",
   "metadata": {},
   "outputs": [],
   "source": [
    "# plt.figure(figsize=(70,40))\n",
    "# nx.draw(timeTresh_graph(df_group, '02', '2020', t = 0.6, q = 'euro'));"
   ]
  },
  {
   "cell_type": "code",
   "execution_count": 15,
   "id": "43a32e26",
   "metadata": {},
   "outputs": [],
   "source": [
    "# perc\n",
    "df_tot_filter = df_tot[['DECLARANT_ISO', 'PARTNER_ISO', 'Distance', 'VALUE_IN_EUROS']]"
   ]
  },
  {
   "cell_type": "code",
   "execution_count": 16,
   "id": "d91628c7",
   "metadata": {},
   "outputs": [],
   "source": [
    "df_tot_filter = df_tot_filter[df_tot_filter['VALUE_IN_EUROS'] >= 1700000000]\n",
    "df_tot_filter;"
   ]
  },
  {
   "cell_type": "code",
   "execution_count": 17,
   "id": "be461a3e",
   "metadata": {},
   "outputs": [
    {
     "data": {
      "text/plain": [
       "<Figure size 720x504 with 0 Axes>"
      ]
     },
     "metadata": {},
     "output_type": "display_data"
    }
   ],
   "source": [
    "plt.figure(figsize=(10,7))\n",
    "Gt = nx.Graph()\n",
    "ser_nodes = df_tot_filter['DECLARANT_ISO'].append(df_tot_filter['PARTNER_ISO'])\n",
    "nodes = ser_nodes.unique()\n",
    "\n",
    "# edges by time\n",
    "df_edges = df_tot_filter[['DECLARANT_ISO', 'PARTNER_ISO', 'Distance']]\n",
    "tuple_edges = [tuple(r) for r in df_edges.to_numpy()]\n",
    "\n",
    "Gt.add_nodes_from(nodes)\n",
    "Gt.add_weighted_edges_from(tuple_edges)  \n",
    "# nx.draw(Gt, with_labels=True, node_size=600, node_color='orange')\n",
    "\n",
    "# edges difference between import and export"
   ]
  },
  {
   "cell_type": "code",
   "execution_count": 18,
   "id": "77e10afb",
   "metadata": {},
   "outputs": [],
   "source": [
    "# how to choice treshold for the values? \n",
    "# percentage or absolute value?\n",
    "# 35L for 100 km"
   ]
  },
  {
   "cell_type": "code",
   "execution_count": 19,
   "id": "ecb9eda6",
   "metadata": {},
   "outputs": [
    {
     "data": {
      "text/plain": [
       "array(['Road', 'Air', 'Post', 'Sea', 'Rail', 'Self Propulsion',\n",
       "       'Inland Waterway', 'Fixed Mechanism'], dtype=object)"
      ]
     },
     "execution_count": 19,
     "metadata": {},
     "output_type": "execute_result"
    }
   ],
   "source": [
    "df_tot['TYPE_TRANSP_MODE'].unique()\n",
    "\n",
    "# Road, Air, Sea, Rail are the most important (for us)"
   ]
  },
  {
   "cell_type": "markdown",
   "id": "5c04e47e",
   "metadata": {},
   "source": [
    "# Continue Algorithm"
   ]
  },
  {
   "cell_type": "code",
   "execution_count": 20,
   "id": "0f0ca941",
   "metadata": {},
   "outputs": [],
   "source": [
    "# import export\n",
    "# mesi/anno\n",
    "# cosa? ma questo lo vediamo più tardi\n",
    "# il tipo di trasporto?\n",
    "# trashold euro/kg"
   ]
  },
  {
   "cell_type": "code",
   "execution_count": 21,
   "id": "74045dae",
   "metadata": {},
   "outputs": [],
   "source": [
    "# start with teh import/export\n",
    "# import\n",
    "df_import = df_tot[df_tot['TYPE_FLOW']=='import'].reset_index(drop=True)\n",
    "# export\n",
    "df_export = df_tot[df_tot['TYPE_FLOW']=='export'].reset_index(drop=True)"
   ]
  },
  {
   "cell_type": "code",
   "execution_count": 22,
   "id": "ddcd7c39",
   "metadata": {},
   "outputs": [
    {
     "data": {
      "text/html": [
       "<div>\n",
       "<style scoped>\n",
       "    .dataframe tbody tr th:only-of-type {\n",
       "        vertical-align: middle;\n",
       "    }\n",
       "\n",
       "    .dataframe tbody tr th {\n",
       "        vertical-align: top;\n",
       "    }\n",
       "\n",
       "    .dataframe thead th {\n",
       "        text-align: right;\n",
       "    }\n",
       "</style>\n",
       "<table border=\"1\" class=\"dataframe\">\n",
       "  <thead>\n",
       "    <tr style=\"text-align: right;\">\n",
       "      <th></th>\n",
       "      <th>DECLARANT</th>\n",
       "      <th>DECLARANT_ISO</th>\n",
       "      <th>PARTNER</th>\n",
       "      <th>PARTNER_ISO</th>\n",
       "      <th>PRODUCT_CODE</th>\n",
       "      <th>FLOW</th>\n",
       "      <th>TRANSPORT_MODE</th>\n",
       "      <th>VALUE_IN_EUROS</th>\n",
       "      <th>QUANTITY_IN_KG</th>\n",
       "      <th>TYPE_TRANSP_MODE</th>\n",
       "      <th>TYPE_FLOW</th>\n",
       "      <th>MONTH</th>\n",
       "      <th>YEAR</th>\n",
       "      <th>PRODUCT_TYPE</th>\n",
       "      <th>Distance</th>\n",
       "      <th>NT</th>\n",
       "    </tr>\n",
       "  </thead>\n",
       "  <tbody>\n",
       "    <tr>\n",
       "      <th>0</th>\n",
       "      <td>1</td>\n",
       "      <td>FR</td>\n",
       "      <td>24</td>\n",
       "      <td>IS</td>\n",
       "      <td>210690</td>\n",
       "      <td>1</td>\n",
       "      <td>3</td>\n",
       "      <td>203</td>\n",
       "      <td>0</td>\n",
       "      <td>Road</td>\n",
       "      <td>import</td>\n",
       "      <td>1</td>\n",
       "      <td>2019</td>\n",
       "      <td>HS</td>\n",
       "      <td>2.439785e+06</td>\n",
       "      <td>1</td>\n",
       "    </tr>\n",
       "    <tr>\n",
       "      <th>1</th>\n",
       "      <td>1</td>\n",
       "      <td>FR</td>\n",
       "      <td>24</td>\n",
       "      <td>IS</td>\n",
       "      <td>220110</td>\n",
       "      <td>1</td>\n",
       "      <td>3</td>\n",
       "      <td>6826</td>\n",
       "      <td>19200</td>\n",
       "      <td>Road</td>\n",
       "      <td>import</td>\n",
       "      <td>1</td>\n",
       "      <td>2019</td>\n",
       "      <td>HS</td>\n",
       "      <td>2.439785e+06</td>\n",
       "      <td>1</td>\n",
       "    </tr>\n",
       "    <tr>\n",
       "      <th>2</th>\n",
       "      <td>1</td>\n",
       "      <td>FR</td>\n",
       "      <td>24</td>\n",
       "      <td>IS</td>\n",
       "      <td>392690</td>\n",
       "      <td>1</td>\n",
       "      <td>3</td>\n",
       "      <td>140</td>\n",
       "      <td>0</td>\n",
       "      <td>Road</td>\n",
       "      <td>import</td>\n",
       "      <td>1</td>\n",
       "      <td>2019</td>\n",
       "      <td>HS</td>\n",
       "      <td>2.439785e+06</td>\n",
       "      <td>1</td>\n",
       "    </tr>\n",
       "    <tr>\n",
       "      <th>3</th>\n",
       "      <td>1</td>\n",
       "      <td>FR</td>\n",
       "      <td>24</td>\n",
       "      <td>IS</td>\n",
       "      <td>420299</td>\n",
       "      <td>1</td>\n",
       "      <td>3</td>\n",
       "      <td>129</td>\n",
       "      <td>0</td>\n",
       "      <td>Road</td>\n",
       "      <td>import</td>\n",
       "      <td>1</td>\n",
       "      <td>2019</td>\n",
       "      <td>HS</td>\n",
       "      <td>2.439785e+06</td>\n",
       "      <td>1</td>\n",
       "    </tr>\n",
       "    <tr>\n",
       "      <th>4</th>\n",
       "      <td>1</td>\n",
       "      <td>FR</td>\n",
       "      <td>24</td>\n",
       "      <td>IS</td>\n",
       "      <td>610331</td>\n",
       "      <td>1</td>\n",
       "      <td>3</td>\n",
       "      <td>174</td>\n",
       "      <td>0</td>\n",
       "      <td>Road</td>\n",
       "      <td>import</td>\n",
       "      <td>1</td>\n",
       "      <td>2019</td>\n",
       "      <td>HS</td>\n",
       "      <td>2.439785e+06</td>\n",
       "      <td>1</td>\n",
       "    </tr>\n",
       "  </tbody>\n",
       "</table>\n",
       "</div>"
      ],
      "text/plain": [
       "   DECLARANT DECLARANT_ISO  PARTNER PARTNER_ISO PRODUCT_CODE  FLOW  \\\n",
       "0          1            FR       24          IS       210690     1   \n",
       "1          1            FR       24          IS       220110     1   \n",
       "2          1            FR       24          IS       392690     1   \n",
       "3          1            FR       24          IS       420299     1   \n",
       "4          1            FR       24          IS       610331     1   \n",
       "\n",
       "   TRANSPORT_MODE  VALUE_IN_EUROS  QUANTITY_IN_KG TYPE_TRANSP_MODE TYPE_FLOW  \\\n",
       "0               3             203               0             Road    import   \n",
       "1               3            6826           19200             Road    import   \n",
       "2               3             140               0             Road    import   \n",
       "3               3             129               0             Road    import   \n",
       "4               3             174               0             Road    import   \n",
       "\n",
       "   MONTH  YEAR PRODUCT_TYPE      Distance  NT  \n",
       "0      1  2019           HS  2.439785e+06   1  \n",
       "1      1  2019           HS  2.439785e+06   1  \n",
       "2      1  2019           HS  2.439785e+06   1  \n",
       "3      1  2019           HS  2.439785e+06   1  \n",
       "4      1  2019           HS  2.439785e+06   1  "
      ]
     },
     "execution_count": 22,
     "metadata": {},
     "output_type": "execute_result"
    }
   ],
   "source": [
    "# work with the import\n",
    "df_import.head()"
   ]
  },
  {
   "cell_type": "code",
   "execution_count": 23,
   "id": "9f138795",
   "metadata": {},
   "outputs": [
    {
     "data": {
      "text/plain": [
       "31251106"
      ]
     },
     "execution_count": 23,
     "metadata": {},
     "output_type": "execute_result"
    }
   ],
   "source": [
    "len(df_import)"
   ]
  },
  {
   "cell_type": "code",
   "execution_count": 24,
   "id": "58859e6d",
   "metadata": {},
   "outputs": [],
   "source": [
    "# month/year\n",
    "df_import_my = df_import[(df_import['MONTH']==1) & (df_import['YEAR']==2019)].reset_index(drop=True)"
   ]
  },
  {
   "cell_type": "code",
   "execution_count": 25,
   "id": "837b09fc",
   "metadata": {},
   "outputs": [
    {
     "data": {
      "text/html": [
       "<div>\n",
       "<style scoped>\n",
       "    .dataframe tbody tr th:only-of-type {\n",
       "        vertical-align: middle;\n",
       "    }\n",
       "\n",
       "    .dataframe tbody tr th {\n",
       "        vertical-align: top;\n",
       "    }\n",
       "\n",
       "    .dataframe thead th {\n",
       "        text-align: right;\n",
       "    }\n",
       "</style>\n",
       "<table border=\"1\" class=\"dataframe\">\n",
       "  <thead>\n",
       "    <tr style=\"text-align: right;\">\n",
       "      <th></th>\n",
       "      <th>DECLARANT</th>\n",
       "      <th>DECLARANT_ISO</th>\n",
       "      <th>PARTNER</th>\n",
       "      <th>PARTNER_ISO</th>\n",
       "      <th>PRODUCT_CODE</th>\n",
       "      <th>FLOW</th>\n",
       "      <th>TRANSPORT_MODE</th>\n",
       "      <th>VALUE_IN_EUROS</th>\n",
       "      <th>QUANTITY_IN_KG</th>\n",
       "      <th>TYPE_TRANSP_MODE</th>\n",
       "      <th>TYPE_FLOW</th>\n",
       "      <th>MONTH</th>\n",
       "      <th>YEAR</th>\n",
       "      <th>PRODUCT_TYPE</th>\n",
       "      <th>Distance</th>\n",
       "      <th>NT</th>\n",
       "    </tr>\n",
       "  </thead>\n",
       "  <tbody>\n",
       "    <tr>\n",
       "      <th>0</th>\n",
       "      <td>1</td>\n",
       "      <td>FR</td>\n",
       "      <td>24</td>\n",
       "      <td>IS</td>\n",
       "      <td>210690</td>\n",
       "      <td>1</td>\n",
       "      <td>3</td>\n",
       "      <td>203</td>\n",
       "      <td>0</td>\n",
       "      <td>Road</td>\n",
       "      <td>import</td>\n",
       "      <td>1</td>\n",
       "      <td>2019</td>\n",
       "      <td>HS</td>\n",
       "      <td>2.439785e+06</td>\n",
       "      <td>1</td>\n",
       "    </tr>\n",
       "    <tr>\n",
       "      <th>1</th>\n",
       "      <td>1</td>\n",
       "      <td>FR</td>\n",
       "      <td>24</td>\n",
       "      <td>IS</td>\n",
       "      <td>220110</td>\n",
       "      <td>1</td>\n",
       "      <td>3</td>\n",
       "      <td>6826</td>\n",
       "      <td>19200</td>\n",
       "      <td>Road</td>\n",
       "      <td>import</td>\n",
       "      <td>1</td>\n",
       "      <td>2019</td>\n",
       "      <td>HS</td>\n",
       "      <td>2.439785e+06</td>\n",
       "      <td>1</td>\n",
       "    </tr>\n",
       "    <tr>\n",
       "      <th>2</th>\n",
       "      <td>1</td>\n",
       "      <td>FR</td>\n",
       "      <td>24</td>\n",
       "      <td>IS</td>\n",
       "      <td>392690</td>\n",
       "      <td>1</td>\n",
       "      <td>3</td>\n",
       "      <td>140</td>\n",
       "      <td>0</td>\n",
       "      <td>Road</td>\n",
       "      <td>import</td>\n",
       "      <td>1</td>\n",
       "      <td>2019</td>\n",
       "      <td>HS</td>\n",
       "      <td>2.439785e+06</td>\n",
       "      <td>1</td>\n",
       "    </tr>\n",
       "    <tr>\n",
       "      <th>3</th>\n",
       "      <td>1</td>\n",
       "      <td>FR</td>\n",
       "      <td>24</td>\n",
       "      <td>IS</td>\n",
       "      <td>420299</td>\n",
       "      <td>1</td>\n",
       "      <td>3</td>\n",
       "      <td>129</td>\n",
       "      <td>0</td>\n",
       "      <td>Road</td>\n",
       "      <td>import</td>\n",
       "      <td>1</td>\n",
       "      <td>2019</td>\n",
       "      <td>HS</td>\n",
       "      <td>2.439785e+06</td>\n",
       "      <td>1</td>\n",
       "    </tr>\n",
       "    <tr>\n",
       "      <th>4</th>\n",
       "      <td>1</td>\n",
       "      <td>FR</td>\n",
       "      <td>24</td>\n",
       "      <td>IS</td>\n",
       "      <td>610331</td>\n",
       "      <td>1</td>\n",
       "      <td>3</td>\n",
       "      <td>174</td>\n",
       "      <td>0</td>\n",
       "      <td>Road</td>\n",
       "      <td>import</td>\n",
       "      <td>1</td>\n",
       "      <td>2019</td>\n",
       "      <td>HS</td>\n",
       "      <td>2.439785e+06</td>\n",
       "      <td>1</td>\n",
       "    </tr>\n",
       "  </tbody>\n",
       "</table>\n",
       "</div>"
      ],
      "text/plain": [
       "   DECLARANT DECLARANT_ISO  PARTNER PARTNER_ISO PRODUCT_CODE  FLOW  \\\n",
       "0          1            FR       24          IS       210690     1   \n",
       "1          1            FR       24          IS       220110     1   \n",
       "2          1            FR       24          IS       392690     1   \n",
       "3          1            FR       24          IS       420299     1   \n",
       "4          1            FR       24          IS       610331     1   \n",
       "\n",
       "   TRANSPORT_MODE  VALUE_IN_EUROS  QUANTITY_IN_KG TYPE_TRANSP_MODE TYPE_FLOW  \\\n",
       "0               3             203               0             Road    import   \n",
       "1               3            6826           19200             Road    import   \n",
       "2               3             140               0             Road    import   \n",
       "3               3             129               0             Road    import   \n",
       "4               3             174               0             Road    import   \n",
       "\n",
       "   MONTH  YEAR PRODUCT_TYPE      Distance  NT  \n",
       "0      1  2019           HS  2.439785e+06   1  \n",
       "1      1  2019           HS  2.439785e+06   1  \n",
       "2      1  2019           HS  2.439785e+06   1  \n",
       "3      1  2019           HS  2.439785e+06   1  \n",
       "4      1  2019           HS  2.439785e+06   1  "
      ]
     },
     "execution_count": 25,
     "metadata": {},
     "output_type": "execute_result"
    }
   ],
   "source": [
    "df_import_my.head()"
   ]
  },
  {
   "cell_type": "code",
   "execution_count": 26,
   "id": "ec1e6471",
   "metadata": {},
   "outputs": [
    {
     "data": {
      "text/plain": [
       "995739"
      ]
     },
     "execution_count": 26,
     "metadata": {},
     "output_type": "execute_result"
    }
   ],
   "source": [
    "len(df_import_my)"
   ]
  },
  {
   "cell_type": "code",
   "execution_count": 27,
   "id": "3319502f",
   "metadata": {},
   "outputs": [],
   "source": [
    "# type of transport (for example Road)\n",
    "df_import_my_tt = df_import_my[df_import_my['TYPE_TRANSP_MODE']=='Road'].reset_index(drop=True)"
   ]
  },
  {
   "cell_type": "code",
   "execution_count": 28,
   "id": "774f7fb7",
   "metadata": {},
   "outputs": [
    {
     "data": {
      "text/html": [
       "<div>\n",
       "<style scoped>\n",
       "    .dataframe tbody tr th:only-of-type {\n",
       "        vertical-align: middle;\n",
       "    }\n",
       "\n",
       "    .dataframe tbody tr th {\n",
       "        vertical-align: top;\n",
       "    }\n",
       "\n",
       "    .dataframe thead th {\n",
       "        text-align: right;\n",
       "    }\n",
       "</style>\n",
       "<table border=\"1\" class=\"dataframe\">\n",
       "  <thead>\n",
       "    <tr style=\"text-align: right;\">\n",
       "      <th></th>\n",
       "      <th>DECLARANT</th>\n",
       "      <th>DECLARANT_ISO</th>\n",
       "      <th>PARTNER</th>\n",
       "      <th>PARTNER_ISO</th>\n",
       "      <th>PRODUCT_CODE</th>\n",
       "      <th>FLOW</th>\n",
       "      <th>TRANSPORT_MODE</th>\n",
       "      <th>VALUE_IN_EUROS</th>\n",
       "      <th>QUANTITY_IN_KG</th>\n",
       "      <th>TYPE_TRANSP_MODE</th>\n",
       "      <th>TYPE_FLOW</th>\n",
       "      <th>MONTH</th>\n",
       "      <th>YEAR</th>\n",
       "      <th>PRODUCT_TYPE</th>\n",
       "      <th>Distance</th>\n",
       "      <th>NT</th>\n",
       "    </tr>\n",
       "  </thead>\n",
       "  <tbody>\n",
       "    <tr>\n",
       "      <th>0</th>\n",
       "      <td>1</td>\n",
       "      <td>FR</td>\n",
       "      <td>24</td>\n",
       "      <td>IS</td>\n",
       "      <td>210690</td>\n",
       "      <td>1</td>\n",
       "      <td>3</td>\n",
       "      <td>203</td>\n",
       "      <td>0</td>\n",
       "      <td>Road</td>\n",
       "      <td>import</td>\n",
       "      <td>1</td>\n",
       "      <td>2019</td>\n",
       "      <td>HS</td>\n",
       "      <td>2.439785e+06</td>\n",
       "      <td>1</td>\n",
       "    </tr>\n",
       "    <tr>\n",
       "      <th>1</th>\n",
       "      <td>1</td>\n",
       "      <td>FR</td>\n",
       "      <td>24</td>\n",
       "      <td>IS</td>\n",
       "      <td>220110</td>\n",
       "      <td>1</td>\n",
       "      <td>3</td>\n",
       "      <td>6826</td>\n",
       "      <td>19200</td>\n",
       "      <td>Road</td>\n",
       "      <td>import</td>\n",
       "      <td>1</td>\n",
       "      <td>2019</td>\n",
       "      <td>HS</td>\n",
       "      <td>2.439785e+06</td>\n",
       "      <td>1</td>\n",
       "    </tr>\n",
       "    <tr>\n",
       "      <th>2</th>\n",
       "      <td>1</td>\n",
       "      <td>FR</td>\n",
       "      <td>24</td>\n",
       "      <td>IS</td>\n",
       "      <td>392690</td>\n",
       "      <td>1</td>\n",
       "      <td>3</td>\n",
       "      <td>140</td>\n",
       "      <td>0</td>\n",
       "      <td>Road</td>\n",
       "      <td>import</td>\n",
       "      <td>1</td>\n",
       "      <td>2019</td>\n",
       "      <td>HS</td>\n",
       "      <td>2.439785e+06</td>\n",
       "      <td>1</td>\n",
       "    </tr>\n",
       "    <tr>\n",
       "      <th>3</th>\n",
       "      <td>1</td>\n",
       "      <td>FR</td>\n",
       "      <td>24</td>\n",
       "      <td>IS</td>\n",
       "      <td>420299</td>\n",
       "      <td>1</td>\n",
       "      <td>3</td>\n",
       "      <td>129</td>\n",
       "      <td>0</td>\n",
       "      <td>Road</td>\n",
       "      <td>import</td>\n",
       "      <td>1</td>\n",
       "      <td>2019</td>\n",
       "      <td>HS</td>\n",
       "      <td>2.439785e+06</td>\n",
       "      <td>1</td>\n",
       "    </tr>\n",
       "    <tr>\n",
       "      <th>4</th>\n",
       "      <td>1</td>\n",
       "      <td>FR</td>\n",
       "      <td>24</td>\n",
       "      <td>IS</td>\n",
       "      <td>610331</td>\n",
       "      <td>1</td>\n",
       "      <td>3</td>\n",
       "      <td>174</td>\n",
       "      <td>0</td>\n",
       "      <td>Road</td>\n",
       "      <td>import</td>\n",
       "      <td>1</td>\n",
       "      <td>2019</td>\n",
       "      <td>HS</td>\n",
       "      <td>2.439785e+06</td>\n",
       "      <td>1</td>\n",
       "    </tr>\n",
       "  </tbody>\n",
       "</table>\n",
       "</div>"
      ],
      "text/plain": [
       "   DECLARANT DECLARANT_ISO  PARTNER PARTNER_ISO PRODUCT_CODE  FLOW  \\\n",
       "0          1            FR       24          IS       210690     1   \n",
       "1          1            FR       24          IS       220110     1   \n",
       "2          1            FR       24          IS       392690     1   \n",
       "3          1            FR       24          IS       420299     1   \n",
       "4          1            FR       24          IS       610331     1   \n",
       "\n",
       "   TRANSPORT_MODE  VALUE_IN_EUROS  QUANTITY_IN_KG TYPE_TRANSP_MODE TYPE_FLOW  \\\n",
       "0               3             203               0             Road    import   \n",
       "1               3            6826           19200             Road    import   \n",
       "2               3             140               0             Road    import   \n",
       "3               3             129               0             Road    import   \n",
       "4               3             174               0             Road    import   \n",
       "\n",
       "   MONTH  YEAR PRODUCT_TYPE      Distance  NT  \n",
       "0      1  2019           HS  2.439785e+06   1  \n",
       "1      1  2019           HS  2.439785e+06   1  \n",
       "2      1  2019           HS  2.439785e+06   1  \n",
       "3      1  2019           HS  2.439785e+06   1  \n",
       "4      1  2019           HS  2.439785e+06   1  "
      ]
     },
     "execution_count": 28,
     "metadata": {},
     "output_type": "execute_result"
    }
   ],
   "source": [
    "df_import_my_tt.head()"
   ]
  },
  {
   "cell_type": "code",
   "execution_count": 29,
   "id": "cabf2a3b",
   "metadata": {},
   "outputs": [],
   "source": [
    "# trashold euros\n",
    "df_import_my_tt_te = df_import_my_tt[df_import_my_tt['VALUE_IN_EUROS'] >= 20000000].reset_index(drop=True)"
   ]
  },
  {
   "cell_type": "code",
   "execution_count": 30,
   "id": "4314c9b2",
   "metadata": {},
   "outputs": [
    {
     "data": {
      "text/plain": [
       "270"
      ]
     },
     "execution_count": 30,
     "metadata": {},
     "output_type": "execute_result"
    }
   ],
   "source": [
    "len(df_import_my_tt_te)"
   ]
  },
  {
   "cell_type": "code",
   "execution_count": 31,
   "id": "319a73e0",
   "metadata": {},
   "outputs": [
    {
     "data": {
      "image/png": "[encoded data removed]",
      "text/plain": [
       "<Figure size 720x504 with 1 Axes>"
      ]
     },
     "metadata": {},
     "output_type": "display_data"
    }
   ],
   "source": [
    "plt.figure(figsize=(10,7))\n",
    "Gt = nx.DiGraph()\n",
    "ser_nodes = df_import_my_tt_te['DECLARANT_ISO'].append(df_import_my_tt_te['PARTNER_ISO'])\n",
    "nodes = ser_nodes.unique()\n",
    "\n",
    "# edges by time\n",
    "df_edges = df_import_my_tt_te[['DECLARANT_ISO', 'PARTNER_ISO', 'Distance']]\n",
    "tuple_edges = [tuple(r) for r in df_edges.to_numpy()]\n",
    "\n",
    "Gt.add_nodes_from(nodes)\n",
    "Gt.add_weighted_edges_from(tuple_edges)  \n",
    "nx.draw(Gt, with_labels=True, node_size=1000, node_color='orange') "
   ]
  },
  {
   "cell_type": "code",
   "execution_count": 32,
   "id": "593d2d78",
   "metadata": {},
   "outputs": [],
   "source": [
    "df_group = df_tot[['DECLARANT_ISO','PARTNER_ISO', 'VALUE_IN_EUROS', 'QUANTITY_IN_KG']].groupby(['DECLARANT_ISO', 'PARTNER_ISO']).sum().reset_index()"
   ]
  },
  {
   "cell_type": "code",
   "execution_count": 33,
   "id": "f3987524",
   "metadata": {},
   "outputs": [],
   "source": [
    "# important\n",
    "df_tot['PRODUCT_CODE'] = df_tot['PRODUCT_CODE'].apply(lambda x: str(x))"
   ]
  },
  {
   "cell_type": "code",
   "execution_count": 34,
   "id": "bf362de5",
   "metadata": {},
   "outputs": [
    {
     "data": {
      "text/plain": [
       "array(['210690', '220110', '392690', ..., '94MMM0', '95MMM0', '710820'],\n",
       "      dtype=object)"
      ]
     },
     "execution_count": 34,
     "metadata": {},
     "output_type": "execute_result"
    }
   ],
   "source": [
    "df_tot['PRODUCT_CODE'].unique()"
   ]
  },
  {
   "cell_type": "code",
   "execution_count": 35,
   "id": "174b09c8",
   "metadata": {},
   "outputs": [],
   "source": [
    "df1 = df_tot[df_tot['PRODUCT_CODE']=='210690']\n",
    "df2 = df1[df1['TYPE_FLOW']=='import']\n",
    "df3 = df2[df2['MONTH']==1]\n",
    "df4 = df3[df3['YEAR']==2019]\n",
    "df5 = df4[df4['TYPE_TRANSP_MODE']=='Sea']\n",
    "df6 = df5.groupby(['DECLARANT_ISO', 'PARTNER_ISO'])[['DECLARANT_ISO', 'PARTNER_ISO', 'VALUE_IN_EUROS', 'QUANTITY_IN_KG']].sum().reset_index()\n",
    "df7 = df6.sort_values(by='VALUE_IN_EUROS', ascending=False).reset_index(drop=True)"
   ]
  },
  {
   "cell_type": "code",
   "execution_count": 36,
   "id": "c3bb86fd",
   "metadata": {},
   "outputs": [],
   "source": [
    "# 80 perc, values in euros\n",
    "t = int(len(df7)*80/100)"
   ]
  },
  {
   "cell_type": "code",
   "execution_count": 37,
   "id": "82d667e0",
   "metadata": {},
   "outputs": [],
   "source": [
    "df7.iloc[:t+1];"
   ]
  },
  {
   "cell_type": "code",
   "execution_count": 38,
   "id": "fc8a97de",
   "metadata": {},
   "outputs": [],
   "source": [
    "# main algorithm\n",
    "\n",
    "def mainGraph(df, month = 1, year = 2019, product = None, type_flow = None, type_transport = None, type_t = None, t = 0.1, weight = 'Distance'):\n",
    "    \n",
    "    # product\n",
    "    if product != None or product != '':\n",
    "        df = df[df['PRODUCT_CODE']==product].reset_index(drop=True)\n",
    "    else:\n",
    "        return 'Select the product code!'\n",
    "    \n",
    "    # type flow\n",
    "    if type_flow == 'import':\n",
    "        df = df[df['TYPE_FLOW']=='import'].reset_index(drop=True)\n",
    "    elif type_flow == 'export':\n",
    "        df = df[df['TYPE_FLOW']=='export'].reset_index(drop=True)\n",
    "    else:\n",
    "        return 'Select the type of flow!'\n",
    "    \n",
    "    # month and year\n",
    "    if month == None or year == None or month > 12 or year > 2021 or year < 2019:\n",
    "        return 'Insert correctly the month and year!'\n",
    "    \n",
    "    if month != None and year != None:\n",
    "        df = df[(df['MONTH']==month) & (df['YEAR']==year)].reset_index(drop=True)\n",
    "        \n",
    "    if type_transport == None:\n",
    "        return 'Select the type of transport!'\n",
    "    else:\n",
    "        df = df[df['TYPE_TRANSP_MODE']==type_transport].reset_index(drop=True)\n",
    "        \n",
    "    \n",
    "    minimum_e = df['VALUE_IN_EUROS'].min()\n",
    "    maximum_e = df['VALUE_IN_EUROS'].max()\n",
    "    minimum_k = df['QUANTITY_IN_KG'].min()\n",
    "    maximum_k = df['QUANTITY_IN_KG'].max()\n",
    "        \n",
    "    # df['VALUE_IN_EUROS'] = df['VALUE_IN_EUROS'].apply(lambda x: (x-minimum_e)/(maximum_e-minimum_e))\n",
    "    # df['QUANTITY_IN_KG'] = df['QUANTITY_IN_KG'].apply(lambda x: (x-minimum_k)/(maximum_k-minimum_k))\n",
    "        \n",
    "    # treshold\n",
    "    # if type_t == 'e':\n",
    "        # df = df[df['VALUE_IN_EUROS'] >= t].reset_index(drop=True)\n",
    "    # elif type_t == 'kg':\n",
    "        # df = df[df['VALUE_IN_EUROS'] >= t].reset_index(drop=True)\n",
    "    # else:\n",
    "        # return 'Select the type of threshold (euro or kg)!'\n",
    "    \n",
    "    df['Distance'] = round(df['Distance'], 3)\n",
    "    \n",
    "    # start changes\n",
    "    df = df.groupby(['DECLARANT_ISO', 'PARTNER_ISO', 'Distance'])[['DECLARANT_ISO', 'PARTNER_ISO', 'VALUE_IN_EUROS', 'QUANTITY_IN_KG', 'NT']].sum().reset_index()\n",
    "    if type_t == 'e':\n",
    "        df = df.sort_values(by='VALUE_IN_EUROS', ascending=False).reset_index(drop=True)\n",
    "        # df = df[df['VALUE_IN_EUROS']>=300000]\n",
    "    elif type_t == 'kg':\n",
    "        df = df.sort_values(by='QUANTITY_IN_KG', ascending=False).reset_index(drop=True)\n",
    "        # df = df[df['QUANTITY_IN_KG']>=6000]\n",
    "    else:\n",
    "        return 'Select the type of threshold (euro or kg)!'\n",
    "    \n",
    "    display(df)\n",
    "    \n",
    "    tr = int(len(df)*t/100)\n",
    "    df = df.iloc[:tr+1]\n",
    "    \n",
    "    speed = 45 \n",
    "    \n",
    "    if type_transport== 'Sea':\n",
    "            df['Greenness'] =  df['VALUE_IN_EUROS']/(9936.70 * df['Distance'] / (speed*1000))\n",
    "    elif type_transport == 'Air':\n",
    "           df['Greenness'] =  df['VALUE_IN_EUROS']/(12*df['Distance']/1000)\n",
    "    elif type_transport == 'Inland Waterway':\n",
    "            df['Greenness'] =  df['VALUE_IN_EUROS']/(0.12*df['Distance']/1000)\n",
    "    elif type_transport == 'Road':\n",
    "            df['Greenness'] = df['VALUE_IN_EUROS']/(0.25*df['Distance']/1000)\n",
    "    elif type_transport == 'Rail':\n",
    "            df['Greenness'] = df['VALUE_IN_EUROS']/(7.97*df['Distance']/1000)\n",
    "\n",
    "      \n",
    "    \n",
    "    G = nx.DiGraph()\n",
    "    # nodes\n",
    "    nodes = df['DECLARANT_ISO'].append(df['PARTNER_ISO']).unique()\n",
    "    # edges\n",
    "    #df_edges = df[['DECLARANT_ISO', 'PARTNER_ISO', 'Distance']]\n",
    "    #tuple_edges = [tuple(r) for r in df_edges.to_numpy()]\n",
    "    \n",
    "    # graph\n",
    "    G.add_nodes_from(nodes)\n",
    "\n",
    "    for index,row in df.iterrows():\n",
    "        G.add_edge(row['DECLARANT_ISO'],row['PARTNER_ISO'],\n",
    "                                             Value = row.VALUE_IN_EUROS,\n",
    "                                             Quantity = row.QUANTITY_IN_KG,\n",
    "                                             Distance = row.Distance,\n",
    "                                             Greenness = row.Greenness)\n",
    "    # G.add_weighted_edges_from(tuple_edges)\n",
    "    labels = {e: str(e) for e in G.edges}\n",
    "    # pos = nx.spring_layout(G, k=10000/np.sqrt(G.order()), iterations=20, scale=10) problem divided by 0\n",
    "    pos = nx.spring_layout(G, iterations=20, scale=10)\n",
    "    plt.figure(3, figsize=(20, 14))\n",
    "    \n",
    "    nx.draw(G, pos=pos, with_labels=True, node_size=2000, node_color='orange')\n",
    "\n",
    "    # Create edge labels\n",
    "    labels = {e: G.edges[e][weight] for e in G.edges}\n",
    "\n",
    "    # Draw edge labels according to node positions\n",
    "    nx.draw_networkx_edge_labels(G, pos, edge_labels=labels)\n",
    "    \n",
    "    return G\n",
    "    \n",
    "    # return nx.draw(G, pos=pos, with_labels=True, node_size=2000, node_color='orange')"
   ]
  },
  {
   "cell_type": "code",
   "execution_count": 39,
   "id": "d8f35672",
   "metadata": {},
   "outputs": [
    {
     "data": {
      "text/html": [
       "<div>\n",
       "<style scoped>\n",
       "    .dataframe tbody tr th:only-of-type {\n",
       "        vertical-align: middle;\n",
       "    }\n",
       "\n",
       "    .dataframe tbody tr th {\n",
       "        vertical-align: top;\n",
       "    }\n",
       "\n",
       "    .dataframe thead th {\n",
       "        text-align: right;\n",
       "    }\n",
       "</style>\n",
       "<table border=\"1\" class=\"dataframe\">\n",
       "  <thead>\n",
       "    <tr style=\"text-align: right;\">\n",
       "      <th></th>\n",
       "      <th>DECLARANT_ISO</th>\n",
       "      <th>PARTNER_ISO</th>\n",
       "      <th>Distance</th>\n",
       "      <th>VALUE_IN_EUROS</th>\n",
       "      <th>QUANTITY_IN_KG</th>\n",
       "      <th>NT</th>\n",
       "    </tr>\n",
       "  </thead>\n",
       "  <tbody>\n",
       "    <tr>\n",
       "      <th>0</th>\n",
       "      <td>IE</td>\n",
       "      <td>GB</td>\n",
       "      <td>413272.128</td>\n",
       "      <td>534621</td>\n",
       "      <td>2851448</td>\n",
       "      <td>1</td>\n",
       "    </tr>\n",
       "    <tr>\n",
       "      <th>1</th>\n",
       "      <td>LT</td>\n",
       "      <td>GE</td>\n",
       "      <td>2097179.699</td>\n",
       "      <td>482185</td>\n",
       "      <td>961632</td>\n",
       "      <td>1</td>\n",
       "    </tr>\n",
       "    <tr>\n",
       "      <th>2</th>\n",
       "      <td>SE</td>\n",
       "      <td>NO</td>\n",
       "      <td>261926.410</td>\n",
       "      <td>150900</td>\n",
       "      <td>853248</td>\n",
       "      <td>1</td>\n",
       "    </tr>\n",
       "    <tr>\n",
       "      <th>3</th>\n",
       "      <td>HR</td>\n",
       "      <td>BA</td>\n",
       "      <td>237104.349</td>\n",
       "      <td>148053</td>\n",
       "      <td>1022264</td>\n",
       "      <td>1</td>\n",
       "    </tr>\n",
       "    <tr>\n",
       "      <th>4</th>\n",
       "      <td>EE</td>\n",
       "      <td>RU</td>\n",
       "      <td>1356373.168</td>\n",
       "      <td>100010</td>\n",
       "      <td>404352</td>\n",
       "      <td>2</td>\n",
       "    </tr>\n",
       "    <tr>\n",
       "      <th>5</th>\n",
       "      <td>FR</td>\n",
       "      <td>GB</td>\n",
       "      <td>934514.567</td>\n",
       "      <td>56354</td>\n",
       "      <td>593890</td>\n",
       "      <td>1</td>\n",
       "    </tr>\n",
       "    <tr>\n",
       "      <th>6</th>\n",
       "      <td>DE</td>\n",
       "      <td>CH</td>\n",
       "      <td>450804.486</td>\n",
       "      <td>54876</td>\n",
       "      <td>111484</td>\n",
       "      <td>1</td>\n",
       "    </tr>\n",
       "    <tr>\n",
       "      <th>7</th>\n",
       "      <td>ES</td>\n",
       "      <td>GB</td>\n",
       "      <td>1563637.444</td>\n",
       "      <td>29701</td>\n",
       "      <td>246393</td>\n",
       "      <td>1</td>\n",
       "    </tr>\n",
       "    <tr>\n",
       "      <th>8</th>\n",
       "      <td>DE</td>\n",
       "      <td>RU</td>\n",
       "      <td>2724322.023</td>\n",
       "      <td>29580</td>\n",
       "      <td>66720</td>\n",
       "      <td>2</td>\n",
       "    </tr>\n",
       "    <tr>\n",
       "      <th>9</th>\n",
       "      <td>DE</td>\n",
       "      <td>TR</td>\n",
       "      <td>2425508.757</td>\n",
       "      <td>24873</td>\n",
       "      <td>54093</td>\n",
       "      <td>1</td>\n",
       "    </tr>\n",
       "    <tr>\n",
       "      <th>10</th>\n",
       "      <td>DE</td>\n",
       "      <td>GE</td>\n",
       "      <td>2799884.110</td>\n",
       "      <td>22327</td>\n",
       "      <td>37680</td>\n",
       "      <td>1</td>\n",
       "    </tr>\n",
       "    <tr>\n",
       "      <th>11</th>\n",
       "      <td>BG</td>\n",
       "      <td>MK</td>\n",
       "      <td>278843.474</td>\n",
       "      <td>21430</td>\n",
       "      <td>125592</td>\n",
       "      <td>1</td>\n",
       "    </tr>\n",
       "    <tr>\n",
       "      <th>12</th>\n",
       "      <td>RO</td>\n",
       "      <td>TR</td>\n",
       "      <td>1129846.462</td>\n",
       "      <td>21168</td>\n",
       "      <td>130482</td>\n",
       "      <td>1</td>\n",
       "    </tr>\n",
       "    <tr>\n",
       "      <th>13</th>\n",
       "      <td>GR</td>\n",
       "      <td>GE</td>\n",
       "      <td>1847577.929</td>\n",
       "      <td>20923</td>\n",
       "      <td>44897</td>\n",
       "      <td>1</td>\n",
       "    </tr>\n",
       "    <tr>\n",
       "      <th>14</th>\n",
       "      <td>BE</td>\n",
       "      <td>GB</td>\n",
       "      <td>538950.700</td>\n",
       "      <td>18563</td>\n",
       "      <td>160515</td>\n",
       "      <td>1</td>\n",
       "    </tr>\n",
       "    <tr>\n",
       "      <th>15</th>\n",
       "      <td>NL</td>\n",
       "      <td>NO</td>\n",
       "      <td>1088029.389</td>\n",
       "      <td>17290</td>\n",
       "      <td>12341</td>\n",
       "      <td>1</td>\n",
       "    </tr>\n",
       "    <tr>\n",
       "      <th>16</th>\n",
       "      <td>LV</td>\n",
       "      <td>RU</td>\n",
       "      <td>1485789.936</td>\n",
       "      <td>17054</td>\n",
       "      <td>63000</td>\n",
       "      <td>2</td>\n",
       "    </tr>\n",
       "    <tr>\n",
       "      <th>17</th>\n",
       "      <td>LT</td>\n",
       "      <td>UA</td>\n",
       "      <td>948341.125</td>\n",
       "      <td>16868</td>\n",
       "      <td>40189</td>\n",
       "      <td>1</td>\n",
       "    </tr>\n",
       "    <tr>\n",
       "      <th>18</th>\n",
       "      <td>GR</td>\n",
       "      <td>TR</td>\n",
       "      <td>1125183.821</td>\n",
       "      <td>15818</td>\n",
       "      <td>25948</td>\n",
       "      <td>1</td>\n",
       "    </tr>\n",
       "    <tr>\n",
       "      <th>19</th>\n",
       "      <td>FR</td>\n",
       "      <td>CH</td>\n",
       "      <td>473667.855</td>\n",
       "      <td>10593</td>\n",
       "      <td>257643</td>\n",
       "      <td>1</td>\n",
       "    </tr>\n",
       "    <tr>\n",
       "      <th>20</th>\n",
       "      <td>LT</td>\n",
       "      <td>RU</td>\n",
       "      <td>1588951.014</td>\n",
       "      <td>10538</td>\n",
       "      <td>37800</td>\n",
       "      <td>2</td>\n",
       "    </tr>\n",
       "    <tr>\n",
       "      <th>21</th>\n",
       "      <td>LT</td>\n",
       "      <td>GB</td>\n",
       "      <td>1668539.297</td>\n",
       "      <td>9408</td>\n",
       "      <td>7921</td>\n",
       "      <td>1</td>\n",
       "    </tr>\n",
       "    <tr>\n",
       "      <th>22</th>\n",
       "      <td>CZ</td>\n",
       "      <td>US</td>\n",
       "      <td>8253577.829</td>\n",
       "      <td>8702</td>\n",
       "      <td>416</td>\n",
       "      <td>1</td>\n",
       "    </tr>\n",
       "    <tr>\n",
       "      <th>23</th>\n",
       "      <td>LT</td>\n",
       "      <td>AZ</td>\n",
       "      <td>2429712.185</td>\n",
       "      <td>5956</td>\n",
       "      <td>19800</td>\n",
       "      <td>1</td>\n",
       "    </tr>\n",
       "    <tr>\n",
       "      <th>24</th>\n",
       "      <td>FR</td>\n",
       "      <td>BR</td>\n",
       "      <td>8400529.045</td>\n",
       "      <td>5322</td>\n",
       "      <td>15294</td>\n",
       "      <td>1</td>\n",
       "    </tr>\n",
       "    <tr>\n",
       "      <th>25</th>\n",
       "      <td>FR</td>\n",
       "      <td>IS</td>\n",
       "      <td>2439784.865</td>\n",
       "      <td>4433</td>\n",
       "      <td>5760</td>\n",
       "      <td>1</td>\n",
       "    </tr>\n",
       "    <tr>\n",
       "      <th>26</th>\n",
       "      <td>BG</td>\n",
       "      <td>GE</td>\n",
       "      <td>1521643.201</td>\n",
       "      <td>4354</td>\n",
       "      <td>8058</td>\n",
       "      <td>1</td>\n",
       "    </tr>\n",
       "    <tr>\n",
       "      <th>27</th>\n",
       "      <td>AT</td>\n",
       "      <td>CH</td>\n",
       "      <td>405979.926</td>\n",
       "      <td>4134</td>\n",
       "      <td>2592</td>\n",
       "      <td>1</td>\n",
       "    </tr>\n",
       "    <tr>\n",
       "      <th>28</th>\n",
       "      <td>LV</td>\n",
       "      <td>AZ</td>\n",
       "      <td>2447708.418</td>\n",
       "      <td>3934</td>\n",
       "      <td>7020</td>\n",
       "      <td>1</td>\n",
       "    </tr>\n",
       "    <tr>\n",
       "      <th>29</th>\n",
       "      <td>BG</td>\n",
       "      <td>GB</td>\n",
       "      <td>2318813.938</td>\n",
       "      <td>3374</td>\n",
       "      <td>3438</td>\n",
       "      <td>1</td>\n",
       "    </tr>\n",
       "    <tr>\n",
       "      <th>30</th>\n",
       "      <td>SE</td>\n",
       "      <td>BA</td>\n",
       "      <td>2012682.275</td>\n",
       "      <td>3217</td>\n",
       "      <td>20412</td>\n",
       "      <td>1</td>\n",
       "    </tr>\n",
       "    <tr>\n",
       "      <th>31</th>\n",
       "      <td>EE</td>\n",
       "      <td>MK</td>\n",
       "      <td>1929739.388</td>\n",
       "      <td>2814</td>\n",
       "      <td>4176</td>\n",
       "      <td>1</td>\n",
       "    </tr>\n",
       "    <tr>\n",
       "      <th>32</th>\n",
       "      <td>DE</td>\n",
       "      <td>GB</td>\n",
       "      <td>817076.015</td>\n",
       "      <td>2403</td>\n",
       "      <td>2231</td>\n",
       "      <td>1</td>\n",
       "    </tr>\n",
       "    <tr>\n",
       "      <th>33</th>\n",
       "      <td>EE</td>\n",
       "      <td>BY</td>\n",
       "      <td>679522.709</td>\n",
       "      <td>2385</td>\n",
       "      <td>13993</td>\n",
       "      <td>1</td>\n",
       "    </tr>\n",
       "    <tr>\n",
       "      <th>34</th>\n",
       "      <td>NL</td>\n",
       "      <td>SA</td>\n",
       "      <td>4484826.487</td>\n",
       "      <td>2318</td>\n",
       "      <td>18500</td>\n",
       "      <td>1</td>\n",
       "    </tr>\n",
       "    <tr>\n",
       "      <th>35</th>\n",
       "      <td>AT</td>\n",
       "      <td>GB</td>\n",
       "      <td>1309087.967</td>\n",
       "      <td>2127</td>\n",
       "      <td>1997</td>\n",
       "      <td>1</td>\n",
       "    </tr>\n",
       "    <tr>\n",
       "      <th>36</th>\n",
       "      <td>BG</td>\n",
       "      <td>TR</td>\n",
       "      <td>950518.456</td>\n",
       "      <td>2118</td>\n",
       "      <td>20544</td>\n",
       "      <td>1</td>\n",
       "    </tr>\n",
       "    <tr>\n",
       "      <th>37</th>\n",
       "      <td>LV</td>\n",
       "      <td>GE</td>\n",
       "      <td>2125378.864</td>\n",
       "      <td>2050</td>\n",
       "      <td>5364</td>\n",
       "      <td>1</td>\n",
       "    </tr>\n",
       "    <tr>\n",
       "      <th>38</th>\n",
       "      <td>AT</td>\n",
       "      <td>BA</td>\n",
       "      <td>518953.734</td>\n",
       "      <td>1895</td>\n",
       "      <td>5724</td>\n",
       "      <td>1</td>\n",
       "    </tr>\n",
       "    <tr>\n",
       "      <th>39</th>\n",
       "      <td>NL</td>\n",
       "      <td>BA</td>\n",
       "      <td>1308407.868</td>\n",
       "      <td>1624</td>\n",
       "      <td>7344</td>\n",
       "      <td>1</td>\n",
       "    </tr>\n",
       "    <tr>\n",
       "      <th>40</th>\n",
       "      <td>HU</td>\n",
       "      <td>CH</td>\n",
       "      <td>911778.187</td>\n",
       "      <td>1607</td>\n",
       "      <td>700</td>\n",
       "      <td>1</td>\n",
       "    </tr>\n",
       "    <tr>\n",
       "      <th>41</th>\n",
       "      <td>HU</td>\n",
       "      <td>TR</td>\n",
       "      <td>1507678.799</td>\n",
       "      <td>1581</td>\n",
       "      <td>2175</td>\n",
       "      <td>1</td>\n",
       "    </tr>\n",
       "    <tr>\n",
       "      <th>42</th>\n",
       "      <td>RO</td>\n",
       "      <td>MD</td>\n",
       "      <td>326506.023</td>\n",
       "      <td>1448</td>\n",
       "      <td>9072</td>\n",
       "      <td>1</td>\n",
       "    </tr>\n",
       "    <tr>\n",
       "      <th>43</th>\n",
       "      <td>CZ</td>\n",
       "      <td>GB</td>\n",
       "      <td>1290439.370</td>\n",
       "      <td>1381</td>\n",
       "      <td>7346</td>\n",
       "      <td>1</td>\n",
       "    </tr>\n",
       "    <tr>\n",
       "      <th>44</th>\n",
       "      <td>NL</td>\n",
       "      <td>TR</td>\n",
       "      <td>2696915.924</td>\n",
       "      <td>1167</td>\n",
       "      <td>5376</td>\n",
       "      <td>1</td>\n",
       "    </tr>\n",
       "    <tr>\n",
       "      <th>45</th>\n",
       "      <td>SK</td>\n",
       "      <td>GB</td>\n",
       "      <td>1603742.097</td>\n",
       "      <td>1100</td>\n",
       "      <td>1746</td>\n",
       "      <td>1</td>\n",
       "    </tr>\n",
       "    <tr>\n",
       "      <th>46</th>\n",
       "      <td>PL</td>\n",
       "      <td>GE</td>\n",
       "      <td>2090497.873</td>\n",
       "      <td>826</td>\n",
       "      <td>2220</td>\n",
       "      <td>1</td>\n",
       "    </tr>\n",
       "    <tr>\n",
       "      <th>47</th>\n",
       "      <td>NL</td>\n",
       "      <td>IS</td>\n",
       "      <td>1934125.376</td>\n",
       "      <td>702</td>\n",
       "      <td>350</td>\n",
       "      <td>1</td>\n",
       "    </tr>\n",
       "    <tr>\n",
       "      <th>48</th>\n",
       "      <td>FR</td>\n",
       "      <td>GE</td>\n",
       "      <td>3319884.579</td>\n",
       "      <td>581</td>\n",
       "      <td>1510</td>\n",
       "      <td>1</td>\n",
       "    </tr>\n",
       "    <tr>\n",
       "      <th>49</th>\n",
       "      <td>EE</td>\n",
       "      <td>GB</td>\n",
       "      <td>1796528.183</td>\n",
       "      <td>545</td>\n",
       "      <td>230</td>\n",
       "      <td>1</td>\n",
       "    </tr>\n",
       "    <tr>\n",
       "      <th>50</th>\n",
       "      <td>GR</td>\n",
       "      <td>GB</td>\n",
       "      <td>2462474.507</td>\n",
       "      <td>286</td>\n",
       "      <td>636</td>\n",
       "      <td>1</td>\n",
       "    </tr>\n",
       "    <tr>\n",
       "      <th>51</th>\n",
       "      <td>PT</td>\n",
       "      <td>GB</td>\n",
       "      <td>1674323.039</td>\n",
       "      <td>202</td>\n",
       "      <td>608</td>\n",
       "      <td>1</td>\n",
       "    </tr>\n",
       "    <tr>\n",
       "      <th>52</th>\n",
       "      <td>LT</td>\n",
       "      <td>BY</td>\n",
       "      <td>422554.407</td>\n",
       "      <td>169</td>\n",
       "      <td>1183</td>\n",
       "      <td>1</td>\n",
       "    </tr>\n",
       "    <tr>\n",
       "      <th>53</th>\n",
       "      <td>DE</td>\n",
       "      <td>AL</td>\n",
       "      <td>1397345.484</td>\n",
       "      <td>88</td>\n",
       "      <td>137</td>\n",
       "      <td>1</td>\n",
       "    </tr>\n",
       "    <tr>\n",
       "      <th>54</th>\n",
       "      <td>NL</td>\n",
       "      <td>GB</td>\n",
       "      <td>543240.818</td>\n",
       "      <td>71</td>\n",
       "      <td>102</td>\n",
       "      <td>1</td>\n",
       "    </tr>\n",
       "    <tr>\n",
       "      <th>55</th>\n",
       "      <td>NL</td>\n",
       "      <td>US</td>\n",
       "      <td>7526036.898</td>\n",
       "      <td>60</td>\n",
       "      <td>82</td>\n",
       "      <td>1</td>\n",
       "    </tr>\n",
       "    <tr>\n",
       "      <th>56</th>\n",
       "      <td>LU</td>\n",
       "      <td>GB</td>\n",
       "      <td>734001.724</td>\n",
       "      <td>12</td>\n",
       "      <td>47</td>\n",
       "      <td>1</td>\n",
       "    </tr>\n",
       "  </tbody>\n",
       "</table>\n",
       "</div>"
      ],
      "text/plain": [
       "   DECLARANT_ISO PARTNER_ISO     Distance  VALUE_IN_EUROS  QUANTITY_IN_KG  NT\n",
       "0             IE          GB   413272.128          534621         2851448   1\n",
       "1             LT          GE  2097179.699          482185          961632   1\n",
       "2             SE          NO   261926.410          150900          853248   1\n",
       "3             HR          BA   237104.349          148053         1022264   1\n",
       "4             EE          RU  1356373.168          100010          404352   2\n",
       "5             FR          GB   934514.567           56354          593890   1\n",
       "6             DE          CH   450804.486           54876          111484   1\n",
       "7             ES          GB  1563637.444           29701          246393   1\n",
       "8             DE          RU  2724322.023           29580           66720   2\n",
       "9             DE          TR  2425508.757           24873           54093   1\n",
       "10            DE          GE  2799884.110           22327           37680   1\n",
       "11            BG          MK   278843.474           21430          125592   1\n",
       "12            RO          TR  1129846.462           21168          130482   1\n",
       "13            GR          GE  1847577.929           20923           44897   1\n",
       "14            BE          GB   538950.700           18563          160515   1\n",
       "15            NL          NO  1088029.389           17290           12341   1\n",
       "16            LV          RU  1485789.936           17054           63000   2\n",
       "17            LT          UA   948341.125           16868           40189   1\n",
       "18            GR          TR  1125183.821           15818           25948   1\n",
       "19            FR          CH   473667.855           10593          257643   1\n",
       "20            LT          RU  1588951.014           10538           37800   2\n",
       "21            LT          GB  1668539.297            9408            7921   1\n",
       "22            CZ          US  8253577.829            8702             416   1\n",
       "23            LT          AZ  2429712.185            5956           19800   1\n",
       "24            FR          BR  8400529.045            5322           15294   1\n",
       "25            FR          IS  2439784.865            4433            5760   1\n",
       "26            BG          GE  1521643.201            4354            8058   1\n",
       "27            AT          CH   405979.926            4134            2592   1\n",
       "28            LV          AZ  2447708.418            3934            7020   1\n",
       "29            BG          GB  2318813.938            3374            3438   1\n",
       "30            SE          BA  2012682.275            3217           20412   1\n",
       "31            EE          MK  1929739.388            2814            4176   1\n",
       "32            DE          GB   817076.015            2403            2231   1\n",
       "33            EE          BY   679522.709            2385           13993   1\n",
       "34            NL          SA  4484826.487            2318           18500   1\n",
       "35            AT          GB  1309087.967            2127            1997   1\n",
       "36            BG          TR   950518.456            2118           20544   1\n",
       "37            LV          GE  2125378.864            2050            5364   1\n",
       "38            AT          BA   518953.734            1895            5724   1\n",
       "39            NL          BA  1308407.868            1624            7344   1\n",
       "40            HU          CH   911778.187            1607             700   1\n",
       "41            HU          TR  1507678.799            1581            2175   1\n",
       "42            RO          MD   326506.023            1448            9072   1\n",
       "43            CZ          GB  1290439.370            1381            7346   1\n",
       "44            NL          TR  2696915.924            1167            5376   1\n",
       "45            SK          GB  1603742.097            1100            1746   1\n",
       "46            PL          GE  2090497.873             826            2220   1\n",
       "47            NL          IS  1934125.376             702             350   1\n",
       "48            FR          GE  3319884.579             581            1510   1\n",
       "49            EE          GB  1796528.183             545             230   1\n",
       "50            GR          GB  2462474.507             286             636   1\n",
       "51            PT          GB  1674323.039             202             608   1\n",
       "52            LT          BY   422554.407             169            1183   1\n",
       "53            DE          AL  1397345.484              88             137   1\n",
       "54            NL          GB   543240.818              71             102   1\n",
       "55            NL          US  7526036.898              60              82   1\n",
       "56            LU          GB   734001.724              12              47   1"
      ]
     },
     "metadata": {},
     "output_type": "display_data"
    },
    {
     "data": {
      "image/png": "[encoded data removed]",
      "text/plain": [
       "<Figure size 1440x1008 with 1 Axes>"
      ]
     },
     "metadata": {},
     "output_type": "display_data"
    }
   ],
   "source": [
    "TradeGraph = mainGraph(df_tot, 10, 2020, '220110', 'import', 'Road', 'e', t = 20, weight = 'Distance')"
   ]
  },
  {
   "cell_type": "code",
   "execution_count": 40,
   "id": "574830b8",
   "metadata": {},
   "outputs": [],
   "source": [
    "dic_centrality = nx.degree_centrality(TradeGraph)"
   ]
  },
  {
   "cell_type": "code",
   "execution_count": 41,
   "id": "4db8149f",
   "metadata": {},
   "outputs": [
    {
     "data": {
      "image/png": "[encoded data removed]",
      "text/plain": [
       "<Figure size 1440x576 with 1 Axes>"
      ]
     },
     "metadata": {
      "needs_background": "light"
     },
     "output_type": "display_data"
    }
   ],
   "source": [
    "dic_centrality = nx.degree_centrality(TradeGraph)\n",
    "df_cent = pd.DataFrame(list(dic_centrality.items()),columns = ['country','centrality']).sort_values(by='centrality', ascending=False).reset_index(drop=True)\n",
    "plt.figure(figsize=(20,8))\n",
    "plt.bar(df_cent['country'], height=df_cent['centrality'], color='orange')\n",
    "plt.xticks(fontsize=20, rotation=90)\n",
    "plt.yticks(fontsize=20)\n",
    "plt.show()"
   ]
  },
  {
   "cell_type": "code",
   "execution_count": 42,
   "id": "99c12f9d",
   "metadata": {},
   "outputs": [
    {
     "data": {
      "text/plain": [
       "array(['Road', 'Air', 'Post', 'Sea', 'Rail', 'Self Propulsion',\n",
       "       'Inland Waterway', 'Fixed Mechanism'], dtype=object)"
      ]
     },
     "execution_count": 42,
     "metadata": {},
     "output_type": "execute_result"
    }
   ],
   "source": [
    "# liter per 100 km\n",
    "\n",
    "# 0.25 l/km truck https://www.webfleet.com/en_gb/webfleet/blog/do-you-know-the-diesel-consumption-of-a-lorry-per-km/\n",
    "\n",
    "# Sea 37.0 – 46.3 km/hr https://transportgeography.org/contents/chapter4/transportation-and-energy/fuel-consumption-containerships/\n",
    "\n",
    "# 0.12 l / km IWT https://www.smartfreightcentre.org/pdf/GLEC-report-on-GHG-Emission-Factors-for-Inland-Waterways-Transport-SFC2018.pdf\n",
    "\n",
    "# rail 7.97 L/ km https://www.researchgate.net/publication/321058362_Evaluation_of_emission_inventory_of_air_pollutants_from_railroad_and_air_transportation_in_Isfahan_metropolitan_in_2016/figures?lo=1\n",
    "\n",
    "# air 12 liters per kilometer https://science.howstuffworks.com/transport/flight/modern/question192.htm\n",
    "\n",
    "# post, self p, fixed\n",
    "df_tot['TYPE_TRANSP_MODE'].unique()"
   ]
  },
  {
   "cell_type": "code",
   "execution_count": 43,
   "id": "64b6a4ec",
   "metadata": {},
   "outputs": [],
   "source": [
    "dict_summ = {}\n",
    "for i in TradeGraph.nodes():\n",
    "    summ = 0\n",
    "    for j in TradeGraph[i]:\n",
    "        summ = summ + TradeGraph[i][j]['Greenness'] # for each node I calculate the sum of the value of the out-edge\n",
    "    dict_summ[i] = summ\n",
    "        \n",
    "df_green = pd.DataFrame(list(dict_summ.items()), columns=['country', 'greenness']).sort_values(by='greenness', ascending=False).reset_index(drop=True)"
   ]
  },
  {
   "cell_type": "code",
   "execution_count": 44,
   "id": "02fc6733",
   "metadata": {},
   "outputs": [
    {
     "data": {
      "text/html": [
       "<div>\n",
       "<style scoped>\n",
       "    .dataframe tbody tr th:only-of-type {\n",
       "        vertical-align: middle;\n",
       "    }\n",
       "\n",
       "    .dataframe tbody tr th {\n",
       "        vertical-align: top;\n",
       "    }\n",
       "\n",
       "    .dataframe thead th {\n",
       "        text-align: right;\n",
       "    }\n",
       "</style>\n",
       "<table border=\"1\" class=\"dataframe\">\n",
       "  <thead>\n",
       "    <tr style=\"text-align: right;\">\n",
       "      <th></th>\n",
       "      <th>country</th>\n",
       "      <th>greenness</th>\n",
       "    </tr>\n",
       "  </thead>\n",
       "  <tbody>\n",
       "    <tr>\n",
       "      <th>0</th>\n",
       "      <td>IE</td>\n",
       "      <td>5174.517842</td>\n",
       "    </tr>\n",
       "    <tr>\n",
       "      <th>1</th>\n",
       "      <td>HR</td>\n",
       "      <td>2497.685102</td>\n",
       "    </tr>\n",
       "    <tr>\n",
       "      <th>2</th>\n",
       "      <td>SE</td>\n",
       "      <td>2304.464067</td>\n",
       "    </tr>\n",
       "    <tr>\n",
       "      <th>3</th>\n",
       "      <td>LT</td>\n",
       "      <td>919.682753</td>\n",
       "    </tr>\n",
       "    <tr>\n",
       "      <th>4</th>\n",
       "      <td>DE</td>\n",
       "      <td>603.263231</td>\n",
       "    </tr>\n",
       "    <tr>\n",
       "      <th>5</th>\n",
       "      <td>BG</td>\n",
       "      <td>307.412610</td>\n",
       "    </tr>\n",
       "    <tr>\n",
       "      <th>6</th>\n",
       "      <td>EE</td>\n",
       "      <td>294.933584</td>\n",
       "    </tr>\n",
       "    <tr>\n",
       "      <th>7</th>\n",
       "      <td>FR</td>\n",
       "      <td>241.211863</td>\n",
       "    </tr>\n",
       "    <tr>\n",
       "      <th>8</th>\n",
       "      <td>ES</td>\n",
       "      <td>75.979250</td>\n",
       "    </tr>\n",
       "    <tr>\n",
       "      <th>9</th>\n",
       "      <td>GB</td>\n",
       "      <td>0.000000</td>\n",
       "    </tr>\n",
       "    <tr>\n",
       "      <th>10</th>\n",
       "      <td>GE</td>\n",
       "      <td>0.000000</td>\n",
       "    </tr>\n",
       "    <tr>\n",
       "      <th>11</th>\n",
       "      <td>NO</td>\n",
       "      <td>0.000000</td>\n",
       "    </tr>\n",
       "    <tr>\n",
       "      <th>12</th>\n",
       "      <td>BA</td>\n",
       "      <td>0.000000</td>\n",
       "    </tr>\n",
       "    <tr>\n",
       "      <th>13</th>\n",
       "      <td>RU</td>\n",
       "      <td>0.000000</td>\n",
       "    </tr>\n",
       "    <tr>\n",
       "      <th>14</th>\n",
       "      <td>CH</td>\n",
       "      <td>0.000000</td>\n",
       "    </tr>\n",
       "    <tr>\n",
       "      <th>15</th>\n",
       "      <td>TR</td>\n",
       "      <td>0.000000</td>\n",
       "    </tr>\n",
       "    <tr>\n",
       "      <th>16</th>\n",
       "      <td>MK</td>\n",
       "      <td>0.000000</td>\n",
       "    </tr>\n",
       "  </tbody>\n",
       "</table>\n",
       "</div>"
      ],
      "text/plain": [
       "   country    greenness\n",
       "0       IE  5174.517842\n",
       "1       HR  2497.685102\n",
       "2       SE  2304.464067\n",
       "3       LT   919.682753\n",
       "4       DE   603.263231\n",
       "5       BG   307.412610\n",
       "6       EE   294.933584\n",
       "7       FR   241.211863\n",
       "8       ES    75.979250\n",
       "9       GB     0.000000\n",
       "10      GE     0.000000\n",
       "11      NO     0.000000\n",
       "12      BA     0.000000\n",
       "13      RU     0.000000\n",
       "14      CH     0.000000\n",
       "15      TR     0.000000\n",
       "16      MK     0.000000"
      ]
     },
     "execution_count": 44,
     "metadata": {},
     "output_type": "execute_result"
    }
   ],
   "source": [
    "df_green"
   ]
  },
  {
   "cell_type": "code",
   "execution_count": 45,
   "id": "e6dd027a-2b73-44e5-bad3-f6646e3ba64f",
   "metadata": {},
   "outputs": [
    {
     "data": {
      "text/html": [
       "<div>\n",
       "<style scoped>\n",
       "    .dataframe tbody tr th:only-of-type {\n",
       "        vertical-align: middle;\n",
       "    }\n",
       "\n",
       "    .dataframe tbody tr th {\n",
       "        vertical-align: top;\n",
       "    }\n",
       "\n",
       "    .dataframe thead th {\n",
       "        text-align: right;\n",
       "    }\n",
       "</style>\n",
       "<table border=\"1\" class=\"dataframe\">\n",
       "  <thead>\n",
       "    <tr style=\"text-align: right;\">\n",
       "      <th></th>\n",
       "      <th>DECLARANT_ISO</th>\n",
       "      <th>PARTNER_ISO</th>\n",
       "      <th>TYPE_FLOW</th>\n",
       "      <th>TYPE_TRANSP_MODE</th>\n",
       "      <th>Distance</th>\n",
       "      <th>VALUE_IN_EUROS</th>\n",
       "      <th>QUANTITY_IN_KG</th>\n",
       "    </tr>\n",
       "  </thead>\n",
       "  <tbody>\n",
       "    <tr>\n",
       "      <th>0</th>\n",
       "      <td>AT</td>\n",
       "      <td>AD</td>\n",
       "      <td>export</td>\n",
       "      <td>Air</td>\n",
       "      <td>1.069266e+06</td>\n",
       "      <td>3300598</td>\n",
       "      <td>18592</td>\n",
       "    </tr>\n",
       "    <tr>\n",
       "      <th>1</th>\n",
       "      <td>AT</td>\n",
       "      <td>AD</td>\n",
       "      <td>export</td>\n",
       "      <td>Road</td>\n",
       "      <td>1.069266e+06</td>\n",
       "      <td>21977120</td>\n",
       "      <td>1274898</td>\n",
       "    </tr>\n",
       "    <tr>\n",
       "      <th>2</th>\n",
       "      <td>AT</td>\n",
       "      <td>AD</td>\n",
       "      <td>export</td>\n",
       "      <td>Sea</td>\n",
       "      <td>1.069266e+06</td>\n",
       "      <td>1699598</td>\n",
       "      <td>51770</td>\n",
       "    </tr>\n",
       "    <tr>\n",
       "      <th>3</th>\n",
       "      <td>AT</td>\n",
       "      <td>AD</td>\n",
       "      <td>import</td>\n",
       "      <td>Air</td>\n",
       "      <td>1.069266e+06</td>\n",
       "      <td>317388</td>\n",
       "      <td>688</td>\n",
       "    </tr>\n",
       "    <tr>\n",
       "      <th>4</th>\n",
       "      <td>AT</td>\n",
       "      <td>AD</td>\n",
       "      <td>import</td>\n",
       "      <td>Road</td>\n",
       "      <td>1.069266e+06</td>\n",
       "      <td>59058</td>\n",
       "      <td>6500</td>\n",
       "    </tr>\n",
       "  </tbody>\n",
       "</table>\n",
       "</div>"
      ],
      "text/plain": [
       "  DECLARANT_ISO PARTNER_ISO TYPE_FLOW TYPE_TRANSP_MODE      Distance  \\\n",
       "0            AT          AD    export              Air  1.069266e+06   \n",
       "1            AT          AD    export             Road  1.069266e+06   \n",
       "2            AT          AD    export              Sea  1.069266e+06   \n",
       "3            AT          AD    import              Air  1.069266e+06   \n",
       "4            AT          AD    import             Road  1.069266e+06   \n",
       "\n",
       "   VALUE_IN_EUROS  QUANTITY_IN_KG  \n",
       "0         3300598           18592  \n",
       "1        21977120         1274898  \n",
       "2         1699598           51770  \n",
       "3          317388             688  \n",
       "4           59058            6500  "
      ]
     },
     "execution_count": 45,
     "metadata": {},
     "output_type": "execute_result"
    }
   ],
   "source": [
    "test_df = df_tot.groupby(['DECLARANT_ISO', 'PARTNER_ISO','TYPE_FLOW', 'TYPE_TRANSP_MODE','Distance'])[['DECLARANT_ISO', 'PARTNER_ISO', 'VALUE_IN_EUROS', 'QUANTITY_IN_KG']].sum().reset_index()\n",
    "test_df = test_df.loc[test_df['TYPE_TRANSP_MODE'].isin(['Road', 'Air', 'Sea', 'Rail','Inland Waterway'])].reset_index(drop=True)\n",
    "test_df.head()"
   ]
  },
  {
   "cell_type": "code",
   "execution_count": 46,
   "id": "c9e7b295-019b-43f9-8c97-42c744943c04",
   "metadata": {},
   "outputs": [],
   "source": [
    "#Assuming 45km/hr speed for cargo ships\n",
    "#Assuming ships consume 9936.70 l/hr \n",
    "#https://finance.yahoo.com/news/many-gallons-fuel-does-container-142703880.html\n",
    "#https://transportgeography.org/contents/chapter4/transportation-and-energy/fuel-consumption-containerships/\n",
    "speed = 45"
   ]
  },
  {
   "cell_type": "code",
   "execution_count": 47,
   "id": "4665e49c",
   "metadata": {},
   "outputs": [],
   "source": [
    "def PlotGreenGraph(G):\n",
    "    labels = {e: str(e) for e in G.edges}\n",
    "    # pos = nx.spring_layout(G, k=10000/np.sqrt(G.order()), iterations=20, scale=10) problem divided by 0\n",
    "    pos = nx.spring_layout(G, iterations=20, scale=10)\n",
    "    plt.figure(3, figsize=(20, 14))\n",
    "    \n",
    "    nx.draw(G, pos=pos, with_labels=True, node_size=2000, node_color='orange')\n",
    "\n",
    "    # Create edge labels\n",
    "    labels = {e: G.edges[e]['Quantity'] for e in G.edges}\n",
    "\n",
    "    # Draw edge labels according to node positions\n",
    "    nx.draw_networkx_edge_labels(G, pos, edge_labels=labels)\n",
    "    \n",
    "    return None"
   ]
  },
  {
   "cell_type": "code",
   "execution_count": 48,
   "id": "7e23bb0a-51c8-4b65-aef8-2c49d1fcc8b8",
   "metadata": {},
   "outputs": [],
   "source": [
    "def GreennessGraph(df, month = 1, year = 2019, type_flow = 'export', product = None, t = 1):\n",
    "    \n",
    "    # product\n",
    "    if product != None or product != '':\n",
    "        df = df[df['PRODUCT_CODE']==product].reset_index(drop=True)\n",
    "    else:\n",
    "        return 'Select the product code!'\n",
    "    \n",
    "    # month and year\n",
    "    if month == None or year == None or month > 12 or year > 2021 or year < 2019:\n",
    "        return 'Insert correctly the month and year!'\n",
    "    \n",
    "    if month != None and year != None:\n",
    "        df = df[(df['MONTH'] == month) & (df['YEAR'] == year)].reset_index(drop=True)\n",
    "\n",
    "    df = df[df['TYPE_FLOW'] == type_flow].reset_index(drop=True) \n",
    "    \n",
    "    df['Distance'] = round(df['Distance'], 3)\n",
    "    \n",
    "    # start changes\n",
    "    df = df.groupby(['DECLARANT_ISO', 'PARTNER_ISO', 'PRODUCT_CODE','TYPE_TRANSP_MODE', 'Distance'])[['DECLARANT_ISO', 'PARTNER_ISO', 'VALUE_IN_EUROS', 'QUANTITY_IN_KG', 'NT']].sum().reset_index()\n",
    "    df = df.loc[df['TYPE_TRANSP_MODE'].isin(['Road', 'Air', 'Sea', 'Rail','Inland Waterway'])].reset_index(drop=True)\n",
    "    speed = 45\n",
    "    \n",
    "    def greeness(row):\n",
    "        if row['TYPE_TRANSP_MODE'] == 'Sea':\n",
    "            return row['QUANTITY_IN_KG']/(row['NT']*(9936.70 * row['Distance'] / (speed*1000)))\n",
    "        elif row['TYPE_TRANSP_MODE'] == 'Air':\n",
    "            return row['QUANTITY_IN_KG']/(row['NT']*(12*row['Distance']/1000))\n",
    "        elif row['TYPE_TRANSP_MODE'] == 'Inland Waterway':\n",
    "            return row['QUANTITY_IN_KG']/(row['NT']*(0.12*row['Distance']/1000))\n",
    "        elif row['TYPE_TRANSP_MODE'] == 'Road':\n",
    "            return row['QUANTITY_IN_KG']/(row['NT']*(0.25*row['Distance']/1000))\n",
    "        elif row['TYPE_TRANSP_MODE'] == 'Rail':\n",
    "            return row['QUANTITY_IN_KG']/(row['NT']*(7.97*row['Distance']/1000))\n",
    "\n",
    "    df['Greenness'] = df.apply(lambda row: greeness(row), axis=1) \n",
    "    \n",
    "    tr = int(len(df)*t/100)\n",
    "    df = df.iloc[:tr+1]\n",
    "    \n",
    "    G = nx.DiGraph()\n",
    "    # nodes\n",
    "    nodes = df['DECLARANT_ISO'].append(df['PARTNER_ISO']).unique()\n",
    "    \n",
    "    # graph\n",
    "    G.add_nodes_from(nodes)\n",
    "\n",
    "    for index,row in df.iterrows():\n",
    "        G.add_edge(row['DECLARANT_ISO'],row['PARTNER_ISO'],\n",
    "                                             Value = row.VALUE_IN_EUROS,\n",
    "                                             Quantity = row.QUANTITY_IN_KG,\n",
    "                                            Distance = row.Distance,\n",
    "                                            Greenness = row.Greenness)\n",
    "\n",
    "    \n",
    "    return G"
   ]
  },
  {
   "cell_type": "code",
   "execution_count": 49,
   "id": "84d2d32f",
   "metadata": {},
   "outputs": [],
   "source": [
    "def DFGreenGraph(G, month=None, year=None):\n",
    "    dict_summ = {}\n",
    "    for i in G.nodes():\n",
    "        summ = 0\n",
    "        for j in G[i]:\n",
    "            summ += G[i][j]['Greenness'] # for each node I calculate the sum of the GREENNESS of the out-edge\n",
    "        dict_summ[i] = summ\n",
    "        \n",
    "    dict_summQ = {}\n",
    "    for i in G.nodes():\n",
    "        summQ = 0\n",
    "        for j in G[i]:\n",
    "            summQ += G[i][j]['Quantity'] # for each node I calculate the sum of the GREENNESS of the out-edge\n",
    "        dict_summQ[i] = summQ\n",
    "\n",
    "    df_greenG = pd.DataFrame(list(dict_summ.items()), columns=['Country', 'Greenness']).sort_values(by='Greenness', ascending=False).reset_index(drop=True)\n",
    "    df_greenQ = pd.DataFrame(list(dict_summQ.items()), columns=['Country', 'Quantity'])\n",
    "    df_GQ = df_greenG.merge(df_greenQ, on='Country')\n",
    "    df_GQ['month'] = month\n",
    "    df_GQ['year'] = year\n",
    "    df_GQ['date'] = datetime.datetime(year, month, 1)\n",
    "    df_GQ = df_GQ[df_GQ['Greenness']>0]\n",
    "    return df_GQ"
   ]
  },
  {
   "cell_type": "code",
   "execution_count": 50,
   "id": "500767a5-e274-46ed-b875-cbe8e6ff526c",
   "metadata": {},
   "outputs": [],
   "source": [
    "GreenGraph = GreennessGraph(df_tot, 4, 2019, product = '210690', t = 10)"
   ]
  },
  {
   "cell_type": "code",
   "execution_count": 51,
   "id": "0fff34a0",
   "metadata": {},
   "outputs": [],
   "source": [
    "d = DFGreenGraph(GreenGraph, month=3, year=2021)"
   ]
  },
  {
   "cell_type": "code",
   "execution_count": 52,
   "id": "6a105bb5-efda-46fe-abab-20d0ca246c31",
   "metadata": {},
   "outputs": [],
   "source": [
    "dict_summ = {}\n",
    "for i in GreenGraph.nodes():\n",
    "    summ = 0\n",
    "    for j in GreenGraph[i]:\n",
    "        summ += GreenGraph[i][j]['Greenness'] # for each node I calculate the sum of the GREENNESS of the out-edge\n",
    "    dict_summ[i] = summ\n",
    "        \n",
    "df_green = pd.DataFrame(list(dict_summ.items()), columns=['Country', 'Greenness']).sort_values(by='Greenness', ascending=False).reset_index(drop=True)"
   ]
  },
  {
   "cell_type": "code",
   "execution_count": 53,
   "id": "b643ce6e-7927-4bed-9a03-cbc22faeb7c1",
   "metadata": {},
   "outputs": [
    {
     "data": {
      "text/html": [
       "<div>\n",
       "<style scoped>\n",
       "    .dataframe tbody tr th:only-of-type {\n",
       "        vertical-align: middle;\n",
       "    }\n",
       "\n",
       "    .dataframe tbody tr th {\n",
       "        vertical-align: top;\n",
       "    }\n",
       "\n",
       "    .dataframe thead th {\n",
       "        text-align: right;\n",
       "    }\n",
       "</style>\n",
       "<table border=\"1\" class=\"dataframe\">\n",
       "  <thead>\n",
       "    <tr style=\"text-align: right;\">\n",
       "      <th></th>\n",
       "      <th>Country</th>\n",
       "      <th>Greenness</th>\n",
       "    </tr>\n",
       "  </thead>\n",
       "  <tbody>\n",
       "    <tr>\n",
       "      <th>0</th>\n",
       "      <td>AT</td>\n",
       "      <td>10555.177772</td>\n",
       "    </tr>\n",
       "    <tr>\n",
       "      <th>1</th>\n",
       "      <td>BE</td>\n",
       "      <td>33.189174</td>\n",
       "    </tr>\n",
       "  </tbody>\n",
       "</table>\n",
       "</div>"
      ],
      "text/plain": [
       "  Country     Greenness\n",
       "0      AT  10555.177772\n",
       "1      BE     33.189174"
      ]
     },
     "execution_count": 53,
     "metadata": {},
     "output_type": "execute_result"
    }
   ],
   "source": [
    "df_green[df_green['Greenness']>0]"
   ]
  },
  {
   "cell_type": "code",
   "execution_count": 54,
   "id": "c603c935-84c0-4002-b131-aa7325d24717",
   "metadata": {},
   "outputs": [
    {
     "data": {
      "image/png": "[encoded data removed]",
      "text/plain": [
       "<Figure size 432x288 with 1 Axes>"
      ]
     },
     "metadata": {
      "needs_background": "light"
     },
     "output_type": "display_data"
    }
   ],
   "source": [
    "degrees  = dict(GreenGraph.degree())\n",
    "degree_values = sorted(set(degrees.values()))\n",
    "histogram = [list(degrees.values()).count(i)/float(nx.number_of_nodes(GreenGraph)) for i in degree_values]\n",
    "plt.bar(degree_values,histogram)\n",
    "plt.xlabel('Degree')\n",
    "plt.ylabel('Fractionof Nodes')\n",
    "plt.show()"
   ]
  },
  {
   "cell_type": "code",
   "execution_count": 55,
   "id": "0d557190",
   "metadata": {},
   "outputs": [],
   "source": [
    "year = [2019, 2020, 2021]\n",
    "month = [1,2,3,4,5,6,7,8,9,10,11,12]\n",
    "df = pd.DataFrame({})\n",
    "for y in year:\n",
    "    if y == 2021:\n",
    "        month = list(range(1, 7))   \n",
    "    for m in month:\n",
    "        greenG = GreennessGraph(df_tot, m, y, product = '210690', t = 10)\n",
    "        greenDF = DFGreenGraph(greenG, month=m, year=y)\n",
    "        df = pd.concat([df, greenDF], copy=False)\n",
    "df = df.reset_index(drop=True)"
   ]
  },
  {
   "cell_type": "code",
   "execution_count": 60,
   "id": "1d099a8c",
   "metadata": {},
   "outputs": [
    {
     "data": {
      "application/vnd.plotly.v1+json": {
       "config": {
        "plotlyServerURL": "https://plot.ly"
       },
       "data": [
        {
         "hovertemplate": "<b>%{hovertext}</b><br><br>year=2019<br>month=%{x}<br>Greenness=%{y}<extra></extra>",
         "hovertext": [
          "AT",
          "AT",
          "AT",
          "AT",
          "AT",
          "AT",
          "AT",
          "AT",
          "AT",
          "AT",
          "AT",
          "AT"
         ],
         "ids": [
          "AT",
          "AT",
          "AT",
          "AT",
          "AT",
          "AT",
          "AT",
          "AT",
          "AT",
          "AT",
          "AT",
          "AT"
         ],
         "legendgroup": "",
         "line": {
          "color": "#636efa",
          "dash": "solid"
         },
         "marker": {
          "symbol": "circle"
         },
         "mode": "lines+markers",
         "name": "",
         "orientation": "v",
         "showlegend": false,
         "type": "scatter",
         "x": [
          1,
          2,
          3,
          4,
          5,
          6,
          7,
          8,
          9,
          10,
          11,
          12
         ],
         "xaxis": "x",
         "y": [
          8376.80768946494,
          7972.9269707948915,
          9600.459096833229,
          10555.177771719615,
          9350.566153060021,
          9136.227545647256,
          11142.14747784071,
          9143.755433623746,
          8975.026231547656,
          2237.463011268516,
          8950.835072070446,
          7337.912764885008
         ],
         "yaxis": "y"
        }
       ],
       "frames": [
        {
         "data": [
          {
           "hovertemplate": "<b>%{hovertext}</b><br><br>year=2019<br>month=%{x}<br>Greenness=%{y}<extra></extra>",
           "hovertext": [
            "AT",
            "AT",
            "AT",
            "AT",
            "AT",
            "AT",
            "AT",
            "AT",
            "AT",
            "AT",
            "AT",
            "AT"
           ],
           "ids": [
            "AT",
            "AT",
            "AT",
            "AT",
            "AT",
            "AT",
            "AT",
            "AT",
            "AT",
            "AT",
            "AT",
            "AT"
           ],
           "legendgroup": "",
           "line": {
            "color": "#636efa",
            "dash": "solid"
           },
           "marker": {
            "symbol": "circle"
           },
           "mode": "lines+markers",
           "name": "",
           "orientation": "v",
           "showlegend": false,
           "type": "scatter",
           "x": [
            1,
            2,
            3,
            4,
            5,
            6,
            7,
            8,
            9,
            10,
            11,
            12
           ],
           "xaxis": "x",
           "y": [
            8376.80768946494,
            7972.9269707948915,
            9600.459096833229,
            10555.177771719615,
            9350.566153060021,
            9136.227545647256,
            11142.14747784071,
            9143.755433623746,
            8975.026231547656,
            2237.463011268516,
            8950.835072070446,
            7337.912764885008
           ],
           "yaxis": "y"
          }
         ],
         "name": "2019"
        },
        {
         "data": [
          {
           "hovertemplate": "<b>%{hovertext}</b><br><br>year=2020<br>month=%{x}<br>Greenness=%{y}<extra></extra>",
           "hovertext": [
            "AT",
            "AT",
            "AT",
            "AT",
            "AT",
            "AT",
            "AT",
            "AT",
            "AT",
            "AT",
            "AT",
            "AT"
           ],
           "ids": [
            "AT",
            "AT",
            "AT",
            "AT",
            "AT",
            "AT",
            "AT",
            "AT",
            "AT",
            "AT",
            "AT",
            "AT"
           ],
           "legendgroup": "",
           "line": {
            "color": "#636efa",
            "dash": "solid"
           },
           "marker": {
            "symbol": "circle"
           },
           "mode": "lines+markers",
           "name": "",
           "orientation": "v",
           "showlegend": false,
           "type": "scatter",
           "x": [
            1,
            2,
            3,
            4,
            5,
            6,
            7,
            8,
            9,
            10,
            11,
            12
           ],
           "xaxis": "x",
           "y": [
            9359.302067817245,
            8163.670654157776,
            10657.525529847597,
            7390.224906348732,
            8763.539186069183,
            7660.544409729556,
            9292.146849520635,
            9596.83392893359,
            8782.524742125375,
            8426.180005504602,
            9005.956508429417,
            8510.561892428566
           ],
           "yaxis": "y"
          }
         ],
         "name": "2020"
        },
        {
         "data": [
          {
           "hovertemplate": "<b>%{hovertext}</b><br><br>year=2021<br>month=%{x}<br>Greenness=%{y}<extra></extra>",
           "hovertext": [
            "AT",
            "AT",
            "AT",
            "AT",
            "AT",
            "AT"
           ],
           "ids": [
            "AT",
            "AT",
            "AT",
            "AT",
            "AT",
            "AT"
           ],
           "legendgroup": "",
           "line": {
            "color": "#636efa",
            "dash": "solid"
           },
           "marker": {
            "symbol": "circle"
           },
           "mode": "lines+markers",
           "name": "",
           "orientation": "v",
           "showlegend": false,
           "type": "scatter",
           "x": [
            1,
            2,
            3,
            4,
            5,
            6
           ],
           "xaxis": "x",
           "y": [
            6930.640989912302,
            8169.025633347923,
            10782.156427534923,
            8767.301582269043,
            10120.035845916007,
            10751.002723695468
           ],
           "yaxis": "y"
          }
         ],
         "name": "2021"
        }
       ],
       "layout": {
        "legend": {
         "tracegroupgap": 0
        },
        "margin": {
         "t": 60
        },
        "sliders": [
         {
          "active": 0,
          "currentvalue": {
           "prefix": "year="
          },
          "len": 0.9,
          "pad": {
           "b": 10,
           "t": 60
          },
          "steps": [
           {
            "args": [
             [
              "2019"
             ],
             {
              "frame": {
               "duration": 0,
               "redraw": false
              },
              "fromcurrent": true,
              "mode": "immediate",
              "transition": {
               "duration": 0,
               "easing": "linear"
              }
             }
            ],
            "label": "2019",
            "method": "animate"
           },
           {
            "args": [
             [
              "2020"
             ],
             {
              "frame": {
               "duration": 0,
               "redraw": false
              },
              "fromcurrent": true,
              "mode": "immediate",
              "transition": {
               "duration": 0,
               "easing": "linear"
              }
             }
            ],
            "label": "2020",
            "method": "animate"
           },
           {
            "args": [
             [
              "2021"
             ],
             {
              "frame": {
               "duration": 0,
               "redraw": false
              },
              "fromcurrent": true,
              "mode": "immediate",
              "transition": {
               "duration": 0,
               "easing": "linear"
              }
             }
            ],
            "label": "2021",
            "method": "animate"
           }
          ],
          "x": 0.1,
          "xanchor": "left",
          "y": 0,
          "yanchor": "top"
         }
        ],
        "template": {
         "data": {
          "bar": [
           {
            "error_x": {
             "color": "#2a3f5f"
            },
            "error_y": {
             "color": "#2a3f5f"
            },
            "marker": {
             "line": {
              "color": "#E5ECF6",
              "width": 0.5
             },
             "pattern": {
              "fillmode": "overlay",
              "size": 10,
              "solidity": 0.2
             }
            },
            "type": "bar"
           }
          ],
          "barpolar": [
           {
            "marker": {
             "line": {
              "color": "#E5ECF6",
              "width": 0.5
             },
             "pattern": {
              "fillmode": "overlay",
              "size": 10,
              "solidity": 0.2
             }
            },
            "type": "barpolar"
           }
          ],
          "carpet": [
           {
            "aaxis": {
             "endlinecolor": "#2a3f5f",
             "gridcolor": "white",
             "linecolor": "white",
             "minorgridcolor": "white",
             "startlinecolor": "#2a3f5f"
            },
            "baxis": {
             "endlinecolor": "#2a3f5f",
             "gridcolor": "white",
             "linecolor": "white",
             "minorgridcolor": "white",
             "startlinecolor": "#2a3f5f"
            },
            "type": "carpet"
           }
          ],
          "choropleth": [
           {
            "colorbar": {
             "outlinewidth": 0,
             "ticks": ""
            },
            "type": "choropleth"
           }
          ],
          "contour": [
           {
            "colorbar": {
             "outlinewidth": 0,
             "ticks": ""
            },
            "colorscale": [
             [
              0,
              "#0d0887"
             ],
             [
              0.1111111111111111,
              "#46039f"
             ],
             [
              0.2222222222222222,
              "#7201a8"
             ],
             [
              0.3333333333333333,
              "#9c179e"
             ],
             [
              0.4444444444444444,
              "#bd3786"
             ],
             [
              0.5555555555555556,
              "#d8576b"
             ],
             [
              0.6666666666666666,
              "#ed7953"
             ],
             [
              0.7777777777777778,
              "#fb9f3a"
             ],
             [
              0.8888888888888888,
              "#fdca26"
             ],
             [
              1,
              "#f0f921"
             ]
            ],
            "type": "contour"
           }
          ],
          "contourcarpet": [
           {
            "colorbar": {
             "outlinewidth": 0,
             "ticks": ""
            },
            "type": "contourcarpet"
           }
          ],
          "heatmap": [
           {
            "colorbar": {
             "outlinewidth": 0,
             "ticks": ""
            },
            "colorscale": [
             [
              0,
              "#0d0887"
             ],
             [
              0.1111111111111111,
              "#46039f"
             ],
             [
              0.2222222222222222,
              "#7201a8"
             ],
             [
              0.3333333333333333,
              "#9c179e"
             ],
             [
              0.4444444444444444,
              "#bd3786"
             ],
             [
              0.5555555555555556,
              "#d8576b"
             ],
             [
              0.6666666666666666,
              "#ed7953"
             ],
             [
              0.7777777777777778,
              "#fb9f3a"
             ],
             [
              0.8888888888888888,
              "#fdca26"
             ],
             [
              1,
              "#f0f921"
             ]
            ],
            "type": "heatmap"
           }
          ],
          "heatmapgl": [
           {
            "colorbar": {
             "outlinewidth": 0,
             "ticks": ""
            },
            "colorscale": [
             [
              0,
              "#0d0887"
             ],
             [
              0.1111111111111111,
              "#46039f"
             ],
             [
              0.2222222222222222,
              "#7201a8"
             ],
             [
              0.3333333333333333,
              "#9c179e"
             ],
             [
              0.4444444444444444,
              "#bd3786"
             ],
             [
              0.5555555555555556,
              "#d8576b"
             ],
             [
              0.6666666666666666,
              "#ed7953"
             ],
             [
              0.7777777777777778,
              "#fb9f3a"
             ],
             [
              0.8888888888888888,
              "#fdca26"
             ],
             [
              1,
              "#f0f921"
             ]
            ],
            "type": "heatmapgl"
           }
          ],
          "histogram": [
           {
            "marker": {
             "pattern": {
              "fillmode": "overlay",
              "size": 10,
              "solidity": 0.2
             }
            },
            "type": "histogram"
           }
          ],
          "histogram2d": [
           {
            "colorbar": {
             "outlinewidth": 0,
             "ticks": ""
            },
            "colorscale": [
             [
              0,
              "#0d0887"
             ],
             [
              0.1111111111111111,
              "#46039f"
             ],
             [
              0.2222222222222222,
              "#7201a8"
             ],
             [
              0.3333333333333333,
              "#9c179e"
             ],
             [
              0.4444444444444444,
              "#bd3786"
             ],
             [
              0.5555555555555556,
              "#d8576b"
             ],
             [
              0.6666666666666666,
              "#ed7953"
             ],
             [
              0.7777777777777778,
              "#fb9f3a"
             ],
             [
              0.8888888888888888,
              "#fdca26"
             ],
             [
              1,
              "#f0f921"
             ]
            ],
            "type": "histogram2d"
           }
          ],
          "histogram2dcontour": [
           {
            "colorbar": {
             "outlinewidth": 0,
             "ticks": ""
            },
            "colorscale": [
             [
              0,
              "#0d0887"
             ],
             [
              0.1111111111111111,
              "#46039f"
             ],
             [
              0.2222222222222222,
              "#7201a8"
             ],
             [
              0.3333333333333333,
              "#9c179e"
             ],
             [
              0.4444444444444444,
              "#bd3786"
             ],
             [
              0.5555555555555556,
              "#d8576b"
             ],
             [
              0.6666666666666666,
              "#ed7953"
             ],
             [
              0.7777777777777778,
              "#fb9f3a"
             ],
             [
              0.8888888888888888,
              "#fdca26"
             ],
             [
              1,
              "#f0f921"
             ]
            ],
            "type": "histogram2dcontour"
           }
          ],
          "mesh3d": [
           {
            "colorbar": {
             "outlinewidth": 0,
             "ticks": ""
            },
            "type": "mesh3d"
           }
          ],
          "parcoords": [
           {
            "line": {
             "colorbar": {
              "outlinewidth": 0,
              "ticks": ""
             }
            },
            "type": "parcoords"
           }
          ],
          "pie": [
           {
            "automargin": true,
            "type": "pie"
           }
          ],
          "scatter": [
           {
            "marker": {
             "colorbar": {
              "outlinewidth": 0,
              "ticks": ""
             }
            },
            "type": "scatter"
           }
          ],
          "scatter3d": [
           {
            "line": {
             "colorbar": {
              "outlinewidth": 0,
              "ticks": ""
             }
            },
            "marker": {
             "colorbar": {
              "outlinewidth": 0,
              "ticks": ""
             }
            },
            "type": "scatter3d"
           }
          ],
          "scattercarpet": [
           {
            "marker": {
             "colorbar": {
              "outlinewidth": 0,
              "ticks": ""
             }
            },
            "type": "scattercarpet"
           }
          ],
          "scattergeo": [
           {
            "marker": {
             "colorbar": {
              "outlinewidth": 0,
              "ticks": ""
             }
            },
            "type": "scattergeo"
           }
          ],
          "scattergl": [
           {
            "marker": {
             "colorbar": {
              "outlinewidth": 0,
              "ticks": ""
             }
            },
            "type": "scattergl"
           }
          ],
          "scattermapbox": [
           {
            "marker": {
             "colorbar": {
              "outlinewidth": 0,
              "ticks": ""
             }
            },
            "type": "scattermapbox"
           }
          ],
          "scatterpolar": [
           {
            "marker": {
             "colorbar": {
              "outlinewidth": 0,
              "ticks": ""
             }
            },
            "type": "scatterpolar"
           }
          ],
          "scatterpolargl": [
           {
            "marker": {
             "colorbar": {
              "outlinewidth": 0,
              "ticks": ""
             }
            },
            "type": "scatterpolargl"
           }
          ],
          "scatterternary": [
           {
            "marker": {
             "colorbar": {
              "outlinewidth": 0,
              "ticks": ""
             }
            },
            "type": "scatterternary"
           }
          ],
          "surface": [
           {
            "colorbar": {
             "outlinewidth": 0,
             "ticks": ""
            },
            "colorscale": [
             [
              0,
              "#0d0887"
             ],
             [
              0.1111111111111111,
              "#46039f"
             ],
             [
              0.2222222222222222,
              "#7201a8"
             ],
             [
              0.3333333333333333,
              "#9c179e"
             ],
             [
              0.4444444444444444,
              "#bd3786"
             ],
             [
              0.5555555555555556,
              "#d8576b"
             ],
             [
              0.6666666666666666,
              "#ed7953"
             ],
             [
              0.7777777777777778,
              "#fb9f3a"
             ],
             [
              0.8888888888888888,
              "#fdca26"
             ],
             [
              1,
              "#f0f921"
             ]
            ],
            "type": "surface"
           }
          ],
          "table": [
           {
            "cells": {
             "fill": {
              "color": "#EBF0F8"
             },
             "line": {
              "color": "white"
             }
            },
            "header": {
             "fill": {
              "color": "#C8D4E3"
             },
             "line": {
              "color": "white"
             }
            },
            "type": "table"
           }
          ]
         },
         "layout": {
          "annotationdefaults": {
           "arrowcolor": "#2a3f5f",
           "arrowhead": 0,
           "arrowwidth": 1
          },
          "autotypenumbers": "strict",
          "coloraxis": {
           "colorbar": {
            "outlinewidth": 0,
            "ticks": ""
           }
          },
          "colorscale": {
           "diverging": [
            [
             0,
             "#8e0152"
            ],
            [
             0.1,
             "#c51b7d"
            ],
            [
             0.2,
             "#de77ae"
            ],
            [
             0.3,
             "#f1b6da"
            ],
            [
             0.4,
             "#fde0ef"
            ],
            [
             0.5,
             "#f7f7f7"
            ],
            [
             0.6,
             "#e6f5d0"
            ],
            [
             0.7,
             "#b8e186"
            ],
            [
             0.8,
             "#7fbc41"
            ],
            [
             0.9,
             "#4d9221"
            ],
            [
             1,
             "#276419"
            ]
           ],
           "sequential": [
            [
             0,
             "#0d0887"
            ],
            [
             0.1111111111111111,
             "#46039f"
            ],
            [
             0.2222222222222222,
             "#7201a8"
            ],
            [
             0.3333333333333333,
             "#9c179e"
            ],
            [
             0.4444444444444444,
             "#bd3786"
            ],
            [
             0.5555555555555556,
             "#d8576b"
            ],
            [
             0.6666666666666666,
             "#ed7953"
            ],
            [
             0.7777777777777778,
             "#fb9f3a"
            ],
            [
             0.8888888888888888,
             "#fdca26"
            ],
            [
             1,
             "#f0f921"
            ]
           ],
           "sequentialminus": [
            [
             0,
             "#0d0887"
            ],
            [
             0.1111111111111111,
             "#46039f"
            ],
            [
             0.2222222222222222,
             "#7201a8"
            ],
            [
             0.3333333333333333,
             "#9c179e"
            ],
            [
             0.4444444444444444,
             "#bd3786"
            ],
            [
             0.5555555555555556,
             "#d8576b"
            ],
            [
             0.6666666666666666,
             "#ed7953"
            ],
            [
             0.7777777777777778,
             "#fb9f3a"
            ],
            [
             0.8888888888888888,
             "#fdca26"
            ],
            [
             1,
             "#f0f921"
            ]
           ]
          },
          "colorway": [
           "#636efa",
           "#EF553B",
           "#00cc96",
           "#ab63fa",
           "#FFA15A",
           "#19d3f3",
           "#FF6692",
           "#B6E880",
           "#FF97FF",
           "#FECB52"
          ],
          "font": {
           "color": "#2a3f5f"
          },
          "geo": {
           "bgcolor": "white",
           "lakecolor": "white",
           "landcolor": "#E5ECF6",
           "showlakes": true,
           "showland": true,
           "subunitcolor": "white"
          },
          "hoverlabel": {
           "align": "left"
          },
          "hovermode": "closest",
          "mapbox": {
           "style": "light"
          },
          "paper_bgcolor": "white",
          "plot_bgcolor": "#E5ECF6",
          "polar": {
           "angularaxis": {
            "gridcolor": "white",
            "linecolor": "white",
            "ticks": ""
           },
           "bgcolor": "#E5ECF6",
           "radialaxis": {
            "gridcolor": "white",
            "linecolor": "white",
            "ticks": ""
           }
          },
          "scene": {
           "xaxis": {
            "backgroundcolor": "#E5ECF6",
            "gridcolor": "white",
            "gridwidth": 2,
            "linecolor": "white",
            "showbackground": true,
            "ticks": "",
            "zerolinecolor": "white"
           },
           "yaxis": {
            "backgroundcolor": "#E5ECF6",
            "gridcolor": "white",
            "gridwidth": 2,
            "linecolor": "white",
            "showbackground": true,
            "ticks": "",
            "zerolinecolor": "white"
           },
           "zaxis": {
            "backgroundcolor": "#E5ECF6",
            "gridcolor": "white",
            "gridwidth": 2,
            "linecolor": "white",
            "showbackground": true,
            "ticks": "",
            "zerolinecolor": "white"
           }
          },
          "shapedefaults": {
           "line": {
            "color": "#2a3f5f"
           }
          },
          "ternary": {
           "aaxis": {
            "gridcolor": "white",
            "linecolor": "white",
            "ticks": ""
           },
           "baxis": {
            "gridcolor": "white",
            "linecolor": "white",
            "ticks": ""
           },
           "bgcolor": "#E5ECF6",
           "caxis": {
            "gridcolor": "white",
            "linecolor": "white",
            "ticks": ""
           }
          },
          "title": {
           "x": 0.05
          },
          "xaxis": {
           "automargin": true,
           "gridcolor": "white",
           "linecolor": "white",
           "ticks": "",
           "title": {
            "standoff": 15
           },
           "zerolinecolor": "white",
           "zerolinewidth": 2
          },
          "yaxis": {
           "automargin": true,
           "gridcolor": "white",
           "linecolor": "white",
           "ticks": "",
           "title": {
            "standoff": 15
           },
           "zerolinecolor": "white",
           "zerolinewidth": 2
          }
         }
        },
        "updatemenus": [
         {
          "buttons": [
           {
            "args": [
             null,
             {
              "frame": {
               "duration": 1500,
               "redraw": false
              },
              "fromcurrent": true,
              "mode": "immediate",
              "transition": {
               "duration": 500,
               "easing": "linear"
              }
             }
            ],
            "label": "&#9654;",
            "method": "animate"
           },
           {
            "args": [
             [
              null
             ],
             {
              "frame": {
               "duration": 0,
               "redraw": false
              },
              "fromcurrent": true,
              "mode": "immediate",
              "transition": {
               "duration": 0,
               "easing": "linear"
              }
             }
            ],
            "label": "&#9724;",
            "method": "animate"
           }
          ],
          "direction": "left",
          "pad": {
           "r": 10,
           "t": 70
          },
          "showactive": false,
          "type": "buttons",
          "x": 0.1,
          "xanchor": "right",
          "y": 0,
          "yanchor": "top"
         }
        ],
        "xaxis": {
         "anchor": "y",
         "domain": [
          0,
          1
         ],
         "title": {
          "text": "month"
         }
        },
        "yaxis": {
         "anchor": "x",
         "domain": [
          0,
          1
         ],
         "title": {
          "text": "Greenness"
         }
        }
       }
      },
      "text/html": [
       "<div>                            <div id=\"e2866459-bc9f-4c59-982f-c36b383888af\" class=\"plotly-graph-div\" style=\"height:525px; width:100%;\"></div>            <script type=\"text/javascript\">                require([\"plotly\"], function(Plotly) {                    window.PLOTLYENV=window.PLOTLYENV || {};                                    if (document.getElementById(\"e2866459-bc9f-4c59-982f-c36b383888af\")) {                    Plotly.newPlot(                        \"e2866459-bc9f-4c59-982f-c36b383888af\",                        [{\"hovertemplate\":\"<b>%{hovertext}</b><br><br>year=2019<br>month=%{x}<br>Greenness=%{y}<extra></extra>\",\"hovertext\":[\"AT\",\"AT\",\"AT\",\"AT\",\"AT\",\"AT\",\"AT\",\"AT\",\"AT\",\"AT\",\"AT\",\"AT\"],\"ids\":[\"AT\",\"AT\",\"AT\",\"AT\",\"AT\",\"AT\",\"AT\",\"AT\",\"AT\",\"AT\",\"AT\",\"AT\"],\"legendgroup\":\"\",\"line\":{\"color\":\"#636efa\",\"dash\":\"solid\"},\"marker\":{\"symbol\":\"circle\"},\"mode\":\"lines+markers\",\"name\":\"\",\"orientation\":\"v\",\"showlegend\":false,\"type\":\"scatter\",\"x\":[1,2,3,4,5,6,7,8,9,10,11,12],\"xaxis\":\"x\",\"y\":[8376.80768946494,7972.9269707948915,9600.459096833229,10555.177771719615,9350.566153060021,9136.227545647256,11142.14747784071,9143.755433623746,8975.026231547656,2237.463011268516,8950.835072070446,7337.912764885008],\"yaxis\":\"y\"}],                        {\"legend\":{\"tracegroupgap\":0},\"margin\":{\"t\":60},\"sliders\":[{\"active\":0,\"currentvalue\":{\"prefix\":\"year=\"},\"len\":0.9,\"pad\":{\"b\":10,\"t\":60},\"steps\":[{\"args\":[[\"2019\"],{\"frame\":{\"duration\":0,\"redraw\":false},\"fromcurrent\":true,\"mode\":\"immediate\",\"transition\":{\"duration\":0,\"easing\":\"linear\"}}],\"label\":\"2019\",\"method\":\"animate\"},{\"args\":[[\"2020\"],{\"frame\":{\"duration\":0,\"redraw\":false},\"fromcurrent\":true,\"mode\":\"immediate\",\"transition\":{\"duration\":0,\"easing\":\"linear\"}}],\"label\":\"2020\",\"method\":\"animate\"},{\"args\":[[\"2021\"],{\"frame\":{\"duration\":0,\"redraw\":false},\"fromcurrent\":true,\"mode\":\"immediate\",\"transition\":{\"duration\":0,\"easing\":\"linear\"}}],\"label\":\"2021\",\"method\":\"animate\"}],\"x\":0.1,\"xanchor\":\"left\",\"y\":0,\"yanchor\":\"top\"}],\"template\":{\"data\":{\"bar\":[{\"error_x\":{\"color\":\"#2a3f5f\"},\"error_y\":{\"color\":\"#2a3f5f\"},\"marker\":{\"line\":{\"color\":\"#E5ECF6\",\"width\":0.5},\"pattern\":{\"fillmode\":\"overlay\",\"size\":10,\"solidity\":0.2}},\"type\":\"bar\"}],\"barpolar\":[{\"marker\":{\"line\":{\"color\":\"#E5ECF6\",\"width\":0.5},\"pattern\":{\"fillmode\":\"overlay\",\"size\":10,\"solidity\":0.2}},\"type\":\"barpolar\"}],\"carpet\":[{\"aaxis\":{\"endlinecolor\":\"#2a3f5f\",\"gridcolor\":\"white\",\"linecolor\":\"white\",\"minorgridcolor\":\"white\",\"startlinecolor\":\"#2a3f5f\"},\"baxis\":{\"endlinecolor\":\"#2a3f5f\",\"gridcolor\":\"white\",\"linecolor\":\"white\",\"minorgridcolor\":\"white\",\"startlinecolor\":\"#2a3f5f\"},\"type\":\"carpet\"}],\"choropleth\":[{\"colorbar\":{\"outlinewidth\":0,\"ticks\":\"\"},\"type\":\"choropleth\"}],\"contour\":[{\"colorbar\":{\"outlinewidth\":0,\"ticks\":\"\"},\"colorscale\":[[0.0,\"#0d0887\"],[0.1111111111111111,\"#46039f\"],[0.2222222222222222,\"#7201a8\"],[0.3333333333333333,\"#9c179e\"],[0.4444444444444444,\"#bd3786\"],[0.5555555555555556,\"#d8576b\"],[0.6666666666666666,\"#ed7953\"],[0.7777777777777778,\"#fb9f3a\"],[0.8888888888888888,\"#fdca26\"],[1.0,\"#f0f921\"]],\"type\":\"contour\"}],\"contourcarpet\":[{\"colorbar\":{\"outlinewidth\":0,\"ticks\":\"\"},\"type\":\"contourcarpet\"}],\"heatmap\":[{\"colorbar\":{\"outlinewidth\":0,\"ticks\":\"\"},\"colorscale\":[[0.0,\"#0d0887\"],[0.1111111111111111,\"#46039f\"],[0.2222222222222222,\"#7201a8\"],[0.3333333333333333,\"#9c179e\"],[0.4444444444444444,\"#bd3786\"],[0.5555555555555556,\"#d8576b\"],[0.6666666666666666,\"#ed7953\"],[0.7777777777777778,\"#fb9f3a\"],[0.8888888888888888,\"#fdca26\"],[1.0,\"#f0f921\"]],\"type\":\"heatmap\"}],\"heatmapgl\":[{\"colorbar\":{\"outlinewidth\":0,\"ticks\":\"\"},\"colorscale\":[[0.0,\"#0d0887\"],[0.1111111111111111,\"#46039f\"],[0.2222222222222222,\"#7201a8\"],[0.3333333333333333,\"#9c179e\"],[0.4444444444444444,\"#bd3786\"],[0.5555555555555556,\"#d8576b\"],[0.6666666666666666,\"#ed7953\"],[0.7777777777777778,\"#fb9f3a\"],[0.8888888888888888,\"#fdca26\"],[1.0,\"#f0f921\"]],\"type\":\"heatmapgl\"}],\"histogram\":[{\"marker\":{\"pattern\":{\"fillmode\":\"overlay\",\"size\":10,\"solidity\":0.2}},\"type\":\"histogram\"}],\"histogram2d\":[{\"colorbar\":{\"outlinewidth\":0,\"ticks\":\"\"},\"colorscale\":[[0.0,\"#0d0887\"],[0.1111111111111111,\"#46039f\"],[0.2222222222222222,\"#7201a8\"],[0.3333333333333333,\"#9c179e\"],[0.4444444444444444,\"#bd3786\"],[0.5555555555555556,\"#d8576b\"],[0.6666666666666666,\"#ed7953\"],[0.7777777777777778,\"#fb9f3a\"],[0.8888888888888888,\"#fdca26\"],[1.0,\"#f0f921\"]],\"type\":\"histogram2d\"}],\"histogram2dcontour\":[{\"colorbar\":{\"outlinewidth\":0,\"ticks\":\"\"},\"colorscale\":[[0.0,\"#0d0887\"],[0.1111111111111111,\"#46039f\"],[0.2222222222222222,\"#7201a8\"],[0.3333333333333333,\"#9c179e\"],[0.4444444444444444,\"#bd3786\"],[0.5555555555555556,\"#d8576b\"],[0.6666666666666666,\"#ed7953\"],[0.7777777777777778,\"#fb9f3a\"],[0.8888888888888888,\"#fdca26\"],[1.0,\"#f0f921\"]],\"type\":\"histogram2dcontour\"}],\"mesh3d\":[{\"colorbar\":{\"outlinewidth\":0,\"ticks\":\"\"},\"type\":\"mesh3d\"}],\"parcoords\":[{\"line\":{\"colorbar\":{\"outlinewidth\":0,\"ticks\":\"\"}},\"type\":\"parcoords\"}],\"pie\":[{\"automargin\":true,\"type\":\"pie\"}],\"scatter\":[{\"marker\":{\"colorbar\":{\"outlinewidth\":0,\"ticks\":\"\"}},\"type\":\"scatter\"}],\"scatter3d\":[{\"line\":{\"colorbar\":{\"outlinewidth\":0,\"ticks\":\"\"}},\"marker\":{\"colorbar\":{\"outlinewidth\":0,\"ticks\":\"\"}},\"type\":\"scatter3d\"}],\"scattercarpet\":[{\"marker\":{\"colorbar\":{\"outlinewidth\":0,\"ticks\":\"\"}},\"type\":\"scattercarpet\"}],\"scattergeo\":[{\"marker\":{\"colorbar\":{\"outlinewidth\":0,\"ticks\":\"\"}},\"type\":\"scattergeo\"}],\"scattergl\":[{\"marker\":{\"colorbar\":{\"outlinewidth\":0,\"ticks\":\"\"}},\"type\":\"scattergl\"}],\"scattermapbox\":[{\"marker\":{\"colorbar\":{\"outlinewidth\":0,\"ticks\":\"\"}},\"type\":\"scattermapbox\"}],\"scatterpolar\":[{\"marker\":{\"colorbar\":{\"outlinewidth\":0,\"ticks\":\"\"}},\"type\":\"scatterpolar\"}],\"scatterpolargl\":[{\"marker\":{\"colorbar\":{\"outlinewidth\":0,\"ticks\":\"\"}},\"type\":\"scatterpolargl\"}],\"scatterternary\":[{\"marker\":{\"colorbar\":{\"outlinewidth\":0,\"ticks\":\"\"}},\"type\":\"scatterternary\"}],\"surface\":[{\"colorbar\":{\"outlinewidth\":0,\"ticks\":\"\"},\"colorscale\":[[0.0,\"#0d0887\"],[0.1111111111111111,\"#46039f\"],[0.2222222222222222,\"#7201a8\"],[0.3333333333333333,\"#9c179e\"],[0.4444444444444444,\"#bd3786\"],[0.5555555555555556,\"#d8576b\"],[0.6666666666666666,\"#ed7953\"],[0.7777777777777778,\"#fb9f3a\"],[0.8888888888888888,\"#fdca26\"],[1.0,\"#f0f921\"]],\"type\":\"surface\"}],\"table\":[{\"cells\":{\"fill\":{\"color\":\"#EBF0F8\"},\"line\":{\"color\":\"white\"}},\"header\":{\"fill\":{\"color\":\"#C8D4E3\"},\"line\":{\"color\":\"white\"}},\"type\":\"table\"}]},\"layout\":{\"annotationdefaults\":{\"arrowcolor\":\"#2a3f5f\",\"arrowhead\":0,\"arrowwidth\":1},\"autotypenumbers\":\"strict\",\"coloraxis\":{\"colorbar\":{\"outlinewidth\":0,\"ticks\":\"\"}},\"colorscale\":{\"diverging\":[[0,\"#8e0152\"],[0.1,\"#c51b7d\"],[0.2,\"#de77ae\"],[0.3,\"#f1b6da\"],[0.4,\"#fde0ef\"],[0.5,\"#f7f7f7\"],[0.6,\"#e6f5d0\"],[0.7,\"#b8e186\"],[0.8,\"#7fbc41\"],[0.9,\"#4d9221\"],[1,\"#276419\"]],\"sequential\":[[0.0,\"#0d0887\"],[0.1111111111111111,\"#46039f\"],[0.2222222222222222,\"#7201a8\"],[0.3333333333333333,\"#9c179e\"],[0.4444444444444444,\"#bd3786\"],[0.5555555555555556,\"#d8576b\"],[0.6666666666666666,\"#ed7953\"],[0.7777777777777778,\"#fb9f3a\"],[0.8888888888888888,\"#fdca26\"],[1.0,\"#f0f921\"]],\"sequentialminus\":[[0.0,\"#0d0887\"],[0.1111111111111111,\"#46039f\"],[0.2222222222222222,\"#7201a8\"],[0.3333333333333333,\"#9c179e\"],[0.4444444444444444,\"#bd3786\"],[0.5555555555555556,\"#d8576b\"],[0.6666666666666666,\"#ed7953\"],[0.7777777777777778,\"#fb9f3a\"],[0.8888888888888888,\"#fdca26\"],[1.0,\"#f0f921\"]]},\"colorway\":[\"#636efa\",\"#EF553B\",\"#00cc96\",\"#ab63fa\",\"#FFA15A\",\"#19d3f3\",\"#FF6692\",\"#B6E880\",\"#FF97FF\",\"#FECB52\"],\"font\":{\"color\":\"#2a3f5f\"},\"geo\":{\"bgcolor\":\"white\",\"lakecolor\":\"white\",\"landcolor\":\"#E5ECF6\",\"showlakes\":true,\"showland\":true,\"subunitcolor\":\"white\"},\"hoverlabel\":{\"align\":\"left\"},\"hovermode\":\"closest\",\"mapbox\":{\"style\":\"light\"},\"paper_bgcolor\":\"white\",\"plot_bgcolor\":\"#E5ECF6\",\"polar\":{\"angularaxis\":{\"gridcolor\":\"white\",\"linecolor\":\"white\",\"ticks\":\"\"},\"bgcolor\":\"#E5ECF6\",\"radialaxis\":{\"gridcolor\":\"white\",\"linecolor\":\"white\",\"ticks\":\"\"}},\"scene\":{\"xaxis\":{\"backgroundcolor\":\"#E5ECF6\",\"gridcolor\":\"white\",\"gridwidth\":2,\"linecolor\":\"white\",\"showbackground\":true,\"ticks\":\"\",\"zerolinecolor\":\"white\"},\"yaxis\":{\"backgroundcolor\":\"#E5ECF6\",\"gridcolor\":\"white\",\"gridwidth\":2,\"linecolor\":\"white\",\"showbackground\":true,\"ticks\":\"\",\"zerolinecolor\":\"white\"},\"zaxis\":{\"backgroundcolor\":\"#E5ECF6\",\"gridcolor\":\"white\",\"gridwidth\":2,\"linecolor\":\"white\",\"showbackground\":true,\"ticks\":\"\",\"zerolinecolor\":\"white\"}},\"shapedefaults\":{\"line\":{\"color\":\"#2a3f5f\"}},\"ternary\":{\"aaxis\":{\"gridcolor\":\"white\",\"linecolor\":\"white\",\"ticks\":\"\"},\"baxis\":{\"gridcolor\":\"white\",\"linecolor\":\"white\",\"ticks\":\"\"},\"bgcolor\":\"#E5ECF6\",\"caxis\":{\"gridcolor\":\"white\",\"linecolor\":\"white\",\"ticks\":\"\"}},\"title\":{\"x\":0.05},\"xaxis\":{\"automargin\":true,\"gridcolor\":\"white\",\"linecolor\":\"white\",\"ticks\":\"\",\"title\":{\"standoff\":15},\"zerolinecolor\":\"white\",\"zerolinewidth\":2},\"yaxis\":{\"automargin\":true,\"gridcolor\":\"white\",\"linecolor\":\"white\",\"ticks\":\"\",\"title\":{\"standoff\":15},\"zerolinecolor\":\"white\",\"zerolinewidth\":2}}},\"updatemenus\":[{\"buttons\":[{\"args\":[null,{\"frame\":{\"duration\":1500,\"redraw\":false},\"fromcurrent\":true,\"mode\":\"immediate\",\"transition\":{\"duration\":500,\"easing\":\"linear\"}}],\"label\":\"&#9654;\",\"method\":\"animate\"},{\"args\":[[null],{\"frame\":{\"duration\":0,\"redraw\":false},\"fromcurrent\":true,\"mode\":\"immediate\",\"transition\":{\"duration\":0,\"easing\":\"linear\"}}],\"label\":\"&#9724;\",\"method\":\"animate\"}],\"direction\":\"left\",\"pad\":{\"r\":10,\"t\":70},\"showactive\":false,\"type\":\"buttons\",\"x\":0.1,\"xanchor\":\"right\",\"y\":0,\"yanchor\":\"top\"}],\"xaxis\":{\"anchor\":\"y\",\"domain\":[0.0,1.0],\"title\":{\"text\":\"month\"}},\"yaxis\":{\"anchor\":\"x\",\"domain\":[0.0,1.0],\"title\":{\"text\":\"Greenness\"}}},                        {\"responsive\": true}                    ).then(function(){\n",
       "                            Plotly.addFrames('e2866459-bc9f-4c59-982f-c36b383888af', [{\"data\":[{\"hovertemplate\":\"<b>%{hovertext}</b><br><br>year=2019<br>month=%{x}<br>Greenness=%{y}<extra></extra>\",\"hovertext\":[\"AT\",\"AT\",\"AT\",\"AT\",\"AT\",\"AT\",\"AT\",\"AT\",\"AT\",\"AT\",\"AT\",\"AT\"],\"ids\":[\"AT\",\"AT\",\"AT\",\"AT\",\"AT\",\"AT\",\"AT\",\"AT\",\"AT\",\"AT\",\"AT\",\"AT\"],\"legendgroup\":\"\",\"line\":{\"color\":\"#636efa\",\"dash\":\"solid\"},\"marker\":{\"symbol\":\"circle\"},\"mode\":\"lines+markers\",\"name\":\"\",\"orientation\":\"v\",\"showlegend\":false,\"type\":\"scatter\",\"x\":[1,2,3,4,5,6,7,8,9,10,11,12],\"xaxis\":\"x\",\"y\":[8376.80768946494,7972.9269707948915,9600.459096833229,10555.177771719615,9350.566153060021,9136.227545647256,11142.14747784071,9143.755433623746,8975.026231547656,2237.463011268516,8950.835072070446,7337.912764885008],\"yaxis\":\"y\"}],\"name\":\"2019\"},{\"data\":[{\"hovertemplate\":\"<b>%{hovertext}</b><br><br>year=2020<br>month=%{x}<br>Greenness=%{y}<extra></extra>\",\"hovertext\":[\"AT\",\"AT\",\"AT\",\"AT\",\"AT\",\"AT\",\"AT\",\"AT\",\"AT\",\"AT\",\"AT\",\"AT\"],\"ids\":[\"AT\",\"AT\",\"AT\",\"AT\",\"AT\",\"AT\",\"AT\",\"AT\",\"AT\",\"AT\",\"AT\",\"AT\"],\"legendgroup\":\"\",\"line\":{\"color\":\"#636efa\",\"dash\":\"solid\"},\"marker\":{\"symbol\":\"circle\"},\"mode\":\"lines+markers\",\"name\":\"\",\"orientation\":\"v\",\"showlegend\":false,\"type\":\"scatter\",\"x\":[1,2,3,4,5,6,7,8,9,10,11,12],\"xaxis\":\"x\",\"y\":[9359.302067817245,8163.670654157776,10657.525529847597,7390.224906348732,8763.539186069183,7660.544409729556,9292.146849520635,9596.83392893359,8782.524742125375,8426.180005504602,9005.956508429417,8510.561892428566],\"yaxis\":\"y\"}],\"name\":\"2020\"},{\"data\":[{\"hovertemplate\":\"<b>%{hovertext}</b><br><br>year=2021<br>month=%{x}<br>Greenness=%{y}<extra></extra>\",\"hovertext\":[\"AT\",\"AT\",\"AT\",\"AT\",\"AT\",\"AT\"],\"ids\":[\"AT\",\"AT\",\"AT\",\"AT\",\"AT\",\"AT\"],\"legendgroup\":\"\",\"line\":{\"color\":\"#636efa\",\"dash\":\"solid\"},\"marker\":{\"symbol\":\"circle\"},\"mode\":\"lines+markers\",\"name\":\"\",\"orientation\":\"v\",\"showlegend\":false,\"type\":\"scatter\",\"x\":[1,2,3,4,5,6],\"xaxis\":\"x\",\"y\":[6930.640989912302,8169.025633347923,10782.156427534923,8767.301582269043,10120.035845916007,10751.002723695468],\"yaxis\":\"y\"}],\"name\":\"2021\"}]);\n",
       "                        }).then(function(){\n",
       "                            \n",
       "var gd = document.getElementById('e2866459-bc9f-4c59-982f-c36b383888af');\n",
       "var x = new MutationObserver(function (mutations, observer) {{\n",
       "        var display = window.getComputedStyle(gd).display;\n",
       "        if (!display || display === 'none') {{\n",
       "            console.log([gd, 'removed!']);\n",
       "            Plotly.purge(gd);\n",
       "            observer.disconnect();\n",
       "        }}\n",
       "}});\n",
       "\n",
       "// Listen for the removal of the full notebook cells\n",
       "var notebookContainer = gd.closest('#notebook-container');\n",
       "if (notebookContainer) {{\n",
       "    x.observe(notebookContainer, {childList: true});\n",
       "}}\n",
       "\n",
       "// Listen for the clearing of the current output cell\n",
       "var outputEl = gd.closest('.output');\n",
       "if (outputEl) {{\n",
       "    x.observe(outputEl, {childList: true});\n",
       "}}\n",
       "\n",
       "                        })                };                });            </script>        </div>"
      ]
     },
     "metadata": {},
     "output_type": "display_data"
    }
   ],
   "source": [
    "df = df[df['Country']=='AT']\n",
    "fig = px.line(df, x=\"month\", y=\"Greenness\", animation_frame=\"year\", animation_group=\"Country\", hover_name=\"Country\", markers=True)\n",
    "fig[\"layout\"]\n",
    "fig.layout.updatemenus[0].buttons[0].args[1][\"frame\"][\"duration\"] = 1500\n",
    "fig.show()"
   ]
  }
 ],
 "metadata": {
  "kernelspec": {
   "display_name": "Python 3 (ipykernel)",
   "language": "python",
   "name": "python3"
  },
  "language_info": {
   "codemirror_mode": {
    "name": "ipython",
    "version": 3
   },
   "file_extension": ".py",
   "mimetype": "text/x-python",
   "name": "python",
   "nbconvert_exporter": "python",
   "pygments_lexer": "ipython3",
   "version": "3.9.6"
  }
 },
 "nbformat": 4,
 "nbformat_minor": 5
}
