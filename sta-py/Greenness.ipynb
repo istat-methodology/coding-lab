{
 "cells": [
  {
   "cell_type": "markdown",
   "id": "f37c910e",
   "metadata": {},
   "source": [
    "## Main Authors:\n",
    "* Fabbrico Davide\n",
    "* Khateeb Ahmad Arsalan\n",
    "* Pagnoncelli Diego"
   ]
  },
  {
   "cell_type": "code",
   "execution_count": 1,
   "id": "22fa537d",
   "metadata": {},
   "outputs": [],
   "source": [
    "import glob\n",
    "import pandas as pd\n",
    "import numpy as np\n",
    "import matplotlib.pyplot as plt\n",
    "import networkx as nx\n",
    "import datetime\n",
    "import plotly.express as px\n",
    "import plotly.io as pio\n",
    "\n",
    "pd.set_option('display.max_rows', 1000)\n",
    "pd.set_option('mode.chained_assignment', None)\n",
    "pio.templates.default = \"ggplot2\""
   ]
  },
  {
   "cell_type": "code",
   "execution_count": 2,
   "id": "b81b052a",
   "metadata": {},
   "outputs": [
    {
     "name": "stderr",
     "output_type": "stream",
     "text": [
      "/Library/Frameworks/Python.framework/Versions/3.9/lib/python3.9/site-packages/IPython/core/interactiveshell.py:3169: DtypeWarning: Columns (5) have mixed types.Specify dtype option on import or set low_memory=False.\n",
      "  has_raised = await self.run_ast_nodes(code_ast.body, cell_name,\n"
     ]
    }
   ],
   "source": [
    "# read total dataframe\n",
    "df_tot = pd.read_csv('total_dataframe.csv').drop('Unnamed: 0', axis=1)"
   ]
  },
  {
   "cell_type": "code",
   "execution_count": 16,
   "id": "336cda0b",
   "metadata": {},
   "outputs": [],
   "source": [
    "df_tot['PRODUCT_CODE'] = df_tot['PRODUCT_CODE'].apply(lambda x: str(x))"
   ]
  },
  {
   "cell_type": "markdown",
   "id": "fb1a0760",
   "metadata": {},
   "source": [
    "## How may country are involve for product x?"
   ]
  },
  {
   "cell_type": "code",
   "execution_count": 22,
   "id": "02bd6d11",
   "metadata": {},
   "outputs": [
    {
     "name": "stdout",
     "output_type": "stream",
     "text": [
      "21 372403\n",
      "22 511476\n",
      "39 2890104\n",
      "42 770247\n",
      "61 2496288\n",
      "62 2677145\n",
      "63 906559\n",
      "65 210782\n",
      "73 2466167\n",
      "84 8485365\n",
      "85 7015550\n",
      "90 3356034\n",
      "95 1183051\n",
      "03 436719\n",
      "38 753284\n",
      "40 1398802\n",
      "71 412369\n",
      "83 955844\n",
      "97 3686471\n",
      "49 543137\n",
      "07 249898\n",
      "08 246628\n",
      "09 532823\n",
      "12 644419\n",
      "15 215745\n",
      "16 802858\n",
      "17 296975\n",
      "18 382526\n",
      "19 361878\n",
      "20 496929\n",
      "25 260295\n",
      "33 860399\n",
      "34 835076\n",
      "35 246066\n",
      "48 1277194\n",
      "51 137538\n",
      "64 714781\n",
      "69 764183\n",
      "70 830454\n",
      "76 580274\n",
      "82 1389646\n",
      "87 1678541\n",
      "94 2322389\n",
      "96 2357780\n",
      "27 213816\n",
      "28 684686\n",
      "30 615875\n",
      "36 25552\n",
      "44 688348\n",
      "56 764198\n",
      "59 277843\n",
      "68 527302\n",
      "88 117818\n",
      "91 1071087\n",
      "99 504262\n",
      "11 182519\n",
      "29 1513329\n",
      "31 111836\n",
      "32 773284\n",
      "52 366453\n",
      "54 509712\n",
      "74 444700\n",
      "92 401185\n",
      "02 153158\n",
      "13 994225\n",
      "55 661836\n",
      "72 759797\n",
      "89 2153002\n",
      "93 2525533\n",
      "14 482003\n",
      "05 174499\n",
      "81 565018\n",
      "57 209515\n",
      "50 24083\n",
      "41 122783\n",
      "43 49001\n",
      "04 345724\n",
      "23 116397\n",
      "37 84376\n",
      "67 85816\n",
      "80 41138\n",
      "45 116535\n",
      "58 280737\n",
      "66 61893\n",
      "53 305706\n",
      "06 79545\n",
      "10 73268\n",
      "01 118825\n",
      "60 200164\n",
      "78 17608\n",
      "75 73645\n",
      "86 83233\n",
      "26 33379\n",
      "46 99793\n",
      "79 49274\n",
      "47 44622\n",
      "24 62599\n",
      "00 32866\n",
      "1 4783\n"
     ]
    }
   ],
   "source": [
    "products = df_tot.PRODUCT_CODE.unique()\n",
    "products = pd.Series([p[:2] for p in products])\n",
    "df_tot['PRODUCT_CODE2'] = df_tot['PRODUCT_CODE'].apply(lambda x: str(x)[:2])\n",
    "\n",
    "for p in products.unique():\n",
    "    print(p, len(df_tot[df_tot['PRODUCT_CODE2']==p]))"
   ]
  },
  {
   "cell_type": "code",
   "execution_count": 34,
   "id": "6719ed64",
   "metadata": {},
   "outputs": [
    {
     "data": {
      "text/plain": [
       "array(['FR', 'NL', 'DE', 'IT', 'GB', 'IE', 'DK', 'GR', 'PT', 'ES', 'BE',\n",
       "       'LU', 'SE', 'FI', 'AT', 'EE', 'LV', 'LT', 'PL', 'CZ', 'SK', 'HU',\n",
       "       'RO', 'BG', 'SI', 'HR', 'MT', 'CY'], dtype=object)"
      ]
     },
     "execution_count": 34,
     "metadata": {},
     "output_type": "execute_result"
    }
   ],
   "source": [
    "df_tot[(df_tot['PRODUCT_CODE2']=='72') & (df_tot['TYPE_FLOW']=='export')]['DECLARANT_ISO'].unique()"
   ]
  },
  {
   "cell_type": "code",
   "execution_count": 26,
   "id": "e09d265e",
   "metadata": {},
   "outputs": [],
   "source": [
    "def PlotGreenGraph(G):\n",
    "    labels = {e: str(e) for e in G.edges}\n",
    "    # pos = nx.spring_layout(G, k=10000/np.sqrt(G.order()), iterations=20, scale=10) problem divided by 0\n",
    "    pos = nx.spring_layout(G, iterations=20, scale=10)\n",
    "    plt.figure(3, figsize=(20, 14))\n",
    "    \n",
    "    nx.draw(G, pos=pos, with_labels=True, node_size=2000, node_color='orange')\n",
    "\n",
    "    # Create edge labels\n",
    "    labels = {e: G.edges[e]['Quantity'] for e in G.edges}\n",
    "\n",
    "    # Draw edge labels according to node positions\n",
    "    nx.draw_networkx_edge_labels(G, pos, edge_labels=labels)\n",
    "    \n",
    "    return None"
   ]
  },
  {
   "cell_type": "code",
   "execution_count": 27,
   "id": "1c4eee54",
   "metadata": {},
   "outputs": [],
   "source": [
    "def GreennessGraph(df, month = 1, year = 2019, type_flow = 'export', product = None, t = 1):\n",
    "    \n",
    "    # product\n",
    "    if product != None or product != '':\n",
    "        df = df[df['PRODUCT_CODE2']==product].reset_index(drop=True)\n",
    "    else:\n",
    "        return 'Select the product code!'\n",
    "    \n",
    "    # month and year\n",
    "    if month == None or year == None or month > 12 or year > 2021 or year < 2019:\n",
    "        return 'Insert correctly the month and year!'\n",
    "    \n",
    "    if month != None and year != None:\n",
    "        df = df[(df['MONTH'] == month) & (df['YEAR'] == year)].reset_index(drop=True)\n",
    "\n",
    "    df = df[df['TYPE_FLOW'] == type_flow].reset_index(drop=True) \n",
    "    \n",
    "    df['Distance'] = round(df['Distance'], 3)\n",
    "    \n",
    "    # start changes\n",
    "    df = df.groupby(['DECLARANT_ISO', 'PARTNER_ISO', 'PRODUCT_CODE','TYPE_TRANSP_MODE', 'Distance'])[['DECLARANT_ISO', 'PARTNER_ISO', 'VALUE_IN_EUROS', 'QUANTITY_IN_KG']].sum().reset_index()\n",
    "    df = df.loc[df['TYPE_TRANSP_MODE'].isin(['Road', 'Air', 'Sea', 'Rail','Inland Waterway'])].reset_index(drop=True)\n",
    "    speed = 45\n",
    "    \n",
    "    def greeness(row):\n",
    "        if row['TYPE_TRANSP_MODE'] == 'Sea':\n",
    "            return (row['QUANTITY_IN_KG']*(row['Distance']/1000)*9936.70)/((24000*7000)*speed)\n",
    "        elif row['TYPE_TRANSP_MODE'] == 'Air':\n",
    "            return (row['QUANTITY_IN_KG']*12*(row['Distance']/1000))/77000\n",
    "        # elif row['TYPE_TRANSP_MODE'] == 'Inland Waterway':\n",
    "            # return (row['QUANTITY_IN_KG']*0.12*(row['Distance']/1000)) # find the maximum capacity\n",
    "        elif row['TYPE_TRANSP_MODE'] == 'Road':\n",
    "            return (row['QUANTITY_IN_KG']*(row['Distance']/1000)*0.25)/(30000)\n",
    "        elif row['TYPE_TRANSP_MODE'] == 'Rail':\n",
    "            return (row['QUANTITY_IN_KG']*(row['Distance']/1000)*7.97)/(528000)\n",
    "\n",
    "    df['Greenness'] = df.apply(lambda row: greeness(row), axis=1) \n",
    "    \n",
    "    tr = int(len(df)*t/100)\n",
    "    df = df.iloc[:tr+1]\n",
    "    \n",
    "    G = nx.DiGraph()\n",
    "    # nodes\n",
    "    nodes = df['DECLARANT_ISO'].append(df['PARTNER_ISO']).unique()\n",
    "    \n",
    "    # graph\n",
    "    G.add_nodes_from(nodes)\n",
    "\n",
    "    for index,row in df.iterrows():\n",
    "        G.add_edge(row['DECLARANT_ISO'],row['PARTNER_ISO'],\n",
    "                                             Value = row.VALUE_IN_EUROS,\n",
    "                                             Quantity = row.QUANTITY_IN_KG,\n",
    "                                            Distance = row.Distance,\n",
    "                                            Greenness = row.Greenness)\n",
    "\n",
    "    \n",
    "    return G"
   ]
  },
  {
   "cell_type": "code",
   "execution_count": 28,
   "id": "a47af387",
   "metadata": {},
   "outputs": [],
   "source": [
    "def DFGreenGraph(G, month=None, year=None):\n",
    "    dict_summ = {}\n",
    "    for i in G.nodes():\n",
    "        summ = 0\n",
    "        for j in G[i]:\n",
    "            summ += G[i][j]['Greenness'] # for each node I calculate the sum of the GREENNESS of the out-edge\n",
    "        dict_summ[i] = summ\n",
    "        \n",
    "    dict_summQ = {}\n",
    "    for i in G.nodes():\n",
    "        summQ = 0\n",
    "        for j in G[i]:\n",
    "            summQ += G[i][j]['Quantity'] # for each node I calculate the sum of the GREENNESS of the out-edge\n",
    "        dict_summQ[i] = summQ\n",
    "\n",
    "    df_greenG = pd.DataFrame(list(dict_summ.items()), columns=['Country', 'Greenness']).sort_values(by='Greenness', ascending=False).reset_index(drop=True)\n",
    "    df_greenQ = pd.DataFrame(list(dict_summQ.items()), columns=['Country', 'Quantity'])\n",
    "    df_GQ = df_greenG.merge(df_greenQ, on='Country')\n",
    "    df_GQ['month'] = month\n",
    "    df_GQ['year'] = year\n",
    "    df_GQ['date'] = datetime.datetime(year, month, 1)\n",
    "    df_GQ = df_GQ[df_GQ['Greenness']>0]\n",
    "    return df_GQ"
   ]
  },
  {
   "cell_type": "code",
   "execution_count": 35,
   "id": "2980e3e4",
   "metadata": {},
   "outputs": [
    {
     "name": "stdout",
     "output_type": "stream",
     "text": [
      "2019\n",
      "1\n",
      "2\n",
      "3\n",
      "4\n",
      "5\n",
      "6\n",
      "7\n",
      "8\n",
      "9\n",
      "10\n",
      "11\n",
      "12\n",
      "2020\n",
      "1\n",
      "2\n",
      "3\n",
      "4\n",
      "5\n",
      "6\n",
      "7\n",
      "8\n",
      "9\n",
      "10\n",
      "11\n",
      "12\n",
      "2021\n",
      "1\n",
      "2\n",
      "3\n",
      "4\n",
      "5\n",
      "6\n"
     ]
    }
   ],
   "source": [
    "year = [2019, 2020, 2021]\n",
    "month = [1,2,3,4,5,6,7,8,9,10,11,12]\n",
    "df = pd.DataFrame({})\n",
    "for y in year:\n",
    "    print(str(y))\n",
    "    if y == 2021:\n",
    "        month = list(range(1, 7))   \n",
    "    for m in month:\n",
    "        print(str(m))\n",
    "        greenG = GreennessGraph(df_tot, m, y, product = '97', t = 40)\n",
    "        greenDF = DFGreenGraph(greenG, month=m, year=y)\n",
    "        df = pd.concat([df, greenDF], copy=False)\n",
    "df = df.reset_index(drop=True)"
   ]
  },
  {
   "cell_type": "code",
   "execution_count": 84,
   "id": "f44d52ee",
   "metadata": {},
   "outputs": [],
   "source": [
    "df1 = df.copy()"
   ]
  },
  {
   "cell_type": "code",
   "execution_count": 65,
   "id": "80eb8938",
   "metadata": {},
   "outputs": [
    {
     "data": {
      "text/html": [
       "<div>\n",
       "<style scoped>\n",
       "    .dataframe tbody tr th:only-of-type {\n",
       "        vertical-align: middle;\n",
       "    }\n",
       "\n",
       "    .dataframe tbody tr th {\n",
       "        vertical-align: top;\n",
       "    }\n",
       "\n",
       "    .dataframe thead th {\n",
       "        text-align: right;\n",
       "    }\n",
       "</style>\n",
       "<table border=\"1\" class=\"dataframe\">\n",
       "  <thead>\n",
       "    <tr style=\"text-align: right;\">\n",
       "      <th></th>\n",
       "      <th>Country</th>\n",
       "      <th>Greenness</th>\n",
       "      <th>Quantity</th>\n",
       "      <th>month</th>\n",
       "      <th>year</th>\n",
       "      <th>date</th>\n",
       "    </tr>\n",
       "  </thead>\n",
       "  <tbody>\n",
       "    <tr>\n",
       "      <th>50</th>\n",
       "      <td>FR</td>\n",
       "      <td>2514.301243</td>\n",
       "      <td>204822</td>\n",
       "      <td>5</td>\n",
       "      <td>2019</td>\n",
       "      <td>2019-05-01</td>\n",
       "    </tr>\n",
       "    <tr>\n",
       "      <th>71</th>\n",
       "      <td>FR</td>\n",
       "      <td>327.833101</td>\n",
       "      <td>69570</td>\n",
       "      <td>7</td>\n",
       "      <td>2019</td>\n",
       "      <td>2019-07-01</td>\n",
       "    </tr>\n",
       "    <tr>\n",
       "      <th>82</th>\n",
       "      <td>FR</td>\n",
       "      <td>22.453816</td>\n",
       "      <td>6905</td>\n",
       "      <td>8</td>\n",
       "      <td>2019</td>\n",
       "      <td>2019-08-01</td>\n",
       "    </tr>\n",
       "    <tr>\n",
       "      <th>93</th>\n",
       "      <td>FR</td>\n",
       "      <td>3001.259811</td>\n",
       "      <td>72805</td>\n",
       "      <td>9</td>\n",
       "      <td>2019</td>\n",
       "      <td>2019-09-01</td>\n",
       "    </tr>\n",
       "    <tr>\n",
       "      <th>104</th>\n",
       "      <td>FR</td>\n",
       "      <td>0.139828</td>\n",
       "      <td>43</td>\n",
       "      <td>10</td>\n",
       "      <td>2019</td>\n",
       "      <td>2019-10-01</td>\n",
       "    </tr>\n",
       "    <tr>\n",
       "      <th>125</th>\n",
       "      <td>FR</td>\n",
       "      <td>1546.554021</td>\n",
       "      <td>225096</td>\n",
       "      <td>12</td>\n",
       "      <td>2019</td>\n",
       "      <td>2019-12-01</td>\n",
       "    </tr>\n",
       "  </tbody>\n",
       "</table>\n",
       "</div>"
      ],
      "text/plain": [
       "    Country    Greenness  Quantity  month  year       date\n",
       "50       FR  2514.301243    204822      5  2019 2019-05-01\n",
       "71       FR   327.833101     69570      7  2019 2019-07-01\n",
       "82       FR    22.453816      6905      8  2019 2019-08-01\n",
       "93       FR  3001.259811     72805      9  2019 2019-09-01\n",
       "104      FR     0.139828        43     10  2019 2019-10-01\n",
       "125      FR  1546.554021    225096     12  2019 2019-12-01"
      ]
     },
     "execution_count": 65,
     "metadata": {},
     "output_type": "execute_result"
    }
   ],
   "source": [
    "fr = df1[df1['Country']=='FR']\n",
    "fr"
   ]
  },
  {
   "cell_type": "code",
   "execution_count": 85,
   "id": "7fa75a22",
   "metadata": {},
   "outputs": [
    {
     "data": {
      "text/html": [
       "<div>\n",
       "<style scoped>\n",
       "    .dataframe tbody tr th:only-of-type {\n",
       "        vertical-align: middle;\n",
       "    }\n",
       "\n",
       "    .dataframe tbody tr th {\n",
       "        vertical-align: top;\n",
       "    }\n",
       "\n",
       "    .dataframe thead th {\n",
       "        text-align: right;\n",
       "    }\n",
       "</style>\n",
       "<table border=\"1\" class=\"dataframe\">\n",
       "  <thead>\n",
       "    <tr style=\"text-align: right;\">\n",
       "      <th></th>\n",
       "      <th>Country</th>\n",
       "      <th>Greenness</th>\n",
       "      <th>Quantity</th>\n",
       "      <th>month</th>\n",
       "      <th>year</th>\n",
       "    </tr>\n",
       "  </thead>\n",
       "  <tbody>\n",
       "    <tr>\n",
       "      <th>0</th>\n",
       "      <td>FR</td>\n",
       "      <td>0.0</td>\n",
       "      <td>0.0</td>\n",
       "      <td>1.0</td>\n",
       "      <td>2019.0</td>\n",
       "    </tr>\n",
       "    <tr>\n",
       "      <th>1</th>\n",
       "      <td>FR</td>\n",
       "      <td>0.0</td>\n",
       "      <td>0.0</td>\n",
       "      <td>2.0</td>\n",
       "      <td>2019.0</td>\n",
       "    </tr>\n",
       "    <tr>\n",
       "      <th>2</th>\n",
       "      <td>FR</td>\n",
       "      <td>0.0</td>\n",
       "      <td>0.0</td>\n",
       "      <td>3.0</td>\n",
       "      <td>2019.0</td>\n",
       "    </tr>\n",
       "    <tr>\n",
       "      <th>3</th>\n",
       "      <td>FR</td>\n",
       "      <td>0.0</td>\n",
       "      <td>0.0</td>\n",
       "      <td>4.0</td>\n",
       "      <td>2019.0</td>\n",
       "    </tr>\n",
       "    <tr>\n",
       "      <th>4</th>\n",
       "      <td>FR</td>\n",
       "      <td>0.0</td>\n",
       "      <td>0.0</td>\n",
       "      <td>5.0</td>\n",
       "      <td>2019.0</td>\n",
       "    </tr>\n",
       "    <tr>\n",
       "      <th>5</th>\n",
       "      <td>FR</td>\n",
       "      <td>0.0</td>\n",
       "      <td>0.0</td>\n",
       "      <td>6.0</td>\n",
       "      <td>2019.0</td>\n",
       "    </tr>\n",
       "    <tr>\n",
       "      <th>6</th>\n",
       "      <td>FR</td>\n",
       "      <td>0.0</td>\n",
       "      <td>0.0</td>\n",
       "      <td>7.0</td>\n",
       "      <td>2019.0</td>\n",
       "    </tr>\n",
       "    <tr>\n",
       "      <th>7</th>\n",
       "      <td>FR</td>\n",
       "      <td>0.0</td>\n",
       "      <td>0.0</td>\n",
       "      <td>8.0</td>\n",
       "      <td>2019.0</td>\n",
       "    </tr>\n",
       "    <tr>\n",
       "      <th>8</th>\n",
       "      <td>FR</td>\n",
       "      <td>0.0</td>\n",
       "      <td>0.0</td>\n",
       "      <td>9.0</td>\n",
       "      <td>2019.0</td>\n",
       "    </tr>\n",
       "    <tr>\n",
       "      <th>9</th>\n",
       "      <td>FR</td>\n",
       "      <td>0.0</td>\n",
       "      <td>0.0</td>\n",
       "      <td>10.0</td>\n",
       "      <td>2019.0</td>\n",
       "    </tr>\n",
       "    <tr>\n",
       "      <th>10</th>\n",
       "      <td>FR</td>\n",
       "      <td>0.0</td>\n",
       "      <td>0.0</td>\n",
       "      <td>11.0</td>\n",
       "      <td>2019.0</td>\n",
       "    </tr>\n",
       "    <tr>\n",
       "      <th>11</th>\n",
       "      <td>FR</td>\n",
       "      <td>0.0</td>\n",
       "      <td>0.0</td>\n",
       "      <td>12.0</td>\n",
       "      <td>2019.0</td>\n",
       "    </tr>\n",
       "    <tr>\n",
       "      <th>12</th>\n",
       "      <td>FR</td>\n",
       "      <td>0.0</td>\n",
       "      <td>0.0</td>\n",
       "      <td>1.0</td>\n",
       "      <td>2020.0</td>\n",
       "    </tr>\n",
       "    <tr>\n",
       "      <th>13</th>\n",
       "      <td>FR</td>\n",
       "      <td>0.0</td>\n",
       "      <td>0.0</td>\n",
       "      <td>2.0</td>\n",
       "      <td>2020.0</td>\n",
       "    </tr>\n",
       "    <tr>\n",
       "      <th>14</th>\n",
       "      <td>FR</td>\n",
       "      <td>0.0</td>\n",
       "      <td>0.0</td>\n",
       "      <td>3.0</td>\n",
       "      <td>2020.0</td>\n",
       "    </tr>\n",
       "    <tr>\n",
       "      <th>15</th>\n",
       "      <td>FR</td>\n",
       "      <td>0.0</td>\n",
       "      <td>0.0</td>\n",
       "      <td>4.0</td>\n",
       "      <td>2020.0</td>\n",
       "    </tr>\n",
       "    <tr>\n",
       "      <th>16</th>\n",
       "      <td>FR</td>\n",
       "      <td>0.0</td>\n",
       "      <td>0.0</td>\n",
       "      <td>5.0</td>\n",
       "      <td>2020.0</td>\n",
       "    </tr>\n",
       "    <tr>\n",
       "      <th>17</th>\n",
       "      <td>FR</td>\n",
       "      <td>0.0</td>\n",
       "      <td>0.0</td>\n",
       "      <td>6.0</td>\n",
       "      <td>2020.0</td>\n",
       "    </tr>\n",
       "    <tr>\n",
       "      <th>18</th>\n",
       "      <td>FR</td>\n",
       "      <td>0.0</td>\n",
       "      <td>0.0</td>\n",
       "      <td>7.0</td>\n",
       "      <td>2020.0</td>\n",
       "    </tr>\n",
       "    <tr>\n",
       "      <th>19</th>\n",
       "      <td>FR</td>\n",
       "      <td>0.0</td>\n",
       "      <td>0.0</td>\n",
       "      <td>8.0</td>\n",
       "      <td>2020.0</td>\n",
       "    </tr>\n",
       "    <tr>\n",
       "      <th>20</th>\n",
       "      <td>FR</td>\n",
       "      <td>0.0</td>\n",
       "      <td>0.0</td>\n",
       "      <td>9.0</td>\n",
       "      <td>2020.0</td>\n",
       "    </tr>\n",
       "    <tr>\n",
       "      <th>21</th>\n",
       "      <td>FR</td>\n",
       "      <td>0.0</td>\n",
       "      <td>0.0</td>\n",
       "      <td>10.0</td>\n",
       "      <td>2020.0</td>\n",
       "    </tr>\n",
       "    <tr>\n",
       "      <th>22</th>\n",
       "      <td>FR</td>\n",
       "      <td>0.0</td>\n",
       "      <td>0.0</td>\n",
       "      <td>11.0</td>\n",
       "      <td>2020.0</td>\n",
       "    </tr>\n",
       "    <tr>\n",
       "      <th>23</th>\n",
       "      <td>FR</td>\n",
       "      <td>0.0</td>\n",
       "      <td>0.0</td>\n",
       "      <td>12.0</td>\n",
       "      <td>2020.0</td>\n",
       "    </tr>\n",
       "    <tr>\n",
       "      <th>24</th>\n",
       "      <td>FR</td>\n",
       "      <td>0.0</td>\n",
       "      <td>0.0</td>\n",
       "      <td>1.0</td>\n",
       "      <td>2021.0</td>\n",
       "    </tr>\n",
       "    <tr>\n",
       "      <th>25</th>\n",
       "      <td>FR</td>\n",
       "      <td>0.0</td>\n",
       "      <td>0.0</td>\n",
       "      <td>2.0</td>\n",
       "      <td>2021.0</td>\n",
       "    </tr>\n",
       "    <tr>\n",
       "      <th>26</th>\n",
       "      <td>FR</td>\n",
       "      <td>0.0</td>\n",
       "      <td>0.0</td>\n",
       "      <td>3.0</td>\n",
       "      <td>2021.0</td>\n",
       "    </tr>\n",
       "    <tr>\n",
       "      <th>27</th>\n",
       "      <td>FR</td>\n",
       "      <td>0.0</td>\n",
       "      <td>0.0</td>\n",
       "      <td>4.0</td>\n",
       "      <td>2021.0</td>\n",
       "    </tr>\n",
       "    <tr>\n",
       "      <th>28</th>\n",
       "      <td>FR</td>\n",
       "      <td>0.0</td>\n",
       "      <td>0.0</td>\n",
       "      <td>5.0</td>\n",
       "      <td>2021.0</td>\n",
       "    </tr>\n",
       "    <tr>\n",
       "      <th>29</th>\n",
       "      <td>FR</td>\n",
       "      <td>0.0</td>\n",
       "      <td>0.0</td>\n",
       "      <td>6.0</td>\n",
       "      <td>2021.0</td>\n",
       "    </tr>\n",
       "  </tbody>\n",
       "</table>\n",
       "</div>"
      ],
      "text/plain": [
       "   Country  Greenness  Quantity  month    year\n",
       "0       FR        0.0       0.0    1.0  2019.0\n",
       "1       FR        0.0       0.0    2.0  2019.0\n",
       "2       FR        0.0       0.0    3.0  2019.0\n",
       "3       FR        0.0       0.0    4.0  2019.0\n",
       "4       FR        0.0       0.0    5.0  2019.0\n",
       "5       FR        0.0       0.0    6.0  2019.0\n",
       "6       FR        0.0       0.0    7.0  2019.0\n",
       "7       FR        0.0       0.0    8.0  2019.0\n",
       "8       FR        0.0       0.0    9.0  2019.0\n",
       "9       FR        0.0       0.0   10.0  2019.0\n",
       "10      FR        0.0       0.0   11.0  2019.0\n",
       "11      FR        0.0       0.0   12.0  2019.0\n",
       "12      FR        0.0       0.0    1.0  2020.0\n",
       "13      FR        0.0       0.0    2.0  2020.0\n",
       "14      FR        0.0       0.0    3.0  2020.0\n",
       "15      FR        0.0       0.0    4.0  2020.0\n",
       "16      FR        0.0       0.0    5.0  2020.0\n",
       "17      FR        0.0       0.0    6.0  2020.0\n",
       "18      FR        0.0       0.0    7.0  2020.0\n",
       "19      FR        0.0       0.0    8.0  2020.0\n",
       "20      FR        0.0       0.0    9.0  2020.0\n",
       "21      FR        0.0       0.0   10.0  2020.0\n",
       "22      FR        0.0       0.0   11.0  2020.0\n",
       "23      FR        0.0       0.0   12.0  2020.0\n",
       "24      FR        0.0       0.0    1.0  2021.0\n",
       "25      FR        0.0       0.0    2.0  2021.0\n",
       "26      FR        0.0       0.0    3.0  2021.0\n",
       "27      FR        0.0       0.0    4.0  2021.0\n",
       "28      FR        0.0       0.0    5.0  2021.0\n",
       "29      FR        0.0       0.0    6.0  2021.0"
      ]
     },
     "execution_count": 85,
     "metadata": {},
     "output_type": "execute_result"
    }
   ],
   "source": [
    "df_row = pd.DataFrame({})\n",
    "year = [2019, 2020, 2021]\n",
    "month = [1,2,3,4,5,6,7,8,9,10,11,12]\n",
    "for y in year:\n",
    "    if y == 2021:\n",
    "        month = list(range(1, 7))   \n",
    "    for m in range(len(month)):\n",
    "        df_row = df_row.append({'Country':'FR', 'Greenness':0, 'Quantity':0, 'month':month[m], 'year':y}, ignore_index=True)\n",
    "df_row"
   ]
  },
  {
   "cell_type": "code",
   "execution_count": 86,
   "id": "57846faf",
   "metadata": {},
   "outputs": [],
   "source": [
    "df1 = df1[(df1['Country']!='FR') & (df1['Country']!='AT')]"
   ]
  },
  {
   "cell_type": "code",
   "execution_count": 87,
   "id": "482411f1",
   "metadata": {},
   "outputs": [],
   "source": [
    "df_country = pd.DataFrame({})\n",
    "for i in df1['Country'].unique():\n",
    "    df_country[i] = df1[df1['Country'] == i]['Greenness'].to_list()\n",
    "    \n",
    "for i in df1['Country'].unique():\n",
    "    df_country['year'] = df1[df1['Country'] == i]['year'].to_list()\n",
    "    df_country['month'] = df1[df1['Country'] == i]['month'].to_list()"
   ]
  },
  {
   "cell_type": "markdown",
   "id": "d8c5ceef",
   "metadata": {},
   "source": [
    "## Multiple Line"
   ]
  },
  {
   "cell_type": "code",
   "execution_count": 88,
   "id": "e9915f1a",
   "metadata": {},
   "outputs": [],
   "source": [
    "hmc = len(df1['Country'].unique())\n",
    "fig = px.line(df_country, x=\"month\", y=df_country.columns[:hmc], animation_frame=\"year\", markers=True)\n",
    "fig[\"layout\"]\n",
    "fig.layout.updatemenus[0].buttons[0].args[1][\"frame\"][\"duration\"] = 1500\n",
    "fig.update_layout(\n",
    "    title=\"Index of Greenness (2019-2021)\",\n",
    "    xaxis_title=\"Month\",\n",
    "    yaxis_title=\"Greenness\",\n",
    "    title_x=0.5,\n",
    "    font=dict(\n",
    "        size=16,\n",
    "    ),\n",
    "    yaxis_range=[min(df1['Greenness']-3000),max(df1['Greenness']+50000)],\n",
    "    xaxis_range = [0.5,12.5]\n",
    ")\n",
    "# fig.update_layout(title_text='Index of Greenness (2019-2021)', title_x=0.5)\n",
    "fig.update_xaxes(tickmode = 'array',\n",
    "                 tickvals = sorted(df1['month'].unique()),\n",
    "                 ticktext= ['Jan', 'Feb', 'Mar', 'Apr', 'May','Jun', 'Jul', 'Aug', 'Sep', 'Oct', 'Nov', 'Dec'])\n",
    "fig.write_html(\"/Users/davide/Desktop/moreline.html\")"
   ]
  },
  {
   "cell_type": "markdown",
   "id": "ee43234f",
   "metadata": {},
   "source": [
    "## One Line"
   ]
  },
  {
   "cell_type": "code",
   "execution_count": 89,
   "id": "f1d1f93a",
   "metadata": {},
   "outputs": [],
   "source": [
    "df2 = df1[df1['Country']=='BE']\n",
    "fig = px.line(df2, x=\"month\", y=\"Greenness\", animation_frame=\"year\", animation_group=\"Country\", hover_name=\"Country\", markers=True)\n",
    "fig[\"layout\"]\n",
    "fig.layout.updatemenus[0].buttons[0].args[1][\"frame\"][\"duration\"] = 1500\n",
    "fig.update_layout(\n",
    "    title=\"Index of Greenness (2019-2021)\",\n",
    "    xaxis_title=\"Month\",\n",
    "    yaxis_title=\"Greenness\",\n",
    "    title_x=0.5,\n",
    "    font=dict(\n",
    "        size=16,\n",
    "    ),\n",
    "    yaxis_range=[min(df2['Greenness']-3000),max(df2['Greenness']+111000)],\n",
    "    xaxis_range = [0.5,12.5]\n",
    ")\n",
    "# fig.update_layout(title_text='Index of Greenness (2019-2021)', title_x=0.5)\n",
    "fig.update_xaxes(tickmode = 'array',\n",
    "                 tickvals = sorted(df2['month'].unique()),\n",
    "                 ticktext= ['Jan', 'Feb', 'Mar', 'Apr', 'May','Jun', 'Jul', 'Aug', 'Sep', 'Oct', 'Nov', 'Dec'])\n",
    "fig.write_html(\"/Users/davide/Desktop/oneline.html\")"
   ]
  },
  {
   "cell_type": "code",
   "execution_count": 90,
   "id": "14e809e9",
   "metadata": {},
   "outputs": [],
   "source": [
    "ccode_df = pd.read_csv('country_codes.csv')\n",
    "map_dict1 = pd.Series(ccode_df.iloc[:,0].values,index= ccode_df.iloc[:,1]).to_dict()\n",
    "map_dict2 = pd.Series(ccode_df.iloc[:,2].values,index= ccode_df.iloc[:,0]).to_dict()\n",
    "df1.replace({\"Country\":map_dict1},inplace=True)\n",
    "df1['Code'] = df1['Country'].map(map_dict2)\n",
    "df1['Date'] = df1['date'].dt.strftime(\"%b-%Y\").astype(str)"
   ]
  },
  {
   "cell_type": "code",
   "execution_count": 91,
   "id": "207e3186",
   "metadata": {},
   "outputs": [
    {
     "data": {
      "application/vnd.plotly.v1+json": {
       "config": {
        "plotlyServerURL": "https://plot.ly"
       },
       "data": [
        {
         "coloraxis": "coloraxis",
         "geo": "geo",
         "hovertemplate": "<b>%{hovertext}</b><br><br>Date=Jan-2019<br>Code=%{location}<br>Greenness=%{z}<extra></extra>",
         "hovertext": [
          "Germany",
          "Spain",
          "Belgium",
          "Bulgaria",
          "Czech Republic",
          "Denmark",
          "Estonia",
          "Finland",
          "Cyprus"
         ],
         "locations": [
          "DEU",
          "ESP",
          "BEL",
          "BGR",
          "CZE",
          "DNK",
          "EST",
          "FIN",
          "CYP"
         ],
         "name": "",
         "type": "choropleth",
         "z": [
          459387.14426135266,
          141335.5353617935,
          121979.85116824279,
          36449.61788600728,
          36239.61583387908,
          29939.488790853335,
          24190.016408921416,
          21963.908884973473,
          12767.381665010109
         ]
        }
       ],
       "frames": [
        {
         "data": [
          {
           "coloraxis": "coloraxis",
           "geo": "geo",
           "hovertemplate": "<b>%{hovertext}</b><br><br>Date=Jan-2019<br>Code=%{location}<br>Greenness=%{z}<extra></extra>",
           "hovertext": [
            "Germany",
            "Spain",
            "Belgium",
            "Bulgaria",
            "Czech Republic",
            "Denmark",
            "Estonia",
            "Finland",
            "Cyprus"
           ],
           "locations": [
            "DEU",
            "ESP",
            "BEL",
            "BGR",
            "CZE",
            "DNK",
            "EST",
            "FIN",
            "CYP"
           ],
           "name": "",
           "type": "choropleth",
           "z": [
            459387.14426135266,
            141335.5353617935,
            121979.85116824279,
            36449.61788600728,
            36239.61583387908,
            29939.488790853335,
            24190.016408921416,
            21963.908884973473,
            12767.381665010109
           ]
          }
         ],
         "name": "Jan-2019"
        },
        {
         "data": [
          {
           "coloraxis": "coloraxis",
           "geo": "geo",
           "hovertemplate": "<b>%{hovertext}</b><br><br>Date=Feb-2019<br>Code=%{location}<br>Greenness=%{z}<extra></extra>",
           "hovertext": [
            "Germany",
            "Spain",
            "Belgium",
            "Czech Republic",
            "Bulgaria",
            "Denmark",
            "Finland",
            "Estonia",
            "Cyprus"
           ],
           "locations": [
            "DEU",
            "ESP",
            "BEL",
            "CZE",
            "BGR",
            "DNK",
            "FIN",
            "EST",
            "CYP"
           ],
           "name": "",
           "type": "choropleth",
           "z": [
            480709.3951779086,
            167563.03319157587,
            116322.36760167217,
            41908.19679400535,
            40341.10554146994,
            30577.10020133049,
            27865.275719021596,
            20032.359483074553,
            12509.300707766077
           ]
          }
         ],
         "name": "Feb-2019"
        },
        {
         "data": [
          {
           "coloraxis": "coloraxis",
           "geo": "geo",
           "hovertemplate": "<b>%{hovertext}</b><br><br>Date=Mar-2019<br>Code=%{location}<br>Greenness=%{z}<extra></extra>",
           "hovertext": [
            "Germany",
            "Spain",
            "Belgium",
            "Czech Republic",
            "Bulgaria",
            "Denmark",
            "Finland",
            "Estonia",
            "Cyprus"
           ],
           "locations": [
            "DEU",
            "ESP",
            "BEL",
            "CZE",
            "BGR",
            "DNK",
            "FIN",
            "EST",
            "CYP"
           ],
           "name": "",
           "type": "choropleth",
           "z": [
            470194.4255901325,
            176124.42256703635,
            130508.47963987317,
            41231.18987049813,
            36968.05765191659,
            30065.24338868504,
            13839.690932997551,
            13823.65214021109,
            5745.772216530879
           ]
          }
         ],
         "name": "Mar-2019"
        },
        {
         "data": [
          {
           "coloraxis": "coloraxis",
           "geo": "geo",
           "hovertemplate": "<b>%{hovertext}</b><br><br>Date=Apr-2019<br>Code=%{location}<br>Greenness=%{z}<extra></extra>",
           "hovertext": [
            "Germany",
            "Spain",
            "Belgium",
            "Finland",
            "Czech Republic",
            "Bulgaria",
            "Denmark",
            "Estonia",
            "Cyprus"
           ],
           "locations": [
            "DEU",
            "ESP",
            "BEL",
            "FIN",
            "CZE",
            "BGR",
            "DNK",
            "EST",
            "CYP"
           ],
           "name": "",
           "type": "choropleth",
           "z": [
            466450.0065660935,
            171089.68614811442,
            124127.85529482205,
            48822.23197403079,
            43298.8666234553,
            41097.4288083399,
            30396.830075893493,
            19713.5864839106,
            10396.16106561857
           ]
          }
         ],
         "name": "Apr-2019"
        },
        {
         "data": [
          {
           "coloraxis": "coloraxis",
           "geo": "geo",
           "hovertemplate": "<b>%{hovertext}</b><br><br>Date=May-2019<br>Code=%{location}<br>Greenness=%{z}<extra></extra>",
           "hovertext": [
            "Germany",
            "Spain",
            "Belgium",
            "Finland",
            "Czech Republic",
            "Bulgaria",
            "Denmark",
            "Estonia",
            "Cyprus"
           ],
           "locations": [
            "DEU",
            "ESP",
            "BEL",
            "FIN",
            "CZE",
            "BGR",
            "DNK",
            "EST",
            "CYP"
           ],
           "name": "",
           "type": "choropleth",
           "z": [
            505273.6620515581,
            186573.9406581338,
            134363.74257685404,
            60594.16719686466,
            44150.41657582636,
            37006.52664420714,
            26673.996355572825,
            12360.056736355242,
            5080.701694494628
           ]
          }
         ],
         "name": "May-2019"
        },
        {
         "data": [
          {
           "coloraxis": "coloraxis",
           "geo": "geo",
           "hovertemplate": "<b>%{hovertext}</b><br><br>Date=Jun-2019<br>Code=%{location}<br>Greenness=%{z}<extra></extra>",
           "hovertext": [
            "Germany",
            "Spain",
            "Belgium",
            "Finland",
            "Czech Republic",
            "Bulgaria",
            "Denmark",
            "Estonia",
            "Cyprus"
           ],
           "locations": [
            "DEU",
            "ESP",
            "BEL",
            "FIN",
            "CZE",
            "BGR",
            "DNK",
            "EST",
            "CYP"
           ],
           "name": "",
           "type": "choropleth",
           "z": [
            444072.5281696941,
            154381.23608290148,
            130283.0989996033,
            69558.04377377016,
            42417.55764597862,
            40587.49730699044,
            28514.909094345454,
            14025.269960130743,
            8685.596707511502
           ]
          }
         ],
         "name": "Jun-2019"
        },
        {
         "data": [
          {
           "coloraxis": "coloraxis",
           "geo": "geo",
           "hovertemplate": "<b>%{hovertext}</b><br><br>Date=Jul-2019<br>Code=%{location}<br>Greenness=%{z}<extra></extra>",
           "hovertext": [
            "Germany",
            "Spain",
            "Belgium",
            "Bulgaria",
            "Czech Republic",
            "Denmark",
            "Finland",
            "Estonia",
            "Cyprus"
           ],
           "locations": [
            "DEU",
            "ESP",
            "BEL",
            "BGR",
            "CZE",
            "DNK",
            "FIN",
            "EST",
            "CYP"
           ],
           "name": "",
           "type": "choropleth",
           "z": [
            539307.1697270516,
            212562.32807636354,
            150131.2246081561,
            53638.42636448726,
            45568.718148417785,
            36709.449251268554,
            26702.141833098944,
            13609.351975206622,
            8370.963816722759
           ]
          }
         ],
         "name": "Jul-2019"
        },
        {
         "data": [
          {
           "coloraxis": "coloraxis",
           "geo": "geo",
           "hovertemplate": "<b>%{hovertext}</b><br><br>Date=Aug-2019<br>Code=%{location}<br>Greenness=%{z}<extra></extra>",
           "hovertext": [
            "Germany",
            "Spain",
            "Belgium",
            "Bulgaria",
            "Czech Republic",
            "Denmark",
            "Finland",
            "Estonia",
            "Cyprus"
           ],
           "locations": [
            "DEU",
            "ESP",
            "BEL",
            "BGR",
            "CZE",
            "DNK",
            "FIN",
            "EST",
            "CYP"
           ],
           "name": "",
           "type": "choropleth",
           "z": [
            493490.7725970674,
            166178.57319235778,
            118100.54554664278,
            53975.893449933596,
            45201.52488495922,
            24250.916728920824,
            15239.6660846057,
            12458.9393420042,
            8694.078773469515
           ]
          }
         ],
         "name": "Aug-2019"
        },
        {
         "data": [
          {
           "coloraxis": "coloraxis",
           "geo": "geo",
           "hovertemplate": "<b>%{hovertext}</b><br><br>Date=Sep-2019<br>Code=%{location}<br>Greenness=%{z}<extra></extra>",
           "hovertext": [
            "Germany",
            "Spain",
            "Belgium",
            "Bulgaria",
            "Czech Republic",
            "Finland",
            "Denmark",
            "Estonia",
            "Cyprus"
           ],
           "locations": [
            "DEU",
            "ESP",
            "BEL",
            "BGR",
            "CZE",
            "FIN",
            "DNK",
            "EST",
            "CYP"
           ],
           "name": "",
           "type": "choropleth",
           "z": [
            523616.1546894169,
            172020.35960486057,
            127537.18459083218,
            43998.56138563263,
            39750.04566828928,
            36111.44413990692,
            28287.459652715457,
            13610.411891292053,
            6141.617884613127
           ]
          }
         ],
         "name": "Sep-2019"
        },
        {
         "data": [
          {
           "coloraxis": "coloraxis",
           "geo": "geo",
           "hovertemplate": "<b>%{hovertext}</b><br><br>Date=Oct-2019<br>Code=%{location}<br>Greenness=%{z}<extra></extra>",
           "hovertext": [
            "Germany",
            "Spain",
            "Belgium",
            "Bulgaria",
            "Czech Republic",
            "Denmark",
            "Finland",
            "Estonia",
            "Cyprus"
           ],
           "locations": [
            "DEU",
            "ESP",
            "BEL",
            "BGR",
            "CZE",
            "DNK",
            "FIN",
            "EST",
            "CYP"
           ],
           "name": "",
           "type": "choropleth",
           "z": [
            590867.0443604606,
            206303.299858825,
            148132.7743405526,
            53295.53866278828,
            44074.91018915192,
            37534.11973088947,
            37209.23740746183,
            26361.865183992595,
            12026.286078616618
           ]
          }
         ],
         "name": "Oct-2019"
        },
        {
         "data": [
          {
           "coloraxis": "coloraxis",
           "geo": "geo",
           "hovertemplate": "<b>%{hovertext}</b><br><br>Date=Nov-2019<br>Code=%{location}<br>Greenness=%{z}<extra></extra>",
           "hovertext": [
            "Germany",
            "Spain",
            "Belgium",
            "Bulgaria",
            "Czech Republic",
            "Denmark",
            "Finland",
            "Estonia",
            "Cyprus"
           ],
           "locations": [
            "DEU",
            "ESP",
            "BEL",
            "BGR",
            "CZE",
            "DNK",
            "FIN",
            "EST",
            "CYP"
           ],
           "name": "",
           "type": "choropleth",
           "z": [
            500211.06372073834,
            170222.4084286821,
            115072.04018448616,
            91069.22547664489,
            39316.85179285352,
            30700.605839558903,
            26233.44870358848,
            17710.6938223363,
            9384.497195927363
           ]
          }
         ],
         "name": "Nov-2019"
        },
        {
         "data": [
          {
           "coloraxis": "coloraxis",
           "geo": "geo",
           "hovertemplate": "<b>%{hovertext}</b><br><br>Date=Dec-2019<br>Code=%{location}<br>Greenness=%{z}<extra></extra>",
           "hovertext": [
            "Germany",
            "Spain",
            "Belgium",
            "Czech Republic",
            "Denmark",
            "Finland",
            "Bulgaria",
            "Estonia",
            "Cyprus"
           ],
           "locations": [
            "DEU",
            "ESP",
            "BEL",
            "CZE",
            "DNK",
            "FIN",
            "BGR",
            "EST",
            "CYP"
           ],
           "name": "",
           "type": "choropleth",
           "z": [
            404073.9479786988,
            181826.18155120994,
            123054.02664301486,
            46085.904567940226,
            44376.65349119763,
            42090.26434956876,
            40290.90032419803,
            15245.070578757231,
            15044.610838172819
           ]
          }
         ],
         "name": "Dec-2019"
        },
        {
         "data": [
          {
           "coloraxis": "coloraxis",
           "geo": "geo",
           "hovertemplate": "<b>%{hovertext}</b><br><br>Date=Jan-2020<br>Code=%{location}<br>Greenness=%{z}<extra></extra>",
           "hovertext": [
            "Germany",
            "Spain",
            "Belgium",
            "Bulgaria",
            "Czech Republic",
            "Finland",
            "Denmark",
            "Estonia",
            "Cyprus"
           ],
           "locations": [
            "DEU",
            "ESP",
            "BEL",
            "BGR",
            "CZE",
            "FIN",
            "DNK",
            "EST",
            "CYP"
           ],
           "name": "",
           "type": "choropleth",
           "z": [
            460933.28722046595,
            154765.82657712285,
            121514.10160069022,
            45655.27115107182,
            32270.362882140365,
            29747.63458403861,
            27127.44811103106,
            26618.693171185892,
            10585.698979630033
           ]
          }
         ],
         "name": "Jan-2020"
        },
        {
         "data": [
          {
           "coloraxis": "coloraxis",
           "geo": "geo",
           "hovertemplate": "<b>%{hovertext}</b><br><br>Date=Feb-2020<br>Code=%{location}<br>Greenness=%{z}<extra></extra>",
           "hovertext": [
            "Germany",
            "Spain",
            "Belgium",
            "Czech Republic",
            "Bulgaria",
            "Denmark",
            "Estonia",
            "Cyprus",
            "Finland"
           ],
           "locations": [
            "DEU",
            "ESP",
            "BEL",
            "CZE",
            "BGR",
            "DNK",
            "EST",
            "CYP",
            "FIN"
           ],
           "name": "",
           "type": "choropleth",
           "z": [
            449413.68400993553,
            186423.29847356377,
            137305.1100479237,
            76888.20978531188,
            54268.71389442749,
            52109.982634359454,
            23338.1457449112,
            11658.584485545776,
            6506.187442992166
           ]
          }
         ],
         "name": "Feb-2020"
        },
        {
         "data": [
          {
           "coloraxis": "coloraxis",
           "geo": "geo",
           "hovertemplate": "<b>%{hovertext}</b><br><br>Date=Mar-2020<br>Code=%{location}<br>Greenness=%{z}<extra></extra>",
           "hovertext": [
            "Germany",
            "Spain",
            "Belgium",
            "Czech Republic",
            "Bulgaria",
            "Denmark",
            "Estonia",
            "Finland",
            "Cyprus"
           ],
           "locations": [
            "DEU",
            "ESP",
            "BEL",
            "CZE",
            "BGR",
            "DNK",
            "EST",
            "FIN",
            "CYP"
           ],
           "name": "",
           "type": "choropleth",
           "z": [
            489093.0575227265,
            205007.072406902,
            141696.0225609369,
            93052.07851908825,
            52209.461791478,
            29633.037511672348,
            21041.32247484824,
            10156.09947144895,
            4635.904741296846
           ]
          }
         ],
         "name": "Mar-2020"
        },
        {
         "data": [
          {
           "coloraxis": "coloraxis",
           "geo": "geo",
           "hovertemplate": "<b>%{hovertext}</b><br><br>Date=Apr-2020<br>Code=%{location}<br>Greenness=%{z}<extra></extra>",
           "hovertext": [
            "Germany",
            "Spain",
            "Belgium",
            "Czech Republic",
            "Bulgaria",
            "Denmark",
            "Estonia",
            "Finland",
            "Cyprus"
           ],
           "locations": [
            "DEU",
            "ESP",
            "BEL",
            "CZE",
            "BGR",
            "DNK",
            "EST",
            "FIN",
            "CYP"
           ],
           "name": "",
           "type": "choropleth",
           "z": [
            421321.2855566962,
            162749.13280438306,
            129026.9753187929,
            64978.664707539036,
            38934.80003312848,
            24374.773827240046,
            21202.715007619903,
            6027.709593810648,
            4277.5808150880075
           ]
          }
         ],
         "name": "Apr-2020"
        },
        {
         "data": [
          {
           "coloraxis": "coloraxis",
           "geo": "geo",
           "hovertemplate": "<b>%{hovertext}</b><br><br>Date=May-2020<br>Code=%{location}<br>Greenness=%{z}<extra></extra>",
           "hovertext": [
            "Germany",
            "Spain",
            "Belgium",
            "Czech Republic",
            "Bulgaria",
            "Denmark",
            "Estonia",
            "Cyprus",
            "Finland"
           ],
           "locations": [
            "DEU",
            "ESP",
            "BEL",
            "CZE",
            "BGR",
            "DNK",
            "EST",
            "CYP",
            "FIN"
           ],
           "name": "",
           "type": "choropleth",
           "z": [
            376514.3113544568,
            176254.64654109004,
            97970.51824676823,
            73718.73400066301,
            42744.640748449885,
            20555.913255810174,
            13495.362356051528,
            9176.27903871957,
            269.9780608846887
           ]
          }
         ],
         "name": "May-2020"
        },
        {
         "data": [
          {
           "coloraxis": "coloraxis",
           "geo": "geo",
           "hovertemplate": "<b>%{hovertext}</b><br><br>Date=Jun-2020<br>Code=%{location}<br>Greenness=%{z}<extra></extra>",
           "hovertext": [
            "Germany",
            "Spain",
            "Belgium",
            "Czech Republic",
            "Bulgaria",
            "Denmark",
            "Estonia",
            "Cyprus",
            "Finland"
           ],
           "locations": [
            "DEU",
            "ESP",
            "BEL",
            "CZE",
            "BGR",
            "DNK",
            "EST",
            "CYP",
            "FIN"
           ],
           "name": "",
           "type": "choropleth",
           "z": [
            415566.56950336054,
            187715.5898931304,
            124967.16201273468,
            81138.09317589848,
            58099.941594922435,
            25673.759575211145,
            8362.16931467597,
            4613.174594384523,
            4143.35567071111
           ]
          }
         ],
         "name": "Jun-2020"
        },
        {
         "data": [
          {
           "coloraxis": "coloraxis",
           "geo": "geo",
           "hovertemplate": "<b>%{hovertext}</b><br><br>Date=Jul-2020<br>Code=%{location}<br>Greenness=%{z}<extra></extra>",
           "hovertext": [
            "Germany",
            "Spain",
            "Belgium",
            "Czech Republic",
            "Bulgaria",
            "Denmark",
            "Estonia",
            "Finland",
            "Cyprus"
           ],
           "locations": [
            "DEU",
            "ESP",
            "BEL",
            "CZE",
            "BGR",
            "DNK",
            "EST",
            "FIN",
            "CYP"
           ],
           "name": "",
           "type": "choropleth",
           "z": [
            485109.31599432416,
            200748.52026134855,
            124491.45091083304,
            120072.27264854554,
            76137.11695428405,
            27376.413251005797,
            20699.448331483516,
            9074.532758993299,
            5661.2350405219095
           ]
          }
         ],
         "name": "Jul-2020"
        },
        {
         "data": [
          {
           "coloraxis": "coloraxis",
           "geo": "geo",
           "hovertemplate": "<b>%{hovertext}</b><br><br>Date=Aug-2020<br>Code=%{location}<br>Greenness=%{z}<extra></extra>",
           "hovertext": [
            "Germany",
            "Spain",
            "Czech Republic",
            "Belgium",
            "Bulgaria",
            "Denmark",
            "Estonia",
            "Cyprus",
            "Finland"
           ],
           "locations": [
            "DEU",
            "ESP",
            "CZE",
            "BEL",
            "BGR",
            "DNK",
            "EST",
            "CYP",
            "FIN"
           ],
           "name": "",
           "type": "choropleth",
           "z": [
            471308.00843439996,
            150598.54979508094,
            118452.0251566373,
            105954.47343060926,
            40325.54905077439,
            25359.144303986464,
            25200.89878812571,
            5599.353280065193,
            3167.6022215854214
           ]
          }
         ],
         "name": "Aug-2020"
        },
        {
         "data": [
          {
           "coloraxis": "coloraxis",
           "geo": "geo",
           "hovertemplate": "<b>%{hovertext}</b><br><br>Date=Sep-2020<br>Code=%{location}<br>Greenness=%{z}<extra></extra>",
           "hovertext": [
            "Germany",
            "Spain",
            "Belgium",
            "Czech Republic",
            "Denmark",
            "Bulgaria",
            "Estonia",
            "Cyprus",
            "Finland"
           ],
           "locations": [
            "DEU",
            "ESP",
            "BEL",
            "CZE",
            "DNK",
            "BGR",
            "EST",
            "CYP",
            "FIN"
           ],
           "name": "",
           "type": "choropleth",
           "z": [
            524253.6036357826,
            184608.1608025237,
            134997.83214008642,
            122453.0573820233,
            33338.188153183335,
            30495.323962106326,
            19755.045831691248,
            5830.516923278236,
            1445.2617258114026
           ]
          }
         ],
         "name": "Sep-2020"
        },
        {
         "data": [
          {
           "coloraxis": "coloraxis",
           "geo": "geo",
           "hovertemplate": "<b>%{hovertext}</b><br><br>Date=Oct-2020<br>Code=%{location}<br>Greenness=%{z}<extra></extra>",
           "hovertext": [
            "Germany",
            "Spain",
            "Czech Republic",
            "Belgium",
            "Bulgaria",
            "Denmark",
            "Estonia",
            "Finland",
            "Cyprus"
           ],
           "locations": [
            "DEU",
            "ESP",
            "CZE",
            "BEL",
            "BGR",
            "DNK",
            "EST",
            "FIN",
            "CYP"
           ],
           "name": "",
           "type": "choropleth",
           "z": [
            488808.25330692093,
            186316.9911982047,
            156523.0214508034,
            136072.3132597416,
            71324.21139416014,
            34933.52892150754,
            16392.034782259812,
            8886.742176579255,
            5471.356605901704
           ]
          }
         ],
         "name": "Oct-2020"
        },
        {
         "data": [
          {
           "coloraxis": "coloraxis",
           "geo": "geo",
           "hovertemplate": "<b>%{hovertext}</b><br><br>Date=Nov-2020<br>Code=%{location}<br>Greenness=%{z}<extra></extra>",
           "hovertext": [
            "Germany",
            "Spain",
            "Czech Republic",
            "Belgium",
            "Bulgaria",
            "Denmark",
            "Estonia",
            "Cyprus",
            "Finland"
           ],
           "locations": [
            "DEU",
            "ESP",
            "CZE",
            "BEL",
            "BGR",
            "DNK",
            "EST",
            "CYP",
            "FIN"
           ],
           "name": "",
           "type": "choropleth",
           "z": [
            484912.1138117385,
            184970.49150397518,
            141262.0762504821,
            117246.53063898171,
            103713.90338641076,
            52801.20879090381,
            29305.868283836848,
            14223.49771370475,
            2281.5057250494897
           ]
          }
         ],
         "name": "Nov-2020"
        },
        {
         "data": [
          {
           "coloraxis": "coloraxis",
           "geo": "geo",
           "hovertemplate": "<b>%{hovertext}</b><br><br>Date=Dec-2020<br>Code=%{location}<br>Greenness=%{z}<extra></extra>",
           "hovertext": [
            "Germany",
            "Spain",
            "Belgium",
            "Czech Republic",
            "Bulgaria",
            "Denmark",
            "Estonia",
            "Cyprus",
            "Finland"
           ],
           "locations": [
            "DEU",
            "ESP",
            "BEL",
            "CZE",
            "BGR",
            "DNK",
            "EST",
            "CYP",
            "FIN"
           ],
           "name": "",
           "type": "choropleth",
           "z": [
            398178.9072206492,
            192711.26663931168,
            128349.95622540191,
            95335.67492982278,
            61110.401660284144,
            33586.23415714226,
            14066.187987626337,
            8726.335301478663,
            2729.491879294285
           ]
          }
         ],
         "name": "Dec-2020"
        },
        {
         "data": [
          {
           "coloraxis": "coloraxis",
           "geo": "geo",
           "hovertemplate": "<b>%{hovertext}</b><br><br>Date=Jan-2021<br>Code=%{location}<br>Greenness=%{z}<extra></extra>",
           "hovertext": [
            "Germany",
            "Spain",
            "Belgium",
            "Bulgaria",
            "Czech Republic",
            "Estonia",
            "Denmark",
            "Cyprus",
            "Finland"
           ],
           "locations": [
            "DEU",
            "ESP",
            "BEL",
            "BGR",
            "CZE",
            "EST",
            "DNK",
            "CYP",
            "FIN"
           ],
           "name": "",
           "type": "choropleth",
           "z": [
            423680.21048753057,
            131389.1655696592,
            117241.01869416672,
            41572.21580314307,
            38855.84080629316,
            26845.074863510134,
            25398.602927942233,
            7126.588999927564,
            729.3232716194335
           ]
          }
         ],
         "name": "Jan-2021"
        },
        {
         "data": [
          {
           "coloraxis": "coloraxis",
           "geo": "geo",
           "hovertemplate": "<b>%{hovertext}</b><br><br>Date=Feb-2021<br>Code=%{location}<br>Greenness=%{z}<extra></extra>",
           "hovertext": [
            "Germany",
            "Spain",
            "Belgium",
            "Bulgaria",
            "Denmark",
            "Czech Republic",
            "Estonia",
            "Finland",
            "Cyprus"
           ],
           "locations": [
            "DEU",
            "ESP",
            "BEL",
            "BGR",
            "DNK",
            "CZE",
            "EST",
            "FIN",
            "CYP"
           ],
           "name": "",
           "type": "choropleth",
           "z": [
            462940.53292852367,
            195776.5184860275,
            127650.72217836787,
            62595.49724575076,
            42448.29304602333,
            38417.0942315445,
            19778.220505655812,
            5614.439904419034,
            5193.191201637277
           ]
          }
         ],
         "name": "Feb-2021"
        },
        {
         "data": [
          {
           "coloraxis": "coloraxis",
           "geo": "geo",
           "hovertemplate": "<b>%{hovertext}</b><br><br>Date=Mar-2021<br>Code=%{location}<br>Greenness=%{z}<extra></extra>",
           "hovertext": [
            "Germany",
            "Spain",
            "Belgium",
            "Bulgaria",
            "Czech Republic",
            "Denmark",
            "Estonia",
            "Cyprus",
            "Finland"
           ],
           "locations": [
            "DEU",
            "ESP",
            "BEL",
            "BGR",
            "CZE",
            "DNK",
            "EST",
            "CYP",
            "FIN"
           ],
           "name": "",
           "type": "choropleth",
           "z": [
            595453.68704709,
            217852.05903353993,
            139916.16260551065,
            72175.17816221617,
            52693.42074836409,
            38896.136189095116,
            20405.228172327992,
            10823.761494510172,
            2345.575232671741
           ]
          }
         ],
         "name": "Mar-2021"
        },
        {
         "data": [
          {
           "coloraxis": "coloraxis",
           "geo": "geo",
           "hovertemplate": "<b>%{hovertext}</b><br><br>Date=Apr-2021<br>Code=%{location}<br>Greenness=%{z}<extra></extra>",
           "hovertext": [
            "Germany",
            "Spain",
            "Belgium",
            "Czech Republic",
            "Bulgaria",
            "Denmark",
            "Estonia",
            "Cyprus",
            "Finland"
           ],
           "locations": [
            "DEU",
            "ESP",
            "BEL",
            "CZE",
            "BGR",
            "DNK",
            "EST",
            "CYP",
            "FIN"
           ],
           "name": "",
           "type": "choropleth",
           "z": [
            472079.07816427323,
            185899.2119558204,
            130190.11017295322,
            55284.56635853678,
            49812.85850782636,
            22981.16440249162,
            18543.12425226476,
            7800.715292731842,
            6783.824768074488
           ]
          }
         ],
         "name": "Apr-2021"
        },
        {
         "data": [
          {
           "coloraxis": "coloraxis",
           "geo": "geo",
           "hovertemplate": "<b>%{hovertext}</b><br><br>Date=May-2021<br>Code=%{location}<br>Greenness=%{z}<extra></extra>",
           "hovertext": [
            "Germany",
            "Spain",
            "Belgium",
            "Czech Republic",
            "Denmark",
            "Bulgaria",
            "Cyprus",
            "Estonia",
            "Finland"
           ],
           "locations": [
            "DEU",
            "ESP",
            "BEL",
            "CZE",
            "DNK",
            "BGR",
            "CYP",
            "EST",
            "FIN"
           ],
           "name": "",
           "type": "choropleth",
           "z": [
            475861.41046462837,
            195648.63768010802,
            115435.1977502976,
            56278.634189088516,
            38462.864192920126,
            37145.22179342642,
            12718.694004706373,
            11983.647450989754,
            1947.5346280427818
           ]
          }
         ],
         "name": "May-2021"
        },
        {
         "data": [
          {
           "coloraxis": "coloraxis",
           "geo": "geo",
           "hovertemplate": "<b>%{hovertext}</b><br><br>Date=Jun-2021<br>Code=%{location}<br>Greenness=%{z}<extra></extra>",
           "hovertext": [
            "Germany",
            "Spain",
            "Belgium",
            "Czech Republic",
            "Bulgaria",
            "Denmark",
            "Estonia",
            "Finland",
            "Cyprus"
           ],
           "locations": [
            "DEU",
            "ESP",
            "BEL",
            "CZE",
            "BGR",
            "DNK",
            "EST",
            "FIN",
            "CYP"
           ],
           "name": "",
           "type": "choropleth",
           "z": [
            497337.95444455475,
            196331.68086620967,
            128045.5677648853,
            59552.746561924316,
            46005.76813788158,
            25159.842035138114,
            18417.6490662017,
            7378.212816395007,
            6564.864737397673
           ]
          }
         ],
         "name": "Jun-2021"
        }
       ],
       "layout": {
        "coloraxis": {
         "colorbar": {
          "title": {
           "text": "Greenness"
          }
         },
         "colorscale": [
          [
           0,
           "rgb(247,252,245)"
          ],
          [
           0.125,
           "rgb(229,245,224)"
          ],
          [
           0.25,
           "rgb(199,233,192)"
          ],
          [
           0.375,
           "rgb(161,217,155)"
          ],
          [
           0.5,
           "rgb(116,196,118)"
          ],
          [
           0.625,
           "rgb(65,171,93)"
          ],
          [
           0.75,
           "rgb(35,139,69)"
          ],
          [
           0.875,
           "rgb(0,109,44)"
          ],
          [
           1,
           "rgb(0,68,27)"
          ]
         ]
        },
        "geo": {
         "center": {},
         "domain": {
          "x": [
           0,
           1
          ],
          "y": [
           0,
           1
          ]
         },
         "scope": "europe"
        },
        "legend": {
         "tracegroupgap": 0
        },
        "margin": {
         "b": 200,
         "l": 2,
         "r": 20,
         "t": 20
        },
        "sliders": [
         {
          "active": 0,
          "currentvalue": {
           "prefix": "Date="
          },
          "len": 0.9,
          "pad": {
           "b": 10,
           "t": 60
          },
          "steps": [
           {
            "args": [
             [
              "Jan-2019"
             ],
             {
              "frame": {
               "duration": 0,
               "redraw": true
              },
              "fromcurrent": true,
              "mode": "immediate",
              "transition": {
               "duration": 0,
               "easing": "linear"
              }
             }
            ],
            "label": "Jan-2019",
            "method": "animate"
           },
           {
            "args": [
             [
              "Feb-2019"
             ],
             {
              "frame": {
               "duration": 0,
               "redraw": true
              },
              "fromcurrent": true,
              "mode": "immediate",
              "transition": {
               "duration": 0,
               "easing": "linear"
              }
             }
            ],
            "label": "Feb-2019",
            "method": "animate"
           },
           {
            "args": [
             [
              "Mar-2019"
             ],
             {
              "frame": {
               "duration": 0,
               "redraw": true
              },
              "fromcurrent": true,
              "mode": "immediate",
              "transition": {
               "duration": 0,
               "easing": "linear"
              }
             }
            ],
            "label": "Mar-2019",
            "method": "animate"
           },
           {
            "args": [
             [
              "Apr-2019"
             ],
             {
              "frame": {
               "duration": 0,
               "redraw": true
              },
              "fromcurrent": true,
              "mode": "immediate",
              "transition": {
               "duration": 0,
               "easing": "linear"
              }
             }
            ],
            "label": "Apr-2019",
            "method": "animate"
           },
           {
            "args": [
             [
              "May-2019"
             ],
             {
              "frame": {
               "duration": 0,
               "redraw": true
              },
              "fromcurrent": true,
              "mode": "immediate",
              "transition": {
               "duration": 0,
               "easing": "linear"
              }
             }
            ],
            "label": "May-2019",
            "method": "animate"
           },
           {
            "args": [
             [
              "Jun-2019"
             ],
             {
              "frame": {
               "duration": 0,
               "redraw": true
              },
              "fromcurrent": true,
              "mode": "immediate",
              "transition": {
               "duration": 0,
               "easing": "linear"
              }
             }
            ],
            "label": "Jun-2019",
            "method": "animate"
           },
           {
            "args": [
             [
              "Jul-2019"
             ],
             {
              "frame": {
               "duration": 0,
               "redraw": true
              },
              "fromcurrent": true,
              "mode": "immediate",
              "transition": {
               "duration": 0,
               "easing": "linear"
              }
             }
            ],
            "label": "Jul-2019",
            "method": "animate"
           },
           {
            "args": [
             [
              "Aug-2019"
             ],
             {
              "frame": {
               "duration": 0,
               "redraw": true
              },
              "fromcurrent": true,
              "mode": "immediate",
              "transition": {
               "duration": 0,
               "easing": "linear"
              }
             }
            ],
            "label": "Aug-2019",
            "method": "animate"
           },
           {
            "args": [
             [
              "Sep-2019"
             ],
             {
              "frame": {
               "duration": 0,
               "redraw": true
              },
              "fromcurrent": true,
              "mode": "immediate",
              "transition": {
               "duration": 0,
               "easing": "linear"
              }
             }
            ],
            "label": "Sep-2019",
            "method": "animate"
           },
           {
            "args": [
             [
              "Oct-2019"
             ],
             {
              "frame": {
               "duration": 0,
               "redraw": true
              },
              "fromcurrent": true,
              "mode": "immediate",
              "transition": {
               "duration": 0,
               "easing": "linear"
              }
             }
            ],
            "label": "Oct-2019",
            "method": "animate"
           },
           {
            "args": [
             [
              "Nov-2019"
             ],
             {
              "frame": {
               "duration": 0,
               "redraw": true
              },
              "fromcurrent": true,
              "mode": "immediate",
              "transition": {
               "duration": 0,
               "easing": "linear"
              }
             }
            ],
            "label": "Nov-2019",
            "method": "animate"
           },
           {
            "args": [
             [
              "Dec-2019"
             ],
             {
              "frame": {
               "duration": 0,
               "redraw": true
              },
              "fromcurrent": true,
              "mode": "immediate",
              "transition": {
               "duration": 0,
               "easing": "linear"
              }
             }
            ],
            "label": "Dec-2019",
            "method": "animate"
           },
           {
            "args": [
             [
              "Jan-2020"
             ],
             {
              "frame": {
               "duration": 0,
               "redraw": true
              },
              "fromcurrent": true,
              "mode": "immediate",
              "transition": {
               "duration": 0,
               "easing": "linear"
              }
             }
            ],
            "label": "Jan-2020",
            "method": "animate"
           },
           {
            "args": [
             [
              "Feb-2020"
             ],
             {
              "frame": {
               "duration": 0,
               "redraw": true
              },
              "fromcurrent": true,
              "mode": "immediate",
              "transition": {
               "duration": 0,
               "easing": "linear"
              }
             }
            ],
            "label": "Feb-2020",
            "method": "animate"
           },
           {
            "args": [
             [
              "Mar-2020"
             ],
             {
              "frame": {
               "duration": 0,
               "redraw": true
              },
              "fromcurrent": true,
              "mode": "immediate",
              "transition": {
               "duration": 0,
               "easing": "linear"
              }
             }
            ],
            "label": "Mar-2020",
            "method": "animate"
           },
           {
            "args": [
             [
              "Apr-2020"
             ],
             {
              "frame": {
               "duration": 0,
               "redraw": true
              },
              "fromcurrent": true,
              "mode": "immediate",
              "transition": {
               "duration": 0,
               "easing": "linear"
              }
             }
            ],
            "label": "Apr-2020",
            "method": "animate"
           },
           {
            "args": [
             [
              "May-2020"
             ],
             {
              "frame": {
               "duration": 0,
               "redraw": true
              },
              "fromcurrent": true,
              "mode": "immediate",
              "transition": {
               "duration": 0,
               "easing": "linear"
              }
             }
            ],
            "label": "May-2020",
            "method": "animate"
           },
           {
            "args": [
             [
              "Jun-2020"
             ],
             {
              "frame": {
               "duration": 0,
               "redraw": true
              },
              "fromcurrent": true,
              "mode": "immediate",
              "transition": {
               "duration": 0,
               "easing": "linear"
              }
             }
            ],
            "label": "Jun-2020",
            "method": "animate"
           },
           {
            "args": [
             [
              "Jul-2020"
             ],
             {
              "frame": {
               "duration": 0,
               "redraw": true
              },
              "fromcurrent": true,
              "mode": "immediate",
              "transition": {
               "duration": 0,
               "easing": "linear"
              }
             }
            ],
            "label": "Jul-2020",
            "method": "animate"
           },
           {
            "args": [
             [
              "Aug-2020"
             ],
             {
              "frame": {
               "duration": 0,
               "redraw": true
              },
              "fromcurrent": true,
              "mode": "immediate",
              "transition": {
               "duration": 0,
               "easing": "linear"
              }
             }
            ],
            "label": "Aug-2020",
            "method": "animate"
           },
           {
            "args": [
             [
              "Sep-2020"
             ],
             {
              "frame": {
               "duration": 0,
               "redraw": true
              },
              "fromcurrent": true,
              "mode": "immediate",
              "transition": {
               "duration": 0,
               "easing": "linear"
              }
             }
            ],
            "label": "Sep-2020",
            "method": "animate"
           },
           {
            "args": [
             [
              "Oct-2020"
             ],
             {
              "frame": {
               "duration": 0,
               "redraw": true
              },
              "fromcurrent": true,
              "mode": "immediate",
              "transition": {
               "duration": 0,
               "easing": "linear"
              }
             }
            ],
            "label": "Oct-2020",
            "method": "animate"
           },
           {
            "args": [
             [
              "Nov-2020"
             ],
             {
              "frame": {
               "duration": 0,
               "redraw": true
              },
              "fromcurrent": true,
              "mode": "immediate",
              "transition": {
               "duration": 0,
               "easing": "linear"
              }
             }
            ],
            "label": "Nov-2020",
            "method": "animate"
           },
           {
            "args": [
             [
              "Dec-2020"
             ],
             {
              "frame": {
               "duration": 0,
               "redraw": true
              },
              "fromcurrent": true,
              "mode": "immediate",
              "transition": {
               "duration": 0,
               "easing": "linear"
              }
             }
            ],
            "label": "Dec-2020",
            "method": "animate"
           },
           {
            "args": [
             [
              "Jan-2021"
             ],
             {
              "frame": {
               "duration": 0,
               "redraw": true
              },
              "fromcurrent": true,
              "mode": "immediate",
              "transition": {
               "duration": 0,
               "easing": "linear"
              }
             }
            ],
            "label": "Jan-2021",
            "method": "animate"
           },
           {
            "args": [
             [
              "Feb-2021"
             ],
             {
              "frame": {
               "duration": 0,
               "redraw": true
              },
              "fromcurrent": true,
              "mode": "immediate",
              "transition": {
               "duration": 0,
               "easing": "linear"
              }
             }
            ],
            "label": "Feb-2021",
            "method": "animate"
           },
           {
            "args": [
             [
              "Mar-2021"
             ],
             {
              "frame": {
               "duration": 0,
               "redraw": true
              },
              "fromcurrent": true,
              "mode": "immediate",
              "transition": {
               "duration": 0,
               "easing": "linear"
              }
             }
            ],
            "label": "Mar-2021",
            "method": "animate"
           },
           {
            "args": [
             [
              "Apr-2021"
             ],
             {
              "frame": {
               "duration": 0,
               "redraw": true
              },
              "fromcurrent": true,
              "mode": "immediate",
              "transition": {
               "duration": 0,
               "easing": "linear"
              }
             }
            ],
            "label": "Apr-2021",
            "method": "animate"
           },
           {
            "args": [
             [
              "May-2021"
             ],
             {
              "frame": {
               "duration": 0,
               "redraw": true
              },
              "fromcurrent": true,
              "mode": "immediate",
              "transition": {
               "duration": 0,
               "easing": "linear"
              }
             }
            ],
            "label": "May-2021",
            "method": "animate"
           },
           {
            "args": [
             [
              "Jun-2021"
             ],
             {
              "frame": {
               "duration": 0,
               "redraw": true
              },
              "fromcurrent": true,
              "mode": "immediate",
              "transition": {
               "duration": 0,
               "easing": "linear"
              }
             }
            ],
            "label": "Jun-2021",
            "method": "animate"
           }
          ],
          "x": 0.1,
          "xanchor": "left",
          "y": 0,
          "yanchor": "top"
         }
        ],
        "template": {
         "data": {
          "bar": [
           {
            "error_x": {
             "color": "rgb(51,51,51)"
            },
            "error_y": {
             "color": "rgb(51,51,51)"
            },
            "marker": {
             "line": {
              "color": "rgb(237,237,237)",
              "width": 0.5
             },
             "pattern": {
              "fillmode": "overlay",
              "size": 10,
              "solidity": 0.2
             }
            },
            "type": "bar"
           }
          ],
          "barpolar": [
           {
            "marker": {
             "line": {
              "color": "rgb(237,237,237)",
              "width": 0.5
             },
             "pattern": {
              "fillmode": "overlay",
              "size": 10,
              "solidity": 0.2
             }
            },
            "type": "barpolar"
           }
          ],
          "carpet": [
           {
            "aaxis": {
             "endlinecolor": "rgb(51,51,51)",
             "gridcolor": "white",
             "linecolor": "white",
             "minorgridcolor": "white",
             "startlinecolor": "rgb(51,51,51)"
            },
            "baxis": {
             "endlinecolor": "rgb(51,51,51)",
             "gridcolor": "white",
             "linecolor": "white",
             "minorgridcolor": "white",
             "startlinecolor": "rgb(51,51,51)"
            },
            "type": "carpet"
           }
          ],
          "choropleth": [
           {
            "colorbar": {
             "outlinewidth": 0,
             "tickcolor": "rgb(237,237,237)",
             "ticklen": 6,
             "ticks": "inside"
            },
            "type": "choropleth"
           }
          ],
          "contour": [
           {
            "colorbar": {
             "outlinewidth": 0,
             "tickcolor": "rgb(237,237,237)",
             "ticklen": 6,
             "ticks": "inside"
            },
            "colorscale": [
             [
              0,
              "rgb(20,44,66)"
             ],
             [
              1,
              "rgb(90,179,244)"
             ]
            ],
            "type": "contour"
           }
          ],
          "contourcarpet": [
           {
            "colorbar": {
             "outlinewidth": 0,
             "tickcolor": "rgb(237,237,237)",
             "ticklen": 6,
             "ticks": "inside"
            },
            "type": "contourcarpet"
           }
          ],
          "heatmap": [
           {
            "colorbar": {
             "outlinewidth": 0,
             "tickcolor": "rgb(237,237,237)",
             "ticklen": 6,
             "ticks": "inside"
            },
            "colorscale": [
             [
              0,
              "rgb(20,44,66)"
             ],
             [
              1,
              "rgb(90,179,244)"
             ]
            ],
            "type": "heatmap"
           }
          ],
          "heatmapgl": [
           {
            "colorbar": {
             "outlinewidth": 0,
             "tickcolor": "rgb(237,237,237)",
             "ticklen": 6,
             "ticks": "inside"
            },
            "colorscale": [
             [
              0,
              "rgb(20,44,66)"
             ],
             [
              1,
              "rgb(90,179,244)"
             ]
            ],
            "type": "heatmapgl"
           }
          ],
          "histogram": [
           {
            "marker": {
             "pattern": {
              "fillmode": "overlay",
              "size": 10,
              "solidity": 0.2
             }
            },
            "type": "histogram"
           }
          ],
          "histogram2d": [
           {
            "colorbar": {
             "outlinewidth": 0,
             "tickcolor": "rgb(237,237,237)",
             "ticklen": 6,
             "ticks": "inside"
            },
            "colorscale": [
             [
              0,
              "rgb(20,44,66)"
             ],
             [
              1,
              "rgb(90,179,244)"
             ]
            ],
            "type": "histogram2d"
           }
          ],
          "histogram2dcontour": [
           {
            "colorbar": {
             "outlinewidth": 0,
             "tickcolor": "rgb(237,237,237)",
             "ticklen": 6,
             "ticks": "inside"
            },
            "colorscale": [
             [
              0,
              "rgb(20,44,66)"
             ],
             [
              1,
              "rgb(90,179,244)"
             ]
            ],
            "type": "histogram2dcontour"
           }
          ],
          "mesh3d": [
           {
            "colorbar": {
             "outlinewidth": 0,
             "tickcolor": "rgb(237,237,237)",
             "ticklen": 6,
             "ticks": "inside"
            },
            "type": "mesh3d"
           }
          ],
          "parcoords": [
           {
            "line": {
             "colorbar": {
              "outlinewidth": 0,
              "tickcolor": "rgb(237,237,237)",
              "ticklen": 6,
              "ticks": "inside"
             }
            },
            "type": "parcoords"
           }
          ],
          "pie": [
           {
            "automargin": true,
            "type": "pie"
           }
          ],
          "scatter": [
           {
            "marker": {
             "colorbar": {
              "outlinewidth": 0,
              "tickcolor": "rgb(237,237,237)",
              "ticklen": 6,
              "ticks": "inside"
             }
            },
            "type": "scatter"
           }
          ],
          "scatter3d": [
           {
            "line": {
             "colorbar": {
              "outlinewidth": 0,
              "tickcolor": "rgb(237,237,237)",
              "ticklen": 6,
              "ticks": "inside"
             }
            },
            "marker": {
             "colorbar": {
              "outlinewidth": 0,
              "tickcolor": "rgb(237,237,237)",
              "ticklen": 6,
              "ticks": "inside"
             }
            },
            "type": "scatter3d"
           }
          ],
          "scattercarpet": [
           {
            "marker": {
             "colorbar": {
              "outlinewidth": 0,
              "tickcolor": "rgb(237,237,237)",
              "ticklen": 6,
              "ticks": "inside"
             }
            },
            "type": "scattercarpet"
           }
          ],
          "scattergeo": [
           {
            "marker": {
             "colorbar": {
              "outlinewidth": 0,
              "tickcolor": "rgb(237,237,237)",
              "ticklen": 6,
              "ticks": "inside"
             }
            },
            "type": "scattergeo"
           }
          ],
          "scattergl": [
           {
            "marker": {
             "colorbar": {
              "outlinewidth": 0,
              "tickcolor": "rgb(237,237,237)",
              "ticklen": 6,
              "ticks": "inside"
             }
            },
            "type": "scattergl"
           }
          ],
          "scattermapbox": [
           {
            "marker": {
             "colorbar": {
              "outlinewidth": 0,
              "tickcolor": "rgb(237,237,237)",
              "ticklen": 6,
              "ticks": "inside"
             }
            },
            "type": "scattermapbox"
           }
          ],
          "scatterpolar": [
           {
            "marker": {
             "colorbar": {
              "outlinewidth": 0,
              "tickcolor": "rgb(237,237,237)",
              "ticklen": 6,
              "ticks": "inside"
             }
            },
            "type": "scatterpolar"
           }
          ],
          "scatterpolargl": [
           {
            "marker": {
             "colorbar": {
              "outlinewidth": 0,
              "tickcolor": "rgb(237,237,237)",
              "ticklen": 6,
              "ticks": "inside"
             }
            },
            "type": "scatterpolargl"
           }
          ],
          "scatterternary": [
           {
            "marker": {
             "colorbar": {
              "outlinewidth": 0,
              "tickcolor": "rgb(237,237,237)",
              "ticklen": 6,
              "ticks": "inside"
             }
            },
            "type": "scatterternary"
           }
          ],
          "surface": [
           {
            "colorbar": {
             "outlinewidth": 0,
             "tickcolor": "rgb(237,237,237)",
             "ticklen": 6,
             "ticks": "inside"
            },
            "colorscale": [
             [
              0,
              "rgb(20,44,66)"
             ],
             [
              1,
              "rgb(90,179,244)"
             ]
            ],
            "type": "surface"
           }
          ],
          "table": [
           {
            "cells": {
             "fill": {
              "color": "rgb(237,237,237)"
             },
             "line": {
              "color": "white"
             }
            },
            "header": {
             "fill": {
              "color": "rgb(217,217,217)"
             },
             "line": {
              "color": "white"
             }
            },
            "type": "table"
           }
          ]
         },
         "layout": {
          "annotationdefaults": {
           "arrowhead": 0,
           "arrowwidth": 1
          },
          "autotypenumbers": "strict",
          "coloraxis": {
           "colorbar": {
            "outlinewidth": 0,
            "tickcolor": "rgb(237,237,237)",
            "ticklen": 6,
            "ticks": "inside"
           }
          },
          "colorscale": {
           "sequential": [
            [
             0,
             "rgb(20,44,66)"
            ],
            [
             1,
             "rgb(90,179,244)"
            ]
           ],
           "sequentialminus": [
            [
             0,
             "rgb(20,44,66)"
            ],
            [
             1,
             "rgb(90,179,244)"
            ]
           ]
          },
          "colorway": [
           "#F8766D",
           "#A3A500",
           "#00BF7D",
           "#00B0F6",
           "#E76BF3"
          ],
          "font": {
           "color": "rgb(51,51,51)"
          },
          "geo": {
           "bgcolor": "white",
           "lakecolor": "white",
           "landcolor": "rgb(237,237,237)",
           "showlakes": true,
           "showland": true,
           "subunitcolor": "white"
          },
          "hoverlabel": {
           "align": "left"
          },
          "hovermode": "closest",
          "paper_bgcolor": "white",
          "plot_bgcolor": "rgb(237,237,237)",
          "polar": {
           "angularaxis": {
            "gridcolor": "white",
            "linecolor": "white",
            "showgrid": true,
            "tickcolor": "rgb(51,51,51)",
            "ticks": "outside"
           },
           "bgcolor": "rgb(237,237,237)",
           "radialaxis": {
            "gridcolor": "white",
            "linecolor": "white",
            "showgrid": true,
            "tickcolor": "rgb(51,51,51)",
            "ticks": "outside"
           }
          },
          "scene": {
           "xaxis": {
            "backgroundcolor": "rgb(237,237,237)",
            "gridcolor": "white",
            "gridwidth": 2,
            "linecolor": "white",
            "showbackground": true,
            "showgrid": true,
            "tickcolor": "rgb(51,51,51)",
            "ticks": "outside",
            "zerolinecolor": "white"
           },
           "yaxis": {
            "backgroundcolor": "rgb(237,237,237)",
            "gridcolor": "white",
            "gridwidth": 2,
            "linecolor": "white",
            "showbackground": true,
            "showgrid": true,
            "tickcolor": "rgb(51,51,51)",
            "ticks": "outside",
            "zerolinecolor": "white"
           },
           "zaxis": {
            "backgroundcolor": "rgb(237,237,237)",
            "gridcolor": "white",
            "gridwidth": 2,
            "linecolor": "white",
            "showbackground": true,
            "showgrid": true,
            "tickcolor": "rgb(51,51,51)",
            "ticks": "outside",
            "zerolinecolor": "white"
           }
          },
          "shapedefaults": {
           "fillcolor": "black",
           "line": {
            "width": 0
           },
           "opacity": 0.3
          },
          "ternary": {
           "aaxis": {
            "gridcolor": "white",
            "linecolor": "white",
            "showgrid": true,
            "tickcolor": "rgb(51,51,51)",
            "ticks": "outside"
           },
           "baxis": {
            "gridcolor": "white",
            "linecolor": "white",
            "showgrid": true,
            "tickcolor": "rgb(51,51,51)",
            "ticks": "outside"
           },
           "bgcolor": "rgb(237,237,237)",
           "caxis": {
            "gridcolor": "white",
            "linecolor": "white",
            "showgrid": true,
            "tickcolor": "rgb(51,51,51)",
            "ticks": "outside"
           }
          },
          "xaxis": {
           "automargin": true,
           "gridcolor": "white",
           "linecolor": "white",
           "showgrid": true,
           "tickcolor": "rgb(51,51,51)",
           "ticks": "outside",
           "title": {
            "standoff": 15
           },
           "zerolinecolor": "white"
          },
          "yaxis": {
           "automargin": true,
           "gridcolor": "white",
           "linecolor": "white",
           "showgrid": true,
           "tickcolor": "rgb(51,51,51)",
           "ticks": "outside",
           "title": {
            "standoff": 15
           },
           "zerolinecolor": "white"
          }
         }
        },
        "updatemenus": [
         {
          "buttons": [
           {
            "args": [
             null,
             {
              "frame": {
               "duration": 500,
               "redraw": true
              },
              "fromcurrent": true,
              "mode": "immediate",
              "transition": {
               "duration": 500,
               "easing": "linear"
              }
             }
            ],
            "label": "&#9654;",
            "method": "animate"
           },
           {
            "args": [
             [
              null
             ],
             {
              "frame": {
               "duration": 0,
               "redraw": true
              },
              "fromcurrent": true,
              "mode": "immediate",
              "transition": {
               "duration": 0,
               "easing": "linear"
              }
             }
            ],
            "label": "&#9724;",
            "method": "animate"
           }
          ],
          "direction": "left",
          "pad": {
           "r": 10,
           "t": 70
          },
          "showactive": false,
          "type": "buttons",
          "x": 0.1,
          "xanchor": "right",
          "y": 0,
          "yanchor": "top"
         }
        ]
       }
      },
      "text/html": [
       "<div>                            <div id=\"dfe4ae75-ab5d-4423-8997-455c7c4072c4\" class=\"plotly-graph-div\" style=\"height:525px; width:100%;\"></div>            <script type=\"text/javascript\">                require([\"plotly\"], function(Plotly) {                    window.PLOTLYENV=window.PLOTLYENV || {};                                    if (document.getElementById(\"dfe4ae75-ab5d-4423-8997-455c7c4072c4\")) {                    Plotly.newPlot(                        \"dfe4ae75-ab5d-4423-8997-455c7c4072c4\",                        [{\"coloraxis\":\"coloraxis\",\"geo\":\"geo\",\"hovertemplate\":\"<b>%{hovertext}</b><br><br>Date=Jan-2019<br>Code=%{location}<br>Greenness=%{z}<extra></extra>\",\"hovertext\":[\"Germany\",\"Spain\",\"Belgium\",\"Bulgaria\",\"Czech Republic\",\"Denmark\",\"Estonia\",\"Finland\",\"Cyprus\"],\"locations\":[\"DEU\",\"ESP\",\"BEL\",\"BGR\",\"CZE\",\"DNK\",\"EST\",\"FIN\",\"CYP\"],\"name\":\"\",\"type\":\"choropleth\",\"z\":[459387.14426135266,141335.5353617935,121979.85116824279,36449.61788600728,36239.61583387908,29939.488790853335,24190.016408921416,21963.908884973473,12767.381665010109]}],                        {\"coloraxis\":{\"colorbar\":{\"title\":{\"text\":\"Greenness\"}},\"colorscale\":[[0.0,\"rgb(247,252,245)\"],[0.125,\"rgb(229,245,224)\"],[0.25,\"rgb(199,233,192)\"],[0.375,\"rgb(161,217,155)\"],[0.5,\"rgb(116,196,118)\"],[0.625,\"rgb(65,171,93)\"],[0.75,\"rgb(35,139,69)\"],[0.875,\"rgb(0,109,44)\"],[1.0,\"rgb(0,68,27)\"]]},\"geo\":{\"center\":{},\"domain\":{\"x\":[0.0,1.0],\"y\":[0.0,1.0]},\"scope\":\"europe\"},\"legend\":{\"tracegroupgap\":0},\"margin\":{\"b\":200,\"l\":2,\"r\":20,\"t\":20},\"sliders\":[{\"active\":0,\"currentvalue\":{\"prefix\":\"Date=\"},\"len\":0.9,\"pad\":{\"b\":10,\"t\":60},\"steps\":[{\"args\":[[\"Jan-2019\"],{\"frame\":{\"duration\":0,\"redraw\":true},\"fromcurrent\":true,\"mode\":\"immediate\",\"transition\":{\"duration\":0,\"easing\":\"linear\"}}],\"label\":\"Jan-2019\",\"method\":\"animate\"},{\"args\":[[\"Feb-2019\"],{\"frame\":{\"duration\":0,\"redraw\":true},\"fromcurrent\":true,\"mode\":\"immediate\",\"transition\":{\"duration\":0,\"easing\":\"linear\"}}],\"label\":\"Feb-2019\",\"method\":\"animate\"},{\"args\":[[\"Mar-2019\"],{\"frame\":{\"duration\":0,\"redraw\":true},\"fromcurrent\":true,\"mode\":\"immediate\",\"transition\":{\"duration\":0,\"easing\":\"linear\"}}],\"label\":\"Mar-2019\",\"method\":\"animate\"},{\"args\":[[\"Apr-2019\"],{\"frame\":{\"duration\":0,\"redraw\":true},\"fromcurrent\":true,\"mode\":\"immediate\",\"transition\":{\"duration\":0,\"easing\":\"linear\"}}],\"label\":\"Apr-2019\",\"method\":\"animate\"},{\"args\":[[\"May-2019\"],{\"frame\":{\"duration\":0,\"redraw\":true},\"fromcurrent\":true,\"mode\":\"immediate\",\"transition\":{\"duration\":0,\"easing\":\"linear\"}}],\"label\":\"May-2019\",\"method\":\"animate\"},{\"args\":[[\"Jun-2019\"],{\"frame\":{\"duration\":0,\"redraw\":true},\"fromcurrent\":true,\"mode\":\"immediate\",\"transition\":{\"duration\":0,\"easing\":\"linear\"}}],\"label\":\"Jun-2019\",\"method\":\"animate\"},{\"args\":[[\"Jul-2019\"],{\"frame\":{\"duration\":0,\"redraw\":true},\"fromcurrent\":true,\"mode\":\"immediate\",\"transition\":{\"duration\":0,\"easing\":\"linear\"}}],\"label\":\"Jul-2019\",\"method\":\"animate\"},{\"args\":[[\"Aug-2019\"],{\"frame\":{\"duration\":0,\"redraw\":true},\"fromcurrent\":true,\"mode\":\"immediate\",\"transition\":{\"duration\":0,\"easing\":\"linear\"}}],\"label\":\"Aug-2019\",\"method\":\"animate\"},{\"args\":[[\"Sep-2019\"],{\"frame\":{\"duration\":0,\"redraw\":true},\"fromcurrent\":true,\"mode\":\"immediate\",\"transition\":{\"duration\":0,\"easing\":\"linear\"}}],\"label\":\"Sep-2019\",\"method\":\"animate\"},{\"args\":[[\"Oct-2019\"],{\"frame\":{\"duration\":0,\"redraw\":true},\"fromcurrent\":true,\"mode\":\"immediate\",\"transition\":{\"duration\":0,\"easing\":\"linear\"}}],\"label\":\"Oct-2019\",\"method\":\"animate\"},{\"args\":[[\"Nov-2019\"],{\"frame\":{\"duration\":0,\"redraw\":true},\"fromcurrent\":true,\"mode\":\"immediate\",\"transition\":{\"duration\":0,\"easing\":\"linear\"}}],\"label\":\"Nov-2019\",\"method\":\"animate\"},{\"args\":[[\"Dec-2019\"],{\"frame\":{\"duration\":0,\"redraw\":true},\"fromcurrent\":true,\"mode\":\"immediate\",\"transition\":{\"duration\":0,\"easing\":\"linear\"}}],\"label\":\"Dec-2019\",\"method\":\"animate\"},{\"args\":[[\"Jan-2020\"],{\"frame\":{\"duration\":0,\"redraw\":true},\"fromcurrent\":true,\"mode\":\"immediate\",\"transition\":{\"duration\":0,\"easing\":\"linear\"}}],\"label\":\"Jan-2020\",\"method\":\"animate\"},{\"args\":[[\"Feb-2020\"],{\"frame\":{\"duration\":0,\"redraw\":true},\"fromcurrent\":true,\"mode\":\"immediate\",\"transition\":{\"duration\":0,\"easing\":\"linear\"}}],\"label\":\"Feb-2020\",\"method\":\"animate\"},{\"args\":[[\"Mar-2020\"],{\"frame\":{\"duration\":0,\"redraw\":true},\"fromcurrent\":true,\"mode\":\"immediate\",\"transition\":{\"duration\":0,\"easing\":\"linear\"}}],\"label\":\"Mar-2020\",\"method\":\"animate\"},{\"args\":[[\"Apr-2020\"],{\"frame\":{\"duration\":0,\"redraw\":true},\"fromcurrent\":true,\"mode\":\"immediate\",\"transition\":{\"duration\":0,\"easing\":\"linear\"}}],\"label\":\"Apr-2020\",\"method\":\"animate\"},{\"args\":[[\"May-2020\"],{\"frame\":{\"duration\":0,\"redraw\":true},\"fromcurrent\":true,\"mode\":\"immediate\",\"transition\":{\"duration\":0,\"easing\":\"linear\"}}],\"label\":\"May-2020\",\"method\":\"animate\"},{\"args\":[[\"Jun-2020\"],{\"frame\":{\"duration\":0,\"redraw\":true},\"fromcurrent\":true,\"mode\":\"immediate\",\"transition\":{\"duration\":0,\"easing\":\"linear\"}}],\"label\":\"Jun-2020\",\"method\":\"animate\"},{\"args\":[[\"Jul-2020\"],{\"frame\":{\"duration\":0,\"redraw\":true},\"fromcurrent\":true,\"mode\":\"immediate\",\"transition\":{\"duration\":0,\"easing\":\"linear\"}}],\"label\":\"Jul-2020\",\"method\":\"animate\"},{\"args\":[[\"Aug-2020\"],{\"frame\":{\"duration\":0,\"redraw\":true},\"fromcurrent\":true,\"mode\":\"immediate\",\"transition\":{\"duration\":0,\"easing\":\"linear\"}}],\"label\":\"Aug-2020\",\"method\":\"animate\"},{\"args\":[[\"Sep-2020\"],{\"frame\":{\"duration\":0,\"redraw\":true},\"fromcurrent\":true,\"mode\":\"immediate\",\"transition\":{\"duration\":0,\"easing\":\"linear\"}}],\"label\":\"Sep-2020\",\"method\":\"animate\"},{\"args\":[[\"Oct-2020\"],{\"frame\":{\"duration\":0,\"redraw\":true},\"fromcurrent\":true,\"mode\":\"immediate\",\"transition\":{\"duration\":0,\"easing\":\"linear\"}}],\"label\":\"Oct-2020\",\"method\":\"animate\"},{\"args\":[[\"Nov-2020\"],{\"frame\":{\"duration\":0,\"redraw\":true},\"fromcurrent\":true,\"mode\":\"immediate\",\"transition\":{\"duration\":0,\"easing\":\"linear\"}}],\"label\":\"Nov-2020\",\"method\":\"animate\"},{\"args\":[[\"Dec-2020\"],{\"frame\":{\"duration\":0,\"redraw\":true},\"fromcurrent\":true,\"mode\":\"immediate\",\"transition\":{\"duration\":0,\"easing\":\"linear\"}}],\"label\":\"Dec-2020\",\"method\":\"animate\"},{\"args\":[[\"Jan-2021\"],{\"frame\":{\"duration\":0,\"redraw\":true},\"fromcurrent\":true,\"mode\":\"immediate\",\"transition\":{\"duration\":0,\"easing\":\"linear\"}}],\"label\":\"Jan-2021\",\"method\":\"animate\"},{\"args\":[[\"Feb-2021\"],{\"frame\":{\"duration\":0,\"redraw\":true},\"fromcurrent\":true,\"mode\":\"immediate\",\"transition\":{\"duration\":0,\"easing\":\"linear\"}}],\"label\":\"Feb-2021\",\"method\":\"animate\"},{\"args\":[[\"Mar-2021\"],{\"frame\":{\"duration\":0,\"redraw\":true},\"fromcurrent\":true,\"mode\":\"immediate\",\"transition\":{\"duration\":0,\"easing\":\"linear\"}}],\"label\":\"Mar-2021\",\"method\":\"animate\"},{\"args\":[[\"Apr-2021\"],{\"frame\":{\"duration\":0,\"redraw\":true},\"fromcurrent\":true,\"mode\":\"immediate\",\"transition\":{\"duration\":0,\"easing\":\"linear\"}}],\"label\":\"Apr-2021\",\"method\":\"animate\"},{\"args\":[[\"May-2021\"],{\"frame\":{\"duration\":0,\"redraw\":true},\"fromcurrent\":true,\"mode\":\"immediate\",\"transition\":{\"duration\":0,\"easing\":\"linear\"}}],\"label\":\"May-2021\",\"method\":\"animate\"},{\"args\":[[\"Jun-2021\"],{\"frame\":{\"duration\":0,\"redraw\":true},\"fromcurrent\":true,\"mode\":\"immediate\",\"transition\":{\"duration\":0,\"easing\":\"linear\"}}],\"label\":\"Jun-2021\",\"method\":\"animate\"}],\"x\":0.1,\"xanchor\":\"left\",\"y\":0,\"yanchor\":\"top\"}],\"template\":{\"data\":{\"bar\":[{\"error_x\":{\"color\":\"rgb(51,51,51)\"},\"error_y\":{\"color\":\"rgb(51,51,51)\"},\"marker\":{\"line\":{\"color\":\"rgb(237,237,237)\",\"width\":0.5},\"pattern\":{\"fillmode\":\"overlay\",\"size\":10,\"solidity\":0.2}},\"type\":\"bar\"}],\"barpolar\":[{\"marker\":{\"line\":{\"color\":\"rgb(237,237,237)\",\"width\":0.5},\"pattern\":{\"fillmode\":\"overlay\",\"size\":10,\"solidity\":0.2}},\"type\":\"barpolar\"}],\"carpet\":[{\"aaxis\":{\"endlinecolor\":\"rgb(51,51,51)\",\"gridcolor\":\"white\",\"linecolor\":\"white\",\"minorgridcolor\":\"white\",\"startlinecolor\":\"rgb(51,51,51)\"},\"baxis\":{\"endlinecolor\":\"rgb(51,51,51)\",\"gridcolor\":\"white\",\"linecolor\":\"white\",\"minorgridcolor\":\"white\",\"startlinecolor\":\"rgb(51,51,51)\"},\"type\":\"carpet\"}],\"choropleth\":[{\"colorbar\":{\"outlinewidth\":0,\"tickcolor\":\"rgb(237,237,237)\",\"ticklen\":6,\"ticks\":\"inside\"},\"type\":\"choropleth\"}],\"contour\":[{\"colorbar\":{\"outlinewidth\":0,\"tickcolor\":\"rgb(237,237,237)\",\"ticklen\":6,\"ticks\":\"inside\"},\"colorscale\":[[0,\"rgb(20,44,66)\"],[1,\"rgb(90,179,244)\"]],\"type\":\"contour\"}],\"contourcarpet\":[{\"colorbar\":{\"outlinewidth\":0,\"tickcolor\":\"rgb(237,237,237)\",\"ticklen\":6,\"ticks\":\"inside\"},\"type\":\"contourcarpet\"}],\"heatmap\":[{\"colorbar\":{\"outlinewidth\":0,\"tickcolor\":\"rgb(237,237,237)\",\"ticklen\":6,\"ticks\":\"inside\"},\"colorscale\":[[0,\"rgb(20,44,66)\"],[1,\"rgb(90,179,244)\"]],\"type\":\"heatmap\"}],\"heatmapgl\":[{\"colorbar\":{\"outlinewidth\":0,\"tickcolor\":\"rgb(237,237,237)\",\"ticklen\":6,\"ticks\":\"inside\"},\"colorscale\":[[0,\"rgb(20,44,66)\"],[1,\"rgb(90,179,244)\"]],\"type\":\"heatmapgl\"}],\"histogram\":[{\"marker\":{\"pattern\":{\"fillmode\":\"overlay\",\"size\":10,\"solidity\":0.2}},\"type\":\"histogram\"}],\"histogram2d\":[{\"colorbar\":{\"outlinewidth\":0,\"tickcolor\":\"rgb(237,237,237)\",\"ticklen\":6,\"ticks\":\"inside\"},\"colorscale\":[[0,\"rgb(20,44,66)\"],[1,\"rgb(90,179,244)\"]],\"type\":\"histogram2d\"}],\"histogram2dcontour\":[{\"colorbar\":{\"outlinewidth\":0,\"tickcolor\":\"rgb(237,237,237)\",\"ticklen\":6,\"ticks\":\"inside\"},\"colorscale\":[[0,\"rgb(20,44,66)\"],[1,\"rgb(90,179,244)\"]],\"type\":\"histogram2dcontour\"}],\"mesh3d\":[{\"colorbar\":{\"outlinewidth\":0,\"tickcolor\":\"rgb(237,237,237)\",\"ticklen\":6,\"ticks\":\"inside\"},\"type\":\"mesh3d\"}],\"parcoords\":[{\"line\":{\"colorbar\":{\"outlinewidth\":0,\"tickcolor\":\"rgb(237,237,237)\",\"ticklen\":6,\"ticks\":\"inside\"}},\"type\":\"parcoords\"}],\"pie\":[{\"automargin\":true,\"type\":\"pie\"}],\"scatter\":[{\"marker\":{\"colorbar\":{\"outlinewidth\":0,\"tickcolor\":\"rgb(237,237,237)\",\"ticklen\":6,\"ticks\":\"inside\"}},\"type\":\"scatter\"}],\"scatter3d\":[{\"line\":{\"colorbar\":{\"outlinewidth\":0,\"tickcolor\":\"rgb(237,237,237)\",\"ticklen\":6,\"ticks\":\"inside\"}},\"marker\":{\"colorbar\":{\"outlinewidth\":0,\"tickcolor\":\"rgb(237,237,237)\",\"ticklen\":6,\"ticks\":\"inside\"}},\"type\":\"scatter3d\"}],\"scattercarpet\":[{\"marker\":{\"colorbar\":{\"outlinewidth\":0,\"tickcolor\":\"rgb(237,237,237)\",\"ticklen\":6,\"ticks\":\"inside\"}},\"type\":\"scattercarpet\"}],\"scattergeo\":[{\"marker\":{\"colorbar\":{\"outlinewidth\":0,\"tickcolor\":\"rgb(237,237,237)\",\"ticklen\":6,\"ticks\":\"inside\"}},\"type\":\"scattergeo\"}],\"scattergl\":[{\"marker\":{\"colorbar\":{\"outlinewidth\":0,\"tickcolor\":\"rgb(237,237,237)\",\"ticklen\":6,\"ticks\":\"inside\"}},\"type\":\"scattergl\"}],\"scattermapbox\":[{\"marker\":{\"colorbar\":{\"outlinewidth\":0,\"tickcolor\":\"rgb(237,237,237)\",\"ticklen\":6,\"ticks\":\"inside\"}},\"type\":\"scattermapbox\"}],\"scatterpolar\":[{\"marker\":{\"colorbar\":{\"outlinewidth\":0,\"tickcolor\":\"rgb(237,237,237)\",\"ticklen\":6,\"ticks\":\"inside\"}},\"type\":\"scatterpolar\"}],\"scatterpolargl\":[{\"marker\":{\"colorbar\":{\"outlinewidth\":0,\"tickcolor\":\"rgb(237,237,237)\",\"ticklen\":6,\"ticks\":\"inside\"}},\"type\":\"scatterpolargl\"}],\"scatterternary\":[{\"marker\":{\"colorbar\":{\"outlinewidth\":0,\"tickcolor\":\"rgb(237,237,237)\",\"ticklen\":6,\"ticks\":\"inside\"}},\"type\":\"scatterternary\"}],\"surface\":[{\"colorbar\":{\"outlinewidth\":0,\"tickcolor\":\"rgb(237,237,237)\",\"ticklen\":6,\"ticks\":\"inside\"},\"colorscale\":[[0,\"rgb(20,44,66)\"],[1,\"rgb(90,179,244)\"]],\"type\":\"surface\"}],\"table\":[{\"cells\":{\"fill\":{\"color\":\"rgb(237,237,237)\"},\"line\":{\"color\":\"white\"}},\"header\":{\"fill\":{\"color\":\"rgb(217,217,217)\"},\"line\":{\"color\":\"white\"}},\"type\":\"table\"}]},\"layout\":{\"annotationdefaults\":{\"arrowhead\":0,\"arrowwidth\":1},\"autotypenumbers\":\"strict\",\"coloraxis\":{\"colorbar\":{\"outlinewidth\":0,\"tickcolor\":\"rgb(237,237,237)\",\"ticklen\":6,\"ticks\":\"inside\"}},\"colorscale\":{\"sequential\":[[0,\"rgb(20,44,66)\"],[1,\"rgb(90,179,244)\"]],\"sequentialminus\":[[0,\"rgb(20,44,66)\"],[1,\"rgb(90,179,244)\"]]},\"colorway\":[\"#F8766D\",\"#A3A500\",\"#00BF7D\",\"#00B0F6\",\"#E76BF3\"],\"font\":{\"color\":\"rgb(51,51,51)\"},\"geo\":{\"bgcolor\":\"white\",\"lakecolor\":\"white\",\"landcolor\":\"rgb(237,237,237)\",\"showlakes\":true,\"showland\":true,\"subunitcolor\":\"white\"},\"hoverlabel\":{\"align\":\"left\"},\"hovermode\":\"closest\",\"paper_bgcolor\":\"white\",\"plot_bgcolor\":\"rgb(237,237,237)\",\"polar\":{\"angularaxis\":{\"gridcolor\":\"white\",\"linecolor\":\"white\",\"showgrid\":true,\"tickcolor\":\"rgb(51,51,51)\",\"ticks\":\"outside\"},\"bgcolor\":\"rgb(237,237,237)\",\"radialaxis\":{\"gridcolor\":\"white\",\"linecolor\":\"white\",\"showgrid\":true,\"tickcolor\":\"rgb(51,51,51)\",\"ticks\":\"outside\"}},\"scene\":{\"xaxis\":{\"backgroundcolor\":\"rgb(237,237,237)\",\"gridcolor\":\"white\",\"gridwidth\":2,\"linecolor\":\"white\",\"showbackground\":true,\"showgrid\":true,\"tickcolor\":\"rgb(51,51,51)\",\"ticks\":\"outside\",\"zerolinecolor\":\"white\"},\"yaxis\":{\"backgroundcolor\":\"rgb(237,237,237)\",\"gridcolor\":\"white\",\"gridwidth\":2,\"linecolor\":\"white\",\"showbackground\":true,\"showgrid\":true,\"tickcolor\":\"rgb(51,51,51)\",\"ticks\":\"outside\",\"zerolinecolor\":\"white\"},\"zaxis\":{\"backgroundcolor\":\"rgb(237,237,237)\",\"gridcolor\":\"white\",\"gridwidth\":2,\"linecolor\":\"white\",\"showbackground\":true,\"showgrid\":true,\"tickcolor\":\"rgb(51,51,51)\",\"ticks\":\"outside\",\"zerolinecolor\":\"white\"}},\"shapedefaults\":{\"fillcolor\":\"black\",\"line\":{\"width\":0},\"opacity\":0.3},\"ternary\":{\"aaxis\":{\"gridcolor\":\"white\",\"linecolor\":\"white\",\"showgrid\":true,\"tickcolor\":\"rgb(51,51,51)\",\"ticks\":\"outside\"},\"baxis\":{\"gridcolor\":\"white\",\"linecolor\":\"white\",\"showgrid\":true,\"tickcolor\":\"rgb(51,51,51)\",\"ticks\":\"outside\"},\"bgcolor\":\"rgb(237,237,237)\",\"caxis\":{\"gridcolor\":\"white\",\"linecolor\":\"white\",\"showgrid\":true,\"tickcolor\":\"rgb(51,51,51)\",\"ticks\":\"outside\"}},\"xaxis\":{\"automargin\":true,\"gridcolor\":\"white\",\"linecolor\":\"white\",\"showgrid\":true,\"tickcolor\":\"rgb(51,51,51)\",\"ticks\":\"outside\",\"title\":{\"standoff\":15},\"zerolinecolor\":\"white\"},\"yaxis\":{\"automargin\":true,\"gridcolor\":\"white\",\"linecolor\":\"white\",\"showgrid\":true,\"tickcolor\":\"rgb(51,51,51)\",\"ticks\":\"outside\",\"title\":{\"standoff\":15},\"zerolinecolor\":\"white\"}}},\"updatemenus\":[{\"buttons\":[{\"args\":[null,{\"frame\":{\"duration\":500,\"redraw\":true},\"fromcurrent\":true,\"mode\":\"immediate\",\"transition\":{\"duration\":500,\"easing\":\"linear\"}}],\"label\":\"&#9654;\",\"method\":\"animate\"},{\"args\":[[null],{\"frame\":{\"duration\":0,\"redraw\":true},\"fromcurrent\":true,\"mode\":\"immediate\",\"transition\":{\"duration\":0,\"easing\":\"linear\"}}],\"label\":\"&#9724;\",\"method\":\"animate\"}],\"direction\":\"left\",\"pad\":{\"r\":10,\"t\":70},\"showactive\":false,\"type\":\"buttons\",\"x\":0.1,\"xanchor\":\"right\",\"y\":0,\"yanchor\":\"top\"}]},                        {\"responsive\": true}                    ).then(function(){\n",
       "                            Plotly.addFrames('dfe4ae75-ab5d-4423-8997-455c7c4072c4', [{\"data\":[{\"coloraxis\":\"coloraxis\",\"geo\":\"geo\",\"hovertemplate\":\"<b>%{hovertext}</b><br><br>Date=Jan-2019<br>Code=%{location}<br>Greenness=%{z}<extra></extra>\",\"hovertext\":[\"Germany\",\"Spain\",\"Belgium\",\"Bulgaria\",\"Czech Republic\",\"Denmark\",\"Estonia\",\"Finland\",\"Cyprus\"],\"locations\":[\"DEU\",\"ESP\",\"BEL\",\"BGR\",\"CZE\",\"DNK\",\"EST\",\"FIN\",\"CYP\"],\"name\":\"\",\"type\":\"choropleth\",\"z\":[459387.14426135266,141335.5353617935,121979.85116824279,36449.61788600728,36239.61583387908,29939.488790853335,24190.016408921416,21963.908884973473,12767.381665010109]}],\"name\":\"Jan-2019\"},{\"data\":[{\"coloraxis\":\"coloraxis\",\"geo\":\"geo\",\"hovertemplate\":\"<b>%{hovertext}</b><br><br>Date=Feb-2019<br>Code=%{location}<br>Greenness=%{z}<extra></extra>\",\"hovertext\":[\"Germany\",\"Spain\",\"Belgium\",\"Czech Republic\",\"Bulgaria\",\"Denmark\",\"Finland\",\"Estonia\",\"Cyprus\"],\"locations\":[\"DEU\",\"ESP\",\"BEL\",\"CZE\",\"BGR\",\"DNK\",\"FIN\",\"EST\",\"CYP\"],\"name\":\"\",\"type\":\"choropleth\",\"z\":[480709.3951779086,167563.03319157587,116322.36760167217,41908.19679400535,40341.10554146994,30577.10020133049,27865.275719021596,20032.359483074553,12509.300707766077]}],\"name\":\"Feb-2019\"},{\"data\":[{\"coloraxis\":\"coloraxis\",\"geo\":\"geo\",\"hovertemplate\":\"<b>%{hovertext}</b><br><br>Date=Mar-2019<br>Code=%{location}<br>Greenness=%{z}<extra></extra>\",\"hovertext\":[\"Germany\",\"Spain\",\"Belgium\",\"Czech Republic\",\"Bulgaria\",\"Denmark\",\"Finland\",\"Estonia\",\"Cyprus\"],\"locations\":[\"DEU\",\"ESP\",\"BEL\",\"CZE\",\"BGR\",\"DNK\",\"FIN\",\"EST\",\"CYP\"],\"name\":\"\",\"type\":\"choropleth\",\"z\":[470194.4255901325,176124.42256703635,130508.47963987317,41231.18987049813,36968.05765191659,30065.24338868504,13839.690932997551,13823.65214021109,5745.772216530879]}],\"name\":\"Mar-2019\"},{\"data\":[{\"coloraxis\":\"coloraxis\",\"geo\":\"geo\",\"hovertemplate\":\"<b>%{hovertext}</b><br><br>Date=Apr-2019<br>Code=%{location}<br>Greenness=%{z}<extra></extra>\",\"hovertext\":[\"Germany\",\"Spain\",\"Belgium\",\"Finland\",\"Czech Republic\",\"Bulgaria\",\"Denmark\",\"Estonia\",\"Cyprus\"],\"locations\":[\"DEU\",\"ESP\",\"BEL\",\"FIN\",\"CZE\",\"BGR\",\"DNK\",\"EST\",\"CYP\"],\"name\":\"\",\"type\":\"choropleth\",\"z\":[466450.0065660935,171089.68614811442,124127.85529482205,48822.23197403079,43298.8666234553,41097.4288083399,30396.830075893493,19713.5864839106,10396.16106561857]}],\"name\":\"Apr-2019\"},{\"data\":[{\"coloraxis\":\"coloraxis\",\"geo\":\"geo\",\"hovertemplate\":\"<b>%{hovertext}</b><br><br>Date=May-2019<br>Code=%{location}<br>Greenness=%{z}<extra></extra>\",\"hovertext\":[\"Germany\",\"Spain\",\"Belgium\",\"Finland\",\"Czech Republic\",\"Bulgaria\",\"Denmark\",\"Estonia\",\"Cyprus\"],\"locations\":[\"DEU\",\"ESP\",\"BEL\",\"FIN\",\"CZE\",\"BGR\",\"DNK\",\"EST\",\"CYP\"],\"name\":\"\",\"type\":\"choropleth\",\"z\":[505273.6620515581,186573.9406581338,134363.74257685404,60594.16719686466,44150.41657582636,37006.52664420714,26673.996355572825,12360.056736355242,5080.701694494628]}],\"name\":\"May-2019\"},{\"data\":[{\"coloraxis\":\"coloraxis\",\"geo\":\"geo\",\"hovertemplate\":\"<b>%{hovertext}</b><br><br>Date=Jun-2019<br>Code=%{location}<br>Greenness=%{z}<extra></extra>\",\"hovertext\":[\"Germany\",\"Spain\",\"Belgium\",\"Finland\",\"Czech Republic\",\"Bulgaria\",\"Denmark\",\"Estonia\",\"Cyprus\"],\"locations\":[\"DEU\",\"ESP\",\"BEL\",\"FIN\",\"CZE\",\"BGR\",\"DNK\",\"EST\",\"CYP\"],\"name\":\"\",\"type\":\"choropleth\",\"z\":[444072.5281696941,154381.23608290148,130283.0989996033,69558.04377377016,42417.55764597862,40587.49730699044,28514.909094345454,14025.269960130743,8685.596707511502]}],\"name\":\"Jun-2019\"},{\"data\":[{\"coloraxis\":\"coloraxis\",\"geo\":\"geo\",\"hovertemplate\":\"<b>%{hovertext}</b><br><br>Date=Jul-2019<br>Code=%{location}<br>Greenness=%{z}<extra></extra>\",\"hovertext\":[\"Germany\",\"Spain\",\"Belgium\",\"Bulgaria\",\"Czech Republic\",\"Denmark\",\"Finland\",\"Estonia\",\"Cyprus\"],\"locations\":[\"DEU\",\"ESP\",\"BEL\",\"BGR\",\"CZE\",\"DNK\",\"FIN\",\"EST\",\"CYP\"],\"name\":\"\",\"type\":\"choropleth\",\"z\":[539307.1697270516,212562.32807636354,150131.2246081561,53638.42636448726,45568.718148417785,36709.449251268554,26702.141833098944,13609.351975206622,8370.963816722759]}],\"name\":\"Jul-2019\"},{\"data\":[{\"coloraxis\":\"coloraxis\",\"geo\":\"geo\",\"hovertemplate\":\"<b>%{hovertext}</b><br><br>Date=Aug-2019<br>Code=%{location}<br>Greenness=%{z}<extra></extra>\",\"hovertext\":[\"Germany\",\"Spain\",\"Belgium\",\"Bulgaria\",\"Czech Republic\",\"Denmark\",\"Finland\",\"Estonia\",\"Cyprus\"],\"locations\":[\"DEU\",\"ESP\",\"BEL\",\"BGR\",\"CZE\",\"DNK\",\"FIN\",\"EST\",\"CYP\"],\"name\":\"\",\"type\":\"choropleth\",\"z\":[493490.7725970674,166178.57319235778,118100.54554664278,53975.893449933596,45201.52488495922,24250.916728920824,15239.6660846057,12458.9393420042,8694.078773469515]}],\"name\":\"Aug-2019\"},{\"data\":[{\"coloraxis\":\"coloraxis\",\"geo\":\"geo\",\"hovertemplate\":\"<b>%{hovertext}</b><br><br>Date=Sep-2019<br>Code=%{location}<br>Greenness=%{z}<extra></extra>\",\"hovertext\":[\"Germany\",\"Spain\",\"Belgium\",\"Bulgaria\",\"Czech Republic\",\"Finland\",\"Denmark\",\"Estonia\",\"Cyprus\"],\"locations\":[\"DEU\",\"ESP\",\"BEL\",\"BGR\",\"CZE\",\"FIN\",\"DNK\",\"EST\",\"CYP\"],\"name\":\"\",\"type\":\"choropleth\",\"z\":[523616.1546894169,172020.35960486057,127537.18459083218,43998.56138563263,39750.04566828928,36111.44413990692,28287.459652715457,13610.411891292053,6141.617884613127]}],\"name\":\"Sep-2019\"},{\"data\":[{\"coloraxis\":\"coloraxis\",\"geo\":\"geo\",\"hovertemplate\":\"<b>%{hovertext}</b><br><br>Date=Oct-2019<br>Code=%{location}<br>Greenness=%{z}<extra></extra>\",\"hovertext\":[\"Germany\",\"Spain\",\"Belgium\",\"Bulgaria\",\"Czech Republic\",\"Denmark\",\"Finland\",\"Estonia\",\"Cyprus\"],\"locations\":[\"DEU\",\"ESP\",\"BEL\",\"BGR\",\"CZE\",\"DNK\",\"FIN\",\"EST\",\"CYP\"],\"name\":\"\",\"type\":\"choropleth\",\"z\":[590867.0443604606,206303.299858825,148132.7743405526,53295.53866278828,44074.91018915192,37534.11973088947,37209.23740746183,26361.865183992595,12026.286078616618]}],\"name\":\"Oct-2019\"},{\"data\":[{\"coloraxis\":\"coloraxis\",\"geo\":\"geo\",\"hovertemplate\":\"<b>%{hovertext}</b><br><br>Date=Nov-2019<br>Code=%{location}<br>Greenness=%{z}<extra></extra>\",\"hovertext\":[\"Germany\",\"Spain\",\"Belgium\",\"Bulgaria\",\"Czech Republic\",\"Denmark\",\"Finland\",\"Estonia\",\"Cyprus\"],\"locations\":[\"DEU\",\"ESP\",\"BEL\",\"BGR\",\"CZE\",\"DNK\",\"FIN\",\"EST\",\"CYP\"],\"name\":\"\",\"type\":\"choropleth\",\"z\":[500211.06372073834,170222.4084286821,115072.04018448616,91069.22547664489,39316.85179285352,30700.605839558903,26233.44870358848,17710.6938223363,9384.497195927363]}],\"name\":\"Nov-2019\"},{\"data\":[{\"coloraxis\":\"coloraxis\",\"geo\":\"geo\",\"hovertemplate\":\"<b>%{hovertext}</b><br><br>Date=Dec-2019<br>Code=%{location}<br>Greenness=%{z}<extra></extra>\",\"hovertext\":[\"Germany\",\"Spain\",\"Belgium\",\"Czech Republic\",\"Denmark\",\"Finland\",\"Bulgaria\",\"Estonia\",\"Cyprus\"],\"locations\":[\"DEU\",\"ESP\",\"BEL\",\"CZE\",\"DNK\",\"FIN\",\"BGR\",\"EST\",\"CYP\"],\"name\":\"\",\"type\":\"choropleth\",\"z\":[404073.9479786988,181826.18155120994,123054.02664301486,46085.904567940226,44376.65349119763,42090.26434956876,40290.90032419803,15245.070578757231,15044.610838172819]}],\"name\":\"Dec-2019\"},{\"data\":[{\"coloraxis\":\"coloraxis\",\"geo\":\"geo\",\"hovertemplate\":\"<b>%{hovertext}</b><br><br>Date=Jan-2020<br>Code=%{location}<br>Greenness=%{z}<extra></extra>\",\"hovertext\":[\"Germany\",\"Spain\",\"Belgium\",\"Bulgaria\",\"Czech Republic\",\"Finland\",\"Denmark\",\"Estonia\",\"Cyprus\"],\"locations\":[\"DEU\",\"ESP\",\"BEL\",\"BGR\",\"CZE\",\"FIN\",\"DNK\",\"EST\",\"CYP\"],\"name\":\"\",\"type\":\"choropleth\",\"z\":[460933.28722046595,154765.82657712285,121514.10160069022,45655.27115107182,32270.362882140365,29747.63458403861,27127.44811103106,26618.693171185892,10585.698979630033]}],\"name\":\"Jan-2020\"},{\"data\":[{\"coloraxis\":\"coloraxis\",\"geo\":\"geo\",\"hovertemplate\":\"<b>%{hovertext}</b><br><br>Date=Feb-2020<br>Code=%{location}<br>Greenness=%{z}<extra></extra>\",\"hovertext\":[\"Germany\",\"Spain\",\"Belgium\",\"Czech Republic\",\"Bulgaria\",\"Denmark\",\"Estonia\",\"Cyprus\",\"Finland\"],\"locations\":[\"DEU\",\"ESP\",\"BEL\",\"CZE\",\"BGR\",\"DNK\",\"EST\",\"CYP\",\"FIN\"],\"name\":\"\",\"type\":\"choropleth\",\"z\":[449413.68400993553,186423.29847356377,137305.1100479237,76888.20978531188,54268.71389442749,52109.982634359454,23338.1457449112,11658.584485545776,6506.187442992166]}],\"name\":\"Feb-2020\"},{\"data\":[{\"coloraxis\":\"coloraxis\",\"geo\":\"geo\",\"hovertemplate\":\"<b>%{hovertext}</b><br><br>Date=Mar-2020<br>Code=%{location}<br>Greenness=%{z}<extra></extra>\",\"hovertext\":[\"Germany\",\"Spain\",\"Belgium\",\"Czech Republic\",\"Bulgaria\",\"Denmark\",\"Estonia\",\"Finland\",\"Cyprus\"],\"locations\":[\"DEU\",\"ESP\",\"BEL\",\"CZE\",\"BGR\",\"DNK\",\"EST\",\"FIN\",\"CYP\"],\"name\":\"\",\"type\":\"choropleth\",\"z\":[489093.0575227265,205007.072406902,141696.0225609369,93052.07851908825,52209.461791478,29633.037511672348,21041.32247484824,10156.09947144895,4635.904741296846]}],\"name\":\"Mar-2020\"},{\"data\":[{\"coloraxis\":\"coloraxis\",\"geo\":\"geo\",\"hovertemplate\":\"<b>%{hovertext}</b><br><br>Date=Apr-2020<br>Code=%{location}<br>Greenness=%{z}<extra></extra>\",\"hovertext\":[\"Germany\",\"Spain\",\"Belgium\",\"Czech Republic\",\"Bulgaria\",\"Denmark\",\"Estonia\",\"Finland\",\"Cyprus\"],\"locations\":[\"DEU\",\"ESP\",\"BEL\",\"CZE\",\"BGR\",\"DNK\",\"EST\",\"FIN\",\"CYP\"],\"name\":\"\",\"type\":\"choropleth\",\"z\":[421321.2855566962,162749.13280438306,129026.9753187929,64978.664707539036,38934.80003312848,24374.773827240046,21202.715007619903,6027.709593810648,4277.5808150880075]}],\"name\":\"Apr-2020\"},{\"data\":[{\"coloraxis\":\"coloraxis\",\"geo\":\"geo\",\"hovertemplate\":\"<b>%{hovertext}</b><br><br>Date=May-2020<br>Code=%{location}<br>Greenness=%{z}<extra></extra>\",\"hovertext\":[\"Germany\",\"Spain\",\"Belgium\",\"Czech Republic\",\"Bulgaria\",\"Denmark\",\"Estonia\",\"Cyprus\",\"Finland\"],\"locations\":[\"DEU\",\"ESP\",\"BEL\",\"CZE\",\"BGR\",\"DNK\",\"EST\",\"CYP\",\"FIN\"],\"name\":\"\",\"type\":\"choropleth\",\"z\":[376514.3113544568,176254.64654109004,97970.51824676823,73718.73400066301,42744.640748449885,20555.913255810174,13495.362356051528,9176.27903871957,269.9780608846887]}],\"name\":\"May-2020\"},{\"data\":[{\"coloraxis\":\"coloraxis\",\"geo\":\"geo\",\"hovertemplate\":\"<b>%{hovertext}</b><br><br>Date=Jun-2020<br>Code=%{location}<br>Greenness=%{z}<extra></extra>\",\"hovertext\":[\"Germany\",\"Spain\",\"Belgium\",\"Czech Republic\",\"Bulgaria\",\"Denmark\",\"Estonia\",\"Cyprus\",\"Finland\"],\"locations\":[\"DEU\",\"ESP\",\"BEL\",\"CZE\",\"BGR\",\"DNK\",\"EST\",\"CYP\",\"FIN\"],\"name\":\"\",\"type\":\"choropleth\",\"z\":[415566.56950336054,187715.5898931304,124967.16201273468,81138.09317589848,58099.941594922435,25673.759575211145,8362.16931467597,4613.174594384523,4143.35567071111]}],\"name\":\"Jun-2020\"},{\"data\":[{\"coloraxis\":\"coloraxis\",\"geo\":\"geo\",\"hovertemplate\":\"<b>%{hovertext}</b><br><br>Date=Jul-2020<br>Code=%{location}<br>Greenness=%{z}<extra></extra>\",\"hovertext\":[\"Germany\",\"Spain\",\"Belgium\",\"Czech Republic\",\"Bulgaria\",\"Denmark\",\"Estonia\",\"Finland\",\"Cyprus\"],\"locations\":[\"DEU\",\"ESP\",\"BEL\",\"CZE\",\"BGR\",\"DNK\",\"EST\",\"FIN\",\"CYP\"],\"name\":\"\",\"type\":\"choropleth\",\"z\":[485109.31599432416,200748.52026134855,124491.45091083304,120072.27264854554,76137.11695428405,27376.413251005797,20699.448331483516,9074.532758993299,5661.2350405219095]}],\"name\":\"Jul-2020\"},{\"data\":[{\"coloraxis\":\"coloraxis\",\"geo\":\"geo\",\"hovertemplate\":\"<b>%{hovertext}</b><br><br>Date=Aug-2020<br>Code=%{location}<br>Greenness=%{z}<extra></extra>\",\"hovertext\":[\"Germany\",\"Spain\",\"Czech Republic\",\"Belgium\",\"Bulgaria\",\"Denmark\",\"Estonia\",\"Cyprus\",\"Finland\"],\"locations\":[\"DEU\",\"ESP\",\"CZE\",\"BEL\",\"BGR\",\"DNK\",\"EST\",\"CYP\",\"FIN\"],\"name\":\"\",\"type\":\"choropleth\",\"z\":[471308.00843439996,150598.54979508094,118452.0251566373,105954.47343060926,40325.54905077439,25359.144303986464,25200.89878812571,5599.353280065193,3167.6022215854214]}],\"name\":\"Aug-2020\"},{\"data\":[{\"coloraxis\":\"coloraxis\",\"geo\":\"geo\",\"hovertemplate\":\"<b>%{hovertext}</b><br><br>Date=Sep-2020<br>Code=%{location}<br>Greenness=%{z}<extra></extra>\",\"hovertext\":[\"Germany\",\"Spain\",\"Belgium\",\"Czech Republic\",\"Denmark\",\"Bulgaria\",\"Estonia\",\"Cyprus\",\"Finland\"],\"locations\":[\"DEU\",\"ESP\",\"BEL\",\"CZE\",\"DNK\",\"BGR\",\"EST\",\"CYP\",\"FIN\"],\"name\":\"\",\"type\":\"choropleth\",\"z\":[524253.6036357826,184608.1608025237,134997.83214008642,122453.0573820233,33338.188153183335,30495.323962106326,19755.045831691248,5830.516923278236,1445.2617258114026]}],\"name\":\"Sep-2020\"},{\"data\":[{\"coloraxis\":\"coloraxis\",\"geo\":\"geo\",\"hovertemplate\":\"<b>%{hovertext}</b><br><br>Date=Oct-2020<br>Code=%{location}<br>Greenness=%{z}<extra></extra>\",\"hovertext\":[\"Germany\",\"Spain\",\"Czech Republic\",\"Belgium\",\"Bulgaria\",\"Denmark\",\"Estonia\",\"Finland\",\"Cyprus\"],\"locations\":[\"DEU\",\"ESP\",\"CZE\",\"BEL\",\"BGR\",\"DNK\",\"EST\",\"FIN\",\"CYP\"],\"name\":\"\",\"type\":\"choropleth\",\"z\":[488808.25330692093,186316.9911982047,156523.0214508034,136072.3132597416,71324.21139416014,34933.52892150754,16392.034782259812,8886.742176579255,5471.356605901704]}],\"name\":\"Oct-2020\"},{\"data\":[{\"coloraxis\":\"coloraxis\",\"geo\":\"geo\",\"hovertemplate\":\"<b>%{hovertext}</b><br><br>Date=Nov-2020<br>Code=%{location}<br>Greenness=%{z}<extra></extra>\",\"hovertext\":[\"Germany\",\"Spain\",\"Czech Republic\",\"Belgium\",\"Bulgaria\",\"Denmark\",\"Estonia\",\"Cyprus\",\"Finland\"],\"locations\":[\"DEU\",\"ESP\",\"CZE\",\"BEL\",\"BGR\",\"DNK\",\"EST\",\"CYP\",\"FIN\"],\"name\":\"\",\"type\":\"choropleth\",\"z\":[484912.1138117385,184970.49150397518,141262.0762504821,117246.53063898171,103713.90338641076,52801.20879090381,29305.868283836848,14223.49771370475,2281.5057250494897]}],\"name\":\"Nov-2020\"},{\"data\":[{\"coloraxis\":\"coloraxis\",\"geo\":\"geo\",\"hovertemplate\":\"<b>%{hovertext}</b><br><br>Date=Dec-2020<br>Code=%{location}<br>Greenness=%{z}<extra></extra>\",\"hovertext\":[\"Germany\",\"Spain\",\"Belgium\",\"Czech Republic\",\"Bulgaria\",\"Denmark\",\"Estonia\",\"Cyprus\",\"Finland\"],\"locations\":[\"DEU\",\"ESP\",\"BEL\",\"CZE\",\"BGR\",\"DNK\",\"EST\",\"CYP\",\"FIN\"],\"name\":\"\",\"type\":\"choropleth\",\"z\":[398178.9072206492,192711.26663931168,128349.95622540191,95335.67492982278,61110.401660284144,33586.23415714226,14066.187987626337,8726.335301478663,2729.491879294285]}],\"name\":\"Dec-2020\"},{\"data\":[{\"coloraxis\":\"coloraxis\",\"geo\":\"geo\",\"hovertemplate\":\"<b>%{hovertext}</b><br><br>Date=Jan-2021<br>Code=%{location}<br>Greenness=%{z}<extra></extra>\",\"hovertext\":[\"Germany\",\"Spain\",\"Belgium\",\"Bulgaria\",\"Czech Republic\",\"Estonia\",\"Denmark\",\"Cyprus\",\"Finland\"],\"locations\":[\"DEU\",\"ESP\",\"BEL\",\"BGR\",\"CZE\",\"EST\",\"DNK\",\"CYP\",\"FIN\"],\"name\":\"\",\"type\":\"choropleth\",\"z\":[423680.21048753057,131389.1655696592,117241.01869416672,41572.21580314307,38855.84080629316,26845.074863510134,25398.602927942233,7126.588999927564,729.3232716194335]}],\"name\":\"Jan-2021\"},{\"data\":[{\"coloraxis\":\"coloraxis\",\"geo\":\"geo\",\"hovertemplate\":\"<b>%{hovertext}</b><br><br>Date=Feb-2021<br>Code=%{location}<br>Greenness=%{z}<extra></extra>\",\"hovertext\":[\"Germany\",\"Spain\",\"Belgium\",\"Bulgaria\",\"Denmark\",\"Czech Republic\",\"Estonia\",\"Finland\",\"Cyprus\"],\"locations\":[\"DEU\",\"ESP\",\"BEL\",\"BGR\",\"DNK\",\"CZE\",\"EST\",\"FIN\",\"CYP\"],\"name\":\"\",\"type\":\"choropleth\",\"z\":[462940.53292852367,195776.5184860275,127650.72217836787,62595.49724575076,42448.29304602333,38417.0942315445,19778.220505655812,5614.439904419034,5193.191201637277]}],\"name\":\"Feb-2021\"},{\"data\":[{\"coloraxis\":\"coloraxis\",\"geo\":\"geo\",\"hovertemplate\":\"<b>%{hovertext}</b><br><br>Date=Mar-2021<br>Code=%{location}<br>Greenness=%{z}<extra></extra>\",\"hovertext\":[\"Germany\",\"Spain\",\"Belgium\",\"Bulgaria\",\"Czech Republic\",\"Denmark\",\"Estonia\",\"Cyprus\",\"Finland\"],\"locations\":[\"DEU\",\"ESP\",\"BEL\",\"BGR\",\"CZE\",\"DNK\",\"EST\",\"CYP\",\"FIN\"],\"name\":\"\",\"type\":\"choropleth\",\"z\":[595453.68704709,217852.05903353993,139916.16260551065,72175.17816221617,52693.42074836409,38896.136189095116,20405.228172327992,10823.761494510172,2345.575232671741]}],\"name\":\"Mar-2021\"},{\"data\":[{\"coloraxis\":\"coloraxis\",\"geo\":\"geo\",\"hovertemplate\":\"<b>%{hovertext}</b><br><br>Date=Apr-2021<br>Code=%{location}<br>Greenness=%{z}<extra></extra>\",\"hovertext\":[\"Germany\",\"Spain\",\"Belgium\",\"Czech Republic\",\"Bulgaria\",\"Denmark\",\"Estonia\",\"Cyprus\",\"Finland\"],\"locations\":[\"DEU\",\"ESP\",\"BEL\",\"CZE\",\"BGR\",\"DNK\",\"EST\",\"CYP\",\"FIN\"],\"name\":\"\",\"type\":\"choropleth\",\"z\":[472079.07816427323,185899.2119558204,130190.11017295322,55284.56635853678,49812.85850782636,22981.16440249162,18543.12425226476,7800.715292731842,6783.824768074488]}],\"name\":\"Apr-2021\"},{\"data\":[{\"coloraxis\":\"coloraxis\",\"geo\":\"geo\",\"hovertemplate\":\"<b>%{hovertext}</b><br><br>Date=May-2021<br>Code=%{location}<br>Greenness=%{z}<extra></extra>\",\"hovertext\":[\"Germany\",\"Spain\",\"Belgium\",\"Czech Republic\",\"Denmark\",\"Bulgaria\",\"Cyprus\",\"Estonia\",\"Finland\"],\"locations\":[\"DEU\",\"ESP\",\"BEL\",\"CZE\",\"DNK\",\"BGR\",\"CYP\",\"EST\",\"FIN\"],\"name\":\"\",\"type\":\"choropleth\",\"z\":[475861.41046462837,195648.63768010802,115435.1977502976,56278.634189088516,38462.864192920126,37145.22179342642,12718.694004706373,11983.647450989754,1947.5346280427818]}],\"name\":\"May-2021\"},{\"data\":[{\"coloraxis\":\"coloraxis\",\"geo\":\"geo\",\"hovertemplate\":\"<b>%{hovertext}</b><br><br>Date=Jun-2021<br>Code=%{location}<br>Greenness=%{z}<extra></extra>\",\"hovertext\":[\"Germany\",\"Spain\",\"Belgium\",\"Czech Republic\",\"Bulgaria\",\"Denmark\",\"Estonia\",\"Finland\",\"Cyprus\"],\"locations\":[\"DEU\",\"ESP\",\"BEL\",\"CZE\",\"BGR\",\"DNK\",\"EST\",\"FIN\",\"CYP\"],\"name\":\"\",\"type\":\"choropleth\",\"z\":[497337.95444455475,196331.68086620967,128045.5677648853,59552.746561924316,46005.76813788158,25159.842035138114,18417.6490662017,7378.212816395007,6564.864737397673]}],\"name\":\"Jun-2021\"}]);\n",
       "                        }).then(function(){\n",
       "                            \n",
       "var gd = document.getElementById('dfe4ae75-ab5d-4423-8997-455c7c4072c4');\n",
       "var x = new MutationObserver(function (mutations, observer) {{\n",
       "        var display = window.getComputedStyle(gd).display;\n",
       "        if (!display || display === 'none') {{\n",
       "            console.log([gd, 'removed!']);\n",
       "            Plotly.purge(gd);\n",
       "            observer.disconnect();\n",
       "        }}\n",
       "}});\n",
       "\n",
       "// Listen for the removal of the full notebook cells\n",
       "var notebookContainer = gd.closest('#notebook-container');\n",
       "if (notebookContainer) {{\n",
       "    x.observe(notebookContainer, {childList: true});\n",
       "}}\n",
       "\n",
       "// Listen for the clearing of the current output cell\n",
       "var outputEl = gd.closest('.output');\n",
       "if (outputEl) {{\n",
       "    x.observe(outputEl, {childList: true});\n",
       "}}\n",
       "\n",
       "                        })                };                });            </script>        </div>"
      ]
     },
     "metadata": {},
     "output_type": "display_data"
    }
   ],
   "source": [
    "fig = px.choropleth(df1, locations=\"Code\",\n",
    "                    scope = \"europe\",\n",
    "                    color=\"Greenness\", # lifeExp is a column of gapminder\n",
    "                    hover_name=\"Country\", # column to add to hover information\n",
    "                    color_continuous_scale=\"Greens\",\n",
    "                    animation_frame=\"Date\"\n",
    "                    )\n",
    "fig.update_layout(margin={\"r\":20,\"t\":20,\"l\":2,\"b\":200})\n",
    "fig.show()\n",
    "fig.write_html(\"/Users/davide/Desktop/map.html\")\n",
    "#fig.write_html(\"C:\\\\Users\\\\Arsalan Khateeb\\\\Coding_Lab\\\\sta-py\\\\file.html\")"
   ]
  },
  {
   "cell_type": "code",
   "execution_count": null,
   "id": "ee2fdc1b",
   "metadata": {},
   "outputs": [],
   "source": []
  }
 ],
 "metadata": {
  "kernelspec": {
   "display_name": "Python 3 (ipykernel)",
   "language": "python",
   "name": "python3"
  },
  "language_info": {
   "codemirror_mode": {
    "name": "ipython",
    "version": 3
   },
   "file_extension": ".py",
   "mimetype": "text/x-python",
   "name": "python",
   "nbconvert_exporter": "python",
   "pygments_lexer": "ipython3",
   "version": "3.9.6"
  }
 },
 "nbformat": 4,
 "nbformat_minor": 5
}
