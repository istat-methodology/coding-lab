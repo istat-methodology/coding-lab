{
 "cells": [
  {
   "cell_type": "markdown",
   "id": "f37c910e",
   "metadata": {},
   "source": [
    "## Main Authors:\n",
    "* Fabbrico Davide\n",
    "* Khateeb Ahmad Arsalan\n",
    "* Pagnoncelli Diego"
   ]
  },
  {
   "cell_type": "code",
   "execution_count": 52,
   "id": "22fa537d",
   "metadata": {},
   "outputs": [],
   "source": [
    "import glob\n",
    "import pandas as pd\n",
    "import numpy as np\n",
    "import matplotlib.pyplot as plt\n",
    "import networkx as nx\n",
    "import datetime\n",
    "import plotly.express as px\n",
    "import plotly.io as pio\n",
    "\n",
    "pd.set_option('display.max_rows', 1000)\n",
    "pd.set_option('mode.chained_assignment', None)\n",
    "pio.templates.default = \"ggplot2\""
   ]
  },
  {
   "cell_type": "code",
   "execution_count": 53,
   "id": "b81b052a",
   "metadata": {},
   "outputs": [
    {
     "name": "stderr",
     "output_type": "stream",
     "text": [
      "/Library/Frameworks/Python.framework/Versions/3.9/lib/python3.9/site-packages/IPython/core/interactiveshell.py:3169: DtypeWarning:\n",
      "\n",
      "Columns (5) have mixed types.Specify dtype option on import or set low_memory=False.\n",
      "\n"
     ]
    }
   ],
   "source": [
    "# read total dataframe\n",
    "df_tot = pd.read_csv('total_dataframe.csv').drop('Unnamed: 0', axis=1)"
   ]
  },
  {
   "cell_type": "code",
   "execution_count": 54,
   "id": "e09d265e",
   "metadata": {},
   "outputs": [],
   "source": [
    "def PlotGreenGraph(G):\n",
    "    labels = {e: str(e) for e in G.edges}\n",
    "    # pos = nx.spring_layout(G, k=10000/np.sqrt(G.order()), iterations=20, scale=10) problem divided by 0\n",
    "    pos = nx.spring_layout(G, iterations=20, scale=10)\n",
    "    plt.figure(3, figsize=(20, 14))\n",
    "    \n",
    "    nx.draw(G, pos=pos, with_labels=True, node_size=2000, node_color='orange')\n",
    "\n",
    "    # Create edge labels\n",
    "    labels = {e: G.edges[e]['Quantity'] for e in G.edges}\n",
    "\n",
    "    # Draw edge labels according to node positions\n",
    "    nx.draw_networkx_edge_labels(G, pos, edge_labels=labels)\n",
    "    \n",
    "    return None"
   ]
  },
  {
   "cell_type": "code",
   "execution_count": 55,
   "id": "1c4eee54",
   "metadata": {},
   "outputs": [],
   "source": [
    "def GreennessGraph(df, month = 1, year = 2019, type_flow = 'export', product = None, t = 1):\n",
    "    \n",
    "    products = df_tot.PRODUCT_CODE.unique()\n",
    "    products = [p for p in products if product in str(p)[:2]]\n",
    "    \n",
    "    # product\n",
    "    if product != None or product != '':\n",
    "        df = df[df['PRODUCT_CODE'].isin(products)].reset_index(drop=True)\n",
    "    else:\n",
    "        return 'Select the product code!'\n",
    "    \n",
    "    # month and year\n",
    "    if month == None or year == None or month > 12 or year > 2021 or year < 2019:\n",
    "        return 'Insert correctly the month and year!'\n",
    "    \n",
    "    if month != None and year != None:\n",
    "        df = df[(df['MONTH'] == month) & (df['YEAR'] == year)].reset_index(drop=True)\n",
    "\n",
    "    df = df[df['TYPE_FLOW'] == type_flow].reset_index(drop=True) \n",
    "    \n",
    "    df['Distance'] = round(df['Distance'], 3)\n",
    "    \n",
    "    # start changes\n",
    "    df = df.groupby(['DECLARANT_ISO', 'PARTNER_ISO', 'PRODUCT_CODE','TYPE_TRANSP_MODE', 'Distance'])[['DECLARANT_ISO', 'PARTNER_ISO', 'VALUE_IN_EUROS', 'QUANTITY_IN_KG']].sum().reset_index()\n",
    "    df = df.loc[df['TYPE_TRANSP_MODE'].isin(['Road', 'Air', 'Sea', 'Rail','Inland Waterway'])].reset_index(drop=True)\n",
    "    speed = 45\n",
    "    \n",
    "    def greeness(row):\n",
    "        if row['TYPE_TRANSP_MODE'] == 'Sea':\n",
    "            return (row['QUANTITY_IN_KG']*(row['Distance']/1000)*9936.70)/((24000*7000)*speed)\n",
    "        elif row['TYPE_TRANSP_MODE'] == 'Air':\n",
    "            return (row['QUANTITY_IN_KG']*12*(row['Distance']/1000))/77000\n",
    "        # elif row['TYPE_TRANSP_MODE'] == 'Inland Waterway':\n",
    "            # return (row['QUANTITY_IN_KG']*0.12*(row['Distance']/1000)) # find the maximum capacity\n",
    "        elif row['TYPE_TRANSP_MODE'] == 'Road':\n",
    "            return (row['QUANTITY_IN_KG']*(row['Distance']/1000)*0.25)/(30000)\n",
    "        elif row['TYPE_TRANSP_MODE'] == 'Rail':\n",
    "            return (row['QUANTITY_IN_KG']*(row['Distance']/1000)*7.97)/(528000)\n",
    "\n",
    "    df['Greenness'] = df.apply(lambda row: greeness(row), axis=1) \n",
    "    \n",
    "    tr = int(len(df)*t/100)\n",
    "    df = df.iloc[:tr+1]\n",
    "    \n",
    "    G = nx.DiGraph()\n",
    "    # nodes\n",
    "    nodes = df['DECLARANT_ISO'].append(df['PARTNER_ISO']).unique()\n",
    "    \n",
    "    # graph\n",
    "    G.add_nodes_from(nodes)\n",
    "\n",
    "    for index,row in df.iterrows():\n",
    "        G.add_edge(row['DECLARANT_ISO'],row['PARTNER_ISO'],\n",
    "                                             Value = row.VALUE_IN_EUROS,\n",
    "                                             Quantity = row.QUANTITY_IN_KG,\n",
    "                                            Distance = row.Distance,\n",
    "                                            Greenness = row.Greenness)\n",
    "\n",
    "    \n",
    "    return G"
   ]
  },
  {
   "cell_type": "code",
   "execution_count": 56,
   "id": "a47af387",
   "metadata": {},
   "outputs": [],
   "source": [
    "def DFGreenGraph(G, month=None, year=None):\n",
    "    dict_summ = {}\n",
    "    for i in G.nodes():\n",
    "        summ = 0\n",
    "        for j in G[i]:\n",
    "            summ += G[i][j]['Greenness'] # for each node I calculate the sum of the GREENNESS of the out-edge\n",
    "        dict_summ[i] = summ\n",
    "        \n",
    "    dict_summQ = {}\n",
    "    for i in G.nodes():\n",
    "        summQ = 0\n",
    "        for j in G[i]:\n",
    "            summQ += G[i][j]['Quantity'] # for each node I calculate the sum of the GREENNESS of the out-edge\n",
    "        dict_summQ[i] = summQ\n",
    "\n",
    "    df_greenG = pd.DataFrame(list(dict_summ.items()), columns=['Country', 'Greenness']).sort_values(by='Greenness', ascending=False).reset_index(drop=True)\n",
    "    df_greenQ = pd.DataFrame(list(dict_summQ.items()), columns=['Country', 'Quantity'])\n",
    "    df_GQ = df_greenG.merge(df_greenQ, on='Country')\n",
    "    df_GQ['month'] = month\n",
    "    df_GQ['year'] = year\n",
    "    df_GQ['date'] = datetime.datetime(year, month, 1)\n",
    "    df_GQ = df_GQ[df_GQ['Greenness']>0]\n",
    "    return df_GQ"
   ]
  },
  {
   "cell_type": "code",
   "execution_count": 57,
   "id": "2980e3e4",
   "metadata": {},
   "outputs": [
    {
     "name": "stdout",
     "output_type": "stream",
     "text": [
      "2019\n",
      "1\n",
      "2\n",
      "3\n",
      "4\n",
      "5\n",
      "6\n",
      "7\n",
      "8\n",
      "9\n",
      "10\n",
      "11\n",
      "12\n",
      "2020\n",
      "1\n",
      "2\n",
      "3\n",
      "4\n",
      "5\n",
      "6\n",
      "7\n",
      "8\n",
      "9\n",
      "10\n",
      "11\n",
      "12\n",
      "2021\n",
      "1\n",
      "2\n",
      "3\n",
      "4\n",
      "5\n",
      "6\n"
     ]
    }
   ],
   "source": [
    "year = [2019, 2020, 2021]\n",
    "month = [1,2,3,4,5,6,7,8,9,10,11,12]\n",
    "df = pd.DataFrame({})\n",
    "for y in year:\n",
    "    print(str(y))\n",
    "    if y == 2021:\n",
    "        month = list(range(1, 7))   \n",
    "    for m in month:\n",
    "        print(str(m))\n",
    "        greenG = GreennessGraph(df_tot, m, y, product = '72', t = 10)\n",
    "        greenDF = DFGreenGraph(greenG, month=m, year=y)\n",
    "        df = pd.concat([df, greenDF], copy=False)\n",
    "df = df.reset_index(drop=True)"
   ]
  },
  {
   "cell_type": "code",
   "execution_count": 160,
   "id": "b0ae4275",
   "metadata": {},
   "outputs": [],
   "source": [
    "df1 = df.copy()"
   ]
  },
  {
   "cell_type": "code",
   "execution_count": 161,
   "id": "d49d6175",
   "metadata": {},
   "outputs": [],
   "source": [
    "df_country = pd.DataFrame({})\n",
    "for i in df['Country'].unique():\n",
    "    df_country[i] = df1[df1['Country'] == i]['Greenness'].to_list()\n",
    "    \n",
    "for i in df['Country'].unique():\n",
    "    df_country['year'] = df1[df1['Country'] == i]['year'].to_list()\n",
    "    df_country['month'] = df1[df1['Country'] == i]['month'].to_list()"
   ]
  },
  {
   "cell_type": "markdown",
   "id": "51553562",
   "metadata": {},
   "source": [
    "## Multiple Line"
   ]
  },
  {
   "cell_type": "code",
   "execution_count": 162,
   "id": "8d839104",
   "metadata": {},
   "outputs": [],
   "source": [
    "hmc = len(df1['Country'].unique())\n",
    "fig = px.line(df_country, x=\"month\", y=df_country.columns[:hmc], animation_frame=\"year\", markers=True)\n",
    "fig[\"layout\"]\n",
    "fig.layout.updatemenus[0].buttons[0].args[1][\"frame\"][\"duration\"] = 1500\n",
    "fig.update_layout(\n",
    "    title=\"Index of Greenness (2019-2021)\",\n",
    "    xaxis_title=\"Month\",\n",
    "    yaxis_title=\"Greenness\",\n",
    "    title_x=0.5,\n",
    "    font=dict(\n",
    "        size=16,\n",
    "    ),\n",
    "    yaxis_range=[min(df1['Greenness']-3000),max(df1['Greenness']+3000)],\n",
    "    xaxis_range = [0.5,12.5]\n",
    ")\n",
    "# fig.update_layout(title_text='Index of Greenness (2019-2021)', title_x=0.5)\n",
    "fig.update_xaxes(tickmode = 'array',\n",
    "                 tickvals = sorted(df1['month'].unique()),\n",
    "                 ticktext= ['Jan', 'Feb', 'Mar', 'Apr', 'May','Jun', 'Jul', 'Aug', 'Sep', 'Oct', 'Nov', 'Dec'])\n",
    "fig.write_html(\"/Users/davide/Desktop/moreline.html\")"
   ]
  },
  {
   "cell_type": "markdown",
   "id": "91c986f5",
   "metadata": {},
   "source": [
    "## One Line"
   ]
  },
  {
   "cell_type": "code",
   "execution_count": 163,
   "id": "f1d1f93a",
   "metadata": {},
   "outputs": [],
   "source": [
    "df2 = df1[df1['Country']=='BE']\n",
    "fig = px.line(df2, x=\"month\", y=\"Greenness\", animation_frame=\"year\", animation_group=\"Country\", hover_name=\"Country\", markers=True)\n",
    "fig[\"layout\"]\n",
    "fig.layout.updatemenus[0].buttons[0].args[1][\"frame\"][\"duration\"] = 1500\n",
    "fig.update_layout(\n",
    "    title=\"Index of Greenness (2019-2021)\",\n",
    "    xaxis_title=\"Month\",\n",
    "    yaxis_title=\"Greenness\",\n",
    "    title_x=0.5,\n",
    "    font=dict(\n",
    "        size=16,\n",
    "    ),\n",
    "    yaxis_range=[min(df2['Greenness']-3000),max(df2['Greenness']+111000)],\n",
    "    xaxis_range = [0.5,12.5]\n",
    ")\n",
    "# fig.update_layout(title_text='Index of Greenness (2019-2021)', title_x=0.5)\n",
    "fig.update_xaxes(tickmode = 'array',\n",
    "                 tickvals = sorted(df2['month'].unique()),\n",
    "                 ticktext= ['Jan', 'Feb', 'Mar', 'Apr', 'May','Jun', 'Jul', 'Aug', 'Sep', 'Oct', 'Nov', 'Dec'])\n",
    "fig.write_html(\"/Users/davide/Desktop/oneline.html\")"
   ]
  },
  {
   "cell_type": "code",
   "execution_count": 164,
   "id": "14e809e9",
   "metadata": {},
   "outputs": [],
   "source": [
    "ccode_df = pd.read_csv('country_codes.csv')\n",
    "map_dict1 = pd.Series(ccode_df.iloc[:,0].values,index= ccode_df.iloc[:,1]).to_dict()\n",
    "map_dict2 = pd.Series(ccode_df.iloc[:,2].values,index= ccode_df.iloc[:,0]).to_dict()\n",
    "df1.replace({\"Country\":map_dict1},inplace=True)\n",
    "df1['Code'] = df1['Country'].map(map_dict2)\n",
    "df1['Date'] = df1['date'].dt.strftime(\"%b-%Y\").astype(str)"
   ]
  },
  {
   "cell_type": "code",
   "execution_count": 165,
   "id": "207e3186",
   "metadata": {},
   "outputs": [
    {
     "data": {
      "application/vnd.plotly.v1+json": {
       "config": {
        "plotlyServerURL": "https://plot.ly"
       },
       "data": [
        {
         "coloraxis": "coloraxis",
         "geo": "geo",
         "hovertemplate": "<b>%{hovertext}</b><br><br>Date=Jan-2019<br>Code=%{location}<br>Greenness=%{z}<extra></extra>",
         "hovertext": [
          "Belgium"
         ],
         "locations": [
          "BEL"
         ],
         "name": "",
         "type": "choropleth",
         "z": [
          507436.0330808475
         ]
        }
       ],
       "frames": [
        {
         "data": [
          {
           "coloraxis": "coloraxis",
           "geo": "geo",
           "hovertemplate": "<b>%{hovertext}</b><br><br>Date=Jan-2019<br>Code=%{location}<br>Greenness=%{z}<extra></extra>",
           "hovertext": [
            "Belgium"
           ],
           "locations": [
            "BEL"
           ],
           "name": "",
           "type": "choropleth",
           "z": [
            507436.0330808475
           ]
          }
         ],
         "name": "Jan-2019"
        },
        {
         "data": [
          {
           "coloraxis": "coloraxis",
           "geo": "geo",
           "hovertemplate": "<b>%{hovertext}</b><br><br>Date=Feb-2019<br>Code=%{location}<br>Greenness=%{z}<extra></extra>",
           "hovertext": [
            "Belgium",
            "Austria"
           ],
           "locations": [
            "BEL",
            "AUT"
           ],
           "name": "",
           "type": "choropleth",
           "z": [
            340831.8990184417,
            24519.79392812363
           ]
          }
         ],
         "name": "Feb-2019"
        },
        {
         "data": [
          {
           "coloraxis": "coloraxis",
           "geo": "geo",
           "hovertemplate": "<b>%{hovertext}</b><br><br>Date=Mar-2019<br>Code=%{location}<br>Greenness=%{z}<extra></extra>",
           "hovertext": [
            "Belgium",
            "Austria"
           ],
           "locations": [
            "BEL",
            "AUT"
           ],
           "name": "",
           "type": "choropleth",
           "z": [
            858805.1096875637,
            13200.569196641462
           ]
          }
         ],
         "name": "Mar-2019"
        },
        {
         "data": [
          {
           "coloraxis": "coloraxis",
           "geo": "geo",
           "hovertemplate": "<b>%{hovertext}</b><br><br>Date=Apr-2019<br>Code=%{location}<br>Greenness=%{z}<extra></extra>",
           "hovertext": [
            "Belgium",
            "Austria"
           ],
           "locations": [
            "BEL",
            "AUT"
           ],
           "name": "",
           "type": "choropleth",
           "z": [
            132508.3853096421,
            20423.26208844772
           ]
          }
         ],
         "name": "Apr-2019"
        },
        {
         "data": [
          {
           "coloraxis": "coloraxis",
           "geo": "geo",
           "hovertemplate": "<b>%{hovertext}</b><br><br>Date=May-2019<br>Code=%{location}<br>Greenness=%{z}<extra></extra>",
           "hovertext": [
            "Belgium",
            "Austria"
           ],
           "locations": [
            "BEL",
            "AUT"
           ],
           "name": "",
           "type": "choropleth",
           "z": [
            753199.6459067324,
            33425.95184396725
           ]
          }
         ],
         "name": "May-2019"
        },
        {
         "data": [
          {
           "coloraxis": "coloraxis",
           "geo": "geo",
           "hovertemplate": "<b>%{hovertext}</b><br><br>Date=Jun-2019<br>Code=%{location}<br>Greenness=%{z}<extra></extra>",
           "hovertext": [
            "Belgium",
            "Austria"
           ],
           "locations": [
            "BEL",
            "AUT"
           ],
           "name": "",
           "type": "choropleth",
           "z": [
            799895.061661003,
            33397.18302584534
           ]
          }
         ],
         "name": "Jun-2019"
        },
        {
         "data": [
          {
           "coloraxis": "coloraxis",
           "geo": "geo",
           "hovertemplate": "<b>%{hovertext}</b><br><br>Date=Jul-2019<br>Code=%{location}<br>Greenness=%{z}<extra></extra>",
           "hovertext": [
            "Belgium",
            "Austria"
           ],
           "locations": [
            "BEL",
            "AUT"
           ],
           "name": "",
           "type": "choropleth",
           "z": [
            789070.7059486066,
            18159.495128744427
           ]
          }
         ],
         "name": "Jul-2019"
        },
        {
         "data": [
          {
           "coloraxis": "coloraxis",
           "geo": "geo",
           "hovertemplate": "<b>%{hovertext}</b><br><br>Date=Aug-2019<br>Code=%{location}<br>Greenness=%{z}<extra></extra>",
           "hovertext": [
            "Belgium",
            "Austria"
           ],
           "locations": [
            "BEL",
            "AUT"
           ],
           "name": "",
           "type": "choropleth",
           "z": [
            561699.6908418074,
            12106.59025458673
           ]
          }
         ],
         "name": "Aug-2019"
        },
        {
         "data": [
          {
           "coloraxis": "coloraxis",
           "geo": "geo",
           "hovertemplate": "<b>%{hovertext}</b><br><br>Date=Sep-2019<br>Code=%{location}<br>Greenness=%{z}<extra></extra>",
           "hovertext": [
            "Belgium",
            "Austria"
           ],
           "locations": [
            "BEL",
            "AUT"
           ],
           "name": "",
           "type": "choropleth",
           "z": [
            259626.42936086576,
            11062.551143822424
           ]
          }
         ],
         "name": "Sep-2019"
        },
        {
         "data": [
          {
           "coloraxis": "coloraxis",
           "geo": "geo",
           "hovertemplate": "<b>%{hovertext}</b><br><br>Date=Oct-2019<br>Code=%{location}<br>Greenness=%{z}<extra></extra>",
           "hovertext": [
            "Belgium",
            "Austria"
           ],
           "locations": [
            "BEL",
            "AUT"
           ],
           "name": "",
           "type": "choropleth",
           "z": [
            1235729.5115793552,
            22757.666889857683
           ]
          }
         ],
         "name": "Oct-2019"
        },
        {
         "data": [
          {
           "coloraxis": "coloraxis",
           "geo": "geo",
           "hovertemplate": "<b>%{hovertext}</b><br><br>Date=Nov-2019<br>Code=%{location}<br>Greenness=%{z}<extra></extra>",
           "hovertext": [
            "Belgium",
            "Austria"
           ],
           "locations": [
            "BEL",
            "AUT"
           ],
           "name": "",
           "type": "choropleth",
           "z": [
            971158.4291047008,
            13429.28374753916
           ]
          }
         ],
         "name": "Nov-2019"
        },
        {
         "data": [
          {
           "coloraxis": "coloraxis",
           "geo": "geo",
           "hovertemplate": "<b>%{hovertext}</b><br><br>Date=Dec-2019<br>Code=%{location}<br>Greenness=%{z}<extra></extra>",
           "hovertext": [
            "Belgium"
           ],
           "locations": [
            "BEL"
           ],
           "name": "",
           "type": "choropleth",
           "z": [
            999627.8851022461
           ]
          }
         ],
         "name": "Dec-2019"
        },
        {
         "data": [
          {
           "coloraxis": "coloraxis",
           "geo": "geo",
           "hovertemplate": "<b>%{hovertext}</b><br><br>Date=Jan-2020<br>Code=%{location}<br>Greenness=%{z}<extra></extra>",
           "hovertext": [
            "Belgium",
            "Austria"
           ],
           "locations": [
            "BEL",
            "AUT"
           ],
           "name": "",
           "type": "choropleth",
           "z": [
            641478.9721824452,
            40777.335366153246
           ]
          }
         ],
         "name": "Jan-2020"
        },
        {
         "data": [
          {
           "coloraxis": "coloraxis",
           "geo": "geo",
           "hovertemplate": "<b>%{hovertext}</b><br><br>Date=Feb-2020<br>Code=%{location}<br>Greenness=%{z}<extra></extra>",
           "hovertext": [
            "Belgium",
            "Austria"
           ],
           "locations": [
            "BEL",
            "AUT"
           ],
           "name": "",
           "type": "choropleth",
           "z": [
            727122.7027409539,
            14908.651163700748
           ]
          }
         ],
         "name": "Feb-2020"
        },
        {
         "data": [
          {
           "coloraxis": "coloraxis",
           "geo": "geo",
           "hovertemplate": "<b>%{hovertext}</b><br><br>Date=Mar-2020<br>Code=%{location}<br>Greenness=%{z}<extra></extra>",
           "hovertext": [
            "Belgium",
            "Austria"
           ],
           "locations": [
            "BEL",
            "AUT"
           ],
           "name": "",
           "type": "choropleth",
           "z": [
            233216.83891150306,
            13165.143280337485
           ]
          }
         ],
         "name": "Mar-2020"
        },
        {
         "data": [
          {
           "coloraxis": "coloraxis",
           "geo": "geo",
           "hovertemplate": "<b>%{hovertext}</b><br><br>Date=Apr-2020<br>Code=%{location}<br>Greenness=%{z}<extra></extra>",
           "hovertext": [
            "Austria"
           ],
           "locations": [
            "AUT"
           ],
           "name": "",
           "type": "choropleth",
           "z": [
            68715.97422973771
           ]
          }
         ],
         "name": "Apr-2020"
        },
        {
         "data": [
          {
           "coloraxis": "coloraxis",
           "geo": "geo",
           "hovertemplate": "<b>%{hovertext}</b><br><br>Date=May-2020<br>Code=%{location}<br>Greenness=%{z}<extra></extra>",
           "hovertext": [
            "Belgium",
            "Austria"
           ],
           "locations": [
            "BEL",
            "AUT"
           ],
           "name": "",
           "type": "choropleth",
           "z": [
            129771.01744371718,
            15791.867711266768
           ]
          }
         ],
         "name": "May-2020"
        },
        {
         "data": [
          {
           "coloraxis": "coloraxis",
           "geo": "geo",
           "hovertemplate": "<b>%{hovertext}</b><br><br>Date=Jun-2020<br>Code=%{location}<br>Greenness=%{z}<extra></extra>",
           "hovertext": [
            "Belgium",
            "Austria"
           ],
           "locations": [
            "BEL",
            "AUT"
           ],
           "name": "",
           "type": "choropleth",
           "z": [
            444165.4687449699,
            30823.085863078755
           ]
          }
         ],
         "name": "Jun-2020"
        },
        {
         "data": [
          {
           "coloraxis": "coloraxis",
           "geo": "geo",
           "hovertemplate": "<b>%{hovertext}</b><br><br>Date=Jul-2020<br>Code=%{location}<br>Greenness=%{z}<extra></extra>",
           "hovertext": [
            "Belgium",
            "Austria"
           ],
           "locations": [
            "BEL",
            "AUT"
           ],
           "name": "",
           "type": "choropleth",
           "z": [
            832425.1797825161,
            15583.503301400555
           ]
          }
         ],
         "name": "Jul-2020"
        },
        {
         "data": [
          {
           "coloraxis": "coloraxis",
           "geo": "geo",
           "hovertemplate": "<b>%{hovertext}</b><br><br>Date=Aug-2020<br>Code=%{location}<br>Greenness=%{z}<extra></extra>",
           "hovertext": [
            "Belgium",
            "Austria"
           ],
           "locations": [
            "BEL",
            "AUT"
           ],
           "name": "",
           "type": "choropleth",
           "z": [
            507421.7498262927,
            16525.31133265827
           ]
          }
         ],
         "name": "Aug-2020"
        },
        {
         "data": [
          {
           "coloraxis": "coloraxis",
           "geo": "geo",
           "hovertemplate": "<b>%{hovertext}</b><br><br>Date=Sep-2020<br>Code=%{location}<br>Greenness=%{z}<extra></extra>",
           "hovertext": [
            "Belgium",
            "Austria"
           ],
           "locations": [
            "BEL",
            "AUT"
           ],
           "name": "",
           "type": "choropleth",
           "z": [
            79181.60517987388,
            16941.347913690326
           ]
          }
         ],
         "name": "Sep-2020"
        },
        {
         "data": [
          {
           "coloraxis": "coloraxis",
           "geo": "geo",
           "hovertemplate": "<b>%{hovertext}</b><br><br>Date=Oct-2020<br>Code=%{location}<br>Greenness=%{z}<extra></extra>",
           "hovertext": [
            "Belgium",
            "Austria"
           ],
           "locations": [
            "BEL",
            "AUT"
           ],
           "name": "",
           "type": "choropleth",
           "z": [
            752044.2454220178,
            26478.640088149816
           ]
          }
         ],
         "name": "Oct-2020"
        },
        {
         "data": [
          {
           "coloraxis": "coloraxis",
           "geo": "geo",
           "hovertemplate": "<b>%{hovertext}</b><br><br>Date=Nov-2020<br>Code=%{location}<br>Greenness=%{z}<extra></extra>",
           "hovertext": [
            "Belgium",
            "Austria"
           ],
           "locations": [
            "BEL",
            "AUT"
           ],
           "name": "",
           "type": "choropleth",
           "z": [
            152423.83382223168,
            15196.98942876827
           ]
          }
         ],
         "name": "Nov-2020"
        },
        {
         "data": [
          {
           "coloraxis": "coloraxis",
           "geo": "geo",
           "hovertemplate": "<b>%{hovertext}</b><br><br>Date=Dec-2020<br>Code=%{location}<br>Greenness=%{z}<extra></extra>",
           "hovertext": [
            "Austria"
           ],
           "locations": [
            "AUT"
           ],
           "name": "",
           "type": "choropleth",
           "z": [
            20761.416181886227
           ]
          }
         ],
         "name": "Dec-2020"
        },
        {
         "data": [
          {
           "coloraxis": "coloraxis",
           "geo": "geo",
           "hovertemplate": "<b>%{hovertext}</b><br><br>Date=Jan-2021<br>Code=%{location}<br>Greenness=%{z}<extra></extra>",
           "hovertext": [
            "Belgium",
            "Austria"
           ],
           "locations": [
            "BEL",
            "AUT"
           ],
           "name": "",
           "type": "choropleth",
           "z": [
            87432.53193527678,
            12624.68834615211
           ]
          }
         ],
         "name": "Jan-2021"
        },
        {
         "data": [
          {
           "coloraxis": "coloraxis",
           "geo": "geo",
           "hovertemplate": "<b>%{hovertext}</b><br><br>Date=Feb-2021<br>Code=%{location}<br>Greenness=%{z}<extra></extra>",
           "hovertext": [
            "Belgium",
            "Austria"
           ],
           "locations": [
            "BEL",
            "AUT"
           ],
           "name": "",
           "type": "choropleth",
           "z": [
            650521.8763747885,
            18574.82306203384
           ]
          }
         ],
         "name": "Feb-2021"
        },
        {
         "data": [
          {
           "coloraxis": "coloraxis",
           "geo": "geo",
           "hovertemplate": "<b>%{hovertext}</b><br><br>Date=Mar-2021<br>Code=%{location}<br>Greenness=%{z}<extra></extra>",
           "hovertext": [
            "Belgium",
            "Austria"
           ],
           "locations": [
            "BEL",
            "AUT"
           ],
           "name": "",
           "type": "choropleth",
           "z": [
            178878.08688703578,
            17264.10906608146
           ]
          }
         ],
         "name": "Mar-2021"
        },
        {
         "data": [
          {
           "coloraxis": "coloraxis",
           "geo": "geo",
           "hovertemplate": "<b>%{hovertext}</b><br><br>Date=Apr-2021<br>Code=%{location}<br>Greenness=%{z}<extra></extra>",
           "hovertext": [
            "Belgium",
            "Austria"
           ],
           "locations": [
            "BEL",
            "AUT"
           ],
           "name": "",
           "type": "choropleth",
           "z": [
            70983.43358429197,
            18855.845202570676
           ]
          }
         ],
         "name": "Apr-2021"
        },
        {
         "data": [
          {
           "coloraxis": "coloraxis",
           "geo": "geo",
           "hovertemplate": "<b>%{hovertext}</b><br><br>Date=May-2021<br>Code=%{location}<br>Greenness=%{z}<extra></extra>",
           "hovertext": [
            "Belgium",
            "Austria"
           ],
           "locations": [
            "BEL",
            "AUT"
           ],
           "name": "",
           "type": "choropleth",
           "z": [
            542388.9696420662,
            15585.596422909459
           ]
          }
         ],
         "name": "May-2021"
        },
        {
         "data": [
          {
           "coloraxis": "coloraxis",
           "geo": "geo",
           "hovertemplate": "<b>%{hovertext}</b><br><br>Date=Jun-2021<br>Code=%{location}<br>Greenness=%{z}<extra></extra>",
           "hovertext": [
            "Belgium",
            "Austria"
           ],
           "locations": [
            "BEL",
            "AUT"
           ],
           "name": "",
           "type": "choropleth",
           "z": [
            543719.8330665453,
            14281.315385982212
           ]
          }
         ],
         "name": "Jun-2021"
        }
       ],
       "layout": {
        "coloraxis": {
         "colorbar": {
          "title": {
           "text": "Greenness"
          }
         },
         "colorscale": [
          [
           0,
           "rgb(247,252,245)"
          ],
          [
           0.125,
           "rgb(229,245,224)"
          ],
          [
           0.25,
           "rgb(199,233,192)"
          ],
          [
           0.375,
           "rgb(161,217,155)"
          ],
          [
           0.5,
           "rgb(116,196,118)"
          ],
          [
           0.625,
           "rgb(65,171,93)"
          ],
          [
           0.75,
           "rgb(35,139,69)"
          ],
          [
           0.875,
           "rgb(0,109,44)"
          ],
          [
           1,
           "rgb(0,68,27)"
          ]
         ]
        },
        "geo": {
         "center": {},
         "domain": {
          "x": [
           0,
           1
          ],
          "y": [
           0,
           1
          ]
         },
         "scope": "europe"
        },
        "legend": {
         "tracegroupgap": 0
        },
        "margin": {
         "b": 200,
         "l": 2,
         "r": 20,
         "t": 20
        },
        "sliders": [
         {
          "active": 0,
          "currentvalue": {
           "prefix": "Date="
          },
          "len": 0.9,
          "pad": {
           "b": 10,
           "t": 60
          },
          "steps": [
           {
            "args": [
             [
              "Jan-2019"
             ],
             {
              "frame": {
               "duration": 0,
               "redraw": true
              },
              "fromcurrent": true,
              "mode": "immediate",
              "transition": {
               "duration": 0,
               "easing": "linear"
              }
             }
            ],
            "label": "Jan-2019",
            "method": "animate"
           },
           {
            "args": [
             [
              "Feb-2019"
             ],
             {
              "frame": {
               "duration": 0,
               "redraw": true
              },
              "fromcurrent": true,
              "mode": "immediate",
              "transition": {
               "duration": 0,
               "easing": "linear"
              }
             }
            ],
            "label": "Feb-2019",
            "method": "animate"
           },
           {
            "args": [
             [
              "Mar-2019"
             ],
             {
              "frame": {
               "duration": 0,
               "redraw": true
              },
              "fromcurrent": true,
              "mode": "immediate",
              "transition": {
               "duration": 0,
               "easing": "linear"
              }
             }
            ],
            "label": "Mar-2019",
            "method": "animate"
           },
           {
            "args": [
             [
              "Apr-2019"
             ],
             {
              "frame": {
               "duration": 0,
               "redraw": true
              },
              "fromcurrent": true,
              "mode": "immediate",
              "transition": {
               "duration": 0,
               "easing": "linear"
              }
             }
            ],
            "label": "Apr-2019",
            "method": "animate"
           },
           {
            "args": [
             [
              "May-2019"
             ],
             {
              "frame": {
               "duration": 0,
               "redraw": true
              },
              "fromcurrent": true,
              "mode": "immediate",
              "transition": {
               "duration": 0,
               "easing": "linear"
              }
             }
            ],
            "label": "May-2019",
            "method": "animate"
           },
           {
            "args": [
             [
              "Jun-2019"
             ],
             {
              "frame": {
               "duration": 0,
               "redraw": true
              },
              "fromcurrent": true,
              "mode": "immediate",
              "transition": {
               "duration": 0,
               "easing": "linear"
              }
             }
            ],
            "label": "Jun-2019",
            "method": "animate"
           },
           {
            "args": [
             [
              "Jul-2019"
             ],
             {
              "frame": {
               "duration": 0,
               "redraw": true
              },
              "fromcurrent": true,
              "mode": "immediate",
              "transition": {
               "duration": 0,
               "easing": "linear"
              }
             }
            ],
            "label": "Jul-2019",
            "method": "animate"
           },
           {
            "args": [
             [
              "Aug-2019"
             ],
             {
              "frame": {
               "duration": 0,
               "redraw": true
              },
              "fromcurrent": true,
              "mode": "immediate",
              "transition": {
               "duration": 0,
               "easing": "linear"
              }
             }
            ],
            "label": "Aug-2019",
            "method": "animate"
           },
           {
            "args": [
             [
              "Sep-2019"
             ],
             {
              "frame": {
               "duration": 0,
               "redraw": true
              },
              "fromcurrent": true,
              "mode": "immediate",
              "transition": {
               "duration": 0,
               "easing": "linear"
              }
             }
            ],
            "label": "Sep-2019",
            "method": "animate"
           },
           {
            "args": [
             [
              "Oct-2019"
             ],
             {
              "frame": {
               "duration": 0,
               "redraw": true
              },
              "fromcurrent": true,
              "mode": "immediate",
              "transition": {
               "duration": 0,
               "easing": "linear"
              }
             }
            ],
            "label": "Oct-2019",
            "method": "animate"
           },
           {
            "args": [
             [
              "Nov-2019"
             ],
             {
              "frame": {
               "duration": 0,
               "redraw": true
              },
              "fromcurrent": true,
              "mode": "immediate",
              "transition": {
               "duration": 0,
               "easing": "linear"
              }
             }
            ],
            "label": "Nov-2019",
            "method": "animate"
           },
           {
            "args": [
             [
              "Dec-2019"
             ],
             {
              "frame": {
               "duration": 0,
               "redraw": true
              },
              "fromcurrent": true,
              "mode": "immediate",
              "transition": {
               "duration": 0,
               "easing": "linear"
              }
             }
            ],
            "label": "Dec-2019",
            "method": "animate"
           },
           {
            "args": [
             [
              "Jan-2020"
             ],
             {
              "frame": {
               "duration": 0,
               "redraw": true
              },
              "fromcurrent": true,
              "mode": "immediate",
              "transition": {
               "duration": 0,
               "easing": "linear"
              }
             }
            ],
            "label": "Jan-2020",
            "method": "animate"
           },
           {
            "args": [
             [
              "Feb-2020"
             ],
             {
              "frame": {
               "duration": 0,
               "redraw": true
              },
              "fromcurrent": true,
              "mode": "immediate",
              "transition": {
               "duration": 0,
               "easing": "linear"
              }
             }
            ],
            "label": "Feb-2020",
            "method": "animate"
           },
           {
            "args": [
             [
              "Mar-2020"
             ],
             {
              "frame": {
               "duration": 0,
               "redraw": true
              },
              "fromcurrent": true,
              "mode": "immediate",
              "transition": {
               "duration": 0,
               "easing": "linear"
              }
             }
            ],
            "label": "Mar-2020",
            "method": "animate"
           },
           {
            "args": [
             [
              "Apr-2020"
             ],
             {
              "frame": {
               "duration": 0,
               "redraw": true
              },
              "fromcurrent": true,
              "mode": "immediate",
              "transition": {
               "duration": 0,
               "easing": "linear"
              }
             }
            ],
            "label": "Apr-2020",
            "method": "animate"
           },
           {
            "args": [
             [
              "May-2020"
             ],
             {
              "frame": {
               "duration": 0,
               "redraw": true
              },
              "fromcurrent": true,
              "mode": "immediate",
              "transition": {
               "duration": 0,
               "easing": "linear"
              }
             }
            ],
            "label": "May-2020",
            "method": "animate"
           },
           {
            "args": [
             [
              "Jun-2020"
             ],
             {
              "frame": {
               "duration": 0,
               "redraw": true
              },
              "fromcurrent": true,
              "mode": "immediate",
              "transition": {
               "duration": 0,
               "easing": "linear"
              }
             }
            ],
            "label": "Jun-2020",
            "method": "animate"
           },
           {
            "args": [
             [
              "Jul-2020"
             ],
             {
              "frame": {
               "duration": 0,
               "redraw": true
              },
              "fromcurrent": true,
              "mode": "immediate",
              "transition": {
               "duration": 0,
               "easing": "linear"
              }
             }
            ],
            "label": "Jul-2020",
            "method": "animate"
           },
           {
            "args": [
             [
              "Aug-2020"
             ],
             {
              "frame": {
               "duration": 0,
               "redraw": true
              },
              "fromcurrent": true,
              "mode": "immediate",
              "transition": {
               "duration": 0,
               "easing": "linear"
              }
             }
            ],
            "label": "Aug-2020",
            "method": "animate"
           },
           {
            "args": [
             [
              "Sep-2020"
             ],
             {
              "frame": {
               "duration": 0,
               "redraw": true
              },
              "fromcurrent": true,
              "mode": "immediate",
              "transition": {
               "duration": 0,
               "easing": "linear"
              }
             }
            ],
            "label": "Sep-2020",
            "method": "animate"
           },
           {
            "args": [
             [
              "Oct-2020"
             ],
             {
              "frame": {
               "duration": 0,
               "redraw": true
              },
              "fromcurrent": true,
              "mode": "immediate",
              "transition": {
               "duration": 0,
               "easing": "linear"
              }
             }
            ],
            "label": "Oct-2020",
            "method": "animate"
           },
           {
            "args": [
             [
              "Nov-2020"
             ],
             {
              "frame": {
               "duration": 0,
               "redraw": true
              },
              "fromcurrent": true,
              "mode": "immediate",
              "transition": {
               "duration": 0,
               "easing": "linear"
              }
             }
            ],
            "label": "Nov-2020",
            "method": "animate"
           },
           {
            "args": [
             [
              "Dec-2020"
             ],
             {
              "frame": {
               "duration": 0,
               "redraw": true
              },
              "fromcurrent": true,
              "mode": "immediate",
              "transition": {
               "duration": 0,
               "easing": "linear"
              }
             }
            ],
            "label": "Dec-2020",
            "method": "animate"
           },
           {
            "args": [
             [
              "Jan-2021"
             ],
             {
              "frame": {
               "duration": 0,
               "redraw": true
              },
              "fromcurrent": true,
              "mode": "immediate",
              "transition": {
               "duration": 0,
               "easing": "linear"
              }
             }
            ],
            "label": "Jan-2021",
            "method": "animate"
           },
           {
            "args": [
             [
              "Feb-2021"
             ],
             {
              "frame": {
               "duration": 0,
               "redraw": true
              },
              "fromcurrent": true,
              "mode": "immediate",
              "transition": {
               "duration": 0,
               "easing": "linear"
              }
             }
            ],
            "label": "Feb-2021",
            "method": "animate"
           },
           {
            "args": [
             [
              "Mar-2021"
             ],
             {
              "frame": {
               "duration": 0,
               "redraw": true
              },
              "fromcurrent": true,
              "mode": "immediate",
              "transition": {
               "duration": 0,
               "easing": "linear"
              }
             }
            ],
            "label": "Mar-2021",
            "method": "animate"
           },
           {
            "args": [
             [
              "Apr-2021"
             ],
             {
              "frame": {
               "duration": 0,
               "redraw": true
              },
              "fromcurrent": true,
              "mode": "immediate",
              "transition": {
               "duration": 0,
               "easing": "linear"
              }
             }
            ],
            "label": "Apr-2021",
            "method": "animate"
           },
           {
            "args": [
             [
              "May-2021"
             ],
             {
              "frame": {
               "duration": 0,
               "redraw": true
              },
              "fromcurrent": true,
              "mode": "immediate",
              "transition": {
               "duration": 0,
               "easing": "linear"
              }
             }
            ],
            "label": "May-2021",
            "method": "animate"
           },
           {
            "args": [
             [
              "Jun-2021"
             ],
             {
              "frame": {
               "duration": 0,
               "redraw": true
              },
              "fromcurrent": true,
              "mode": "immediate",
              "transition": {
               "duration": 0,
               "easing": "linear"
              }
             }
            ],
            "label": "Jun-2021",
            "method": "animate"
           }
          ],
          "x": 0.1,
          "xanchor": "left",
          "y": 0,
          "yanchor": "top"
         }
        ],
        "template": {
         "data": {
          "bar": [
           {
            "error_x": {
             "color": "rgb(51,51,51)"
            },
            "error_y": {
             "color": "rgb(51,51,51)"
            },
            "marker": {
             "line": {
              "color": "rgb(237,237,237)",
              "width": 0.5
             },
             "pattern": {
              "fillmode": "overlay",
              "size": 10,
              "solidity": 0.2
             }
            },
            "type": "bar"
           }
          ],
          "barpolar": [
           {
            "marker": {
             "line": {
              "color": "rgb(237,237,237)",
              "width": 0.5
             },
             "pattern": {
              "fillmode": "overlay",
              "size": 10,
              "solidity": 0.2
             }
            },
            "type": "barpolar"
           }
          ],
          "carpet": [
           {
            "aaxis": {
             "endlinecolor": "rgb(51,51,51)",
             "gridcolor": "white",
             "linecolor": "white",
             "minorgridcolor": "white",
             "startlinecolor": "rgb(51,51,51)"
            },
            "baxis": {
             "endlinecolor": "rgb(51,51,51)",
             "gridcolor": "white",
             "linecolor": "white",
             "minorgridcolor": "white",
             "startlinecolor": "rgb(51,51,51)"
            },
            "type": "carpet"
           }
          ],
          "choropleth": [
           {
            "colorbar": {
             "outlinewidth": 0,
             "tickcolor": "rgb(237,237,237)",
             "ticklen": 6,
             "ticks": "inside"
            },
            "type": "choropleth"
           }
          ],
          "contour": [
           {
            "colorbar": {
             "outlinewidth": 0,
             "tickcolor": "rgb(237,237,237)",
             "ticklen": 6,
             "ticks": "inside"
            },
            "colorscale": [
             [
              0,
              "rgb(20,44,66)"
             ],
             [
              1,
              "rgb(90,179,244)"
             ]
            ],
            "type": "contour"
           }
          ],
          "contourcarpet": [
           {
            "colorbar": {
             "outlinewidth": 0,
             "tickcolor": "rgb(237,237,237)",
             "ticklen": 6,
             "ticks": "inside"
            },
            "type": "contourcarpet"
           }
          ],
          "heatmap": [
           {
            "colorbar": {
             "outlinewidth": 0,
             "tickcolor": "rgb(237,237,237)",
             "ticklen": 6,
             "ticks": "inside"
            },
            "colorscale": [
             [
              0,
              "rgb(20,44,66)"
             ],
             [
              1,
              "rgb(90,179,244)"
             ]
            ],
            "type": "heatmap"
           }
          ],
          "heatmapgl": [
           {
            "colorbar": {
             "outlinewidth": 0,
             "tickcolor": "rgb(237,237,237)",
             "ticklen": 6,
             "ticks": "inside"
            },
            "colorscale": [
             [
              0,
              "rgb(20,44,66)"
             ],
             [
              1,
              "rgb(90,179,244)"
             ]
            ],
            "type": "heatmapgl"
           }
          ],
          "histogram": [
           {
            "marker": {
             "pattern": {
              "fillmode": "overlay",
              "size": 10,
              "solidity": 0.2
             }
            },
            "type": "histogram"
           }
          ],
          "histogram2d": [
           {
            "colorbar": {
             "outlinewidth": 0,
             "tickcolor": "rgb(237,237,237)",
             "ticklen": 6,
             "ticks": "inside"
            },
            "colorscale": [
             [
              0,
              "rgb(20,44,66)"
             ],
             [
              1,
              "rgb(90,179,244)"
             ]
            ],
            "type": "histogram2d"
           }
          ],
          "histogram2dcontour": [
           {
            "colorbar": {
             "outlinewidth": 0,
             "tickcolor": "rgb(237,237,237)",
             "ticklen": 6,
             "ticks": "inside"
            },
            "colorscale": [
             [
              0,
              "rgb(20,44,66)"
             ],
             [
              1,
              "rgb(90,179,244)"
             ]
            ],
            "type": "histogram2dcontour"
           }
          ],
          "mesh3d": [
           {
            "colorbar": {
             "outlinewidth": 0,
             "tickcolor": "rgb(237,237,237)",
             "ticklen": 6,
             "ticks": "inside"
            },
            "type": "mesh3d"
           }
          ],
          "parcoords": [
           {
            "line": {
             "colorbar": {
              "outlinewidth": 0,
              "tickcolor": "rgb(237,237,237)",
              "ticklen": 6,
              "ticks": "inside"
             }
            },
            "type": "parcoords"
           }
          ],
          "pie": [
           {
            "automargin": true,
            "type": "pie"
           }
          ],
          "scatter": [
           {
            "marker": {
             "colorbar": {
              "outlinewidth": 0,
              "tickcolor": "rgb(237,237,237)",
              "ticklen": 6,
              "ticks": "inside"
             }
            },
            "type": "scatter"
           }
          ],
          "scatter3d": [
           {
            "line": {
             "colorbar": {
              "outlinewidth": 0,
              "tickcolor": "rgb(237,237,237)",
              "ticklen": 6,
              "ticks": "inside"
             }
            },
            "marker": {
             "colorbar": {
              "outlinewidth": 0,
              "tickcolor": "rgb(237,237,237)",
              "ticklen": 6,
              "ticks": "inside"
             }
            },
            "type": "scatter3d"
           }
          ],
          "scattercarpet": [
           {
            "marker": {
             "colorbar": {
              "outlinewidth": 0,
              "tickcolor": "rgb(237,237,237)",
              "ticklen": 6,
              "ticks": "inside"
             }
            },
            "type": "scattercarpet"
           }
          ],
          "scattergeo": [
           {
            "marker": {
             "colorbar": {
              "outlinewidth": 0,
              "tickcolor": "rgb(237,237,237)",
              "ticklen": 6,
              "ticks": "inside"
             }
            },
            "type": "scattergeo"
           }
          ],
          "scattergl": [
           {
            "marker": {
             "colorbar": {
              "outlinewidth": 0,
              "tickcolor": "rgb(237,237,237)",
              "ticklen": 6,
              "ticks": "inside"
             }
            },
            "type": "scattergl"
           }
          ],
          "scattermapbox": [
           {
            "marker": {
             "colorbar": {
              "outlinewidth": 0,
              "tickcolor": "rgb(237,237,237)",
              "ticklen": 6,
              "ticks": "inside"
             }
            },
            "type": "scattermapbox"
           }
          ],
          "scatterpolar": [
           {
            "marker": {
             "colorbar": {
              "outlinewidth": 0,
              "tickcolor": "rgb(237,237,237)",
              "ticklen": 6,
              "ticks": "inside"
             }
            },
            "type": "scatterpolar"
           }
          ],
          "scatterpolargl": [
           {
            "marker": {
             "colorbar": {
              "outlinewidth": 0,
              "tickcolor": "rgb(237,237,237)",
              "ticklen": 6,
              "ticks": "inside"
             }
            },
            "type": "scatterpolargl"
           }
          ],
          "scatterternary": [
           {
            "marker": {
             "colorbar": {
              "outlinewidth": 0,
              "tickcolor": "rgb(237,237,237)",
              "ticklen": 6,
              "ticks": "inside"
             }
            },
            "type": "scatterternary"
           }
          ],
          "surface": [
           {
            "colorbar": {
             "outlinewidth": 0,
             "tickcolor": "rgb(237,237,237)",
             "ticklen": 6,
             "ticks": "inside"
            },
            "colorscale": [
             [
              0,
              "rgb(20,44,66)"
             ],
             [
              1,
              "rgb(90,179,244)"
             ]
            ],
            "type": "surface"
           }
          ],
          "table": [
           {
            "cells": {
             "fill": {
              "color": "rgb(237,237,237)"
             },
             "line": {
              "color": "white"
             }
            },
            "header": {
             "fill": {
              "color": "rgb(217,217,217)"
             },
             "line": {
              "color": "white"
             }
            },
            "type": "table"
           }
          ]
         },
         "layout": {
          "annotationdefaults": {
           "arrowhead": 0,
           "arrowwidth": 1
          },
          "autotypenumbers": "strict",
          "coloraxis": {
           "colorbar": {
            "outlinewidth": 0,
            "tickcolor": "rgb(237,237,237)",
            "ticklen": 6,
            "ticks": "inside"
           }
          },
          "colorscale": {
           "sequential": [
            [
             0,
             "rgb(20,44,66)"
            ],
            [
             1,
             "rgb(90,179,244)"
            ]
           ],
           "sequentialminus": [
            [
             0,
             "rgb(20,44,66)"
            ],
            [
             1,
             "rgb(90,179,244)"
            ]
           ]
          },
          "colorway": [
           "#F8766D",
           "#A3A500",
           "#00BF7D",
           "#00B0F6",
           "#E76BF3"
          ],
          "font": {
           "color": "rgb(51,51,51)"
          },
          "geo": {
           "bgcolor": "white",
           "lakecolor": "white",
           "landcolor": "rgb(237,237,237)",
           "showlakes": true,
           "showland": true,
           "subunitcolor": "white"
          },
          "hoverlabel": {
           "align": "left"
          },
          "hovermode": "closest",
          "paper_bgcolor": "white",
          "plot_bgcolor": "rgb(237,237,237)",
          "polar": {
           "angularaxis": {
            "gridcolor": "white",
            "linecolor": "white",
            "showgrid": true,
            "tickcolor": "rgb(51,51,51)",
            "ticks": "outside"
           },
           "bgcolor": "rgb(237,237,237)",
           "radialaxis": {
            "gridcolor": "white",
            "linecolor": "white",
            "showgrid": true,
            "tickcolor": "rgb(51,51,51)",
            "ticks": "outside"
           }
          },
          "scene": {
           "xaxis": {
            "backgroundcolor": "rgb(237,237,237)",
            "gridcolor": "white",
            "gridwidth": 2,
            "linecolor": "white",
            "showbackground": true,
            "showgrid": true,
            "tickcolor": "rgb(51,51,51)",
            "ticks": "outside",
            "zerolinecolor": "white"
           },
           "yaxis": {
            "backgroundcolor": "rgb(237,237,237)",
            "gridcolor": "white",
            "gridwidth": 2,
            "linecolor": "white",
            "showbackground": true,
            "showgrid": true,
            "tickcolor": "rgb(51,51,51)",
            "ticks": "outside",
            "zerolinecolor": "white"
           },
           "zaxis": {
            "backgroundcolor": "rgb(237,237,237)",
            "gridcolor": "white",
            "gridwidth": 2,
            "linecolor": "white",
            "showbackground": true,
            "showgrid": true,
            "tickcolor": "rgb(51,51,51)",
            "ticks": "outside",
            "zerolinecolor": "white"
           }
          },
          "shapedefaults": {
           "fillcolor": "black",
           "line": {
            "width": 0
           },
           "opacity": 0.3
          },
          "ternary": {
           "aaxis": {
            "gridcolor": "white",
            "linecolor": "white",
            "showgrid": true,
            "tickcolor": "rgb(51,51,51)",
            "ticks": "outside"
           },
           "baxis": {
            "gridcolor": "white",
            "linecolor": "white",
            "showgrid": true,
            "tickcolor": "rgb(51,51,51)",
            "ticks": "outside"
           },
           "bgcolor": "rgb(237,237,237)",
           "caxis": {
            "gridcolor": "white",
            "linecolor": "white",
            "showgrid": true,
            "tickcolor": "rgb(51,51,51)",
            "ticks": "outside"
           }
          },
          "xaxis": {
           "automargin": true,
           "gridcolor": "white",
           "linecolor": "white",
           "showgrid": true,
           "tickcolor": "rgb(51,51,51)",
           "ticks": "outside",
           "title": {
            "standoff": 15
           },
           "zerolinecolor": "white"
          },
          "yaxis": {
           "automargin": true,
           "gridcolor": "white",
           "linecolor": "white",
           "showgrid": true,
           "tickcolor": "rgb(51,51,51)",
           "ticks": "outside",
           "title": {
            "standoff": 15
           },
           "zerolinecolor": "white"
          }
         }
        },
        "updatemenus": [
         {
          "buttons": [
           {
            "args": [
             null,
             {
              "frame": {
               "duration": 500,
               "redraw": true
              },
              "fromcurrent": true,
              "mode": "immediate",
              "transition": {
               "duration": 500,
               "easing": "linear"
              }
             }
            ],
            "label": "&#9654;",
            "method": "animate"
           },
           {
            "args": [
             [
              null
             ],
             {
              "frame": {
               "duration": 0,
               "redraw": true
              },
              "fromcurrent": true,
              "mode": "immediate",
              "transition": {
               "duration": 0,
               "easing": "linear"
              }
             }
            ],
            "label": "&#9724;",
            "method": "animate"
           }
          ],
          "direction": "left",
          "pad": {
           "r": 10,
           "t": 70
          },
          "showactive": false,
          "type": "buttons",
          "x": 0.1,
          "xanchor": "right",
          "y": 0,
          "yanchor": "top"
         }
        ]
       }
      },
      "text/html": [
       "<div>                            <div id=\"c91c8d99-cf24-4179-bb86-edb278c9cf2f\" class=\"plotly-graph-div\" style=\"height:525px; width:100%;\"></div>            <script type=\"text/javascript\">                require([\"plotly\"], function(Plotly) {                    window.PLOTLYENV=window.PLOTLYENV || {};                                    if (document.getElementById(\"c91c8d99-cf24-4179-bb86-edb278c9cf2f\")) {                    Plotly.newPlot(                        \"c91c8d99-cf24-4179-bb86-edb278c9cf2f\",                        [{\"coloraxis\":\"coloraxis\",\"geo\":\"geo\",\"hovertemplate\":\"<b>%{hovertext}</b><br><br>Date=Jan-2019<br>Code=%{location}<br>Greenness=%{z}<extra></extra>\",\"hovertext\":[\"Belgium\"],\"locations\":[\"BEL\"],\"name\":\"\",\"type\":\"choropleth\",\"z\":[507436.0330808475]}],                        {\"coloraxis\":{\"colorbar\":{\"title\":{\"text\":\"Greenness\"}},\"colorscale\":[[0.0,\"rgb(247,252,245)\"],[0.125,\"rgb(229,245,224)\"],[0.25,\"rgb(199,233,192)\"],[0.375,\"rgb(161,217,155)\"],[0.5,\"rgb(116,196,118)\"],[0.625,\"rgb(65,171,93)\"],[0.75,\"rgb(35,139,69)\"],[0.875,\"rgb(0,109,44)\"],[1.0,\"rgb(0,68,27)\"]]},\"geo\":{\"center\":{},\"domain\":{\"x\":[0.0,1.0],\"y\":[0.0,1.0]},\"scope\":\"europe\"},\"legend\":{\"tracegroupgap\":0},\"margin\":{\"b\":200,\"l\":2,\"r\":20,\"t\":20},\"sliders\":[{\"active\":0,\"currentvalue\":{\"prefix\":\"Date=\"},\"len\":0.9,\"pad\":{\"b\":10,\"t\":60},\"steps\":[{\"args\":[[\"Jan-2019\"],{\"frame\":{\"duration\":0,\"redraw\":true},\"fromcurrent\":true,\"mode\":\"immediate\",\"transition\":{\"duration\":0,\"easing\":\"linear\"}}],\"label\":\"Jan-2019\",\"method\":\"animate\"},{\"args\":[[\"Feb-2019\"],{\"frame\":{\"duration\":0,\"redraw\":true},\"fromcurrent\":true,\"mode\":\"immediate\",\"transition\":{\"duration\":0,\"easing\":\"linear\"}}],\"label\":\"Feb-2019\",\"method\":\"animate\"},{\"args\":[[\"Mar-2019\"],{\"frame\":{\"duration\":0,\"redraw\":true},\"fromcurrent\":true,\"mode\":\"immediate\",\"transition\":{\"duration\":0,\"easing\":\"linear\"}}],\"label\":\"Mar-2019\",\"method\":\"animate\"},{\"args\":[[\"Apr-2019\"],{\"frame\":{\"duration\":0,\"redraw\":true},\"fromcurrent\":true,\"mode\":\"immediate\",\"transition\":{\"duration\":0,\"easing\":\"linear\"}}],\"label\":\"Apr-2019\",\"method\":\"animate\"},{\"args\":[[\"May-2019\"],{\"frame\":{\"duration\":0,\"redraw\":true},\"fromcurrent\":true,\"mode\":\"immediate\",\"transition\":{\"duration\":0,\"easing\":\"linear\"}}],\"label\":\"May-2019\",\"method\":\"animate\"},{\"args\":[[\"Jun-2019\"],{\"frame\":{\"duration\":0,\"redraw\":true},\"fromcurrent\":true,\"mode\":\"immediate\",\"transition\":{\"duration\":0,\"easing\":\"linear\"}}],\"label\":\"Jun-2019\",\"method\":\"animate\"},{\"args\":[[\"Jul-2019\"],{\"frame\":{\"duration\":0,\"redraw\":true},\"fromcurrent\":true,\"mode\":\"immediate\",\"transition\":{\"duration\":0,\"easing\":\"linear\"}}],\"label\":\"Jul-2019\",\"method\":\"animate\"},{\"args\":[[\"Aug-2019\"],{\"frame\":{\"duration\":0,\"redraw\":true},\"fromcurrent\":true,\"mode\":\"immediate\",\"transition\":{\"duration\":0,\"easing\":\"linear\"}}],\"label\":\"Aug-2019\",\"method\":\"animate\"},{\"args\":[[\"Sep-2019\"],{\"frame\":{\"duration\":0,\"redraw\":true},\"fromcurrent\":true,\"mode\":\"immediate\",\"transition\":{\"duration\":0,\"easing\":\"linear\"}}],\"label\":\"Sep-2019\",\"method\":\"animate\"},{\"args\":[[\"Oct-2019\"],{\"frame\":{\"duration\":0,\"redraw\":true},\"fromcurrent\":true,\"mode\":\"immediate\",\"transition\":{\"duration\":0,\"easing\":\"linear\"}}],\"label\":\"Oct-2019\",\"method\":\"animate\"},{\"args\":[[\"Nov-2019\"],{\"frame\":{\"duration\":0,\"redraw\":true},\"fromcurrent\":true,\"mode\":\"immediate\",\"transition\":{\"duration\":0,\"easing\":\"linear\"}}],\"label\":\"Nov-2019\",\"method\":\"animate\"},{\"args\":[[\"Dec-2019\"],{\"frame\":{\"duration\":0,\"redraw\":true},\"fromcurrent\":true,\"mode\":\"immediate\",\"transition\":{\"duration\":0,\"easing\":\"linear\"}}],\"label\":\"Dec-2019\",\"method\":\"animate\"},{\"args\":[[\"Jan-2020\"],{\"frame\":{\"duration\":0,\"redraw\":true},\"fromcurrent\":true,\"mode\":\"immediate\",\"transition\":{\"duration\":0,\"easing\":\"linear\"}}],\"label\":\"Jan-2020\",\"method\":\"animate\"},{\"args\":[[\"Feb-2020\"],{\"frame\":{\"duration\":0,\"redraw\":true},\"fromcurrent\":true,\"mode\":\"immediate\",\"transition\":{\"duration\":0,\"easing\":\"linear\"}}],\"label\":\"Feb-2020\",\"method\":\"animate\"},{\"args\":[[\"Mar-2020\"],{\"frame\":{\"duration\":0,\"redraw\":true},\"fromcurrent\":true,\"mode\":\"immediate\",\"transition\":{\"duration\":0,\"easing\":\"linear\"}}],\"label\":\"Mar-2020\",\"method\":\"animate\"},{\"args\":[[\"Apr-2020\"],{\"frame\":{\"duration\":0,\"redraw\":true},\"fromcurrent\":true,\"mode\":\"immediate\",\"transition\":{\"duration\":0,\"easing\":\"linear\"}}],\"label\":\"Apr-2020\",\"method\":\"animate\"},{\"args\":[[\"May-2020\"],{\"frame\":{\"duration\":0,\"redraw\":true},\"fromcurrent\":true,\"mode\":\"immediate\",\"transition\":{\"duration\":0,\"easing\":\"linear\"}}],\"label\":\"May-2020\",\"method\":\"animate\"},{\"args\":[[\"Jun-2020\"],{\"frame\":{\"duration\":0,\"redraw\":true},\"fromcurrent\":true,\"mode\":\"immediate\",\"transition\":{\"duration\":0,\"easing\":\"linear\"}}],\"label\":\"Jun-2020\",\"method\":\"animate\"},{\"args\":[[\"Jul-2020\"],{\"frame\":{\"duration\":0,\"redraw\":true},\"fromcurrent\":true,\"mode\":\"immediate\",\"transition\":{\"duration\":0,\"easing\":\"linear\"}}],\"label\":\"Jul-2020\",\"method\":\"animate\"},{\"args\":[[\"Aug-2020\"],{\"frame\":{\"duration\":0,\"redraw\":true},\"fromcurrent\":true,\"mode\":\"immediate\",\"transition\":{\"duration\":0,\"easing\":\"linear\"}}],\"label\":\"Aug-2020\",\"method\":\"animate\"},{\"args\":[[\"Sep-2020\"],{\"frame\":{\"duration\":0,\"redraw\":true},\"fromcurrent\":true,\"mode\":\"immediate\",\"transition\":{\"duration\":0,\"easing\":\"linear\"}}],\"label\":\"Sep-2020\",\"method\":\"animate\"},{\"args\":[[\"Oct-2020\"],{\"frame\":{\"duration\":0,\"redraw\":true},\"fromcurrent\":true,\"mode\":\"immediate\",\"transition\":{\"duration\":0,\"easing\":\"linear\"}}],\"label\":\"Oct-2020\",\"method\":\"animate\"},{\"args\":[[\"Nov-2020\"],{\"frame\":{\"duration\":0,\"redraw\":true},\"fromcurrent\":true,\"mode\":\"immediate\",\"transition\":{\"duration\":0,\"easing\":\"linear\"}}],\"label\":\"Nov-2020\",\"method\":\"animate\"},{\"args\":[[\"Dec-2020\"],{\"frame\":{\"duration\":0,\"redraw\":true},\"fromcurrent\":true,\"mode\":\"immediate\",\"transition\":{\"duration\":0,\"easing\":\"linear\"}}],\"label\":\"Dec-2020\",\"method\":\"animate\"},{\"args\":[[\"Jan-2021\"],{\"frame\":{\"duration\":0,\"redraw\":true},\"fromcurrent\":true,\"mode\":\"immediate\",\"transition\":{\"duration\":0,\"easing\":\"linear\"}}],\"label\":\"Jan-2021\",\"method\":\"animate\"},{\"args\":[[\"Feb-2021\"],{\"frame\":{\"duration\":0,\"redraw\":true},\"fromcurrent\":true,\"mode\":\"immediate\",\"transition\":{\"duration\":0,\"easing\":\"linear\"}}],\"label\":\"Feb-2021\",\"method\":\"animate\"},{\"args\":[[\"Mar-2021\"],{\"frame\":{\"duration\":0,\"redraw\":true},\"fromcurrent\":true,\"mode\":\"immediate\",\"transition\":{\"duration\":0,\"easing\":\"linear\"}}],\"label\":\"Mar-2021\",\"method\":\"animate\"},{\"args\":[[\"Apr-2021\"],{\"frame\":{\"duration\":0,\"redraw\":true},\"fromcurrent\":true,\"mode\":\"immediate\",\"transition\":{\"duration\":0,\"easing\":\"linear\"}}],\"label\":\"Apr-2021\",\"method\":\"animate\"},{\"args\":[[\"May-2021\"],{\"frame\":{\"duration\":0,\"redraw\":true},\"fromcurrent\":true,\"mode\":\"immediate\",\"transition\":{\"duration\":0,\"easing\":\"linear\"}}],\"label\":\"May-2021\",\"method\":\"animate\"},{\"args\":[[\"Jun-2021\"],{\"frame\":{\"duration\":0,\"redraw\":true},\"fromcurrent\":true,\"mode\":\"immediate\",\"transition\":{\"duration\":0,\"easing\":\"linear\"}}],\"label\":\"Jun-2021\",\"method\":\"animate\"}],\"x\":0.1,\"xanchor\":\"left\",\"y\":0,\"yanchor\":\"top\"}],\"template\":{\"data\":{\"bar\":[{\"error_x\":{\"color\":\"rgb(51,51,51)\"},\"error_y\":{\"color\":\"rgb(51,51,51)\"},\"marker\":{\"line\":{\"color\":\"rgb(237,237,237)\",\"width\":0.5},\"pattern\":{\"fillmode\":\"overlay\",\"size\":10,\"solidity\":0.2}},\"type\":\"bar\"}],\"barpolar\":[{\"marker\":{\"line\":{\"color\":\"rgb(237,237,237)\",\"width\":0.5},\"pattern\":{\"fillmode\":\"overlay\",\"size\":10,\"solidity\":0.2}},\"type\":\"barpolar\"}],\"carpet\":[{\"aaxis\":{\"endlinecolor\":\"rgb(51,51,51)\",\"gridcolor\":\"white\",\"linecolor\":\"white\",\"minorgridcolor\":\"white\",\"startlinecolor\":\"rgb(51,51,51)\"},\"baxis\":{\"endlinecolor\":\"rgb(51,51,51)\",\"gridcolor\":\"white\",\"linecolor\":\"white\",\"minorgridcolor\":\"white\",\"startlinecolor\":\"rgb(51,51,51)\"},\"type\":\"carpet\"}],\"choropleth\":[{\"colorbar\":{\"outlinewidth\":0,\"tickcolor\":\"rgb(237,237,237)\",\"ticklen\":6,\"ticks\":\"inside\"},\"type\":\"choropleth\"}],\"contour\":[{\"colorbar\":{\"outlinewidth\":0,\"tickcolor\":\"rgb(237,237,237)\",\"ticklen\":6,\"ticks\":\"inside\"},\"colorscale\":[[0,\"rgb(20,44,66)\"],[1,\"rgb(90,179,244)\"]],\"type\":\"contour\"}],\"contourcarpet\":[{\"colorbar\":{\"outlinewidth\":0,\"tickcolor\":\"rgb(237,237,237)\",\"ticklen\":6,\"ticks\":\"inside\"},\"type\":\"contourcarpet\"}],\"heatmap\":[{\"colorbar\":{\"outlinewidth\":0,\"tickcolor\":\"rgb(237,237,237)\",\"ticklen\":6,\"ticks\":\"inside\"},\"colorscale\":[[0,\"rgb(20,44,66)\"],[1,\"rgb(90,179,244)\"]],\"type\":\"heatmap\"}],\"heatmapgl\":[{\"colorbar\":{\"outlinewidth\":0,\"tickcolor\":\"rgb(237,237,237)\",\"ticklen\":6,\"ticks\":\"inside\"},\"colorscale\":[[0,\"rgb(20,44,66)\"],[1,\"rgb(90,179,244)\"]],\"type\":\"heatmapgl\"}],\"histogram\":[{\"marker\":{\"pattern\":{\"fillmode\":\"overlay\",\"size\":10,\"solidity\":0.2}},\"type\":\"histogram\"}],\"histogram2d\":[{\"colorbar\":{\"outlinewidth\":0,\"tickcolor\":\"rgb(237,237,237)\",\"ticklen\":6,\"ticks\":\"inside\"},\"colorscale\":[[0,\"rgb(20,44,66)\"],[1,\"rgb(90,179,244)\"]],\"type\":\"histogram2d\"}],\"histogram2dcontour\":[{\"colorbar\":{\"outlinewidth\":0,\"tickcolor\":\"rgb(237,237,237)\",\"ticklen\":6,\"ticks\":\"inside\"},\"colorscale\":[[0,\"rgb(20,44,66)\"],[1,\"rgb(90,179,244)\"]],\"type\":\"histogram2dcontour\"}],\"mesh3d\":[{\"colorbar\":{\"outlinewidth\":0,\"tickcolor\":\"rgb(237,237,237)\",\"ticklen\":6,\"ticks\":\"inside\"},\"type\":\"mesh3d\"}],\"parcoords\":[{\"line\":{\"colorbar\":{\"outlinewidth\":0,\"tickcolor\":\"rgb(237,237,237)\",\"ticklen\":6,\"ticks\":\"inside\"}},\"type\":\"parcoords\"}],\"pie\":[{\"automargin\":true,\"type\":\"pie\"}],\"scatter\":[{\"marker\":{\"colorbar\":{\"outlinewidth\":0,\"tickcolor\":\"rgb(237,237,237)\",\"ticklen\":6,\"ticks\":\"inside\"}},\"type\":\"scatter\"}],\"scatter3d\":[{\"line\":{\"colorbar\":{\"outlinewidth\":0,\"tickcolor\":\"rgb(237,237,237)\",\"ticklen\":6,\"ticks\":\"inside\"}},\"marker\":{\"colorbar\":{\"outlinewidth\":0,\"tickcolor\":\"rgb(237,237,237)\",\"ticklen\":6,\"ticks\":\"inside\"}},\"type\":\"scatter3d\"}],\"scattercarpet\":[{\"marker\":{\"colorbar\":{\"outlinewidth\":0,\"tickcolor\":\"rgb(237,237,237)\",\"ticklen\":6,\"ticks\":\"inside\"}},\"type\":\"scattercarpet\"}],\"scattergeo\":[{\"marker\":{\"colorbar\":{\"outlinewidth\":0,\"tickcolor\":\"rgb(237,237,237)\",\"ticklen\":6,\"ticks\":\"inside\"}},\"type\":\"scattergeo\"}],\"scattergl\":[{\"marker\":{\"colorbar\":{\"outlinewidth\":0,\"tickcolor\":\"rgb(237,237,237)\",\"ticklen\":6,\"ticks\":\"inside\"}},\"type\":\"scattergl\"}],\"scattermapbox\":[{\"marker\":{\"colorbar\":{\"outlinewidth\":0,\"tickcolor\":\"rgb(237,237,237)\",\"ticklen\":6,\"ticks\":\"inside\"}},\"type\":\"scattermapbox\"}],\"scatterpolar\":[{\"marker\":{\"colorbar\":{\"outlinewidth\":0,\"tickcolor\":\"rgb(237,237,237)\",\"ticklen\":6,\"ticks\":\"inside\"}},\"type\":\"scatterpolar\"}],\"scatterpolargl\":[{\"marker\":{\"colorbar\":{\"outlinewidth\":0,\"tickcolor\":\"rgb(237,237,237)\",\"ticklen\":6,\"ticks\":\"inside\"}},\"type\":\"scatterpolargl\"}],\"scatterternary\":[{\"marker\":{\"colorbar\":{\"outlinewidth\":0,\"tickcolor\":\"rgb(237,237,237)\",\"ticklen\":6,\"ticks\":\"inside\"}},\"type\":\"scatterternary\"}],\"surface\":[{\"colorbar\":{\"outlinewidth\":0,\"tickcolor\":\"rgb(237,237,237)\",\"ticklen\":6,\"ticks\":\"inside\"},\"colorscale\":[[0,\"rgb(20,44,66)\"],[1,\"rgb(90,179,244)\"]],\"type\":\"surface\"}],\"table\":[{\"cells\":{\"fill\":{\"color\":\"rgb(237,237,237)\"},\"line\":{\"color\":\"white\"}},\"header\":{\"fill\":{\"color\":\"rgb(217,217,217)\"},\"line\":{\"color\":\"white\"}},\"type\":\"table\"}]},\"layout\":{\"annotationdefaults\":{\"arrowhead\":0,\"arrowwidth\":1},\"autotypenumbers\":\"strict\",\"coloraxis\":{\"colorbar\":{\"outlinewidth\":0,\"tickcolor\":\"rgb(237,237,237)\",\"ticklen\":6,\"ticks\":\"inside\"}},\"colorscale\":{\"sequential\":[[0,\"rgb(20,44,66)\"],[1,\"rgb(90,179,244)\"]],\"sequentialminus\":[[0,\"rgb(20,44,66)\"],[1,\"rgb(90,179,244)\"]]},\"colorway\":[\"#F8766D\",\"#A3A500\",\"#00BF7D\",\"#00B0F6\",\"#E76BF3\"],\"font\":{\"color\":\"rgb(51,51,51)\"},\"geo\":{\"bgcolor\":\"white\",\"lakecolor\":\"white\",\"landcolor\":\"rgb(237,237,237)\",\"showlakes\":true,\"showland\":true,\"subunitcolor\":\"white\"},\"hoverlabel\":{\"align\":\"left\"},\"hovermode\":\"closest\",\"paper_bgcolor\":\"white\",\"plot_bgcolor\":\"rgb(237,237,237)\",\"polar\":{\"angularaxis\":{\"gridcolor\":\"white\",\"linecolor\":\"white\",\"showgrid\":true,\"tickcolor\":\"rgb(51,51,51)\",\"ticks\":\"outside\"},\"bgcolor\":\"rgb(237,237,237)\",\"radialaxis\":{\"gridcolor\":\"white\",\"linecolor\":\"white\",\"showgrid\":true,\"tickcolor\":\"rgb(51,51,51)\",\"ticks\":\"outside\"}},\"scene\":{\"xaxis\":{\"backgroundcolor\":\"rgb(237,237,237)\",\"gridcolor\":\"white\",\"gridwidth\":2,\"linecolor\":\"white\",\"showbackground\":true,\"showgrid\":true,\"tickcolor\":\"rgb(51,51,51)\",\"ticks\":\"outside\",\"zerolinecolor\":\"white\"},\"yaxis\":{\"backgroundcolor\":\"rgb(237,237,237)\",\"gridcolor\":\"white\",\"gridwidth\":2,\"linecolor\":\"white\",\"showbackground\":true,\"showgrid\":true,\"tickcolor\":\"rgb(51,51,51)\",\"ticks\":\"outside\",\"zerolinecolor\":\"white\"},\"zaxis\":{\"backgroundcolor\":\"rgb(237,237,237)\",\"gridcolor\":\"white\",\"gridwidth\":2,\"linecolor\":\"white\",\"showbackground\":true,\"showgrid\":true,\"tickcolor\":\"rgb(51,51,51)\",\"ticks\":\"outside\",\"zerolinecolor\":\"white\"}},\"shapedefaults\":{\"fillcolor\":\"black\",\"line\":{\"width\":0},\"opacity\":0.3},\"ternary\":{\"aaxis\":{\"gridcolor\":\"white\",\"linecolor\":\"white\",\"showgrid\":true,\"tickcolor\":\"rgb(51,51,51)\",\"ticks\":\"outside\"},\"baxis\":{\"gridcolor\":\"white\",\"linecolor\":\"white\",\"showgrid\":true,\"tickcolor\":\"rgb(51,51,51)\",\"ticks\":\"outside\"},\"bgcolor\":\"rgb(237,237,237)\",\"caxis\":{\"gridcolor\":\"white\",\"linecolor\":\"white\",\"showgrid\":true,\"tickcolor\":\"rgb(51,51,51)\",\"ticks\":\"outside\"}},\"xaxis\":{\"automargin\":true,\"gridcolor\":\"white\",\"linecolor\":\"white\",\"showgrid\":true,\"tickcolor\":\"rgb(51,51,51)\",\"ticks\":\"outside\",\"title\":{\"standoff\":15},\"zerolinecolor\":\"white\"},\"yaxis\":{\"automargin\":true,\"gridcolor\":\"white\",\"linecolor\":\"white\",\"showgrid\":true,\"tickcolor\":\"rgb(51,51,51)\",\"ticks\":\"outside\",\"title\":{\"standoff\":15},\"zerolinecolor\":\"white\"}}},\"updatemenus\":[{\"buttons\":[{\"args\":[null,{\"frame\":{\"duration\":500,\"redraw\":true},\"fromcurrent\":true,\"mode\":\"immediate\",\"transition\":{\"duration\":500,\"easing\":\"linear\"}}],\"label\":\"&#9654;\",\"method\":\"animate\"},{\"args\":[[null],{\"frame\":{\"duration\":0,\"redraw\":true},\"fromcurrent\":true,\"mode\":\"immediate\",\"transition\":{\"duration\":0,\"easing\":\"linear\"}}],\"label\":\"&#9724;\",\"method\":\"animate\"}],\"direction\":\"left\",\"pad\":{\"r\":10,\"t\":70},\"showactive\":false,\"type\":\"buttons\",\"x\":0.1,\"xanchor\":\"right\",\"y\":0,\"yanchor\":\"top\"}]},                        {\"responsive\": true}                    ).then(function(){\n",
       "                            Plotly.addFrames('c91c8d99-cf24-4179-bb86-edb278c9cf2f', [{\"data\":[{\"coloraxis\":\"coloraxis\",\"geo\":\"geo\",\"hovertemplate\":\"<b>%{hovertext}</b><br><br>Date=Jan-2019<br>Code=%{location}<br>Greenness=%{z}<extra></extra>\",\"hovertext\":[\"Belgium\"],\"locations\":[\"BEL\"],\"name\":\"\",\"type\":\"choropleth\",\"z\":[507436.0330808475]}],\"name\":\"Jan-2019\"},{\"data\":[{\"coloraxis\":\"coloraxis\",\"geo\":\"geo\",\"hovertemplate\":\"<b>%{hovertext}</b><br><br>Date=Feb-2019<br>Code=%{location}<br>Greenness=%{z}<extra></extra>\",\"hovertext\":[\"Belgium\",\"Austria\"],\"locations\":[\"BEL\",\"AUT\"],\"name\":\"\",\"type\":\"choropleth\",\"z\":[340831.8990184417,24519.79392812363]}],\"name\":\"Feb-2019\"},{\"data\":[{\"coloraxis\":\"coloraxis\",\"geo\":\"geo\",\"hovertemplate\":\"<b>%{hovertext}</b><br><br>Date=Mar-2019<br>Code=%{location}<br>Greenness=%{z}<extra></extra>\",\"hovertext\":[\"Belgium\",\"Austria\"],\"locations\":[\"BEL\",\"AUT\"],\"name\":\"\",\"type\":\"choropleth\",\"z\":[858805.1096875637,13200.569196641462]}],\"name\":\"Mar-2019\"},{\"data\":[{\"coloraxis\":\"coloraxis\",\"geo\":\"geo\",\"hovertemplate\":\"<b>%{hovertext}</b><br><br>Date=Apr-2019<br>Code=%{location}<br>Greenness=%{z}<extra></extra>\",\"hovertext\":[\"Belgium\",\"Austria\"],\"locations\":[\"BEL\",\"AUT\"],\"name\":\"\",\"type\":\"choropleth\",\"z\":[132508.3853096421,20423.26208844772]}],\"name\":\"Apr-2019\"},{\"data\":[{\"coloraxis\":\"coloraxis\",\"geo\":\"geo\",\"hovertemplate\":\"<b>%{hovertext}</b><br><br>Date=May-2019<br>Code=%{location}<br>Greenness=%{z}<extra></extra>\",\"hovertext\":[\"Belgium\",\"Austria\"],\"locations\":[\"BEL\",\"AUT\"],\"name\":\"\",\"type\":\"choropleth\",\"z\":[753199.6459067324,33425.95184396725]}],\"name\":\"May-2019\"},{\"data\":[{\"coloraxis\":\"coloraxis\",\"geo\":\"geo\",\"hovertemplate\":\"<b>%{hovertext}</b><br><br>Date=Jun-2019<br>Code=%{location}<br>Greenness=%{z}<extra></extra>\",\"hovertext\":[\"Belgium\",\"Austria\"],\"locations\":[\"BEL\",\"AUT\"],\"name\":\"\",\"type\":\"choropleth\",\"z\":[799895.061661003,33397.18302584534]}],\"name\":\"Jun-2019\"},{\"data\":[{\"coloraxis\":\"coloraxis\",\"geo\":\"geo\",\"hovertemplate\":\"<b>%{hovertext}</b><br><br>Date=Jul-2019<br>Code=%{location}<br>Greenness=%{z}<extra></extra>\",\"hovertext\":[\"Belgium\",\"Austria\"],\"locations\":[\"BEL\",\"AUT\"],\"name\":\"\",\"type\":\"choropleth\",\"z\":[789070.7059486066,18159.495128744427]}],\"name\":\"Jul-2019\"},{\"data\":[{\"coloraxis\":\"coloraxis\",\"geo\":\"geo\",\"hovertemplate\":\"<b>%{hovertext}</b><br><br>Date=Aug-2019<br>Code=%{location}<br>Greenness=%{z}<extra></extra>\",\"hovertext\":[\"Belgium\",\"Austria\"],\"locations\":[\"BEL\",\"AUT\"],\"name\":\"\",\"type\":\"choropleth\",\"z\":[561699.6908418074,12106.59025458673]}],\"name\":\"Aug-2019\"},{\"data\":[{\"coloraxis\":\"coloraxis\",\"geo\":\"geo\",\"hovertemplate\":\"<b>%{hovertext}</b><br><br>Date=Sep-2019<br>Code=%{location}<br>Greenness=%{z}<extra></extra>\",\"hovertext\":[\"Belgium\",\"Austria\"],\"locations\":[\"BEL\",\"AUT\"],\"name\":\"\",\"type\":\"choropleth\",\"z\":[259626.42936086576,11062.551143822424]}],\"name\":\"Sep-2019\"},{\"data\":[{\"coloraxis\":\"coloraxis\",\"geo\":\"geo\",\"hovertemplate\":\"<b>%{hovertext}</b><br><br>Date=Oct-2019<br>Code=%{location}<br>Greenness=%{z}<extra></extra>\",\"hovertext\":[\"Belgium\",\"Austria\"],\"locations\":[\"BEL\",\"AUT\"],\"name\":\"\",\"type\":\"choropleth\",\"z\":[1235729.5115793552,22757.666889857683]}],\"name\":\"Oct-2019\"},{\"data\":[{\"coloraxis\":\"coloraxis\",\"geo\":\"geo\",\"hovertemplate\":\"<b>%{hovertext}</b><br><br>Date=Nov-2019<br>Code=%{location}<br>Greenness=%{z}<extra></extra>\",\"hovertext\":[\"Belgium\",\"Austria\"],\"locations\":[\"BEL\",\"AUT\"],\"name\":\"\",\"type\":\"choropleth\",\"z\":[971158.4291047008,13429.28374753916]}],\"name\":\"Nov-2019\"},{\"data\":[{\"coloraxis\":\"coloraxis\",\"geo\":\"geo\",\"hovertemplate\":\"<b>%{hovertext}</b><br><br>Date=Dec-2019<br>Code=%{location}<br>Greenness=%{z}<extra></extra>\",\"hovertext\":[\"Belgium\"],\"locations\":[\"BEL\"],\"name\":\"\",\"type\":\"choropleth\",\"z\":[999627.8851022461]}],\"name\":\"Dec-2019\"},{\"data\":[{\"coloraxis\":\"coloraxis\",\"geo\":\"geo\",\"hovertemplate\":\"<b>%{hovertext}</b><br><br>Date=Jan-2020<br>Code=%{location}<br>Greenness=%{z}<extra></extra>\",\"hovertext\":[\"Belgium\",\"Austria\"],\"locations\":[\"BEL\",\"AUT\"],\"name\":\"\",\"type\":\"choropleth\",\"z\":[641478.9721824452,40777.335366153246]}],\"name\":\"Jan-2020\"},{\"data\":[{\"coloraxis\":\"coloraxis\",\"geo\":\"geo\",\"hovertemplate\":\"<b>%{hovertext}</b><br><br>Date=Feb-2020<br>Code=%{location}<br>Greenness=%{z}<extra></extra>\",\"hovertext\":[\"Belgium\",\"Austria\"],\"locations\":[\"BEL\",\"AUT\"],\"name\":\"\",\"type\":\"choropleth\",\"z\":[727122.7027409539,14908.651163700748]}],\"name\":\"Feb-2020\"},{\"data\":[{\"coloraxis\":\"coloraxis\",\"geo\":\"geo\",\"hovertemplate\":\"<b>%{hovertext}</b><br><br>Date=Mar-2020<br>Code=%{location}<br>Greenness=%{z}<extra></extra>\",\"hovertext\":[\"Belgium\",\"Austria\"],\"locations\":[\"BEL\",\"AUT\"],\"name\":\"\",\"type\":\"choropleth\",\"z\":[233216.83891150306,13165.143280337485]}],\"name\":\"Mar-2020\"},{\"data\":[{\"coloraxis\":\"coloraxis\",\"geo\":\"geo\",\"hovertemplate\":\"<b>%{hovertext}</b><br><br>Date=Apr-2020<br>Code=%{location}<br>Greenness=%{z}<extra></extra>\",\"hovertext\":[\"Austria\"],\"locations\":[\"AUT\"],\"name\":\"\",\"type\":\"choropleth\",\"z\":[68715.97422973771]}],\"name\":\"Apr-2020\"},{\"data\":[{\"coloraxis\":\"coloraxis\",\"geo\":\"geo\",\"hovertemplate\":\"<b>%{hovertext}</b><br><br>Date=May-2020<br>Code=%{location}<br>Greenness=%{z}<extra></extra>\",\"hovertext\":[\"Belgium\",\"Austria\"],\"locations\":[\"BEL\",\"AUT\"],\"name\":\"\",\"type\":\"choropleth\",\"z\":[129771.01744371718,15791.867711266768]}],\"name\":\"May-2020\"},{\"data\":[{\"coloraxis\":\"coloraxis\",\"geo\":\"geo\",\"hovertemplate\":\"<b>%{hovertext}</b><br><br>Date=Jun-2020<br>Code=%{location}<br>Greenness=%{z}<extra></extra>\",\"hovertext\":[\"Belgium\",\"Austria\"],\"locations\":[\"BEL\",\"AUT\"],\"name\":\"\",\"type\":\"choropleth\",\"z\":[444165.4687449699,30823.085863078755]}],\"name\":\"Jun-2020\"},{\"data\":[{\"coloraxis\":\"coloraxis\",\"geo\":\"geo\",\"hovertemplate\":\"<b>%{hovertext}</b><br><br>Date=Jul-2020<br>Code=%{location}<br>Greenness=%{z}<extra></extra>\",\"hovertext\":[\"Belgium\",\"Austria\"],\"locations\":[\"BEL\",\"AUT\"],\"name\":\"\",\"type\":\"choropleth\",\"z\":[832425.1797825161,15583.503301400555]}],\"name\":\"Jul-2020\"},{\"data\":[{\"coloraxis\":\"coloraxis\",\"geo\":\"geo\",\"hovertemplate\":\"<b>%{hovertext}</b><br><br>Date=Aug-2020<br>Code=%{location}<br>Greenness=%{z}<extra></extra>\",\"hovertext\":[\"Belgium\",\"Austria\"],\"locations\":[\"BEL\",\"AUT\"],\"name\":\"\",\"type\":\"choropleth\",\"z\":[507421.7498262927,16525.31133265827]}],\"name\":\"Aug-2020\"},{\"data\":[{\"coloraxis\":\"coloraxis\",\"geo\":\"geo\",\"hovertemplate\":\"<b>%{hovertext}</b><br><br>Date=Sep-2020<br>Code=%{location}<br>Greenness=%{z}<extra></extra>\",\"hovertext\":[\"Belgium\",\"Austria\"],\"locations\":[\"BEL\",\"AUT\"],\"name\":\"\",\"type\":\"choropleth\",\"z\":[79181.60517987388,16941.347913690326]}],\"name\":\"Sep-2020\"},{\"data\":[{\"coloraxis\":\"coloraxis\",\"geo\":\"geo\",\"hovertemplate\":\"<b>%{hovertext}</b><br><br>Date=Oct-2020<br>Code=%{location}<br>Greenness=%{z}<extra></extra>\",\"hovertext\":[\"Belgium\",\"Austria\"],\"locations\":[\"BEL\",\"AUT\"],\"name\":\"\",\"type\":\"choropleth\",\"z\":[752044.2454220178,26478.640088149816]}],\"name\":\"Oct-2020\"},{\"data\":[{\"coloraxis\":\"coloraxis\",\"geo\":\"geo\",\"hovertemplate\":\"<b>%{hovertext}</b><br><br>Date=Nov-2020<br>Code=%{location}<br>Greenness=%{z}<extra></extra>\",\"hovertext\":[\"Belgium\",\"Austria\"],\"locations\":[\"BEL\",\"AUT\"],\"name\":\"\",\"type\":\"choropleth\",\"z\":[152423.83382223168,15196.98942876827]}],\"name\":\"Nov-2020\"},{\"data\":[{\"coloraxis\":\"coloraxis\",\"geo\":\"geo\",\"hovertemplate\":\"<b>%{hovertext}</b><br><br>Date=Dec-2020<br>Code=%{location}<br>Greenness=%{z}<extra></extra>\",\"hovertext\":[\"Austria\"],\"locations\":[\"AUT\"],\"name\":\"\",\"type\":\"choropleth\",\"z\":[20761.416181886227]}],\"name\":\"Dec-2020\"},{\"data\":[{\"coloraxis\":\"coloraxis\",\"geo\":\"geo\",\"hovertemplate\":\"<b>%{hovertext}</b><br><br>Date=Jan-2021<br>Code=%{location}<br>Greenness=%{z}<extra></extra>\",\"hovertext\":[\"Belgium\",\"Austria\"],\"locations\":[\"BEL\",\"AUT\"],\"name\":\"\",\"type\":\"choropleth\",\"z\":[87432.53193527678,12624.68834615211]}],\"name\":\"Jan-2021\"},{\"data\":[{\"coloraxis\":\"coloraxis\",\"geo\":\"geo\",\"hovertemplate\":\"<b>%{hovertext}</b><br><br>Date=Feb-2021<br>Code=%{location}<br>Greenness=%{z}<extra></extra>\",\"hovertext\":[\"Belgium\",\"Austria\"],\"locations\":[\"BEL\",\"AUT\"],\"name\":\"\",\"type\":\"choropleth\",\"z\":[650521.8763747885,18574.82306203384]}],\"name\":\"Feb-2021\"},{\"data\":[{\"coloraxis\":\"coloraxis\",\"geo\":\"geo\",\"hovertemplate\":\"<b>%{hovertext}</b><br><br>Date=Mar-2021<br>Code=%{location}<br>Greenness=%{z}<extra></extra>\",\"hovertext\":[\"Belgium\",\"Austria\"],\"locations\":[\"BEL\",\"AUT\"],\"name\":\"\",\"type\":\"choropleth\",\"z\":[178878.08688703578,17264.10906608146]}],\"name\":\"Mar-2021\"},{\"data\":[{\"coloraxis\":\"coloraxis\",\"geo\":\"geo\",\"hovertemplate\":\"<b>%{hovertext}</b><br><br>Date=Apr-2021<br>Code=%{location}<br>Greenness=%{z}<extra></extra>\",\"hovertext\":[\"Belgium\",\"Austria\"],\"locations\":[\"BEL\",\"AUT\"],\"name\":\"\",\"type\":\"choropleth\",\"z\":[70983.43358429197,18855.845202570676]}],\"name\":\"Apr-2021\"},{\"data\":[{\"coloraxis\":\"coloraxis\",\"geo\":\"geo\",\"hovertemplate\":\"<b>%{hovertext}</b><br><br>Date=May-2021<br>Code=%{location}<br>Greenness=%{z}<extra></extra>\",\"hovertext\":[\"Belgium\",\"Austria\"],\"locations\":[\"BEL\",\"AUT\"],\"name\":\"\",\"type\":\"choropleth\",\"z\":[542388.9696420662,15585.596422909459]}],\"name\":\"May-2021\"},{\"data\":[{\"coloraxis\":\"coloraxis\",\"geo\":\"geo\",\"hovertemplate\":\"<b>%{hovertext}</b><br><br>Date=Jun-2021<br>Code=%{location}<br>Greenness=%{z}<extra></extra>\",\"hovertext\":[\"Belgium\",\"Austria\"],\"locations\":[\"BEL\",\"AUT\"],\"name\":\"\",\"type\":\"choropleth\",\"z\":[543719.8330665453,14281.315385982212]}],\"name\":\"Jun-2021\"}]);\n",
       "                        }).then(function(){\n",
       "                            \n",
       "var gd = document.getElementById('c91c8d99-cf24-4179-bb86-edb278c9cf2f');\n",
       "var x = new MutationObserver(function (mutations, observer) {{\n",
       "        var display = window.getComputedStyle(gd).display;\n",
       "        if (!display || display === 'none') {{\n",
       "            console.log([gd, 'removed!']);\n",
       "            Plotly.purge(gd);\n",
       "            observer.disconnect();\n",
       "        }}\n",
       "}});\n",
       "\n",
       "// Listen for the removal of the full notebook cells\n",
       "var notebookContainer = gd.closest('#notebook-container');\n",
       "if (notebookContainer) {{\n",
       "    x.observe(notebookContainer, {childList: true});\n",
       "}}\n",
       "\n",
       "// Listen for the clearing of the current output cell\n",
       "var outputEl = gd.closest('.output');\n",
       "if (outputEl) {{\n",
       "    x.observe(outputEl, {childList: true});\n",
       "}}\n",
       "\n",
       "                        })                };                });            </script>        </div>"
      ]
     },
     "metadata": {},
     "output_type": "display_data"
    }
   ],
   "source": [
    "fig = px.choropleth(df1, locations=\"Code\",\n",
    "                    scope = \"europe\",\n",
    "                    color=\"Greenness\", # lifeExp is a column of gapminder\n",
    "                    hover_name=\"Country\", # column to add to hover information\n",
    "                    color_continuous_scale=\"Greens\",\n",
    "                    animation_frame=\"Date\"\n",
    "                    )\n",
    "fig.update_layout(margin={\"r\":20,\"t\":20,\"l\":2,\"b\":200})\n",
    "fig.show()\n",
    "fig.write_html(\"/Users/davide/Desktop/map.html\")\n",
    "#fig.write_html(\"C:\\\\Users\\\\Arsalan Khateeb\\\\Coding_Lab\\\\sta-py\\\\file.html\")"
   ]
  }
 ],
 "metadata": {
  "kernelspec": {
   "display_name": "Python 3 (ipykernel)",
   "language": "python",
   "name": "python3"
  },
  "language_info": {
   "codemirror_mode": {
    "name": "ipython",
    "version": 3
   },
   "file_extension": ".py",
   "mimetype": "text/x-python",
   "name": "python",
   "nbconvert_exporter": "python",
   "pygments_lexer": "ipython3",
   "version": "3.9.6"
  }
 },
 "nbformat": 4,
 "nbformat_minor": 5
}
